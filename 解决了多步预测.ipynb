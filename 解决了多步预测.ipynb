{
  "cells": [
    {
      "cell_type": "markdown",
      "metadata": {
        "id": "view-in-github",
        "colab_type": "text"
      },
      "source": [
        "<a href=\"https://colab.research.google.com/github/leeliangchao/-spatiotemporal-pedict/blob/main/%E8%A7%A3%E5%86%B3%E4%BA%86%E5%A4%9A%E6%AD%A5%E9%A2%84%E6%B5%8B.ipynb\" target=\"_parent\"><img src=\"https://colab.research.google.com/assets/colab-badge.svg\" alt=\"Open In Colab\"/></a>"
      ]
    },
    {
      "cell_type": "code",
      "source": [
        "from google.colab import drive\n",
        "drive.mount('/content/drive/')"
      ],
      "metadata": {
        "id": "WNGx8m31kq0A",
        "colab": {
          "base_uri": "https://localhost:8080/"
        },
        "outputId": "671a9271-ebbd-48f3-e601-db63fcc0c9a8"
      },
      "id": "WNGx8m31kq0A",
      "execution_count": 7,
      "outputs": [
        {
          "output_type": "stream",
          "name": "stdout",
          "text": [
            "Mounted at /content/drive/\n"
          ]
        }
      ]
    },
    {
      "cell_type": "code",
      "execution_count": 8,
      "id": "6bb2a220",
      "metadata": {
        "ExecuteTime": {
          "end_time": "2022-10-05T09:06:51.063255Z",
          "start_time": "2022-10-05T09:06:50.157218Z"
        },
        "id": "6bb2a220"
      },
      "outputs": [],
      "source": [
        "import matplotlib.pyplot as plt\n",
        "import numpy as np\n",
        "import pandas as pd "
      ]
    },
    {
      "cell_type": "code",
      "source": [
        "# !pip install mlxtend==0.18\n",
        "# from mlxtend.plotting import heatmap"
      ],
      "metadata": {
        "id": "V6Kdr2y3KIhs"
      },
      "id": "V6Kdr2y3KIhs",
      "execution_count": 9,
      "outputs": []
    },
    {
      "cell_type": "markdown",
      "id": "37fef43b",
      "metadata": {
        "id": "37fef43b"
      },
      "source": [
        "\n",
        "## 范围选择"
      ]
    },
    {
      "cell_type": "code",
      "execution_count": 10,
      "id": "40cfebf7",
      "metadata": {
        "ExecuteTime": {
          "end_time": "2022-10-05T09:06:52.641112Z",
          "start_time": "2022-10-05T09:06:52.625418Z"
        },
        "id": "40cfebf7"
      },
      "outputs": [],
      "source": [
        "Longitude_Index = 54    #经度索引\n",
        "Longitude_End = 62 +1   #经度索引\n",
        "\n",
        "Latitude_Index = 17  # 纬度索引\n",
        "Latitude_End = 31 +1 # 纬度索引"
      ]
    },
    {
      "cell_type": "code",
      "execution_count": 11,
      "id": "0c836035",
      "metadata": {
        "ExecuteTime": {
          "end_time": "2022-10-05T09:06:53.344067Z",
          "start_time": "2022-10-05T09:06:53.328376Z"
        },
        "id": "0c836035"
      },
      "outputs": [],
      "source": [
        "Sample = np.load('/content/drive/MyDrive/TEC/日本3台站/CODE/TEC.npy')"
      ]
    },
    {
      "cell_type": "code",
      "source": [
        "Sample.shape"
      ],
      "metadata": {
        "colab": {
          "base_uri": "https://localhost:8080/"
        },
        "id": "Yjqhyp6XlnQp",
        "outputId": "c9af7087-3b2d-4e4e-cd8b-f5780a218959"
      },
      "id": "Yjqhyp6XlnQp",
      "execution_count": 12,
      "outputs": [
        {
          "output_type": "execute_result",
          "data": {
            "text/plain": [
              "(71, 73, 25, 366, 1)"
            ]
          },
          "metadata": {},
          "execution_count": 12
        }
      ]
    },
    {
      "cell_type": "code",
      "execution_count": 13,
      "id": "de52e2ed",
      "metadata": {
        "ExecuteTime": {
          "end_time": "2022-10-05T09:07:17.057186Z",
          "start_time": "2022-10-05T09:07:17.041515Z"
        },
        "id": "de52e2ed"
      },
      "outputs": [],
      "source": [
        "Target_region = Sample[Latitude_Index:Latitude_End, Longitude_Index:Longitude_End,:,:50,:]"
      ]
    },
    {
      "cell_type": "code",
      "execution_count": 14,
      "id": "631c76c5",
      "metadata": {
        "ExecuteTime": {
          "end_time": "2022-10-05T09:07:18.806688Z",
          "start_time": "2022-10-05T09:07:18.541160Z"
        },
        "scrolled": false,
        "id": "631c76c5",
        "colab": {
          "base_uri": "https://localhost:8080/",
          "height": 385
        },
        "outputId": "cf0a164c-56d2-44db-e1d3-3533fdd51b3e"
      },
      "outputs": [
        {
          "output_type": "display_data",
          "data": {
            "text/plain": [
              "<Figure size 400x400 with 1 Axes>"
            ],
            "image/png": "[encoded data removed]"
          },
          "metadata": {
            "needs_background": "light"
          }
        },
        {
          "output_type": "execute_result",
          "data": {
            "text/plain": [
              "matplotlib.image.AxesImage"
            ]
          },
          "metadata": {},
          "execution_count": 14
        }
      ],
      "source": [
        "fig, ax = plt.subplots(figsize=(4, 4), dpi=100)\n",
        "line=ax.matshow(Target_region[:,:,-2,0,0], cmap = plt.cm.winter)\n",
        "plt.show()\n",
        "type(line)"
      ]
    },
    {
      "cell_type": "code",
      "source": [
        "from matplotlib import animation"
      ],
      "metadata": {
        "id": "eBC7G1WP3l7X"
      },
      "id": "eBC7G1WP3l7X",
      "execution_count": null,
      "outputs": []
    },
    {
      "cell_type": "code",
      "source": [
        "def animate(i):\n",
        "  line.set_data(Target_region[:,:,i,0,0])\n",
        "  return line,\n",
        "def init():\n",
        "  line.set_data(Target_region[:,:,0,0,0])\n",
        "  return line,\n",
        "ani = animation.FuncAnimation(fig=fig, func=animate,frames=25,init_func=init,interval=200,blit=False)\n",
        "ani.save('ani.gif', writer='pillow')\n",
        "plt.show()"
      ],
      "metadata": {
        "id": "jaenFjFu4Lu6"
      },
      "id": "jaenFjFu4Lu6",
      "execution_count": null,
      "outputs": []
    },
    {
      "cell_type": "markdown",
      "id": "4a36e19f",
      "metadata": {
        "id": "4a36e19f"
      },
      "source": [
        "### 样本制作"
      ]
    },
    {
      "cell_type": "code",
      "execution_count": 15,
      "id": "edf59186",
      "metadata": {
        "ExecuteTime": {
          "end_time": "2022-10-05T09:07:53.017448Z",
          "start_time": "2022-10-05T09:07:52.954900Z"
        },
        "id": "edf59186"
      },
      "outputs": [],
      "source": [
        "###################绘图###################\n",
        "import matplotlib.pyplot as plt\n",
        "###################标准化###################\n",
        "from sklearn.preprocessing import MinMaxScaler"
      ]
    },
    {
      "cell_type": "code",
      "source": [
        "Target_region.shape"
      ],
      "metadata": {
        "colab": {
          "base_uri": "https://localhost:8080/"
        },
        "id": "qU1eUQwGrWJ1",
        "outputId": "6a281987-14e9-4b10-841d-f735204c268f"
      },
      "id": "qU1eUQwGrWJ1",
      "execution_count": 16,
      "outputs": [
        {
          "output_type": "execute_result",
          "data": {
            "text/plain": [
              "(15, 9, 25, 50, 1)"
            ]
          },
          "metadata": {},
          "execution_count": 16
        }
      ]
    },
    {
      "cell_type": "code",
      "source": [
        "data = np.swapaxes(Target_region, 0,2)\n",
        "data = np.swapaxes(data, 1,3)\n",
        "data = np.swapaxes(data, 0,1)"
      ],
      "metadata": {
        "id": "clTa9wSsqxJ0"
      },
      "id": "clTa9wSsqxJ0",
      "execution_count": 17,
      "outputs": []
    },
    {
      "cell_type": "code",
      "source": [
        "data.shape"
      ],
      "metadata": {
        "colab": {
          "base_uri": "https://localhost:8080/"
        },
        "id": "HKyW54tirGUp",
        "outputId": "f71cda9c-5350-4eb5-9d13-791de6581cd0"
      },
      "id": "HKyW54tirGUp",
      "execution_count": 18,
      "outputs": [
        {
          "output_type": "execute_result",
          "data": {
            "text/plain": [
              "(50, 25, 15, 9, 1)"
            ]
          },
          "metadata": {},
          "execution_count": 18
        }
      ]
    },
    {
      "cell_type": "code",
      "source": [
        "data = np.delete(data,[-1], axis=0);data.shape"
      ],
      "metadata": {
        "id": "YzNN8lgnXrWU",
        "colab": {
          "base_uri": "https://localhost:8080/"
        },
        "outputId": "a86fc790-ce7e-4e9d-fb59-eb41f4d2e911"
      },
      "id": "YzNN8lgnXrWU",
      "execution_count": 19,
      "outputs": [
        {
          "output_type": "execute_result",
          "data": {
            "text/plain": [
              "(49, 25, 15, 9, 1)"
            ]
          },
          "metadata": {},
          "execution_count": 19
        }
      ]
    },
    {
      "cell_type": "code",
      "source": [
        "data = data.reshape(-1,15,9,1)"
      ],
      "metadata": {
        "id": "K8kCvw23Fp_u"
      },
      "id": "K8kCvw23Fp_u",
      "execution_count": 20,
      "outputs": []
    },
    {
      "cell_type": "code",
      "source": [
        "data.shape"
      ],
      "metadata": {
        "colab": {
          "base_uri": "https://localhost:8080/"
        },
        "id": "uz8DmNMQGrLc",
        "outputId": "a49109dd-a99f-43af-bc1f-83da81c2073a"
      },
      "id": "uz8DmNMQGrLc",
      "execution_count": 21,
      "outputs": [
        {
          "output_type": "execute_result",
          "data": {
            "text/plain": [
              "(1225, 15, 9, 1)"
            ]
          },
          "metadata": {},
          "execution_count": 21
        }
      ]
    },
    {
      "cell_type": "code",
      "source": [
        "data = data[::2]"
      ],
      "metadata": {
        "id": "wtMXJkGs9wHL"
      },
      "id": "wtMXJkGs9wHL",
      "execution_count": 22,
      "outputs": []
    },
    {
      "cell_type": "code",
      "source": [
        "data.shape"
      ],
      "metadata": {
        "colab": {
          "base_uri": "https://localhost:8080/"
        },
        "id": "xhmoEtur99zF",
        "outputId": "dc1d25e2-1e3f-4ee1-ffeb-cadbeb0152a3"
      },
      "id": "xhmoEtur99zF",
      "execution_count": 23,
      "outputs": [
        {
          "output_type": "execute_result",
          "data": {
            "text/plain": [
              "(613, 15, 9, 1)"
            ]
          },
          "metadata": {},
          "execution_count": 23
        }
      ]
    },
    {
      "cell_type": "code",
      "source": [
        "# 数据集划分\n",
        "def create_dataset(data, look_back=91, forward=26):\n",
        "  x = []\n",
        "  y = []\n",
        "  for i in range(data.shape[0]-(look_back+forward)+1):\n",
        "    x.append(data[i:i+look_back,:,:,:])\n",
        "    y.append(data[i+look_back:i+look_back+forward,:,:,:])\n",
        "  return (np.array(x), np.array(y))\n"
      ],
      "metadata": {
        "id": "CD4XBCt8oKXO"
      },
      "id": "CD4XBCt8oKXO",
      "execution_count": 24,
      "outputs": []
    },
    {
      "cell_type": "code",
      "source": [
        "a,b = create_dataset(data)"
      ],
      "metadata": {
        "id": "wxb8PyVdKsvV"
      },
      "id": "wxb8PyVdKsvV",
      "execution_count": 25,
      "outputs": []
    },
    {
      "cell_type": "code",
      "source": [
        "a.shape,b.shape"
      ],
      "metadata": {
        "colab": {
          "base_uri": "https://localhost:8080/"
        },
        "id": "Co_VZj-ELxn_",
        "outputId": "73413dfb-be82-4387-97d9-7711d01e8a0a"
      },
      "id": "Co_VZj-ELxn_",
      "execution_count": 26,
      "outputs": [
        {
          "output_type": "execute_result",
          "data": {
            "text/plain": [
              "((497, 91, 15, 9, 1), (497, 26, 15, 9, 1))"
            ]
          },
          "metadata": {},
          "execution_count": 26
        }
      ]
    },
    {
      "cell_type": "code",
      "execution_count": 27,
      "id": "ca5e489f",
      "metadata": {
        "ExecuteTime": {
          "end_time": "2022-10-05T09:08:25.212853Z",
          "start_time": "2022-10-05T09:08:25.197229Z"
        },
        "id": "ca5e489f",
        "colab": {
          "base_uri": "https://localhost:8080/"
        },
        "outputId": "ac7bddef-0605-4612-c43a-ec53d6a7d0eb"
      },
      "outputs": [
        {
          "output_type": "execute_result",
          "data": {
            "text/plain": [
              "398"
            ]
          },
          "metadata": {},
          "execution_count": 27
        }
      ],
      "source": [
        "# len(df)为df多少行\n",
        "pot = round(0.8 * a.shape[0])\n",
        "pot"
      ]
    },
    {
      "cell_type": "code",
      "execution_count": 28,
      "id": "8e371375",
      "metadata": {
        "ExecuteTime": {
          "end_time": "2022-10-05T09:08:25.587764Z",
          "start_time": "2022-10-05T09:08:25.572143Z"
        },
        "id": "8e371375"
      },
      "outputs": [],
      "source": [
        "x_train, y_train = a[:pot],b[:pot]\n",
        "x_test, y_test = a[pot:],b[pot:]\n",
        "# y_train = np.expand_dims(y_train, 1)\n",
        "# y_test = np.expand_dims(y_test, 1)"
      ]
    },
    {
      "cell_type": "code",
      "source": [
        "x_train.shape, x_test.shape,y_test.shape"
      ],
      "metadata": {
        "colab": {
          "base_uri": "https://localhost:8080/"
        },
        "id": "jisy-reTtHOf",
        "outputId": "b7ffbf21-99a2-42ac-a2dd-fd3b890cb3b4"
      },
      "id": "jisy-reTtHOf",
      "execution_count": 29,
      "outputs": [
        {
          "output_type": "execute_result",
          "data": {
            "text/plain": [
              "((398, 91, 15, 9, 1), (99, 91, 15, 9, 1), (99, 26, 15, 9, 1))"
            ]
          },
          "metadata": {},
          "execution_count": 29
        }
      ]
    },
    {
      "cell_type": "markdown",
      "id": "046c7cee",
      "metadata": {
        "id": "046c7cee"
      },
      "source": [
        "### LearningRateScheduler调整学习率"
      ]
    },
    {
      "cell_type": "code",
      "execution_count": 30,
      "id": "05667918",
      "metadata": {
        "ExecuteTime": {
          "end_time": "2022-10-05T09:08:33.804680Z",
          "start_time": "2022-10-05T09:08:32.289305Z"
        },
        "id": "05667918"
      },
      "outputs": [],
      "source": [
        "from tensorflow.keras import backend as K\n",
        "from tensorflow.keras.callbacks import EarlyStopping, LearningRateScheduler"
      ]
    },
    {
      "cell_type": "code",
      "execution_count": 31,
      "id": "ddafc547",
      "metadata": {
        "ExecuteTime": {
          "end_time": "2022-10-05T09:08:34.538789Z",
          "start_time": "2022-10-05T09:08:34.523255Z"
        },
        "id": "ddafc547"
      },
      "outputs": [],
      "source": [
        "def scheduler(epoch):\n",
        "    if epoch % 40 ==0 :\n",
        "        lr = K.get_value(tcn.optimizer.lr)\n",
        "        if lr > 1e-5:\n",
        "            K.set_value(tcn.optimizer.lr, lr *0.5)\n",
        "            print('lr changed to {}'.format(lr * 0.5))\n",
        "    return K.get_value(tcn.optimizer.lr)"
      ]
    },
    {
      "cell_type": "code",
      "execution_count": 32,
      "id": "2649ac73",
      "metadata": {
        "ExecuteTime": {
          "end_time": "2022-10-05T09:08:35.741715Z",
          "start_time": "2022-10-05T09:08:35.725991Z"
        },
        "id": "2649ac73"
      },
      "outputs": [],
      "source": [
        "reduce_lr = LearningRateScheduler(scheduler)\n",
        "early_stopping = EarlyStopping(monitor='loss', \n",
        "                               patience=20, \n",
        "                               min_delta=1e-5,\n",
        "                               mode='auto',\n",
        "                               restore_best_weights=False,#是否从具有监测数量的最佳值的时期恢复模型权重\n",
        "                               verbose=2)"
      ]
    },
    {
      "cell_type": "code",
      "execution_count": 36,
      "id": "000793c6",
      "metadata": {
        "ExecuteTime": {
          "end_time": "2022-10-05T09:08:36.757098Z",
          "start_time": "2022-10-05T09:08:36.725785Z"
        },
        "id": "000793c6"
      },
      "outputs": [],
      "source": [
        "import tensorflow as tf\n",
        "from tensorflow.keras.layers import ConvLSTM2D,Conv2D,Conv3D,BatchNormalization,Flatten,RepeatVector,Reshape\n",
        "from tensorflow.keras import Input, Model, Sequential\n",
        "from sklearn.metrics import mean_squared_error"
      ]
    },
    {
      "cell_type": "code",
      "execution_count": 34,
      "id": "5797cf77",
      "metadata": {
        "ExecuteTime": {
          "end_time": "2022-10-05T09:08:38.038011Z",
          "start_time": "2022-10-05T09:08:38.022411Z"
        },
        "id": "5797cf77"
      },
      "outputs": [],
      "source": [
        "# 自定义损失函数\n",
        "def my_metric_fn(y_true, y_pred):\n",
        "    SS_res =  K.sum(K.square( y_true-y_pred )) \n",
        "    SS_tot = K.sum(K.square( y_true - K.mean(y_true) ) ) \n",
        "    return ( 1 - SS_res/(SS_tot + K.epsilon()) )\n",
        "def root_mean_squared_error(y_true, y_pred):\n",
        "        return K.sqrt(K.mean(K.square(y_pred - y_true)))\n",
        "# Loss function\n",
        "def ssim_loss(y_true, y_pred):\n",
        "    return 1 - tf.reduce_mean(tf.image.ssim(y_true, y_pred, 1.0, filter_size=3))"
      ]
    },
    {
      "cell_type": "code",
      "execution_count": 44,
      "id": "bcf4bfa4",
      "metadata": {
        "ExecuteTime": {
          "end_time": "2022-10-05T09:42:37.867903Z",
          "start_time": "2022-10-05T09:42:36.961797Z"
        },
        "code_folding": [],
        "id": "bcf4bfa4",
        "colab": {
          "base_uri": "https://localhost:8080/"
        },
        "outputId": "3a9bc20d-0cf5-48a6-c789-c24cd71e94be"
      },
      "outputs": [
        {
          "output_type": "stream",
          "name": "stdout",
          "text": [
            "Model: \"sequential_6\"\n",
            "_________________________________________________________________\n",
            " Layer (type)                Output Shape              Param #   \n",
            "=================================================================\n",
            " conv_lstm2d_26 (ConvLSTM2D)  (None, 91, 15, 9, 32)    38144     \n",
            "                                                                 \n",
            " batch_normalization_24 (Bat  (None, 91, 15, 9, 32)    128       \n",
            " chNormalization)                                                \n",
            "                                                                 \n",
            " conv_lstm2d_27 (ConvLSTM2D)  (None, 91, 15, 9, 32)    32896     \n",
            "                                                                 \n",
            " batch_normalization_25 (Bat  (None, 91, 15, 9, 32)    128       \n",
            " chNormalization)                                                \n",
            "                                                                 \n",
            " conv_lstm2d_28 (ConvLSTM2D)  (None, 91, 15, 9, 32)    32896     \n",
            "                                                                 \n",
            " batch_normalization_26 (Bat  (None, 91, 15, 9, 32)    128       \n",
            " chNormalization)                                                \n",
            "                                                                 \n",
            " conv_lstm2d_29 (ConvLSTM2D)  (None, 15, 9, 32)        32896     \n",
            "                                                                 \n",
            " batch_normalization_27 (Bat  (None, 15, 9, 32)        128       \n",
            " chNormalization)                                                \n",
            "                                                                 \n",
            " flatten_5 (Flatten)         (None, 4320)              0         \n",
            "                                                                 \n",
            " repeat_vector_5 (RepeatVect  (None, 26, 4320)         0         \n",
            " or)                                                             \n",
            "                                                                 \n",
            " reshape_4 (Reshape)         (None, 26, 15, 9, 32)     0         \n",
            "                                                                 \n",
            " conv_lstm2d_30 (ConvLSTM2D)  (None, 26, 15, 9, 32)    32896     \n",
            "                                                                 \n",
            " batch_normalization_28 (Bat  (None, 26, 15, 9, 32)    128       \n",
            " chNormalization)                                                \n",
            "                                                                 \n",
            " conv_lstm2d_31 (ConvLSTM2D)  (None, 26, 15, 9, 32)    32896     \n",
            "                                                                 \n",
            " batch_normalization_29 (Bat  (None, 26, 15, 9, 32)    128       \n",
            " chNormalization)                                                \n",
            "                                                                 \n",
            " conv3d_1 (Conv3D)           (None, 26, 15, 9, 1)      33        \n",
            "                                                                 \n",
            "=================================================================\n",
            "Total params: 203,425\n",
            "Trainable params: 203,041\n",
            "Non-trainable params: 384\n",
            "_________________________________________________________________\n"
          ]
        }
      ],
      "source": [
        "#输入维数\n",
        "tcn = Sequential()\n",
        "input_layer =Input(shape=(x_train.shape[1:]))\n",
        "tcn.add(input_layer)\n",
        "tcn.add(\n",
        "    ConvLSTM2D(\n",
        "        filters=32,\n",
        "        kernel_size=(3,3),\n",
        "        padding='same',\n",
        "        return_sequences=True\n",
        "    )\n",
        ")\n",
        "tcn.add(BatchNormalization())\n",
        "# tcn.add(LayerNormalization())\n",
        "tcn.add(\n",
        "    ConvLSTM2D(\n",
        "        filters=32,\n",
        "        kernel_size=(2,2),\n",
        "        padding='same',\n",
        "        return_sequences=True\n",
        "    )\n",
        ")\n",
        "tcn.add(BatchNormalization())\n",
        "# tcn.add(LayerNormalization())\n",
        "tcn.add(\n",
        "    ConvLSTM2D(\n",
        "        filters=32,\n",
        "        kernel_size=(2,2),\n",
        "        padding='same',\n",
        "        return_sequences=True\n",
        "    )\n",
        ")\n",
        "tcn.add(BatchNormalization())\n",
        "# tcn.add(LayerNormalization())\n",
        "tcn.add(\n",
        "    ConvLSTM2D(\n",
        "        filters=32,\n",
        "        kernel_size=(2,2),\n",
        "        padding='same',\n",
        "        return_sequences=False\n",
        "    )\n",
        ")\n",
        "tcn.add(BatchNormalization())\n",
        "# ###############################\n",
        "tcn.add(Flatten())\n",
        "tcn.add(RepeatVector(13*2))\n",
        "tcn.add(Reshape((13*2,15,9,32)))\n",
        "tcn.add(\n",
        "    ConvLSTM2D(\n",
        "        filters=32,\n",
        "        kernel_size=(2,2),\n",
        "        padding='same',\n",
        "        return_sequences=True\n",
        "    )\n",
        ")\n",
        "tcn.add(BatchNormalization())\n",
        "tcn.add(\n",
        "    ConvLSTM2D(\n",
        "        filters=32,\n",
        "        kernel_size=(2,2),\n",
        "        padding='same',\n",
        "        return_sequences=True\n",
        "    )\n",
        ")\n",
        "tcn.add(BatchNormalization())\n",
        "# tcn.add(LayerNormalization())\n",
        "tcn.add(Conv3D(filters=1, kernel_size=(1,1,1),activation=\"relu\", padding=\"same\"))\n",
        "tcn.compile(tf.keras.optimizers.Adam(learning_rate=0.01), loss=root_mean_squared_error)# RMSE\n",
        "tcn.summary()"
      ]
    },
    {
      "cell_type": "code",
      "execution_count": 47,
      "id": "5ffc345f",
      "metadata": {
        "ExecuteTime": {
          "end_time": "2022-10-05T09:53:01.829540Z",
          "start_time": "2022-10-05T09:43:43.992822Z"
        },
        "scrolled": true,
        "id": "5ffc345f",
        "colab": {
          "base_uri": "https://localhost:8080/"
        },
        "outputId": "6dfa8946-32e8-42a5-ca6b-c49ee1b3c254"
      },
      "outputs": [
        {
          "output_type": "stream",
          "name": "stdout",
          "text": [
            "lr changed to 0.0024999999441206455\n",
            "Epoch 1/121\n",
            "4/4 [==============================] - 13s 3s/step - loss: 5.4806 - val_loss: 7.3470 - lr: 0.0025\n",
            "Epoch 2/121\n",
            "4/4 [==============================] - 12s 3s/step - loss: 5.4600 - val_loss: 7.2617 - lr: 0.0025\n",
            "Epoch 3/121\n",
            "4/4 [==============================] - 12s 3s/step - loss: 5.3961 - val_loss: 7.1703 - lr: 0.0025\n",
            "Epoch 4/121\n",
            "4/4 [==============================] - 15s 3s/step - loss: 5.3240 - val_loss: 7.0466 - lr: 0.0025\n",
            "Epoch 5/121\n",
            "4/4 [==============================] - 12s 3s/step - loss: 5.2753 - val_loss: 6.9152 - lr: 0.0025\n",
            "Epoch 6/121\n",
            "4/4 [==============================] - 12s 3s/step - loss: 5.2206 - val_loss: 6.8999 - lr: 0.0025\n",
            "Epoch 7/121\n",
            "4/4 [==============================] - 11s 3s/step - loss: 5.1712 - val_loss: 6.8501 - lr: 0.0025\n",
            "Epoch 8/121\n",
            "4/4 [==============================] - 12s 3s/step - loss: 5.1213 - val_loss: 6.8506 - lr: 0.0025\n",
            "Epoch 9/121\n",
            "4/4 [==============================] - 11s 3s/step - loss: 5.1651 - val_loss: 6.7167 - lr: 0.0025\n",
            "Epoch 10/121\n",
            "4/4 [==============================] - 12s 3s/step - loss: 5.5011 - val_loss: 6.4773 - lr: 0.0025\n",
            "Epoch 11/121\n",
            "4/4 [==============================] - 12s 3s/step - loss: 5.1758 - val_loss: 6.6040 - lr: 0.0025\n",
            "Epoch 12/121\n",
            "4/4 [==============================] - 12s 3s/step - loss: 5.1440 - val_loss: 6.4732 - lr: 0.0025\n",
            "Epoch 13/121\n",
            "4/4 [==============================] - 11s 3s/step - loss: 5.0770 - val_loss: 6.3852 - lr: 0.0025\n",
            "Epoch 14/121\n",
            "4/4 [==============================] - 11s 3s/step - loss: 5.0439 - val_loss: 6.3893 - lr: 0.0025\n",
            "Epoch 15/121\n",
            "4/4 [==============================] - 11s 3s/step - loss: 4.9974 - val_loss: 6.4007 - lr: 0.0025\n",
            "Epoch 16/121\n",
            "4/4 [==============================] - 11s 3s/step - loss: 4.9447 - val_loss: 6.3340 - lr: 0.0025\n",
            "Epoch 17/121\n",
            "4/4 [==============================] - 11s 3s/step - loss: 4.8879 - val_loss: 6.3115 - lr: 0.0025\n",
            "Epoch 18/121\n",
            "4/4 [==============================] - 11s 3s/step - loss: 4.8249 - val_loss: 6.3346 - lr: 0.0025\n",
            "Epoch 19/121\n",
            "4/4 [==============================] - 11s 3s/step - loss: 4.7602 - val_loss: 6.3239 - lr: 0.0025\n",
            "Epoch 20/121\n",
            "4/4 [==============================] - 11s 3s/step - loss: 4.6759 - val_loss: 6.3619 - lr: 0.0025\n",
            "Epoch 21/121\n",
            "4/4 [==============================] - 12s 3s/step - loss: 4.6141 - val_loss: 6.3810 - lr: 0.0025\n",
            "Epoch 22/121\n",
            "4/4 [==============================] - 12s 3s/step - loss: 4.5427 - val_loss: 6.3687 - lr: 0.0025\n",
            "Epoch 23/121\n",
            "4/4 [==============================] - 12s 3s/step - loss: 4.4182 - val_loss: 6.3648 - lr: 0.0025\n",
            "Epoch 24/121\n",
            "4/4 [==============================] - 15s 4s/step - loss: 4.5384 - val_loss: 6.3442 - lr: 0.0025\n",
            "Epoch 25/121\n",
            "4/4 [==============================] - 12s 3s/step - loss: 4.4204 - val_loss: 6.3245 - lr: 0.0025\n",
            "Epoch 26/121\n",
            "4/4 [==============================] - 12s 3s/step - loss: 4.3128 - val_loss: 6.3222 - lr: 0.0025\n",
            "Epoch 27/121\n",
            "4/4 [==============================] - 12s 3s/step - loss: 4.2593 - val_loss: 6.3567 - lr: 0.0025\n",
            "Epoch 28/121\n",
            "4/4 [==============================] - 12s 3s/step - loss: 4.6760 - val_loss: 6.2775 - lr: 0.0025\n",
            "Epoch 29/121\n",
            "4/4 [==============================] - 12s 3s/step - loss: 4.4166 - val_loss: 6.3503 - lr: 0.0025\n",
            "Epoch 30/121\n",
            "4/4 [==============================] - 12s 3s/step - loss: 4.3377 - val_loss: 6.2214 - lr: 0.0025\n",
            "Epoch 31/121\n",
            "4/4 [==============================] - 12s 3s/step - loss: 4.1324 - val_loss: 6.2903 - lr: 0.0025\n",
            "Epoch 32/121\n",
            "4/4 [==============================] - 12s 3s/step - loss: 4.1310 - val_loss: 6.2070 - lr: 0.0025\n",
            "Epoch 33/121\n",
            "4/4 [==============================] - 11s 3s/step - loss: 4.1186 - val_loss: 5.8924 - lr: 0.0025\n",
            "Epoch 34/121\n",
            "4/4 [==============================] - 11s 3s/step - loss: 3.7337 - val_loss: 5.8994 - lr: 0.0025\n",
            "Epoch 35/121\n",
            "4/4 [==============================] - 11s 3s/step - loss: 3.3025 - val_loss: 5.8537 - lr: 0.0025\n",
            "Epoch 36/121\n",
            "4/4 [==============================] - 11s 3s/step - loss: 3.0313 - val_loss: 5.7777 - lr: 0.0025\n",
            "Epoch 37/121\n",
            "4/4 [==============================] - 11s 3s/step - loss: 2.9679 - val_loss: 5.8240 - lr: 0.0025\n",
            "Epoch 38/121\n",
            "4/4 [==============================] - 11s 3s/step - loss: 2.8909 - val_loss: 5.6459 - lr: 0.0025\n",
            "Epoch 39/121\n",
            "4/4 [==============================] - 11s 3s/step - loss: 2.4393 - val_loss: 5.6841 - lr: 0.0025\n",
            "Epoch 40/121\n",
            "4/4 [==============================] - 11s 3s/step - loss: 2.3778 - val_loss: 5.7202 - lr: 0.0025\n",
            "lr changed to 0.0012499999720603228\n",
            "Epoch 41/121\n",
            "4/4 [==============================] - 11s 3s/step - loss: 2.3053 - val_loss: 5.5992 - lr: 0.0012\n",
            "Epoch 42/121\n",
            "4/4 [==============================] - 11s 3s/step - loss: 2.0928 - val_loss: 5.5938 - lr: 0.0012\n",
            "Epoch 43/121\n",
            "4/4 [==============================] - 12s 3s/step - loss: 2.0055 - val_loss: 5.5940 - lr: 0.0012\n",
            "Epoch 44/121\n",
            "4/4 [==============================] - 15s 4s/step - loss: 2.1569 - val_loss: 5.4730 - lr: 0.0012\n",
            "Epoch 45/121\n",
            "4/4 [==============================] - 11s 3s/step - loss: 1.9911 - val_loss: 5.5171 - lr: 0.0012\n",
            "Epoch 46/121\n",
            "4/4 [==============================] - 12s 3s/step - loss: 1.9346 - val_loss: 5.4078 - lr: 0.0012\n",
            "Epoch 47/121\n",
            "4/4 [==============================] - 12s 3s/step - loss: 1.8564 - val_loss: 5.3012 - lr: 0.0012\n",
            "Epoch 48/121\n",
            "4/4 [==============================] - 11s 3s/step - loss: 1.8155 - val_loss: 5.5065 - lr: 0.0012\n",
            "Epoch 49/121\n",
            "4/4 [==============================] - 11s 3s/step - loss: 1.9651 - val_loss: 5.3263 - lr: 0.0012\n",
            "Epoch 50/121\n",
            "4/4 [==============================] - 11s 3s/step - loss: 2.3663 - val_loss: 5.3111 - lr: 0.0012\n",
            "Epoch 51/121\n",
            "4/4 [==============================] - 11s 3s/step - loss: 2.0963 - val_loss: 5.2031 - lr: 0.0012\n",
            "Epoch 52/121\n",
            "4/4 [==============================] - 11s 3s/step - loss: 1.9672 - val_loss: 5.0515 - lr: 0.0012\n",
            "Epoch 53/121\n",
            "4/4 [==============================] - 11s 3s/step - loss: 1.9870 - val_loss: 5.0972 - lr: 0.0012\n",
            "Epoch 54/121\n",
            "4/4 [==============================] - 11s 3s/step - loss: 1.8434 - val_loss: 4.8501 - lr: 0.0012\n",
            "Epoch 55/121\n",
            "4/4 [==============================] - 11s 3s/step - loss: 1.9310 - val_loss: 4.9403 - lr: 0.0012\n",
            "Epoch 56/121\n",
            "4/4 [==============================] - 11s 3s/step - loss: 1.8285 - val_loss: 4.7435 - lr: 0.0012\n",
            "Epoch 57/121\n",
            "4/4 [==============================] - 12s 3s/step - loss: 1.7322 - val_loss: 4.6739 - lr: 0.0012\n",
            "Epoch 58/121\n",
            "4/4 [==============================] - 12s 3s/step - loss: 1.7441 - val_loss: 4.7292 - lr: 0.0012\n",
            "Epoch 59/121\n",
            "4/4 [==============================] - 11s 3s/step - loss: 1.6754 - val_loss: 4.7810 - lr: 0.0012\n",
            "Epoch 60/121\n",
            "4/4 [==============================] - 11s 3s/step - loss: 1.6814 - val_loss: 4.6038 - lr: 0.0012\n",
            "Epoch 61/121\n",
            "4/4 [==============================] - 11s 3s/step - loss: 1.7021 - val_loss: 4.6682 - lr: 0.0012\n",
            "Epoch 62/121\n",
            "4/4 [==============================] - 11s 3s/step - loss: 1.7148 - val_loss: 4.5249 - lr: 0.0012\n",
            "Epoch 63/121\n",
            "4/4 [==============================] - 11s 3s/step - loss: 1.7013 - val_loss: 4.4599 - lr: 0.0012\n",
            "Epoch 64/121\n",
            "4/4 [==============================] - 11s 3s/step - loss: 1.6612 - val_loss: 4.4254 - lr: 0.0012\n",
            "Epoch 65/121\n",
            "4/4 [==============================] - 12s 3s/step - loss: 1.6316 - val_loss: 4.2532 - lr: 0.0012\n",
            "Epoch 66/121\n",
            "4/4 [==============================] - 14s 3s/step - loss: 1.8725 - val_loss: 4.0987 - lr: 0.0012\n",
            "Epoch 67/121\n",
            "4/4 [==============================] - 12s 3s/step - loss: 1.8098 - val_loss: 4.2034 - lr: 0.0012\n",
            "Epoch 68/121\n",
            "4/4 [==============================] - 11s 3s/step - loss: 1.7430 - val_loss: 4.0192 - lr: 0.0012\n",
            "Epoch 69/121\n",
            "4/4 [==============================] - 12s 3s/step - loss: 1.6412 - val_loss: 4.0225 - lr: 0.0012\n",
            "Epoch 70/121\n",
            "4/4 [==============================] - 11s 3s/step - loss: 1.5951 - val_loss: 3.7818 - lr: 0.0012\n",
            "Epoch 71/121\n",
            "4/4 [==============================] - 11s 3s/step - loss: 1.5742 - val_loss: 3.9176 - lr: 0.0012\n",
            "Epoch 72/121\n",
            "4/4 [==============================] - 12s 3s/step - loss: 1.6240 - val_loss: 3.7662 - lr: 0.0012\n",
            "Epoch 73/121\n",
            "4/4 [==============================] - 11s 3s/step - loss: 1.5451 - val_loss: 3.6601 - lr: 0.0012\n",
            "Epoch 74/121\n",
            "4/4 [==============================] - 12s 3s/step - loss: 1.5367 - val_loss: 3.6951 - lr: 0.0012\n",
            "Epoch 75/121\n",
            "4/4 [==============================] - 12s 3s/step - loss: 1.5293 - val_loss: 3.7252 - lr: 0.0012\n",
            "Epoch 76/121\n",
            "4/4 [==============================] - 12s 3s/step - loss: 1.6078 - val_loss: 3.6849 - lr: 0.0012\n",
            "Epoch 77/121\n",
            "4/4 [==============================] - 12s 3s/step - loss: 1.5493 - val_loss: 3.5322 - lr: 0.0012\n",
            "Epoch 78/121\n",
            "4/4 [==============================] - 12s 3s/step - loss: 1.5338 - val_loss: 3.4579 - lr: 0.0012\n",
            "Epoch 79/121\n",
            "4/4 [==============================] - 12s 3s/step - loss: 1.4945 - val_loss: 3.4452 - lr: 0.0012\n",
            "Epoch 80/121\n",
            "4/4 [==============================] - 11s 3s/step - loss: 1.5338 - val_loss: 3.2851 - lr: 0.0012\n",
            "lr changed to 0.0006249999860301614\n",
            "Epoch 81/121\n",
            "4/4 [==============================] - 11s 3s/step - loss: 1.5053 - val_loss: 3.2860 - lr: 6.2500e-04\n",
            "Epoch 82/121\n",
            "4/4 [==============================] - 12s 3s/step - loss: 1.4389 - val_loss: 3.3024 - lr: 6.2500e-04\n",
            "Epoch 83/121\n",
            "4/4 [==============================] - 12s 3s/step - loss: 1.4733 - val_loss: 3.2399 - lr: 6.2500e-04\n",
            "Epoch 84/121\n",
            "4/4 [==============================] - 12s 3s/step - loss: 1.4432 - val_loss: 3.1747 - lr: 6.2500e-04\n",
            "Epoch 85/121\n",
            "4/4 [==============================] - 12s 3s/step - loss: 1.4392 - val_loss: 3.2293 - lr: 6.2500e-04\n",
            "Epoch 86/121\n",
            "4/4 [==============================] - 15s 4s/step - loss: 1.4642 - val_loss: 3.0491 - lr: 6.2500e-04\n",
            "Epoch 87/121\n",
            "4/4 [==============================] - 11s 3s/step - loss: 1.4239 - val_loss: 3.0423 - lr: 6.2500e-04\n",
            "Epoch 88/121\n",
            "4/4 [==============================] - 11s 3s/step - loss: 1.4643 - val_loss: 3.1247 - lr: 6.2500e-04\n",
            "Epoch 89/121\n",
            "4/4 [==============================] - 11s 3s/step - loss: 1.4468 - val_loss: 3.0075 - lr: 6.2500e-04\n",
            "Epoch 90/121\n",
            "4/4 [==============================] - 11s 3s/step - loss: 1.4228 - val_loss: 2.9677 - lr: 6.2500e-04\n",
            "Epoch 91/121\n",
            "4/4 [==============================] - 11s 3s/step - loss: 1.4347 - val_loss: 2.9511 - lr: 6.2500e-04\n",
            "Epoch 92/121\n",
            "4/4 [==============================] - 11s 3s/step - loss: 1.4237 - val_loss: 2.8138 - lr: 6.2500e-04\n",
            "Epoch 93/121\n",
            "4/4 [==============================] - 11s 3s/step - loss: 1.4146 - val_loss: 2.7767 - lr: 6.2500e-04\n",
            "Epoch 94/121\n",
            "4/4 [==============================] - 11s 3s/step - loss: 1.4281 - val_loss: 2.8127 - lr: 6.2500e-04\n",
            "Epoch 95/121\n",
            "4/4 [==============================] - 12s 3s/step - loss: 1.3956 - val_loss: 2.7986 - lr: 6.2500e-04\n",
            "Epoch 96/121\n",
            "4/4 [==============================] - 11s 3s/step - loss: 1.4239 - val_loss: 2.6490 - lr: 6.2500e-04\n",
            "Epoch 97/121\n",
            "4/4 [==============================] - 11s 3s/step - loss: 1.3987 - val_loss: 2.5857 - lr: 6.2500e-04\n",
            "Epoch 98/121\n",
            "4/4 [==============================] - 11s 3s/step - loss: 1.3799 - val_loss: 2.5101 - lr: 6.2500e-04\n",
            "Epoch 99/121\n",
            "4/4 [==============================] - 12s 3s/step - loss: 1.4034 - val_loss: 2.5947 - lr: 6.2500e-04\n",
            "Epoch 100/121\n",
            "4/4 [==============================] - 12s 3s/step - loss: 1.3868 - val_loss: 2.5546 - lr: 6.2500e-04\n",
            "Epoch 101/121\n",
            "4/4 [==============================] - 12s 3s/step - loss: 1.3609 - val_loss: 2.5138 - lr: 6.2500e-04\n",
            "Epoch 102/121\n",
            "4/4 [==============================] - 12s 3s/step - loss: 1.3547 - val_loss: 2.4436 - lr: 6.2500e-04\n",
            "Epoch 103/121\n",
            "4/4 [==============================] - 12s 3s/step - loss: 1.3421 - val_loss: 2.4503 - lr: 6.2500e-04\n",
            "Epoch 104/121\n",
            "4/4 [==============================] - 12s 3s/step - loss: 1.3807 - val_loss: 2.4273 - lr: 6.2500e-04\n",
            "Epoch 105/121\n",
            "4/4 [==============================] - 12s 3s/step - loss: 1.3584 - val_loss: 2.4994 - lr: 6.2500e-04\n",
            "Epoch 106/121\n",
            "4/4 [==============================] - 12s 3s/step - loss: 1.3838 - val_loss: 2.3271 - lr: 6.2500e-04\n",
            "Epoch 107/121\n",
            "4/4 [==============================] - 15s 4s/step - loss: 1.4127 - val_loss: 2.4211 - lr: 6.2500e-04\n",
            "Epoch 108/121\n",
            "4/4 [==============================] - 12s 3s/step - loss: 1.3873 - val_loss: 2.3429 - lr: 6.2500e-04\n",
            "Epoch 109/121\n",
            "4/4 [==============================] - 12s 3s/step - loss: 1.3996 - val_loss: 2.3668 - lr: 6.2500e-04\n",
            "Epoch 110/121\n",
            "4/4 [==============================] - 12s 3s/step - loss: 1.4091 - val_loss: 2.2772 - lr: 6.2500e-04\n",
            "Epoch 111/121\n",
            "4/4 [==============================] - 12s 3s/step - loss: 1.3475 - val_loss: 2.2470 - lr: 6.2500e-04\n",
            "Epoch 112/121\n",
            "4/4 [==============================] - 12s 3s/step - loss: 1.3599 - val_loss: 2.1914 - lr: 6.2500e-04\n",
            "Epoch 113/121\n",
            "4/4 [==============================] - 11s 3s/step - loss: 1.3305 - val_loss: 2.2508 - lr: 6.2500e-04\n",
            "Epoch 114/121\n",
            "4/4 [==============================] - 11s 3s/step - loss: 1.3622 - val_loss: 2.3433 - lr: 6.2500e-04\n",
            "Epoch 115/121\n",
            "4/4 [==============================] - 12s 3s/step - loss: 1.3478 - val_loss: 2.3128 - lr: 6.2500e-04\n",
            "Epoch 116/121\n",
            "4/4 [==============================] - 12s 3s/step - loss: 1.3416 - val_loss: 2.1786 - lr: 6.2500e-04\n",
            "Epoch 117/121\n",
            "4/4 [==============================] - 12s 3s/step - loss: 1.3791 - val_loss: 2.2784 - lr: 6.2500e-04\n",
            "Epoch 118/121\n",
            "4/4 [==============================] - 12s 3s/step - loss: 1.3468 - val_loss: 2.1572 - lr: 6.2500e-04\n",
            "Epoch 119/121\n",
            "4/4 [==============================] - 12s 3s/step - loss: 1.3231 - val_loss: 2.2001 - lr: 6.2500e-04\n",
            "Epoch 120/121\n",
            "4/4 [==============================] - 12s 3s/step - loss: 1.3179 - val_loss: 2.2074 - lr: 6.2500e-04\n",
            "lr changed to 0.0003124999930150807\n",
            "Epoch 121/121\n",
            "4/4 [==============================] - 12s 3s/step - loss: 1.3285 - val_loss: 2.1126 - lr: 3.1250e-04\n"
          ]
        }
      ],
      "source": [
        "# from tensorflow.keras.models import load_model\n",
        "# tcn = load_model('/content/spatiotemporal_1.h5')\n",
        "history=tcn.fit(x_train,y_train, \n",
        "        epochs=121, batch_size=128,validation_data=[x_test, y_test], callbacks=[reduce_lr])\n"
      ]
    },
    {
      "cell_type": "code",
      "execution_count": 2,
      "id": "8a3a3b00",
      "metadata": {
        "ExecuteTime": {
          "end_time": "2022-10-05T09:53:25.495903Z",
          "start_time": "2022-10-05T09:53:25.464641Z"
        },
        "id": "8a3a3b00"
      },
      "outputs": [],
      "source": [
        "# history.history.keys() #查看history中存储了哪些参数"
      ]
    },
    {
      "cell_type": "code",
      "execution_count": 3,
      "id": "d1add196",
      "metadata": {
        "ExecuteTime": {
          "end_time": "2022-10-05T09:53:26.089534Z",
          "start_time": "2022-10-05T09:53:26.073834Z"
        },
        "id": "d1add196"
      },
      "outputs": [],
      "source": [
        "# plt.plot(history.epoch,history.history.get('my_metric_fn')[:]) #画出随着epoch增大loss的变化图\n",
        "#plt.plot(history.epoch,history.history.get('acc'))#画出随着epoch增大准确率的变化图"
      ]
    },
    {
      "cell_type": "code",
      "execution_count": 4,
      "id": "09ae9e4f",
      "metadata": {
        "ExecuteTime": {
          "end_time": "2022-10-05T09:53:26.698759Z",
          "start_time": "2022-10-05T09:53:26.683072Z"
        },
        "id": "09ae9e4f"
      },
      "outputs": [],
      "source": [
        "# plt.plot(history.epoch, history.history.get('lr'))"
      ]
    },
    {
      "cell_type": "code",
      "execution_count": 5,
      "id": "c3dbeafd",
      "metadata": {
        "ExecuteTime": {
          "end_time": "2022-10-05T09:53:34.478062Z",
          "start_time": "2022-10-05T09:53:28.588829Z"
        },
        "id": "c3dbeafd",
        "colab": {
          "base_uri": "https://localhost:8080/",
          "height": 173
        },
        "outputId": "783ff0e6-c479-4d90-89bd-e2a7c8932126"
      },
      "outputs": [
        {
          "output_type": "error",
          "ename": "NameError",
          "evalue": "ignored",
          "traceback": [
            "\u001b[0;31m---------------------------------------------------------------------------\u001b[0m",
            "\u001b[0;31mNameError\u001b[0m                                 Traceback (most recent call last)",
            "\u001b[0;32m<ipython-input-5-33a8236b04c6>\u001b[0m in \u001b[0;36m<module>\u001b[0;34m\u001b[0m\n\u001b[0;32m----> 1\u001b[0;31m \u001b[0mtcn\u001b[0m\u001b[0;34m.\u001b[0m\u001b[0mevaluate\u001b[0m\u001b[0;34m(\u001b[0m\u001b[0mx_test\u001b[0m\u001b[0;34m,\u001b[0m \u001b[0my_test\u001b[0m\u001b[0;34m)\u001b[0m\u001b[0;34m\u001b[0m\u001b[0;34m\u001b[0m\u001b[0m\n\u001b[0m",
            "\u001b[0;31mNameError\u001b[0m: name 'tcn' is not defined"
          ]
        }
      ],
      "source": [
        "tcn.evaluate(x_test, y_test)"
      ]
    },
    {
      "cell_type": "code",
      "execution_count": null,
      "id": "4662e638",
      "metadata": {
        "ExecuteTime": {
          "end_time": "2022-10-05T09:53:43.600937Z",
          "start_time": "2022-10-05T09:53:38.945794Z"
        },
        "id": "4662e638"
      },
      "outputs": [],
      "source": [
        "predict = tcn.predict(x_test)"
      ]
    },
    {
      "cell_type": "code",
      "source": [
        "predict.shape"
      ],
      "metadata": {
        "id": "plaeU9rwN9tq"
      },
      "id": "plaeU9rwN9tq",
      "execution_count": null,
      "outputs": []
    },
    {
      "cell_type": "code",
      "source": [
        "5//4"
      ],
      "metadata": {
        "id": "WMF9E_pLmQ0G"
      },
      "id": "WMF9E_pLmQ0G",
      "execution_count": null,
      "outputs": []
    },
    {
      "cell_type": "code",
      "source": [
        "test_day = 100\n",
        "fig, ax = plt.subplots(4,3,figsize=(5,5),dpi=100)\n",
        "\n",
        "im1 = ax[0][0].imshow(y_test[test_day,0,:,:,0], cmap = plt.cm.winter)\n",
        "im1 = ax[0][1].imshow(y_test[test_day,1,:,:,0], cmap = plt.cm.winter)\n",
        "im1 = ax[0][2].imshow(y_test[test_day,2,:,:,0], cmap = plt.cm.winter)\n",
        "\n",
        "im1 = ax[1][0].imshow(y_test[test_day,3,:,:,0], cmap = plt.cm.winter)\n",
        "im1 = ax[1][1].imshow(y_test[test_day,4,:,:,0], cmap = plt.cm.winter)\n",
        "im1 = ax[1][2].imshow(y_test[test_day,5,:,:,0], cmap = plt.cm.winter)\n",
        "im1 = ax[2][0].imshow(y_test[test_day,6,:,:,0], cmap = plt.cm.winter)\n",
        "im1 = ax[2][1].imshow(y_test[test_day,7,:,:,0], cmap = plt.cm.winter)\n",
        "im1 = ax[2][2].imshow(y_test[test_day,8,:,:,0], cmap = plt.cm.winter)\n",
        "im1 = ax[3][0].imshow(y_test[test_day,9,:,:,0], cmap = plt.cm.winter)\n",
        "im1 = ax[3][1].imshow(y_test[test_day,10,:,:,0], cmap = plt.cm.winter)\n",
        "im1 = ax[3][2].imshow(y_test[test_day,11,:,:,0], cmap = plt.cm.winter)\n",
        "\n",
        "# plt.colorbar(im1)"
      ],
      "metadata": {
        "id": "vxWA3wFENzl7"
      },
      "id": "vxWA3wFENzl7",
      "execution_count": null,
      "outputs": []
    },
    {
      "cell_type": "code",
      "source": [
        "fig, ax = plt.subplots(4,3,figsize=(5,5),dpi=100)\n",
        "\n",
        "im1 = ax[0][0].imshow(predict[test_day,0,:,:,0], cmap = plt.cm.winter)\n",
        "im1 = ax[0][1].imshow(predict[test_day,1,:,:,0], cmap = plt.cm.winter)\n",
        "im1 = ax[0][2].imshow(predict[test_day,2,:,:,0], cmap = plt.cm.winter)\n",
        "\n",
        "im1 = ax[1][0].imshow(predict[test_day,3,:,:,0], cmap = plt.cm.winter)\n",
        "im1 = ax[1][1].imshow(predict[test_day,4,:,:,0], cmap = plt.cm.winter)\n",
        "im1 = ax[1][2].imshow(predict[test_day,5,:,:,0], cmap = plt.cm.winter)\n",
        "im1 = ax[2][0].imshow(predict[test_day,6,:,:,0], cmap = plt.cm.winter)\n",
        "im1 = ax[2][1].imshow(predict[test_day,7,:,:,0], cmap = plt.cm.winter)\n",
        "im1 = ax[2][2].imshow(predict[test_day,8,:,:,0], cmap = plt.cm.winter)\n",
        "im1 = ax[3][0].imshow(predict[test_day,9,:,:,0], cmap = plt.cm.winter)\n",
        "im1 = ax[3][1].imshow(predict[test_day,10,:,:,0], cmap = plt.cm.winter)\n",
        "im1 = ax[3][2].imshow(predict[test_day,11,:,:,0], cmap = plt.cm.winter)"
      ],
      "metadata": {
        "id": "RLgHVUSEe4WD"
      },
      "id": "RLgHVUSEe4WD",
      "execution_count": null,
      "outputs": []
    },
    {
      "cell_type": "code",
      "source": [
        "# 预测\n",
        "plt.imshow(predict[test_day,:,:,0], cmap = plt.cm.winter)\n",
        "plt.colorbar()"
      ],
      "metadata": {
        "id": "G5o7RCTg1B4_"
      },
      "id": "G5o7RCTg1B4_",
      "execution_count": null,
      "outputs": []
    },
    {
      "cell_type": "code",
      "source": [
        "tcn.save('32_BN_300_2.0_2019.h5')"
      ],
      "metadata": {
        "id": "qpJfQB6IwuQq"
      },
      "id": "qpJfQB6IwuQq",
      "execution_count": null,
      "outputs": []
    },
    {
      "cell_type": "markdown",
      "id": "0e185cb0",
      "metadata": {
        "id": "0e185cb0"
      },
      "source": [
        "### RMSE计算"
      ]
    },
    {
      "cell_type": "code",
      "execution_count": null,
      "id": "a4070982",
      "metadata": {
        "ExecuteTime": {
          "end_time": "2022-10-05T09:54:01.534160Z",
          "start_time": "2022-10-05T09:54:01.518574Z"
        },
        "id": "a4070982"
      },
      "outputs": [],
      "source": [
        "from sklearn.metrics import mean_squared_error"
      ]
    },
    {
      "cell_type": "code",
      "execution_count": null,
      "id": "24b1fa06",
      "metadata": {
        "ExecuteTime": {
          "end_time": "2022-10-05T09:54:02.705794Z",
          "start_time": "2022-10-05T09:54:02.674551Z"
        },
        "id": "24b1fa06"
      },
      "outputs": [],
      "source": [
        "P = predict\n",
        "P = P.reshape(-1,1)\n",
        "P.shape"
      ]
    },
    {
      "cell_type": "code",
      "execution_count": null,
      "id": "f0bc45a0",
      "metadata": {
        "ExecuteTime": {
          "end_time": "2022-10-05T09:54:03.346334Z",
          "start_time": "2022-10-05T09:54:03.330645Z"
        },
        "id": "f0bc45a0"
      },
      "outputs": [],
      "source": [
        "R = y_test\n",
        "R = R.reshape(-1,1)\n",
        "R.shape"
      ]
    },
    {
      "cell_type": "code",
      "execution_count": null,
      "id": "c2745dbe",
      "metadata": {
        "ExecuteTime": {
          "end_time": "2022-10-05T09:54:05.548943Z",
          "start_time": "2022-10-05T09:54:05.533323Z"
        },
        "id": "c2745dbe"
      },
      "outputs": [],
      "source": [
        "mean_squared_error(R, P, squared=False)"
      ]
    },
    {
      "cell_type": "markdown",
      "id": "e72e1de7",
      "metadata": {
        "id": "e72e1de7"
      },
      "source": [
        "### 计算$R^{2}$"
      ]
    },
    {
      "cell_type": "code",
      "execution_count": null,
      "id": "92a65ca2",
      "metadata": {
        "ExecuteTime": {
          "end_time": "2022-10-05T09:54:07.329775Z",
          "start_time": "2022-10-05T09:54:07.314078Z"
        },
        "id": "92a65ca2"
      },
      "outputs": [],
      "source": [
        "from sklearn.metrics import r2_score"
      ]
    },
    {
      "cell_type": "code",
      "execution_count": null,
      "id": "042cb2ec",
      "metadata": {
        "ExecuteTime": {
          "end_time": "2022-10-05T09:54:08.032728Z",
          "start_time": "2022-10-05T09:54:08.017037Z"
        },
        "id": "042cb2ec"
      },
      "outputs": [],
      "source": [
        "r2 = round(r2_score(P, R),4)\n",
        "r2"
      ]
    },
    {
      "cell_type": "markdown",
      "id": "3e02bca8",
      "metadata": {
        "id": "3e02bca8"
      },
      "source": [
        "### 算相对误差直方图"
      ]
    },
    {
      "cell_type": "code",
      "execution_count": null,
      "id": "9264da19",
      "metadata": {
        "ExecuteTime": {
          "end_time": "2022-10-05T09:54:09.751071Z",
          "start_time": "2022-10-05T09:54:09.563601Z"
        },
        "id": "9264da19"
      },
      "outputs": [],
      "source": [
        "PD = np.abs(R-P)/R\n",
        "fig, ax = plt.subplots(dpi=300)\n",
        "ax.hist(PD, density=False)\n",
        "ax.set_ylabel(\"Percent/(%)\")\n",
        "ax.set_xlabel(\"相对误差/(TECU)\")"
      ]
    },
    {
      "cell_type": "markdown",
      "id": "6c0c2d9f",
      "metadata": {
        "id": "6c0c2d9f"
      },
      "source": [
        "### 计算预测显示的散点图"
      ]
    },
    {
      "cell_type": "code",
      "execution_count": null,
      "id": "8391cb8f",
      "metadata": {
        "ExecuteTime": {
          "end_time": "2022-10-05T09:54:12.547180Z",
          "start_time": "2022-10-05T09:54:12.453488Z"
        },
        "id": "8391cb8f"
      },
      "outputs": [],
      "source": [
        "plt.scatter(R,P, s=1)"
      ]
    },
    {
      "cell_type": "code",
      "execution_count": null,
      "id": "6fd168e8",
      "metadata": {
        "ExecuteTime": {
          "end_time": "2022-10-05T09:54:13.250244Z",
          "start_time": "2022-10-05T09:54:13.203310Z"
        },
        "id": "6fd168e8"
      },
      "outputs": [],
      "source": [
        "from sklearn.linear_model import LinearRegression\n",
        "reg = LinearRegression().fit(R, P)\n",
        "\n",
        "reg.coef_, reg.intercept_"
      ]
    },
    {
      "cell_type": "code",
      "execution_count": null,
      "id": "507bb2a9",
      "metadata": {
        "ExecuteTime": {
          "end_time": "2022-10-05T09:54:13.875087Z",
          "start_time": "2022-10-05T09:54:13.843831Z"
        },
        "id": "507bb2a9"
      },
      "outputs": [],
      "source": [
        "line_x = np.linspace(0, 70, 2)\n",
        "y = reg.coef_[0][0] * line_x + reg.intercept_[0]\n",
        "y"
      ]
    },
    {
      "cell_type": "code",
      "execution_count": null,
      "id": "455230e5",
      "metadata": {
        "ExecuteTime": {
          "end_time": "2022-10-05T09:54:14.359359Z",
          "start_time": "2022-10-05T09:54:14.343634Z"
        },
        "id": "455230e5"
      },
      "outputs": [],
      "source": [
        "import matplotlib as mpl\n",
        "plt.rcParams.update({\n",
        "    \"text.usetex\": False,\n",
        "})"
      ]
    },
    {
      "cell_type": "code",
      "execution_count": null,
      "id": "a26d9d5a",
      "metadata": {
        "ExecuteTime": {
          "end_time": "2022-10-05T09:54:15.156046Z",
          "start_time": "2022-10-05T09:54:14.921622Z"
        },
        "scrolled": false,
        "id": "a26d9d5a"
      },
      "outputs": [],
      "source": [
        "fig = plt.figure(dpi=300) \n",
        "plt.scatter(R,P, s=10)\n",
        "plt.plot(line_x, y, 'k')\n",
        "# plt.text(100, 40, r'$k_a$', fontsize=18)\n",
        "plt.xlabel('Observed TEC/TECU', fontsize=18)\n",
        "plt.ylabel('Forecast TEC/TECU', fontsize=18)\n",
        "plt.text(50,20, 'R:{}\\nK:{}'.format(r2, round(reg.coef_[0][0],4)))"
      ]
    },
    {
      "cell_type": "code",
      "execution_count": null,
      "id": "2402c020",
      "metadata": {
        "id": "2402c020"
      },
      "outputs": [],
      "source": []
    },
    {
      "cell_type": "code",
      "execution_count": null,
      "id": "5ffc58e8",
      "metadata": {
        "id": "5ffc58e8"
      },
      "outputs": [],
      "source": []
    },
    {
      "cell_type": "code",
      "execution_count": null,
      "id": "1c3b91ef",
      "metadata": {
        "id": "1c3b91ef"
      },
      "outputs": [],
      "source": []
    },
    {
      "cell_type": "code",
      "execution_count": null,
      "id": "40730d05",
      "metadata": {
        "id": "40730d05"
      },
      "outputs": [],
      "source": []
    }
  ],
  "metadata": {
    "celltoolbar": "原始单元格格式",
    "kernelspec": {
      "display_name": "Python 3",
      "name": "python3"
    },
    "language_info": {
      "name": "python"
    },
    "toc": {
      "base_numbering": 1,
      "nav_menu": {},
      "number_sections": true,
      "sideBar": true,
      "skip_h1_title": false,
      "title_cell": "Table of Contents",
      "title_sidebar": "Contents",
      "toc_cell": false,
      "toc_position": {},
      "toc_section_display": true,
      "toc_window_display": false
    },
    "varInspector": {
      "cols": {
        "lenName": 16,
        "lenType": 16,
        "lenVar": 40
      },
      "kernels_config": {
        "python": {
          "delete_cmd_postfix": "",
          "delete_cmd_prefix": "del ",
          "library": "var_list.py",
          "varRefreshCmd": "print(var_dic_list())"
        },
        "r": {
          "delete_cmd_postfix": ") ",
          "delete_cmd_prefix": "rm(",
          "library": "var_list.r",
          "varRefreshCmd": "cat(var_dic_list()) "
        }
      },
      "types_to_exclude": [
        "module",
        "function",
        "builtin_function_or_method",
        "instance",
        "_Feature"
      ],
      "window_display": false
    },
    "colab": {
      "provenance": [],
      "collapsed_sections": [],
      "include_colab_link": true
    },
    "accelerator": "GPU",
    "gpuClass": "standard"
  },
  "nbformat": 4,
  "nbformat_minor": 5
}