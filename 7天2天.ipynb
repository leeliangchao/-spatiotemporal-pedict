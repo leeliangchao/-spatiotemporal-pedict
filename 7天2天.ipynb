{
  "cells": [
    {
      "cell_type": "markdown",
      "metadata": {
        "id": "view-in-github",
        "colab_type": "text"
      },
      "source": [
        "<a href=\"https://colab.research.google.com/github/leeliangchao/-spatiotemporal-pedict/blob/main/7%E5%A4%A92%E5%A4%A9.ipynb\" target=\"_parent\"><img src=\"https://colab.research.google.com/assets/colab-badge.svg\" alt=\"Open In Colab\"/></a>"
      ]
    },
    {
      "cell_type": "code",
      "source": [
        "from google.colab import drive\n",
        "drive.mount('/content/drive/')"
      ],
      "metadata": {
        "id": "WNGx8m31kq0A",
        "colab": {
          "base_uri": "https://localhost:8080/"
        },
        "outputId": "e1be2ae7-c487-4af2-eaee-59e2fba22605"
      },
      "id": "WNGx8m31kq0A",
      "execution_count": 1,
      "outputs": [
        {
          "output_type": "stream",
          "name": "stdout",
          "text": [
            "Mounted at /content/drive/\n"
          ]
        }
      ]
    },
    {
      "cell_type": "code",
      "execution_count": 2,
      "id": "6bb2a220",
      "metadata": {
        "ExecuteTime": {
          "end_time": "2022-10-05T09:06:51.063255Z",
          "start_time": "2022-10-05T09:06:50.157218Z"
        },
        "id": "6bb2a220"
      },
      "outputs": [],
      "source": [
        "import matplotlib.pyplot as plt\n",
        "import numpy as np\n",
        "import pandas as pd "
      ]
    },
    {
      "cell_type": "code",
      "source": [
        "# !pip install mlxtend==0.18\n",
        "# from mlxtend.plotting import heatmap"
      ],
      "metadata": {
        "id": "V6Kdr2y3KIhs"
      },
      "id": "V6Kdr2y3KIhs",
      "execution_count": 3,
      "outputs": []
    },
    {
      "cell_type": "markdown",
      "id": "37fef43b",
      "metadata": {
        "id": "37fef43b"
      },
      "source": [
        "\n",
        "## 范围选择"
      ]
    },
    {
      "cell_type": "code",
      "execution_count": 4,
      "id": "40cfebf7",
      "metadata": {
        "ExecuteTime": {
          "end_time": "2022-10-05T09:06:52.641112Z",
          "start_time": "2022-10-05T09:06:52.625418Z"
        },
        "id": "40cfebf7"
      },
      "outputs": [],
      "source": [
        "Longitude_Index = 54    #经度索引\n",
        "Longitude_End = 62 +1   #经度索引\n",
        "\n",
        "Latitude_Index = 17  # 纬度索引\n",
        "Latitude_End = 31 +1 # 纬度索引"
      ]
    },
    {
      "cell_type": "code",
      "execution_count": 5,
      "id": "0c836035",
      "metadata": {
        "ExecuteTime": {
          "end_time": "2022-10-05T09:06:53.344067Z",
          "start_time": "2022-10-05T09:06:53.328376Z"
        },
        "id": "0c836035"
      },
      "outputs": [],
      "source": [
        "Sample = np.load('/content/drive/MyDrive/TEC/日本3台站/CODE/TEC.npy')"
      ]
    },
    {
      "cell_type": "code",
      "source": [
        "Sample.shape"
      ],
      "metadata": {
        "colab": {
          "base_uri": "https://localhost:8080/"
        },
        "id": "Yjqhyp6XlnQp",
        "outputId": "a8cfff67-5b19-459d-80e0-64967f379d9f"
      },
      "id": "Yjqhyp6XlnQp",
      "execution_count": 6,
      "outputs": [
        {
          "output_type": "execute_result",
          "data": {
            "text/plain": [
              "(71, 73, 25, 366, 1)"
            ]
          },
          "metadata": {},
          "execution_count": 6
        }
      ]
    },
    {
      "cell_type": "code",
      "execution_count": 8,
      "id": "de52e2ed",
      "metadata": {
        "ExecuteTime": {
          "end_time": "2022-10-05T09:07:17.057186Z",
          "start_time": "2022-10-05T09:07:17.041515Z"
        },
        "id": "de52e2ed"
      },
      "outputs": [],
      "source": [
        "Target_region = Sample[Latitude_Index:Latitude_End, Longitude_Index:Longitude_End,:,:,:]"
      ]
    },
    {
      "cell_type": "code",
      "execution_count": 9,
      "id": "631c76c5",
      "metadata": {
        "ExecuteTime": {
          "end_time": "2022-10-05T09:07:18.806688Z",
          "start_time": "2022-10-05T09:07:18.541160Z"
        },
        "scrolled": false,
        "id": "631c76c5",
        "colab": {
          "base_uri": "https://localhost:8080/",
          "height": 384
        },
        "outputId": "dad43ea9-8187-4a29-8f5d-c48d248e861b"
      },
      "outputs": [
        {
          "output_type": "display_data",
          "data": {
            "text/plain": [
              "<Figure size 400x400 with 1 Axes>"
            ],
            "image/png": "[encoded data removed]"
          },
          "metadata": {
            "needs_background": "light"
          }
        },
        {
          "output_type": "execute_result",
          "data": {
            "text/plain": [
              "matplotlib.image.AxesImage"
            ]
          },
          "metadata": {},
          "execution_count": 9
        }
      ],
      "source": [
        "fig, ax = plt.subplots(figsize=(4, 4), dpi=100)\n",
        "line=ax.matshow(Target_region[:,:,-2,0,0], cmap = plt.cm.winter)\n",
        "plt.show()\n",
        "type(line)"
      ]
    },
    {
      "cell_type": "code",
      "source": [
        "from matplotlib import animation"
      ],
      "metadata": {
        "id": "eBC7G1WP3l7X"
      },
      "id": "eBC7G1WP3l7X",
      "execution_count": 10,
      "outputs": []
    },
    {
      "cell_type": "code",
      "source": [
        "def animate(i):\n",
        "  line.set_data(Target_region[:,:,i,0,0])\n",
        "  return line,\n",
        "def init():\n",
        "  line.set_data(Target_region[:,:,0,0,0])\n",
        "  return line,\n",
        "ani = animation.FuncAnimation(fig=fig, func=animate,frames=25,init_func=init,interval=200,blit=False)\n",
        "ani.save('ani.gif', writer='pillow')\n",
        "plt.show()"
      ],
      "metadata": {
        "id": "jaenFjFu4Lu6"
      },
      "id": "jaenFjFu4Lu6",
      "execution_count": 11,
      "outputs": []
    },
    {
      "cell_type": "markdown",
      "id": "4a36e19f",
      "metadata": {
        "id": "4a36e19f"
      },
      "source": [
        "### 样本制作"
      ]
    },
    {
      "cell_type": "code",
      "execution_count": 12,
      "id": "edf59186",
      "metadata": {
        "ExecuteTime": {
          "end_time": "2022-10-05T09:07:53.017448Z",
          "start_time": "2022-10-05T09:07:52.954900Z"
        },
        "id": "edf59186"
      },
      "outputs": [],
      "source": [
        "###################绘图###################\n",
        "import matplotlib.pyplot as plt\n",
        "###################标准化###################\n",
        "from sklearn.preprocessing import MinMaxScaler"
      ]
    },
    {
      "cell_type": "code",
      "source": [
        "Target_region.shape"
      ],
      "metadata": {
        "colab": {
          "base_uri": "https://localhost:8080/"
        },
        "id": "qU1eUQwGrWJ1",
        "outputId": "7e52137d-6373-4234-f331-ad8ae54609ee"
      },
      "id": "qU1eUQwGrWJ1",
      "execution_count": 13,
      "outputs": [
        {
          "output_type": "execute_result",
          "data": {
            "text/plain": [
              "(15, 9, 25, 366, 1)"
            ]
          },
          "metadata": {},
          "execution_count": 13
        }
      ]
    },
    {
      "cell_type": "code",
      "source": [
        "data = np.swapaxes(Target_region, 0,2)\n",
        "data = np.swapaxes(data, 1,3)\n",
        "data = np.swapaxes(data, 0,1)"
      ],
      "metadata": {
        "id": "clTa9wSsqxJ0"
      },
      "id": "clTa9wSsqxJ0",
      "execution_count": 14,
      "outputs": []
    },
    {
      "cell_type": "code",
      "source": [
        "data.shape"
      ],
      "metadata": {
        "colab": {
          "base_uri": "https://localhost:8080/"
        },
        "id": "HKyW54tirGUp",
        "outputId": "de82dc7f-eeef-42c0-c1b9-e8f38796a50d"
      },
      "id": "HKyW54tirGUp",
      "execution_count": 15,
      "outputs": [
        {
          "output_type": "execute_result",
          "data": {
            "text/plain": [
              "(366, 25, 15, 9, 1)"
            ]
          },
          "metadata": {},
          "execution_count": 15
        }
      ]
    },
    {
      "cell_type": "code",
      "source": [
        "data = np.delete(data,[-1], axis=0);data.shape"
      ],
      "metadata": {
        "id": "YzNN8lgnXrWU",
        "colab": {
          "base_uri": "https://localhost:8080/"
        },
        "outputId": "75a6b5f7-6d2e-4630-958a-ef71c1f6f6de"
      },
      "id": "YzNN8lgnXrWU",
      "execution_count": 16,
      "outputs": [
        {
          "output_type": "execute_result",
          "data": {
            "text/plain": [
              "(365, 25, 15, 9, 1)"
            ]
          },
          "metadata": {},
          "execution_count": 16
        }
      ]
    },
    {
      "cell_type": "code",
      "source": [
        "data = data.reshape(-1,15,9,1)"
      ],
      "metadata": {
        "id": "K8kCvw23Fp_u"
      },
      "id": "K8kCvw23Fp_u",
      "execution_count": 17,
      "outputs": []
    },
    {
      "cell_type": "code",
      "source": [
        "data.shape"
      ],
      "metadata": {
        "colab": {
          "base_uri": "https://localhost:8080/"
        },
        "id": "uz8DmNMQGrLc",
        "outputId": "23fc6446-2028-4805-8131-b73c855a4798"
      },
      "id": "uz8DmNMQGrLc",
      "execution_count": 18,
      "outputs": [
        {
          "output_type": "execute_result",
          "data": {
            "text/plain": [
              "(9125, 15, 9, 1)"
            ]
          },
          "metadata": {},
          "execution_count": 18
        }
      ]
    },
    {
      "cell_type": "code",
      "source": [
        "data = data[::2]"
      ],
      "metadata": {
        "id": "wtMXJkGs9wHL"
      },
      "id": "wtMXJkGs9wHL",
      "execution_count": 19,
      "outputs": []
    },
    {
      "cell_type": "code",
      "source": [
        "data.shape"
      ],
      "metadata": {
        "colab": {
          "base_uri": "https://localhost:8080/"
        },
        "id": "xhmoEtur99zF",
        "outputId": "b768d87b-3aca-4f5a-aa35-1e895c6a3f2d"
      },
      "id": "xhmoEtur99zF",
      "execution_count": 20,
      "outputs": [
        {
          "output_type": "execute_result",
          "data": {
            "text/plain": [
              "(4563, 15, 9, 1)"
            ]
          },
          "metadata": {},
          "execution_count": 20
        }
      ]
    },
    {
      "cell_type": "code",
      "source": [
        "# 数据集划分\n",
        "def create_dataset(data, look_back=91, forward=26):\n",
        "  x = []\n",
        "  y = []\n",
        "  for i in range(0,data.shape[0]-(look_back+forward)+1,forward):\n",
        "    x.append(data[i:i+look_back,:,:,:])\n",
        "    y.append(data[i+look_back:i+look_back+forward,:,:,:])\n",
        "  return (np.array(x), np.array(y))\n"
      ],
      "metadata": {
        "id": "CD4XBCt8oKXO"
      },
      "id": "CD4XBCt8oKXO",
      "execution_count": 21,
      "outputs": []
    },
    {
      "cell_type": "code",
      "source": [
        "a,b = create_dataset(data)"
      ],
      "metadata": {
        "id": "wxb8PyVdKsvV"
      },
      "id": "wxb8PyVdKsvV",
      "execution_count": 22,
      "outputs": []
    },
    {
      "cell_type": "code",
      "source": [
        "a.shape,b.shape"
      ],
      "metadata": {
        "colab": {
          "base_uri": "https://localhost:8080/"
        },
        "id": "Co_VZj-ELxn_",
        "outputId": "7537b4df-d419-4ac5-e8cf-55eceaf7b4ed"
      },
      "id": "Co_VZj-ELxn_",
      "execution_count": 23,
      "outputs": [
        {
          "output_type": "execute_result",
          "data": {
            "text/plain": [
              "((172, 91, 15, 9, 1), (172, 26, 15, 9, 1))"
            ]
          },
          "metadata": {},
          "execution_count": 23
        }
      ]
    },
    {
      "cell_type": "code",
      "execution_count": 24,
      "id": "ca5e489f",
      "metadata": {
        "ExecuteTime": {
          "end_time": "2022-10-05T09:08:25.212853Z",
          "start_time": "2022-10-05T09:08:25.197229Z"
        },
        "id": "ca5e489f",
        "colab": {
          "base_uri": "https://localhost:8080/"
        },
        "outputId": "1484b2ba-0843-4b6c-f848-dc620386e806"
      },
      "outputs": [
        {
          "output_type": "execute_result",
          "data": {
            "text/plain": [
              "138"
            ]
          },
          "metadata": {},
          "execution_count": 24
        }
      ],
      "source": [
        "# len(df)为df多少行\n",
        "pot = round(0.8 * a.shape[0])\n",
        "pot"
      ]
    },
    {
      "cell_type": "code",
      "execution_count": 25,
      "id": "8e371375",
      "metadata": {
        "ExecuteTime": {
          "end_time": "2022-10-05T09:08:25.587764Z",
          "start_time": "2022-10-05T09:08:25.572143Z"
        },
        "id": "8e371375"
      },
      "outputs": [],
      "source": [
        "x_train, y_train = a[:pot],b[:pot]\n",
        "x_test, y_test = a[pot:],b[pot:]\n",
        "# y_train = np.expand_dims(y_train, 1)\n",
        "# y_test = np.expand_dims(y_test, 1)"
      ]
    },
    {
      "cell_type": "code",
      "source": [
        "x_train.shape, x_test.shape,y_test.shape"
      ],
      "metadata": {
        "colab": {
          "base_uri": "https://localhost:8080/"
        },
        "id": "jisy-reTtHOf",
        "outputId": "827ff597-2071-421e-d527-a96db3879e8e"
      },
      "id": "jisy-reTtHOf",
      "execution_count": 26,
      "outputs": [
        {
          "output_type": "execute_result",
          "data": {
            "text/plain": [
              "((138, 91, 15, 9, 1), (34, 91, 15, 9, 1), (34, 26, 15, 9, 1))"
            ]
          },
          "metadata": {},
          "execution_count": 26
        }
      ]
    },
    {
      "cell_type": "markdown",
      "id": "046c7cee",
      "metadata": {
        "id": "046c7cee"
      },
      "source": [
        "### LearningRateScheduler调整学习率"
      ]
    },
    {
      "cell_type": "code",
      "execution_count": 27,
      "id": "05667918",
      "metadata": {
        "ExecuteTime": {
          "end_time": "2022-10-05T09:08:33.804680Z",
          "start_time": "2022-10-05T09:08:32.289305Z"
        },
        "id": "05667918"
      },
      "outputs": [],
      "source": [
        "from tensorflow.keras import backend as K\n",
        "from tensorflow.keras.callbacks import EarlyStopping, LearningRateScheduler"
      ]
    },
    {
      "cell_type": "code",
      "execution_count": 29,
      "id": "ddafc547",
      "metadata": {
        "ExecuteTime": {
          "end_time": "2022-10-05T09:08:34.538789Z",
          "start_time": "2022-10-05T09:08:34.523255Z"
        },
        "id": "ddafc547"
      },
      "outputs": [],
      "source": [
        "def scheduler(epoch):\n",
        "    if epoch % 40 ==0 and epoch != 0 :\n",
        "        lr = K.get_value(tcn.optimizer.lr)\n",
        "        if lr > 1e-5:\n",
        "            K.set_value(tcn.optimizer.lr, lr *0.5)\n",
        "            print('lr changed to {}'.format(lr * 0.5))\n",
        "    return K.get_value(tcn.optimizer.lr)"
      ]
    },
    {
      "cell_type": "code",
      "execution_count": 30,
      "id": "2649ac73",
      "metadata": {
        "ExecuteTime": {
          "end_time": "2022-10-05T09:08:35.741715Z",
          "start_time": "2022-10-05T09:08:35.725991Z"
        },
        "id": "2649ac73"
      },
      "outputs": [],
      "source": [
        "reduce_lr = LearningRateScheduler(scheduler)\n",
        "early_stopping = EarlyStopping(monitor='loss', \n",
        "                               patience=20, \n",
        "                               min_delta=1e-5,\n",
        "                               mode='auto',\n",
        "                               restore_best_weights=False,#是否从具有监测数量的最佳值的时期恢复模型权重\n",
        "                               verbose=2)"
      ]
    },
    {
      "cell_type": "code",
      "execution_count": 31,
      "id": "000793c6",
      "metadata": {
        "ExecuteTime": {
          "end_time": "2022-10-05T09:08:36.757098Z",
          "start_time": "2022-10-05T09:08:36.725785Z"
        },
        "id": "000793c6"
      },
      "outputs": [],
      "source": [
        "import tensorflow as tf\n",
        "from tensorflow.keras.layers import ConvLSTM2D,Conv2D,Conv3D,BatchNormalization,Flatten,RepeatVector,Reshape\n",
        "from tensorflow.keras import Input, Model, Sequential\n",
        "from sklearn.metrics import mean_squared_error"
      ]
    },
    {
      "cell_type": "code",
      "execution_count": 32,
      "id": "5797cf77",
      "metadata": {
        "ExecuteTime": {
          "end_time": "2022-10-05T09:08:38.038011Z",
          "start_time": "2022-10-05T09:08:38.022411Z"
        },
        "id": "5797cf77"
      },
      "outputs": [],
      "source": [
        "# 自定义损失函数\n",
        "def my_metric_fn(y_true, y_pred):\n",
        "    SS_res =  K.sum(K.square( y_true-y_pred )) \n",
        "    SS_tot = K.sum(K.square( y_true - K.mean(y_true) ) ) \n",
        "    return ( 1 - SS_res/(SS_tot + K.epsilon()) )\n",
        "def root_mean_squared_error(y_true, y_pred):\n",
        "        return K.sqrt(K.mean(K.square(y_pred - y_true)))\n",
        "# Loss function\n",
        "def ssim_loss(y_true, y_pred):\n",
        "    return 1 - tf.reduce_mean(tf.image.ssim(y_true, y_pred, 1.0, filter_size=3))"
      ]
    },
    {
      "cell_type": "code",
      "execution_count": 33,
      "id": "bcf4bfa4",
      "metadata": {
        "ExecuteTime": {
          "end_time": "2022-10-05T09:42:37.867903Z",
          "start_time": "2022-10-05T09:42:36.961797Z"
        },
        "code_folding": [],
        "id": "bcf4bfa4",
        "colab": {
          "base_uri": "https://localhost:8080/"
        },
        "outputId": "899026e4-39e9-4ef0-96a9-11e9af624a52"
      },
      "outputs": [
        {
          "output_type": "stream",
          "name": "stdout",
          "text": [
            "Model: \"sequential\"\n",
            "_________________________________________________________________\n",
            " Layer (type)                Output Shape              Param #   \n",
            "=================================================================\n",
            " conv_lstm2d (ConvLSTM2D)    (None, 91, 15, 9, 32)     38144     \n",
            "                                                                 \n",
            " batch_normalization (BatchN  (None, 91, 15, 9, 32)    128       \n",
            " ormalization)                                                   \n",
            "                                                                 \n",
            " conv_lstm2d_1 (ConvLSTM2D)  (None, 91, 15, 9, 32)     32896     \n",
            "                                                                 \n",
            " batch_normalization_1 (Batc  (None, 91, 15, 9, 32)    128       \n",
            " hNormalization)                                                 \n",
            "                                                                 \n",
            " conv_lstm2d_2 (ConvLSTM2D)  (None, 91, 15, 9, 32)     32896     \n",
            "                                                                 \n",
            " batch_normalization_2 (Batc  (None, 91, 15, 9, 32)    128       \n",
            " hNormalization)                                                 \n",
            "                                                                 \n",
            " conv_lstm2d_3 (ConvLSTM2D)  (None, 15, 9, 32)         32896     \n",
            "                                                                 \n",
            " batch_normalization_3 (Batc  (None, 15, 9, 32)        128       \n",
            " hNormalization)                                                 \n",
            "                                                                 \n",
            " flatten (Flatten)           (None, 4320)              0         \n",
            "                                                                 \n",
            " repeat_vector (RepeatVector  (None, 26, 4320)         0         \n",
            " )                                                               \n",
            "                                                                 \n",
            " reshape (Reshape)           (None, 26, 15, 9, 32)     0         \n",
            "                                                                 \n",
            " conv_lstm2d_4 (ConvLSTM2D)  (None, 26, 15, 9, 32)     32896     \n",
            "                                                                 \n",
            " batch_normalization_4 (Batc  (None, 26, 15, 9, 32)    128       \n",
            " hNormalization)                                                 \n",
            "                                                                 \n",
            " conv_lstm2d_5 (ConvLSTM2D)  (None, 26, 15, 9, 32)     32896     \n",
            "                                                                 \n",
            " batch_normalization_5 (Batc  (None, 26, 15, 9, 32)    128       \n",
            " hNormalization)                                                 \n",
            "                                                                 \n",
            " conv3d (Conv3D)             (None, 26, 15, 9, 1)      865       \n",
            "                                                                 \n",
            "=================================================================\n",
            "Total params: 204,257\n",
            "Trainable params: 203,873\n",
            "Non-trainable params: 384\n",
            "_________________________________________________________________\n"
          ]
        }
      ],
      "source": [
        "#输入维数\n",
        "tcn = Sequential()\n",
        "input_layer =Input(shape=(x_train.shape[1:]))\n",
        "tcn.add(input_layer)\n",
        "tcn.add(\n",
        "    ConvLSTM2D(\n",
        "        filters=32,\n",
        "        kernel_size=(3,3),\n",
        "        padding='same',\n",
        "        return_sequences=True\n",
        "    )\n",
        ")\n",
        "tcn.add(BatchNormalization())\n",
        "# tcn.add(LayerNormalization())\n",
        "tcn.add(\n",
        "    ConvLSTM2D(\n",
        "        filters=32,\n",
        "        kernel_size=(2,2),\n",
        "        padding='same',\n",
        "        return_sequences=True\n",
        "    )\n",
        ")\n",
        "tcn.add(BatchNormalization())\n",
        "# tcn.add(LayerNormalization())\n",
        "tcn.add(\n",
        "    ConvLSTM2D(\n",
        "        filters=32,\n",
        "        kernel_size=(2,2),\n",
        "        padding='same',\n",
        "        return_sequences=True\n",
        "    )\n",
        ")\n",
        "tcn.add(BatchNormalization())\n",
        "# tcn.add(LayerNormalization())\n",
        "tcn.add(\n",
        "    ConvLSTM2D(\n",
        "        filters=32,\n",
        "        kernel_size=(2,2),\n",
        "        padding='same',\n",
        "        return_sequences=False\n",
        "    )\n",
        ")\n",
        "tcn.add(BatchNormalization())\n",
        "# ###############################\n",
        "tcn.add(Flatten())\n",
        "tcn.add(RepeatVector(13*2))\n",
        "tcn.add(Reshape((13*2,15,9,32)))\n",
        "tcn.add(\n",
        "    ConvLSTM2D(\n",
        "        filters=32,\n",
        "        kernel_size=(2,2),\n",
        "        padding='same',\n",
        "        return_sequences=True\n",
        "    )\n",
        ")\n",
        "tcn.add(BatchNormalization())\n",
        "tcn.add(\n",
        "    ConvLSTM2D(\n",
        "        filters=32,\n",
        "        kernel_size=(2,2),\n",
        "        padding='same',\n",
        "        return_sequences=True\n",
        "    )\n",
        ")\n",
        "tcn.add(BatchNormalization())\n",
        "# tcn.add(LayerNormalization())\n",
        "tcn.add(Conv3D(filters=1, kernel_size=(3,3,3),activation=\"linear\", padding=\"same\"))\n",
        "tcn.compile(tf.keras.optimizers.Adam(learning_rate=0.01), loss=root_mean_squared_error)# RMSE\n",
        "tcn.summary()"
      ]
    },
    {
      "cell_type": "code",
      "execution_count": 35,
      "id": "5ffc345f",
      "metadata": {
        "ExecuteTime": {
          "end_time": "2022-10-05T09:53:01.829540Z",
          "start_time": "2022-10-05T09:43:43.992822Z"
        },
        "scrolled": true,
        "id": "5ffc345f",
        "colab": {
          "base_uri": "https://localhost:8080/"
        },
        "outputId": "90838a14-bed8-477d-a6e5-c24ee10156d4"
      },
      "outputs": [
        {
          "output_type": "stream",
          "name": "stdout",
          "text": [
            "Epoch 1/121\n",
            "3/3 [==============================] - 7s 2s/step - loss: 3.0372 - val_loss: 3.8440 - lr: 0.0012\n",
            "Epoch 2/121\n",
            "3/3 [==============================] - 7s 2s/step - loss: 2.9601 - val_loss: 3.6012 - lr: 0.0012\n",
            "Epoch 3/121\n",
            "3/3 [==============================] - 7s 2s/step - loss: 3.0137 - val_loss: 3.3866 - lr: 0.0012\n",
            "Epoch 4/121\n",
            "3/3 [==============================] - 7s 2s/step - loss: 3.0033 - val_loss: 3.4266 - lr: 0.0012\n",
            "Epoch 5/121\n",
            "3/3 [==============================] - 7s 2s/step - loss: 2.9659 - val_loss: 3.4122 - lr: 0.0012\n",
            "Epoch 6/121\n",
            "3/3 [==============================] - 7s 2s/step - loss: 2.9686 - val_loss: 3.2925 - lr: 0.0012\n",
            "Epoch 7/121\n",
            "3/3 [==============================] - 9s 3s/step - loss: 2.9460 - val_loss: 3.4238 - lr: 0.0012\n",
            "Epoch 8/121\n",
            "3/3 [==============================] - 7s 2s/step - loss: 2.8694 - val_loss: 3.3929 - lr: 0.0012\n",
            "Epoch 9/121\n",
            "3/3 [==============================] - 7s 2s/step - loss: 2.8590 - val_loss: 3.8871 - lr: 0.0012\n",
            "Epoch 10/121\n",
            "3/3 [==============================] - 7s 2s/step - loss: 2.9472 - val_loss: 3.6344 - lr: 0.0012\n",
            "Epoch 11/121\n",
            "3/3 [==============================] - 7s 2s/step - loss: 2.8533 - val_loss: 3.5327 - lr: 0.0012\n",
            "Epoch 12/121\n",
            "3/3 [==============================] - 7s 2s/step - loss: 2.7603 - val_loss: 3.2973 - lr: 0.0012\n",
            "Epoch 13/121\n",
            "3/3 [==============================] - 7s 2s/step - loss: 2.7084 - val_loss: 3.5586 - lr: 0.0012\n",
            "Epoch 14/121\n",
            "3/3 [==============================] - 7s 2s/step - loss: 2.6836 - val_loss: 3.1194 - lr: 0.0012\n",
            "Epoch 15/121\n",
            "3/3 [==============================] - 7s 2s/step - loss: 2.6574 - val_loss: 3.0680 - lr: 0.0012\n",
            "Epoch 16/121\n",
            "3/3 [==============================] - 9s 3s/step - loss: 2.6857 - val_loss: 3.0019 - lr: 0.0012\n",
            "Epoch 17/121\n",
            "3/3 [==============================] - 7s 2s/step - loss: 2.6419 - val_loss: 2.8860 - lr: 0.0012\n",
            "Epoch 18/121\n",
            "3/3 [==============================] - 7s 2s/step - loss: 2.6291 - val_loss: 2.8795 - lr: 0.0012\n",
            "Epoch 19/121\n",
            "3/3 [==============================] - 7s 2s/step - loss: 2.5778 - val_loss: 2.9805 - lr: 0.0012\n",
            "Epoch 20/121\n",
            "3/3 [==============================] - 7s 2s/step - loss: 2.5852 - val_loss: 2.7951 - lr: 0.0012\n",
            "Epoch 21/121\n",
            "3/3 [==============================] - 7s 2s/step - loss: 2.5755 - val_loss: 2.8844 - lr: 0.0012\n",
            "Epoch 22/121\n",
            "3/3 [==============================] - 7s 2s/step - loss: 2.5903 - val_loss: 3.0162 - lr: 0.0012\n",
            "Epoch 23/121\n",
            "3/3 [==============================] - 7s 2s/step - loss: 2.6112 - val_loss: 3.0197 - lr: 0.0012\n",
            "Epoch 24/121\n",
            "3/3 [==============================] - 8s 3s/step - loss: 2.6008 - val_loss: 3.0347 - lr: 0.0012\n",
            "Epoch 25/121\n",
            "3/3 [==============================] - 8s 3s/step - loss: 2.6129 - val_loss: 2.9451 - lr: 0.0012\n",
            "Epoch 26/121\n",
            "3/3 [==============================] - 7s 2s/step - loss: 2.5609 - val_loss: 2.9654 - lr: 0.0012\n",
            "Epoch 27/121\n",
            "3/3 [==============================] - 7s 2s/step - loss: 2.6122 - val_loss: 2.8279 - lr: 0.0012\n",
            "Epoch 28/121\n",
            "3/3 [==============================] - 7s 2s/step - loss: 2.5316 - val_loss: 2.8310 - lr: 0.0012\n",
            "Epoch 29/121\n",
            "3/3 [==============================] - 7s 2s/step - loss: 2.5774 - val_loss: 2.7756 - lr: 0.0012\n",
            "Epoch 30/121\n",
            "3/3 [==============================] - 7s 2s/step - loss: 2.5285 - val_loss: 2.7736 - lr: 0.0012\n",
            "Epoch 31/121\n",
            "3/3 [==============================] - 7s 2s/step - loss: 2.5348 - val_loss: 2.7744 - lr: 0.0012\n",
            "Epoch 32/121\n",
            "3/3 [==============================] - 7s 2s/step - loss: 2.6232 - val_loss: 2.7481 - lr: 0.0012\n",
            "Epoch 33/121\n",
            "3/3 [==============================] - 9s 3s/step - loss: 2.5422 - val_loss: 2.8019 - lr: 0.0012\n",
            "Epoch 34/121\n",
            "3/3 [==============================] - 7s 2s/step - loss: 2.5660 - val_loss: 2.7817 - lr: 0.0012\n",
            "Epoch 35/121\n",
            "3/3 [==============================] - 7s 2s/step - loss: 2.4959 - val_loss: 2.7534 - lr: 0.0012\n",
            "Epoch 36/121\n",
            "3/3 [==============================] - 7s 2s/step - loss: 2.4978 - val_loss: 3.0031 - lr: 0.0012\n",
            "Epoch 37/121\n",
            "3/3 [==============================] - 7s 2s/step - loss: 2.5799 - val_loss: 2.9215 - lr: 0.0012\n",
            "Epoch 38/121\n",
            "3/3 [==============================] - 7s 2s/step - loss: 2.5759 - val_loss: 3.1688 - lr: 0.0012\n",
            "Epoch 39/121\n",
            "3/3 [==============================] - 7s 2s/step - loss: 2.5852 - val_loss: 3.1488 - lr: 0.0012\n",
            "Epoch 40/121\n",
            "3/3 [==============================] - 7s 2s/step - loss: 2.5659 - val_loss: 2.8104 - lr: 0.0012\n",
            "lr changed to 0.0006249999860301614\n",
            "Epoch 41/121\n",
            "3/3 [==============================] - 7s 2s/step - loss: 2.4520 - val_loss: 2.7384 - lr: 6.2500e-04\n",
            "Epoch 42/121\n",
            "3/3 [==============================] - 9s 3s/step - loss: 2.3748 - val_loss: 2.7380 - lr: 6.2500e-04\n",
            "Epoch 43/121\n",
            "3/3 [==============================] - 7s 2s/step - loss: 2.3816 - val_loss: 2.7062 - lr: 6.2500e-04\n",
            "Epoch 44/121\n",
            "3/3 [==============================] - 7s 2s/step - loss: 2.3649 - val_loss: 2.5842 - lr: 6.2500e-04\n",
            "Epoch 45/121\n",
            "3/3 [==============================] - 7s 2s/step - loss: 2.3614 - val_loss: 2.6732 - lr: 6.2500e-04\n",
            "Epoch 46/121\n",
            "3/3 [==============================] - 7s 2s/step - loss: 2.3699 - val_loss: 2.6628 - lr: 6.2500e-04\n",
            "Epoch 47/121\n",
            "3/3 [==============================] - 7s 2s/step - loss: 2.3336 - val_loss: 2.5708 - lr: 6.2500e-04\n",
            "Epoch 48/121\n",
            "3/3 [==============================] - 7s 2s/step - loss: 2.3243 - val_loss: 2.5686 - lr: 6.2500e-04\n",
            "Epoch 49/121\n",
            "3/3 [==============================] - 7s 2s/step - loss: 2.2967 - val_loss: 2.5205 - lr: 6.2500e-04\n",
            "Epoch 50/121\n",
            "3/3 [==============================] - 9s 3s/step - loss: 2.3383 - val_loss: 2.5160 - lr: 6.2500e-04\n",
            "Epoch 51/121\n",
            "3/3 [==============================] - 7s 2s/step - loss: 2.3256 - val_loss: 2.4843 - lr: 6.2500e-04\n",
            "Epoch 52/121\n",
            "3/3 [==============================] - 7s 2s/step - loss: 2.3157 - val_loss: 2.4815 - lr: 6.2500e-04\n",
            "Epoch 53/121\n",
            "3/3 [==============================] - 7s 2s/step - loss: 2.2948 - val_loss: 2.4700 - lr: 6.2500e-04\n",
            "Epoch 54/121\n",
            "3/3 [==============================] - 7s 2s/step - loss: 2.2794 - val_loss: 2.4584 - lr: 6.2500e-04\n",
            "Epoch 55/121\n",
            "3/3 [==============================] - 7s 2s/step - loss: 2.2785 - val_loss: 2.4303 - lr: 6.2500e-04\n",
            "Epoch 56/121\n",
            "3/3 [==============================] - 7s 2s/step - loss: 2.2681 - val_loss: 2.4745 - lr: 6.2500e-04\n",
            "Epoch 57/121\n",
            "3/3 [==============================] - 7s 2s/step - loss: 2.3023 - val_loss: 2.4514 - lr: 6.2500e-04\n",
            "Epoch 58/121\n",
            "3/3 [==============================] - 7s 2s/step - loss: 2.2740 - val_loss: 2.3648 - lr: 6.2500e-04\n",
            "Epoch 59/121\n",
            "3/3 [==============================] - 9s 3s/step - loss: 2.3183 - val_loss: 2.3366 - lr: 6.2500e-04\n",
            "Epoch 60/121\n",
            "3/3 [==============================] - 7s 2s/step - loss: 2.2720 - val_loss: 2.3569 - lr: 6.2500e-04\n",
            "Epoch 61/121\n",
            "3/3 [==============================] - 7s 2s/step - loss: 2.2958 - val_loss: 2.2858 - lr: 6.2500e-04\n",
            "Epoch 62/121\n",
            "3/3 [==============================] - 7s 2s/step - loss: 2.2899 - val_loss: 2.2932 - lr: 6.2500e-04\n",
            "Epoch 63/121\n",
            "3/3 [==============================] - 7s 2s/step - loss: 2.2785 - val_loss: 2.3349 - lr: 6.2500e-04\n",
            "Epoch 64/121\n",
            "3/3 [==============================] - 7s 2s/step - loss: 2.2791 - val_loss: 2.3013 - lr: 6.2500e-04\n",
            "Epoch 65/121\n",
            "3/3 [==============================] - 7s 2s/step - loss: 2.2704 - val_loss: 2.2599 - lr: 6.2500e-04\n",
            "Epoch 66/121\n",
            "3/3 [==============================] - 7s 2s/step - loss: 2.2635 - val_loss: 2.3283 - lr: 6.2500e-04\n",
            "Epoch 67/121\n",
            "3/3 [==============================] - 7s 2s/step - loss: 2.2786 - val_loss: 2.3251 - lr: 6.2500e-04\n",
            "Epoch 68/121\n",
            "3/3 [==============================] - 9s 3s/step - loss: 2.2434 - val_loss: 2.2904 - lr: 6.2500e-04\n",
            "Epoch 69/121\n",
            "3/3 [==============================] - 7s 2s/step - loss: 2.2534 - val_loss: 2.3459 - lr: 6.2500e-04\n",
            "Epoch 70/121\n",
            "3/3 [==============================] - 7s 2s/step - loss: 2.2832 - val_loss: 2.3100 - lr: 6.2500e-04\n",
            "Epoch 71/121\n",
            "3/3 [==============================] - 7s 2s/step - loss: 2.2742 - val_loss: 2.2686 - lr: 6.2500e-04\n",
            "Epoch 72/121\n",
            "3/3 [==============================] - 7s 2s/step - loss: 2.2321 - val_loss: 2.3318 - lr: 6.2500e-04\n",
            "Epoch 73/121\n",
            "3/3 [==============================] - 7s 2s/step - loss: 2.2525 - val_loss: 2.3023 - lr: 6.2500e-04\n",
            "Epoch 74/121\n",
            "3/3 [==============================] - 7s 2s/step - loss: 2.2674 - val_loss: 2.2459 - lr: 6.2500e-04\n",
            "Epoch 75/121\n",
            "3/3 [==============================] - 7s 2s/step - loss: 2.2348 - val_loss: 2.2764 - lr: 6.2500e-04\n",
            "Epoch 76/121\n",
            "3/3 [==============================] - 9s 3s/step - loss: 2.2394 - val_loss: 2.2637 - lr: 6.2500e-04\n",
            "Epoch 77/121\n",
            "3/3 [==============================] - 7s 2s/step - loss: 2.2320 - val_loss: 2.3012 - lr: 6.2500e-04\n",
            "Epoch 78/121\n",
            "3/3 [==============================] - 7s 2s/step - loss: 2.2070 - val_loss: 2.3177 - lr: 6.2500e-04\n",
            "Epoch 79/121\n",
            "3/3 [==============================] - 7s 2s/step - loss: 2.2187 - val_loss: 2.3523 - lr: 6.2500e-04\n",
            "Epoch 80/121\n",
            "3/3 [==============================] - 7s 2s/step - loss: 2.2170 - val_loss: 2.4294 - lr: 6.2500e-04\n",
            "lr changed to 0.0003124999930150807\n",
            "Epoch 81/121\n",
            "3/3 [==============================] - 7s 2s/step - loss: 2.2077 - val_loss: 2.3554 - lr: 3.1250e-04\n",
            "Epoch 82/121\n",
            "3/3 [==============================] - 7s 2s/step - loss: 2.1876 - val_loss: 2.2468 - lr: 3.1250e-04\n",
            "Epoch 83/121\n",
            "3/3 [==============================] - 7s 3s/step - loss: 2.1732 - val_loss: 2.2058 - lr: 3.1250e-04\n",
            "Epoch 84/121\n",
            "3/3 [==============================] - 7s 2s/step - loss: 2.1751 - val_loss: 2.1806 - lr: 3.1250e-04\n",
            "Epoch 85/121\n",
            "3/3 [==============================] - 9s 3s/step - loss: 2.1533 - val_loss: 2.1840 - lr: 3.1250e-04\n",
            "Epoch 86/121\n",
            "3/3 [==============================] - 7s 2s/step - loss: 2.1616 - val_loss: 2.1873 - lr: 3.1250e-04\n",
            "Epoch 87/121\n",
            "3/3 [==============================] - 7s 2s/step - loss: 2.1480 - val_loss: 2.1939 - lr: 3.1250e-04\n",
            "Epoch 88/121\n",
            "3/3 [==============================] - 7s 2s/step - loss: 2.1674 - val_loss: 2.2114 - lr: 3.1250e-04\n",
            "Epoch 89/121\n",
            "3/3 [==============================] - 7s 2s/step - loss: 2.1440 - val_loss: 2.2347 - lr: 3.1250e-04\n",
            "Epoch 90/121\n",
            "3/3 [==============================] - 7s 2s/step - loss: 2.1467 - val_loss: 2.2071 - lr: 3.1250e-04\n",
            "Epoch 91/121\n",
            "3/3 [==============================] - 7s 2s/step - loss: 2.1440 - val_loss: 2.1810 - lr: 3.1250e-04\n",
            "Epoch 92/121\n",
            "3/3 [==============================] - 7s 2s/step - loss: 2.1391 - val_loss: 2.1827 - lr: 3.1250e-04\n",
            "Epoch 93/121\n",
            "3/3 [==============================] - 7s 3s/step - loss: 2.1422 - val_loss: 2.2101 - lr: 3.1250e-04\n",
            "Epoch 94/121\n",
            "3/3 [==============================] - 8s 2s/step - loss: 2.1628 - val_loss: 2.2048 - lr: 3.1250e-04\n",
            "Epoch 95/121\n",
            "3/3 [==============================] - 7s 2s/step - loss: 2.1556 - val_loss: 2.2037 - lr: 3.1250e-04\n",
            "Epoch 96/121\n",
            "3/3 [==============================] - 7s 2s/step - loss: 2.1369 - val_loss: 2.1962 - lr: 3.1250e-04\n",
            "Epoch 97/121\n",
            "3/3 [==============================] - 7s 2s/step - loss: 2.1329 - val_loss: 2.1878 - lr: 3.1250e-04\n",
            "Epoch 98/121\n",
            "3/3 [==============================] - 7s 2s/step - loss: 2.1404 - val_loss: 2.1668 - lr: 3.1250e-04\n",
            "Epoch 99/121\n",
            "3/3 [==============================] - 7s 2s/step - loss: 2.1221 - val_loss: 2.1791 - lr: 3.1250e-04\n",
            "Epoch 100/121\n",
            "3/3 [==============================] - 7s 2s/step - loss: 2.1318 - val_loss: 2.1996 - lr: 3.1250e-04\n",
            "Epoch 101/121\n",
            "3/3 [==============================] - 7s 2s/step - loss: 2.1433 - val_loss: 2.1979 - lr: 3.1250e-04\n",
            "Epoch 102/121\n",
            "3/3 [==============================] - 9s 3s/step - loss: 2.1277 - val_loss: 2.1789 - lr: 3.1250e-04\n",
            "Epoch 103/121\n",
            "3/3 [==============================] - 7s 2s/step - loss: 2.1158 - val_loss: 2.1722 - lr: 3.1250e-04\n",
            "Epoch 104/121\n",
            "3/3 [==============================] - 7s 2s/step - loss: 2.1117 - val_loss: 2.1764 - lr: 3.1250e-04\n",
            "Epoch 105/121\n",
            "3/3 [==============================] - 7s 2s/step - loss: 2.1190 - val_loss: 2.1730 - lr: 3.1250e-04\n",
            "Epoch 106/121\n",
            "3/3 [==============================] - 7s 2s/step - loss: 2.1551 - val_loss: 2.1531 - lr: 3.1250e-04\n",
            "Epoch 107/121\n",
            "3/3 [==============================] - 7s 2s/step - loss: 2.1177 - val_loss: 2.1540 - lr: 3.1250e-04\n",
            "Epoch 108/121\n",
            "3/3 [==============================] - 7s 2s/step - loss: 2.1251 - val_loss: 2.1475 - lr: 3.1250e-04\n",
            "Epoch 109/121\n",
            "3/3 [==============================] - 7s 2s/step - loss: 2.1035 - val_loss: 2.1775 - lr: 3.1250e-04\n",
            "Epoch 110/121\n",
            "3/3 [==============================] - 8s 3s/step - loss: 2.1328 - val_loss: 2.1622 - lr: 3.1250e-04\n",
            "Epoch 111/121\n",
            "3/3 [==============================] - 7s 2s/step - loss: 2.1160 - val_loss: 2.1377 - lr: 3.1250e-04\n",
            "Epoch 112/121\n",
            "3/3 [==============================] - 7s 2s/step - loss: 2.1121 - val_loss: 2.1351 - lr: 3.1250e-04\n",
            "Epoch 113/121\n",
            "3/3 [==============================] - 7s 2s/step - loss: 2.1083 - val_loss: 2.1454 - lr: 3.1250e-04\n",
            "Epoch 114/121\n",
            "3/3 [==============================] - 7s 2s/step - loss: 2.1008 - val_loss: 2.1622 - lr: 3.1250e-04\n",
            "Epoch 115/121\n",
            "3/3 [==============================] - 7s 2s/step - loss: 2.0995 - val_loss: 2.1468 - lr: 3.1250e-04\n",
            "Epoch 116/121\n",
            "3/3 [==============================] - 7s 2s/step - loss: 2.1066 - val_loss: 2.1330 - lr: 3.1250e-04\n",
            "Epoch 117/121\n",
            "3/3 [==============================] - 7s 2s/step - loss: 2.0988 - val_loss: 2.1639 - lr: 3.1250e-04\n",
            "Epoch 118/121\n",
            "3/3 [==============================] - 7s 2s/step - loss: 2.1164 - val_loss: 2.1603 - lr: 3.1250e-04\n",
            "Epoch 119/121\n",
            "3/3 [==============================] - 9s 3s/step - loss: 2.0891 - val_loss: 2.1406 - lr: 3.1250e-04\n",
            "Epoch 120/121\n",
            "3/3 [==============================] - 7s 2s/step - loss: 2.0731 - val_loss: 2.1580 - lr: 3.1250e-04\n",
            "lr changed to 0.00015624999650754035\n",
            "Epoch 121/121\n",
            "3/3 [==============================] - 7s 2s/step - loss: 2.0807 - val_loss: 2.1591 - lr: 1.5625e-04\n"
          ]
        }
      ],
      "source": [
        "history=tcn.fit(x_train,y_train, \n",
        "        epochs=121, batch_size=64,validation_data=[x_test, y_test], callbacks=[reduce_lr])\n"
      ]
    },
    {
      "cell_type": "code",
      "execution_count": null,
      "id": "8a3a3b00",
      "metadata": {
        "ExecuteTime": {
          "end_time": "2022-10-05T09:53:25.495903Z",
          "start_time": "2022-10-05T09:53:25.464641Z"
        },
        "id": "8a3a3b00"
      },
      "outputs": [],
      "source": [
        "# history.history.keys() #查看history中存储了哪些参数"
      ]
    },
    {
      "cell_type": "code",
      "execution_count": null,
      "id": "d1add196",
      "metadata": {
        "ExecuteTime": {
          "end_time": "2022-10-05T09:53:26.089534Z",
          "start_time": "2022-10-05T09:53:26.073834Z"
        },
        "id": "d1add196"
      },
      "outputs": [],
      "source": [
        "# plt.plot(history.epoch,history.history.get('my_metric_fn')[:]) #画出随着epoch增大loss的变化图\n",
        "#plt.plot(history.epoch,history.history.get('acc'))#画出随着epoch增大准确率的变化图"
      ]
    },
    {
      "cell_type": "code",
      "execution_count": null,
      "id": "09ae9e4f",
      "metadata": {
        "ExecuteTime": {
          "end_time": "2022-10-05T09:53:26.698759Z",
          "start_time": "2022-10-05T09:53:26.683072Z"
        },
        "id": "09ae9e4f"
      },
      "outputs": [],
      "source": [
        "# plt.plot(history.epoch, history.history.get('lr'))"
      ]
    },
    {
      "cell_type": "code",
      "source": [
        "# from tensorflow.keras.models import load_model\n",
        "# tcn = load_model('/content/7d2d.h5',custom_objects={'root_mean_squared_error':root_mean_squared_error})"
      ],
      "metadata": {
        "id": "_S-8dNK1jAEK"
      },
      "id": "_S-8dNK1jAEK",
      "execution_count": null,
      "outputs": []
    },
    {
      "cell_type": "code",
      "execution_count": 36,
      "id": "c3dbeafd",
      "metadata": {
        "ExecuteTime": {
          "end_time": "2022-10-05T09:53:34.478062Z",
          "start_time": "2022-10-05T09:53:28.588829Z"
        },
        "id": "c3dbeafd",
        "colab": {
          "base_uri": "https://localhost:8080/"
        },
        "outputId": "63dfb309-0dd0-489c-9183-bd3630bc206d"
      },
      "outputs": [
        {
          "output_type": "stream",
          "name": "stdout",
          "text": [
            "2/2 [==============================] - 1s 279ms/step - loss: 2.1573\n"
          ]
        },
        {
          "output_type": "execute_result",
          "data": {
            "text/plain": [
              "2.1572768688201904"
            ]
          },
          "metadata": {},
          "execution_count": 36
        }
      ],
      "source": [
        "tcn.evaluate(x_test, y_test)"
      ]
    },
    {
      "cell_type": "code",
      "execution_count": 37,
      "id": "4662e638",
      "metadata": {
        "ExecuteTime": {
          "end_time": "2022-10-05T09:53:43.600937Z",
          "start_time": "2022-10-05T09:53:38.945794Z"
        },
        "id": "4662e638",
        "colab": {
          "base_uri": "https://localhost:8080/"
        },
        "outputId": "a9a1fd99-5ed4-47ff-ba45-de4a7b1f83dc"
      },
      "outputs": [
        {
          "output_type": "stream",
          "name": "stdout",
          "text": [
            "2/2 [==============================] - 2s 227ms/step\n"
          ]
        }
      ],
      "source": [
        "predict = tcn.predict(x_test)"
      ]
    },
    {
      "cell_type": "code",
      "source": [
        "predict.shape"
      ],
      "metadata": {
        "id": "plaeU9rwN9tq",
        "colab": {
          "base_uri": "https://localhost:8080/"
        },
        "outputId": "2382b807-1d98-4e70-ff00-753359211da6"
      },
      "id": "plaeU9rwN9tq",
      "execution_count": 38,
      "outputs": [
        {
          "output_type": "execute_result",
          "data": {
            "text/plain": [
              "(34, 26, 15, 9, 1)"
            ]
          },
          "metadata": {},
          "execution_count": 38
        }
      ]
    },
    {
      "cell_type": "code",
      "source": [
        "#@title\n",
        "test_day = 1\n",
        "\n",
        "fig, ax = plt.subplots(1,3,figsize=(7,7),dpi=150)\n",
        "\n",
        "im1 = ax[0].imshow(y_test[test_day,0,:,:,0], cmap = plt.cm.winter)\n",
        "im1 = ax[1].imshow(y_test[test_day,1,:,:,0], cmap = plt.cm.winter)\n",
        "im1 = ax[2].imshow(y_test[test_day,2,:,:,0], cmap = plt.cm.winter)\n",
        "\n",
        "# im1 = ax[1][0].imshow(y_test[test_day,3,:,:,0], cmap = plt.cm.winter)\n",
        "# im1 = ax[1][1].imshow(y_test[test_day,4,:,:,0], cmap = plt.cm.winter)\n",
        "# im1 = ax[1][2].imshow(y_test[test_day,5,:,:,0], cmap = plt.cm.winter)\n",
        "# im1 = ax[2][0].imshow(y_test[test_day,6,:,:,0], cmap = plt.cm.winter)\n",
        "# im1 = ax[2][1].imshow(y_test[test_day,7,:,:,0], cmap = plt.cm.winter)\n",
        "# im1 = ax[2][2].imshow(y_test[test_day,8,:,:,0], cmap = plt.cm.winter)\n",
        "# im1 = ax[3][0].imshow(y_test[test_day,9,:,:,0], cmap = plt.cm.winter)\n",
        "# im1 = ax[3][1].imshow(y_test[test_day,10,:,:,0], cmap = plt.cm.winter)\n",
        "# im1 = ax[3][2].imshow(y_test[test_day,11,:,:,0], cmap = plt.cm.winter)\n",
        "\n",
        "# plt.colorbar(im1)"
      ],
      "metadata": {
        "id": "vxWA3wFENzl7",
        "colab": {
          "base_uri": "https://localhost:8080/",
          "height": 480
        },
        "outputId": "42e587ac-c280-4473-ff9c-c2827623bfab"
      },
      "id": "vxWA3wFENzl7",
      "execution_count": 39,
      "outputs": [
        {
          "output_type": "display_data",
          "data": {
            "text/plain": [
              "<Figure size 1050x1050 with 3 Axes>"
            ],
            "image/png": "[encoded data removed]"
          },
          "metadata": {
            "needs_background": "light"
          }
        }
      ]
    },
    {
      "cell_type": "code",
      "source": [
        "#@title\n",
        "fig, ax = plt.subplots(1,3,figsize=(7,7),dpi=150)\n",
        "\n",
        "im1 = ax[0].imshow(predict[test_day,0,:,:,0], cmap = plt.cm.winter)\n",
        "im1 = ax[1].imshow(predict[test_day,1,:,:,0], cmap = plt.cm.winter)\n",
        "im1 = ax[2].imshow(predict[test_day,2,:,:,0], cmap = plt.cm.winter)\n",
        "\n",
        "# im1 = ax[1][0].imshow(predict[test_day,3,:,:,0], cmap = plt.cm.winter)\n",
        "# im1 = ax[1][1].imshow(predict[test_day,4,:,:,0], cmap = plt.cm.winter)\n",
        "# im1 = ax[1][2].imshow(predict[test_day,5,:,:,0], cmap = plt.cm.winter)\n",
        "# im1 = ax[2][0].imshow(predict[test_day,6,:,:,0], cmap = plt.cm.winter)\n",
        "# im1 = ax[2][1].imshow(predict[test_day,7,:,:,0], cmap = plt.cm.winter)\n",
        "# im1 = ax[2][2].imshow(predict[test_day,8,:,:,0], cmap = plt.cm.winter)\n",
        "# im1 = ax[3][0].imshow(predict[test_day,9,:,:,0], cmap = plt.cm.winter)\n",
        "# im1 = ax[3][1].imshow(predict[test_day,10,:,:,0], cmap = plt.cm.winter)\n",
        "# im1 = ax[3][2].imshow(predict[test_day,11,:,:,0], cmap = plt.cm.winter)"
      ],
      "metadata": {
        "id": "RLgHVUSEe4WD",
        "colab": {
          "base_uri": "https://localhost:8080/",
          "height": 480
        },
        "outputId": "e5200afc-c74b-498d-e367-c9cf3dc0c2e7"
      },
      "id": "RLgHVUSEe4WD",
      "execution_count": 40,
      "outputs": [
        {
          "output_type": "display_data",
          "data": {
            "text/plain": [
              "<Figure size 1050x1050 with 3 Axes>"
            ],
            "image/png": "[encoded data removed]"
          },
          "metadata": {
            "needs_background": "light"
          }
        }
      ]
    },
    {
      "cell_type": "markdown",
      "source": [],
      "metadata": {
        "id": "fMeVi68BafKu"
      },
      "id": "fMeVi68BafKu"
    },
    {
      "cell_type": "code",
      "source": [
        "tcn.save('7d2d_j.h5')"
      ],
      "metadata": {
        "id": "qpJfQB6IwuQq"
      },
      "id": "qpJfQB6IwuQq",
      "execution_count": 54,
      "outputs": []
    },
    {
      "cell_type": "markdown",
      "id": "0e185cb0",
      "metadata": {
        "id": "0e185cb0"
      },
      "source": [
        "### RMSE计算"
      ]
    },
    {
      "cell_type": "code",
      "execution_count": 41,
      "id": "a4070982",
      "metadata": {
        "ExecuteTime": {
          "end_time": "2022-10-05T09:54:01.534160Z",
          "start_time": "2022-10-05T09:54:01.518574Z"
        },
        "id": "a4070982"
      },
      "outputs": [],
      "source": [
        "from sklearn.metrics import mean_squared_error"
      ]
    },
    {
      "cell_type": "code",
      "execution_count": 42,
      "id": "24b1fa06",
      "metadata": {
        "ExecuteTime": {
          "end_time": "2022-10-05T09:54:02.705794Z",
          "start_time": "2022-10-05T09:54:02.674551Z"
        },
        "id": "24b1fa06",
        "colab": {
          "base_uri": "https://localhost:8080/"
        },
        "outputId": "b881f202-769b-457c-ac02-6b37aff9ab29"
      },
      "outputs": [
        {
          "output_type": "execute_result",
          "data": {
            "text/plain": [
              "(119340, 1)"
            ]
          },
          "metadata": {},
          "execution_count": 42
        }
      ],
      "source": [
        "P = predict\n",
        "P = P.reshape(-1,1)\n",
        "P.shape"
      ]
    },
    {
      "cell_type": "code",
      "execution_count": 43,
      "id": "f0bc45a0",
      "metadata": {
        "ExecuteTime": {
          "end_time": "2022-10-05T09:54:03.346334Z",
          "start_time": "2022-10-05T09:54:03.330645Z"
        },
        "id": "f0bc45a0",
        "colab": {
          "base_uri": "https://localhost:8080/"
        },
        "outputId": "21a628bf-b212-41f7-cd7b-2f9dc37374ea"
      },
      "outputs": [
        {
          "output_type": "execute_result",
          "data": {
            "text/plain": [
              "(119340, 1)"
            ]
          },
          "metadata": {},
          "execution_count": 43
        }
      ],
      "source": [
        "R = y_test\n",
        "R = R.reshape(-1,1)\n",
        "R.shape"
      ]
    },
    {
      "cell_type": "code",
      "execution_count": 44,
      "id": "c2745dbe",
      "metadata": {
        "ExecuteTime": {
          "end_time": "2022-10-05T09:54:05.548943Z",
          "start_time": "2022-10-05T09:54:05.533323Z"
        },
        "id": "c2745dbe",
        "colab": {
          "base_uri": "https://localhost:8080/"
        },
        "outputId": "44b08964-e6f9-429e-c8f5-7bdc1563935b"
      },
      "outputs": [
        {
          "output_type": "execute_result",
          "data": {
            "text/plain": [
              "2.159083138158945"
            ]
          },
          "metadata": {},
          "execution_count": 44
        }
      ],
      "source": [
        "mean_squared_error(R, P, squared=False)"
      ]
    },
    {
      "cell_type": "markdown",
      "id": "e72e1de7",
      "metadata": {
        "id": "e72e1de7"
      },
      "source": [
        "### 计算$R^{2}$"
      ]
    },
    {
      "cell_type": "code",
      "execution_count": 45,
      "id": "92a65ca2",
      "metadata": {
        "ExecuteTime": {
          "end_time": "2022-10-05T09:54:07.329775Z",
          "start_time": "2022-10-05T09:54:07.314078Z"
        },
        "id": "92a65ca2"
      },
      "outputs": [],
      "source": [
        "from sklearn.metrics import r2_score"
      ]
    },
    {
      "cell_type": "code",
      "execution_count": 46,
      "id": "042cb2ec",
      "metadata": {
        "ExecuteTime": {
          "end_time": "2022-10-05T09:54:08.032728Z",
          "start_time": "2022-10-05T09:54:08.017037Z"
        },
        "id": "042cb2ec",
        "colab": {
          "base_uri": "https://localhost:8080/"
        },
        "outputId": "14ac82bf-c0d8-4038-c9c6-e2364463581f"
      },
      "outputs": [
        {
          "output_type": "execute_result",
          "data": {
            "text/plain": [
              "0.8547"
            ]
          },
          "metadata": {},
          "execution_count": 46
        }
      ],
      "source": [
        "r2 = round(r2_score(P, R),4)\n",
        "r2"
      ]
    },
    {
      "cell_type": "markdown",
      "id": "3e02bca8",
      "metadata": {
        "id": "3e02bca8"
      },
      "source": [
        "### 算相对误差直方图"
      ]
    },
    {
      "cell_type": "code",
      "execution_count": 47,
      "id": "9264da19",
      "metadata": {
        "ExecuteTime": {
          "end_time": "2022-10-05T09:54:09.751071Z",
          "start_time": "2022-10-05T09:54:09.563601Z"
        },
        "id": "9264da19",
        "colab": {
          "base_uri": "https://localhost:8080/",
          "height": 729
        },
        "outputId": "0faac26e-5204-4cb8-e59c-7927d044ecfd"
      },
      "outputs": [
        {
          "output_type": "execute_result",
          "data": {
            "text/plain": [
              "Text(0.5, 0, 'Residual(TECU)')"
            ]
          },
          "metadata": {},
          "execution_count": 47
        },
        {
          "output_type": "display_data",
          "data": {
            "text/plain": [
              "<Figure size 1800x1200 with 1 Axes>"
            ],
            "image/png": "[encoded data removed]"
          },
          "metadata": {
            "needs_background": "light"
          }
        }
      ],
      "source": [
        "PD = (R-P)\n",
        "fig, ax = plt.subplots(dpi=300)\n",
        "ax.grid(True, zorder=1)\n",
        "ax.hist(PD, bins=20, density=True, edgecolor='k',color='g',zorder=2)\n",
        "\n",
        "ax.set_ylabel(\"Percentage(%)\")\n",
        "ax.set_xlabel(\"Residual(TECU)\")"
      ]
    },
    {
      "cell_type": "markdown",
      "id": "6c0c2d9f",
      "metadata": {
        "id": "6c0c2d9f"
      },
      "source": [
        "### 计算预测显示的散点图"
      ]
    },
    {
      "cell_type": "code",
      "execution_count": 48,
      "id": "8391cb8f",
      "metadata": {
        "ExecuteTime": {
          "end_time": "2022-10-05T09:54:12.547180Z",
          "start_time": "2022-10-05T09:54:12.453488Z"
        },
        "id": "8391cb8f",
        "colab": {
          "base_uri": "https://localhost:8080/",
          "height": 282
        },
        "outputId": "aaab80fc-777e-43fd-997f-16b11285c642"
      },
      "outputs": [
        {
          "output_type": "execute_result",
          "data": {
            "text/plain": [
              "<matplotlib.collections.PathCollection at 0x7fe13da04e90>"
            ]
          },
          "metadata": {},
          "execution_count": 48
        },
        {
          "output_type": "display_data",
          "data": {
            "text/plain": [
              "<Figure size 432x288 with 1 Axes>"
            ],
            "image/png": "[encoded data removed]"
          },
          "metadata": {
            "needs_background": "light"
          }
        }
      ],
      "source": [
        "plt.scatter(R,P, s=1)"
      ]
    },
    {
      "cell_type": "code",
      "execution_count": 49,
      "id": "6fd168e8",
      "metadata": {
        "ExecuteTime": {
          "end_time": "2022-10-05T09:54:13.250244Z",
          "start_time": "2022-10-05T09:54:13.203310Z"
        },
        "id": "6fd168e8",
        "colab": {
          "base_uri": "https://localhost:8080/"
        },
        "outputId": "7ccd402b-2b5c-41e3-9fa8-976dab0d0beb"
      },
      "outputs": [
        {
          "output_type": "execute_result",
          "data": {
            "text/plain": [
              "(array([[0.90268102]]), array([1.10378337]))"
            ]
          },
          "metadata": {},
          "execution_count": 49
        }
      ],
      "source": [
        "from sklearn.linear_model import LinearRegression\n",
        "reg = LinearRegression().fit(R, P)\n",
        "\n",
        "reg.coef_, reg.intercept_"
      ]
    },
    {
      "cell_type": "code",
      "execution_count": 50,
      "id": "507bb2a9",
      "metadata": {
        "ExecuteTime": {
          "end_time": "2022-10-05T09:54:13.875087Z",
          "start_time": "2022-10-05T09:54:13.843831Z"
        },
        "id": "507bb2a9",
        "colab": {
          "base_uri": "https://localhost:8080/"
        },
        "outputId": "9c4fd671-d3f6-4462-bb58-01875c5c76b4"
      },
      "outputs": [
        {
          "output_type": "execute_result",
          "data": {
            "text/plain": [
              "array([ 1.10378337, 28.18421394])"
            ]
          },
          "metadata": {},
          "execution_count": 50
        }
      ],
      "source": [
        "line_x = np.linspace(0, 30, 2)\n",
        "y = reg.coef_[0][0] * line_x + reg.intercept_[0]\n",
        "y"
      ]
    },
    {
      "cell_type": "code",
      "source": [
        "from mpl_toolkits.axes_grid1 import make_axes_locatable\n",
        "from scipy.stats import gaussian_kde"
      ],
      "metadata": {
        "id": "Zq9lsQzKgSBp"
      },
      "id": "Zq9lsQzKgSBp",
      "execution_count": 51,
      "outputs": []
    },
    {
      "cell_type": "code",
      "source": [
        "P.shape"
      ],
      "metadata": {
        "id": "_3tVmbMdGbP6",
        "colab": {
          "base_uri": "https://localhost:8080/"
        },
        "outputId": "881d1ed7-5174-433e-fb55-2415efd56dd7"
      },
      "id": "_3tVmbMdGbP6",
      "execution_count": 53,
      "outputs": [
        {
          "output_type": "execute_result",
          "data": {
            "text/plain": [
              "(119340, 1)"
            ]
          },
          "metadata": {},
          "execution_count": 53
        }
      ]
    },
    {
      "cell_type": "code",
      "execution_count": null,
      "id": "a26d9d5a",
      "metadata": {
        "ExecuteTime": {
          "end_time": "2022-10-05T09:54:15.156046Z",
          "start_time": "2022-10-05T09:54:14.921622Z"
        },
        "scrolled": false,
        "id": "a26d9d5a"
      },
      "outputs": [],
      "source": [
        "fig, ax = plt.subplots(dpi=300) \n",
        "R = np.squeeze(R[:])\n",
        "P = np.squeeze(P[:])\n",
        "xy = np.vstack([R,P])\n",
        "z = gaussian_kde(xy)(xy)\n",
        "idx = z.argsort()\n",
        "R,P,z = R[idx],P[idx],z[idx]\n",
        "scatter = ax.scatter(R,P,s=5,c=z,marker='o',edgecolors='',cmap='Spectral')\n",
        "ax.set_xlim(0,30)\n",
        "ax.set_ylim(0,30)\n",
        "plt.xlabel('Observed TEC/TECU', fontsize=14)\n",
        "plt.ylabel('Forecast TEC/TECU', fontsize=14)\n",
        "divider = make_axes_locatable(ax)\n",
        "cax = divider.append_axes(\"right\", size=\"5%\", pad=0.1)\n",
        "cbar = fig.colorbar(scatter, cax=cax, label='frequency')\n",
        "\n",
        "ax.plot(line_x, y, 'k')\n",
        "# # # plt.text(100, 40, r'$k_a$', fontsize=18)\n",
        "\n",
        "ax.text(20,5, 'R:{}\\nK:{}'.format(r2, round(reg.coef_[0][0],4)))"
      ]
    },
    {
      "cell_type": "code",
      "execution_count": null,
      "id": "5ffc58e8",
      "metadata": {
        "id": "5ffc58e8"
      },
      "outputs": [],
      "source": []
    },
    {
      "cell_type": "code",
      "execution_count": null,
      "id": "1c3b91ef",
      "metadata": {
        "id": "1c3b91ef"
      },
      "outputs": [],
      "source": []
    },
    {
      "cell_type": "code",
      "execution_count": null,
      "id": "40730d05",
      "metadata": {
        "id": "40730d05"
      },
      "outputs": [],
      "source": []
    }
  ],
  "metadata": {
    "celltoolbar": "原始单元格格式",
    "kernelspec": {
      "display_name": "Python 3",
      "name": "python3"
    },
    "language_info": {
      "name": "python"
    },
    "toc": {
      "base_numbering": 1,
      "nav_menu": {},
      "number_sections": true,
      "sideBar": true,
      "skip_h1_title": false,
      "title_cell": "Table of Contents",
      "title_sidebar": "Contents",
      "toc_cell": false,
      "toc_position": {},
      "toc_section_display": true,
      "toc_window_display": false
    },
    "varInspector": {
      "cols": {
        "lenName": 16,
        "lenType": 16,
        "lenVar": 40
      },
      "kernels_config": {
        "python": {
          "delete_cmd_postfix": "",
          "delete_cmd_prefix": "del ",
          "library": "var_list.py",
          "varRefreshCmd": "print(var_dic_list())"
        },
        "r": {
          "delete_cmd_postfix": ") ",
          "delete_cmd_prefix": "rm(",
          "library": "var_list.r",
          "varRefreshCmd": "cat(var_dic_list()) "
        }
      },
      "types_to_exclude": [
        "module",
        "function",
        "builtin_function_or_method",
        "instance",
        "_Feature"
      ],
      "window_display": false
    },
    "colab": {
      "provenance": [],
      "collapsed_sections": [],
      "include_colab_link": true
    },
    "accelerator": "GPU",
    "gpuClass": "standard"
  },
  "nbformat": 4,
  "nbformat_minor": 5
}