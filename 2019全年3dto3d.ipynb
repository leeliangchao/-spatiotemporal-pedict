{
  "cells": [
    {
      "cell_type": "markdown",
      "metadata": {
        "id": "view-in-github",
        "colab_type": "text"
      },
      "source": [
        "<a href=\"https://colab.research.google.com/github/leeliangchao/-spatiotemporal-pedict/blob/main/2019%E5%85%A8%E5%B9%B43dto3d.ipynb\" target=\"_parent\"><img src=\"https://colab.research.google.com/assets/colab-badge.svg\" alt=\"Open In Colab\"/></a>"
      ]
    },
    {
      "cell_type": "code",
      "source": [
        "from google.colab import drive\n",
        "drive.mount('/content/drive/')"
      ],
      "metadata": {
        "id": "WNGx8m31kq0A",
        "colab": {
          "base_uri": "https://localhost:8080/"
        },
        "outputId": "4ade037a-4c30-4330-e2e1-588816ca9c31"
      },
      "id": "WNGx8m31kq0A",
      "execution_count": 5,
      "outputs": [
        {
          "output_type": "stream",
          "name": "stdout",
          "text": [
            "Mounted at /content/drive/\n"
          ]
        }
      ]
    },
    {
      "cell_type": "code",
      "execution_count": 6,
      "id": "6bb2a220",
      "metadata": {
        "ExecuteTime": {
          "end_time": "2022-10-05T09:06:51.063255Z",
          "start_time": "2022-10-05T09:06:50.157218Z"
        },
        "id": "6bb2a220"
      },
      "outputs": [],
      "source": [
        "import matplotlib.pyplot as plt\n",
        "import numpy as np\n",
        "import pandas as pd "
      ]
    },
    {
      "cell_type": "code",
      "source": [
        "# !pip install mlxtend==0.18\n",
        "# from mlxtend.plotting import heatmap"
      ],
      "metadata": {
        "id": "V6Kdr2y3KIhs"
      },
      "id": "V6Kdr2y3KIhs",
      "execution_count": 7,
      "outputs": []
    },
    {
      "cell_type": "markdown",
      "id": "37fef43b",
      "metadata": {
        "id": "37fef43b"
      },
      "source": [
        "\n",
        "## 范围选择"
      ]
    },
    {
      "cell_type": "code",
      "execution_count": 8,
      "id": "40cfebf7",
      "metadata": {
        "ExecuteTime": {
          "end_time": "2022-10-05T09:06:52.641112Z",
          "start_time": "2022-10-05T09:06:52.625418Z"
        },
        "id": "40cfebf7"
      },
      "outputs": [],
      "source": [
        "Longitude_Index = 54    #经度索引\n",
        "Longitude_End = 62 +1   #经度索引\n",
        "\n",
        "Latitude_Index = 17  # 纬度索引\n",
        "Latitude_End = 31 +1 # 纬度索引"
      ]
    },
    {
      "cell_type": "code",
      "execution_count": 9,
      "id": "0c836035",
      "metadata": {
        "ExecuteTime": {
          "end_time": "2022-10-05T09:06:53.344067Z",
          "start_time": "2022-10-05T09:06:53.328376Z"
        },
        "id": "0c836035"
      },
      "outputs": [],
      "source": [
        "Sample = np.load('/content/drive/MyDrive/TEC/日本3台站/CODE/TEC.npy')"
      ]
    },
    {
      "cell_type": "code",
      "source": [
        "Sample.shape"
      ],
      "metadata": {
        "colab": {
          "base_uri": "https://localhost:8080/"
        },
        "id": "Yjqhyp6XlnQp",
        "outputId": "0645fe5d-3dcd-4c43-832b-13eb5112ed83"
      },
      "id": "Yjqhyp6XlnQp",
      "execution_count": 10,
      "outputs": [
        {
          "output_type": "execute_result",
          "data": {
            "text/plain": [
              "(71, 73, 25, 366, 1)"
            ]
          },
          "metadata": {},
          "execution_count": 10
        }
      ]
    },
    {
      "cell_type": "code",
      "execution_count": 11,
      "id": "de52e2ed",
      "metadata": {
        "ExecuteTime": {
          "end_time": "2022-10-05T09:07:17.057186Z",
          "start_time": "2022-10-05T09:07:17.041515Z"
        },
        "id": "de52e2ed"
      },
      "outputs": [],
      "source": [
        "Target_region = Sample[Latitude_Index:Latitude_End, Longitude_Index:Longitude_End,:,:,:]"
      ]
    },
    {
      "cell_type": "code",
      "execution_count": 12,
      "id": "631c76c5",
      "metadata": {
        "ExecuteTime": {
          "end_time": "2022-10-05T09:07:18.806688Z",
          "start_time": "2022-10-05T09:07:18.541160Z"
        },
        "scrolled": false,
        "id": "631c76c5",
        "colab": {
          "base_uri": "https://localhost:8080/",
          "height": 385
        },
        "outputId": "d11a6114-703f-4129-d1fd-e9aafa1b7022"
      },
      "outputs": [
        {
          "output_type": "display_data",
          "data": {
            "text/plain": [
              "<Figure size 400x400 with 1 Axes>"
            ],
            "image/png": "[encoded data removed]"
          },
          "metadata": {
            "needs_background": "light"
          }
        },
        {
          "output_type": "execute_result",
          "data": {
            "text/plain": [
              "matplotlib.image.AxesImage"
            ]
          },
          "metadata": {},
          "execution_count": 12
        }
      ],
      "source": [
        "fig, ax = plt.subplots(figsize=(4, 4), dpi=100)\n",
        "line=ax.matshow(Target_region[:,:,-2,0,0], cmap = plt.cm.winter)\n",
        "plt.show()\n",
        "type(line)"
      ]
    },
    {
      "cell_type": "code",
      "source": [
        "from matplotlib import animation"
      ],
      "metadata": {
        "id": "eBC7G1WP3l7X"
      },
      "id": "eBC7G1WP3l7X",
      "execution_count": 13,
      "outputs": []
    },
    {
      "cell_type": "code",
      "source": [
        "def animate(i):\n",
        "  line.set_data(Target_region[:,:,i,0,0])\n",
        "  return line,\n",
        "def init():\n",
        "  line.set_data(Target_region[:,:,0,0,0])\n",
        "  return line,\n",
        "ani = animation.FuncAnimation(fig=fig, func=animate,frames=25,init_func=init,interval=200,blit=False)\n",
        "ani.save('ani.gif', writer='pillow')\n",
        "plt.show()"
      ],
      "metadata": {
        "id": "jaenFjFu4Lu6"
      },
      "id": "jaenFjFu4Lu6",
      "execution_count": 14,
      "outputs": []
    },
    {
      "cell_type": "markdown",
      "id": "4a36e19f",
      "metadata": {
        "id": "4a36e19f"
      },
      "source": [
        "### 样本制作"
      ]
    },
    {
      "cell_type": "code",
      "execution_count": 15,
      "id": "edf59186",
      "metadata": {
        "ExecuteTime": {
          "end_time": "2022-10-05T09:07:53.017448Z",
          "start_time": "2022-10-05T09:07:52.954900Z"
        },
        "id": "edf59186"
      },
      "outputs": [],
      "source": [
        "###################绘图###################\n",
        "import matplotlib.pyplot as plt\n",
        "###################标准化###################\n",
        "from sklearn.preprocessing import MinMaxScaler"
      ]
    },
    {
      "cell_type": "code",
      "source": [
        "Target_region.shape"
      ],
      "metadata": {
        "colab": {
          "base_uri": "https://localhost:8080/"
        },
        "id": "qU1eUQwGrWJ1",
        "outputId": "3d7c1c60-baeb-4902-f4a8-b97f5b715873"
      },
      "id": "qU1eUQwGrWJ1",
      "execution_count": 16,
      "outputs": [
        {
          "output_type": "execute_result",
          "data": {
            "text/plain": [
              "(15, 9, 25, 366, 1)"
            ]
          },
          "metadata": {},
          "execution_count": 16
        }
      ]
    },
    {
      "cell_type": "code",
      "source": [
        "data = np.swapaxes(Target_region, 0,2)\n",
        "data = np.swapaxes(data, 1,3)\n",
        "data = np.swapaxes(data, 0,1)"
      ],
      "metadata": {
        "id": "clTa9wSsqxJ0"
      },
      "id": "clTa9wSsqxJ0",
      "execution_count": 17,
      "outputs": []
    },
    {
      "cell_type": "code",
      "source": [
        "data.shape"
      ],
      "metadata": {
        "colab": {
          "base_uri": "https://localhost:8080/"
        },
        "id": "HKyW54tirGUp",
        "outputId": "95f0c685-7499-4f65-fd61-7b270fa17f1f"
      },
      "id": "HKyW54tirGUp",
      "execution_count": 18,
      "outputs": [
        {
          "output_type": "execute_result",
          "data": {
            "text/plain": [
              "(366, 25, 15, 9, 1)"
            ]
          },
          "metadata": {},
          "execution_count": 18
        }
      ]
    },
    {
      "cell_type": "code",
      "source": [
        "data = np.delete(data,[-1], axis=0);data.shape"
      ],
      "metadata": {
        "id": "YzNN8lgnXrWU",
        "colab": {
          "base_uri": "https://localhost:8080/"
        },
        "outputId": "a95b78cd-eb03-42f4-f0e2-029587c9954f"
      },
      "id": "YzNN8lgnXrWU",
      "execution_count": 19,
      "outputs": [
        {
          "output_type": "execute_result",
          "data": {
            "text/plain": [
              "(365, 25, 15, 9, 1)"
            ]
          },
          "metadata": {},
          "execution_count": 19
        }
      ]
    },
    {
      "cell_type": "code",
      "source": [
        "data = data.reshape(-1,15,9,1)"
      ],
      "metadata": {
        "id": "K8kCvw23Fp_u"
      },
      "id": "K8kCvw23Fp_u",
      "execution_count": 20,
      "outputs": []
    },
    {
      "cell_type": "code",
      "source": [
        "data.shape"
      ],
      "metadata": {
        "colab": {
          "base_uri": "https://localhost:8080/"
        },
        "id": "uz8DmNMQGrLc",
        "outputId": "e0ad731e-de44-4475-f435-331b7f0bbe67"
      },
      "id": "uz8DmNMQGrLc",
      "execution_count": 21,
      "outputs": [
        {
          "output_type": "execute_result",
          "data": {
            "text/plain": [
              "(9125, 15, 9, 1)"
            ]
          },
          "metadata": {},
          "execution_count": 21
        }
      ]
    },
    {
      "cell_type": "code",
      "source": [
        "data = data[::2]"
      ],
      "metadata": {
        "id": "wtMXJkGs9wHL"
      },
      "id": "wtMXJkGs9wHL",
      "execution_count": 22,
      "outputs": []
    },
    {
      "cell_type": "code",
      "source": [
        "data.shape"
      ],
      "metadata": {
        "colab": {
          "base_uri": "https://localhost:8080/"
        },
        "id": "xhmoEtur99zF",
        "outputId": "debd3d8c-79de-4903-a109-df46521c68f7"
      },
      "id": "xhmoEtur99zF",
      "execution_count": 23,
      "outputs": [
        {
          "output_type": "execute_result",
          "data": {
            "text/plain": [
              "(4563, 15, 9, 1)"
            ]
          },
          "metadata": {},
          "execution_count": 23
        }
      ]
    },
    {
      "cell_type": "code",
      "source": [
        "# 数据集划分\n",
        "def create_dataset(data, look_back=36, forward=36):\n",
        "  x = []\n",
        "  y = []\n",
        "  for i in range(data.shape[0]-(look_back+forward)+1):\n",
        "    x.append(data[i:i+look_back,:,:,:])\n",
        "    y.append(data[i+look_back:i+look_back+forward,:,:,:])\n",
        "  return (np.array(x), np.array(y))\n"
      ],
      "metadata": {
        "id": "CD4XBCt8oKXO"
      },
      "id": "CD4XBCt8oKXO",
      "execution_count": 24,
      "outputs": []
    },
    {
      "cell_type": "code",
      "source": [
        "a,b = create_dataset(data)"
      ],
      "metadata": {
        "id": "wxb8PyVdKsvV"
      },
      "id": "wxb8PyVdKsvV",
      "execution_count": 25,
      "outputs": []
    },
    {
      "cell_type": "code",
      "source": [
        "a.shape,b.shape"
      ],
      "metadata": {
        "colab": {
          "base_uri": "https://localhost:8080/"
        },
        "id": "Co_VZj-ELxn_",
        "outputId": "d01030e1-6cc1-427d-c9d4-f2921e07a31c"
      },
      "id": "Co_VZj-ELxn_",
      "execution_count": 26,
      "outputs": [
        {
          "output_type": "execute_result",
          "data": {
            "text/plain": [
              "((4492, 36, 15, 9, 1), (4492, 36, 15, 9, 1))"
            ]
          },
          "metadata": {},
          "execution_count": 26
        }
      ]
    },
    {
      "cell_type": "code",
      "execution_count": 27,
      "id": "ca5e489f",
      "metadata": {
        "ExecuteTime": {
          "end_time": "2022-10-05T09:08:25.212853Z",
          "start_time": "2022-10-05T09:08:25.197229Z"
        },
        "id": "ca5e489f",
        "colab": {
          "base_uri": "https://localhost:8080/"
        },
        "outputId": "01b0794b-d5b8-4efa-be4f-566f67f1a923"
      },
      "outputs": [
        {
          "output_type": "execute_result",
          "data": {
            "text/plain": [
              "3594"
            ]
          },
          "metadata": {},
          "execution_count": 27
        }
      ],
      "source": [
        "# len(df)为df多少行\n",
        "pot = round(0.8 * a.shape[0])\n",
        "pot"
      ]
    },
    {
      "cell_type": "code",
      "execution_count": 28,
      "id": "8e371375",
      "metadata": {
        "ExecuteTime": {
          "end_time": "2022-10-05T09:08:25.587764Z",
          "start_time": "2022-10-05T09:08:25.572143Z"
        },
        "id": "8e371375"
      },
      "outputs": [],
      "source": [
        "x_train, y_train = a[:pot],b[:pot]\n",
        "x_test, y_test = a[pot:],b[pot:]\n",
        "# y_train = np.expand_dims(y_train, 1)\n",
        "# y_test = np.expand_dims(y_test, 1)"
      ]
    },
    {
      "cell_type": "code",
      "source": [
        "x_train.shape, x_test.shape,y_test.shape"
      ],
      "metadata": {
        "colab": {
          "base_uri": "https://localhost:8080/"
        },
        "id": "jisy-reTtHOf",
        "outputId": "58b92aa3-18b0-4219-b87b-f8ecb72c7e59"
      },
      "id": "jisy-reTtHOf",
      "execution_count": 29,
      "outputs": [
        {
          "output_type": "execute_result",
          "data": {
            "text/plain": [
              "((3594, 36, 15, 9, 1), (898, 36, 15, 9, 1), (898, 36, 15, 9, 1))"
            ]
          },
          "metadata": {},
          "execution_count": 29
        }
      ]
    },
    {
      "cell_type": "markdown",
      "id": "046c7cee",
      "metadata": {
        "id": "046c7cee"
      },
      "source": [
        "### LearningRateScheduler调整学习率"
      ]
    },
    {
      "cell_type": "code",
      "execution_count": 30,
      "id": "05667918",
      "metadata": {
        "ExecuteTime": {
          "end_time": "2022-10-05T09:08:33.804680Z",
          "start_time": "2022-10-05T09:08:32.289305Z"
        },
        "id": "05667918"
      },
      "outputs": [],
      "source": [
        "from tensorflow.keras import backend as K\n",
        "from tensorflow.keras.callbacks import EarlyStopping, LearningRateScheduler"
      ]
    },
    {
      "cell_type": "code",
      "execution_count": 31,
      "id": "ddafc547",
      "metadata": {
        "ExecuteTime": {
          "end_time": "2022-10-05T09:08:34.538789Z",
          "start_time": "2022-10-05T09:08:34.523255Z"
        },
        "id": "ddafc547"
      },
      "outputs": [],
      "source": [
        "def scheduler(epoch):\n",
        "    if epoch % 40 ==0 :\n",
        "        lr = K.get_value(tcn.optimizer.lr)\n",
        "        if lr > 1e-5:\n",
        "            K.set_value(tcn.optimizer.lr, lr *0.5)\n",
        "            print('lr changed to {}'.format(lr * 0.5))\n",
        "    return K.get_value(tcn.optimizer.lr)"
      ]
    },
    {
      "cell_type": "code",
      "execution_count": 32,
      "id": "2649ac73",
      "metadata": {
        "ExecuteTime": {
          "end_time": "2022-10-05T09:08:35.741715Z",
          "start_time": "2022-10-05T09:08:35.725991Z"
        },
        "id": "2649ac73"
      },
      "outputs": [],
      "source": [
        "reduce_lr = LearningRateScheduler(scheduler)\n",
        "early_stopping = EarlyStopping(monitor='loss', \n",
        "                               patience=20, \n",
        "                               min_delta=1e-5,\n",
        "                               mode='auto',\n",
        "                               restore_best_weights=False,#是否从具有监测数量的最佳值的时期恢复模型权重\n",
        "                               verbose=2)"
      ]
    },
    {
      "cell_type": "code",
      "execution_count": 33,
      "id": "000793c6",
      "metadata": {
        "ExecuteTime": {
          "end_time": "2022-10-05T09:08:36.757098Z",
          "start_time": "2022-10-05T09:08:36.725785Z"
        },
        "id": "000793c6"
      },
      "outputs": [],
      "source": [
        "import tensorflow as tf\n",
        "from tensorflow.keras.layers import ConvLSTM2D,Conv2D,Conv3D,BatchNormalization\n",
        "from tensorflow.keras import Input, Model, Sequential\n",
        "from sklearn.metrics import mean_squared_error"
      ]
    },
    {
      "cell_type": "code",
      "execution_count": 34,
      "id": "5797cf77",
      "metadata": {
        "ExecuteTime": {
          "end_time": "2022-10-05T09:08:38.038011Z",
          "start_time": "2022-10-05T09:08:38.022411Z"
        },
        "id": "5797cf77"
      },
      "outputs": [],
      "source": [
        "# 自定义损失函数\n",
        "def my_metric_fn(y_true, y_pred):\n",
        "    SS_res =  K.sum(K.square( y_true-y_pred )) \n",
        "    SS_tot = K.sum(K.square( y_true - K.mean(y_true) ) ) \n",
        "    return ( 1 - SS_res/(SS_tot + K.epsilon()) )\n",
        "def root_mean_squared_error(y_true, y_pred):\n",
        "        return K.sqrt(K.mean(K.square(y_pred - y_true)))\n",
        "# Loss function\n",
        "def ssim_loss(y_true, y_pred):\n",
        "    return 1 - tf.reduce_mean(tf.image.ssim(y_true, y_pred, 1.0, filter_size=3))"
      ]
    },
    {
      "cell_type": "code",
      "execution_count": 35,
      "id": "bcf4bfa4",
      "metadata": {
        "ExecuteTime": {
          "end_time": "2022-10-05T09:42:37.867903Z",
          "start_time": "2022-10-05T09:42:36.961797Z"
        },
        "code_folding": [],
        "id": "bcf4bfa4",
        "colab": {
          "base_uri": "https://localhost:8080/"
        },
        "outputId": "622e3492-b85e-4f6f-fcf4-9b34e4893631"
      },
      "outputs": [
        {
          "output_type": "stream",
          "name": "stdout",
          "text": [
            "Model: \"sequential\"\n",
            "_________________________________________________________________\n",
            " Layer (type)                Output Shape              Param #   \n",
            "=================================================================\n",
            " conv_lstm2d (ConvLSTM2D)    (None, 36, 15, 9, 32)     38144     \n",
            "                                                                 \n",
            " batch_normalization (BatchN  (None, 36, 15, 9, 32)    128       \n",
            " ormalization)                                                   \n",
            "                                                                 \n",
            " conv_lstm2d_1 (ConvLSTM2D)  (None, 36, 15, 9, 32)     32896     \n",
            "                                                                 \n",
            " batch_normalization_1 (Batc  (None, 36, 15, 9, 32)    128       \n",
            " hNormalization)                                                 \n",
            "                                                                 \n",
            " conv_lstm2d_2 (ConvLSTM2D)  (None, 36, 15, 9, 32)     32896     \n",
            "                                                                 \n",
            " batch_normalization_2 (Batc  (None, 36, 15, 9, 32)    128       \n",
            " hNormalization)                                                 \n",
            "                                                                 \n",
            " conv_lstm2d_3 (ConvLSTM2D)  (None, 36, 15, 9, 32)     32896     \n",
            "                                                                 \n",
            " batch_normalization_3 (Batc  (None, 36, 15, 9, 32)    128       \n",
            " hNormalization)                                                 \n",
            "                                                                 \n",
            " conv3d (Conv3D)             (None, 36, 15, 9, 1)      33        \n",
            "                                                                 \n",
            "=================================================================\n",
            "Total params: 137,377\n",
            "Trainable params: 137,121\n",
            "Non-trainable params: 256\n",
            "_________________________________________________________________\n"
          ]
        }
      ],
      "source": [
        "#输入维数\n",
        "tcn = Sequential()\n",
        "input_layer =Input(shape=(x_train.shape[1:]))\n",
        "tcn.add(input_layer)\n",
        "tcn.add(\n",
        "    ConvLSTM2D(\n",
        "        filters=32,\n",
        "        kernel_size=(3,3),\n",
        "        padding='same',\n",
        "        return_sequences=True\n",
        "    )\n",
        ")\n",
        "tcn.add(BatchNormalization())\n",
        "# tcn.add(LayerNormalization())\n",
        "tcn.add(\n",
        "    ConvLSTM2D(\n",
        "        filters=32,\n",
        "        kernel_size=(2,2),\n",
        "        padding='same',\n",
        "        return_sequences=True\n",
        "    )\n",
        ")\n",
        "tcn.add(BatchNormalization())\n",
        "# tcn.add(LayerNormalization())\n",
        "tcn.add(\n",
        "    ConvLSTM2D(\n",
        "        filters=32,\n",
        "        kernel_size=(2,2),\n",
        "        padding='same',\n",
        "        return_sequences=True\n",
        "    )\n",
        ")\n",
        "tcn.add(BatchNormalization())\n",
        "# tcn.add(LayerNormalization())\n",
        "tcn.add(\n",
        "    ConvLSTM2D(\n",
        "        filters=32,\n",
        "        kernel_size=(2,2),\n",
        "        padding='same',\n",
        "        return_sequences=True\n",
        "    )\n",
        ")\n",
        "tcn.add(BatchNormalization())\n",
        "# tcn.add(LayerNormalization())\n",
        "tcn.add(Conv3D(filters=1, kernel_size=(1, 1,1),activation=\"relu\", padding=\"same\"))\n",
        "tcn.compile(tf.keras.optimizers.Adam(learning_rate=0.01), loss=root_mean_squared_error)# RMSE\n",
        "tcn.summary()"
      ]
    },
    {
      "cell_type": "code",
      "execution_count": 36,
      "id": "5ffc345f",
      "metadata": {
        "ExecuteTime": {
          "end_time": "2022-10-05T09:53:01.829540Z",
          "start_time": "2022-10-05T09:43:43.992822Z"
        },
        "scrolled": true,
        "id": "5ffc345f",
        "colab": {
          "base_uri": "https://localhost:8080/",
          "height": 1000
        },
        "outputId": "2b5e7800-92db-487f-e7a6-2fdee6647527"
      },
      "outputs": [
        {
          "output_type": "stream",
          "name": "stdout",
          "text": [
            "lr changed to 0.004999999888241291\n",
            "Epoch 1/300\n",
            "57/57 [==============================] - 64s 807ms/step - loss: 6.0638 - lr: 0.0050\n",
            "Epoch 2/300\n",
            "57/57 [==============================] - 46s 800ms/step - loss: 2.7091 - lr: 0.0050\n",
            "Epoch 3/300\n",
            "57/57 [==============================] - 46s 801ms/step - loss: 2.3176 - lr: 0.0050\n",
            "Epoch 4/300\n",
            "57/57 [==============================] - 46s 802ms/step - loss: 2.2123 - lr: 0.0050\n",
            "Epoch 5/300\n",
            "57/57 [==============================] - 49s 860ms/step - loss: 2.1263 - lr: 0.0050\n",
            "Epoch 6/300\n",
            "57/57 [==============================] - 45s 795ms/step - loss: 2.0581 - lr: 0.0050\n",
            "Epoch 7/300\n",
            "57/57 [==============================] - 46s 805ms/step - loss: 2.0449 - lr: 0.0050\n",
            "Epoch 8/300\n",
            "57/57 [==============================] - 46s 811ms/step - loss: 2.0186 - lr: 0.0050\n",
            "Epoch 9/300\n",
            "57/57 [==============================] - 49s 860ms/step - loss: 1.9623 - lr: 0.0050\n",
            "Epoch 10/300\n",
            "57/57 [==============================] - 45s 791ms/step - loss: 1.9244 - lr: 0.0050\n",
            "Epoch 11/300\n",
            "57/57 [==============================] - 45s 797ms/step - loss: 1.9046 - lr: 0.0050\n",
            "Epoch 12/300\n",
            "57/57 [==============================] - 45s 782ms/step - loss: 1.8796 - lr: 0.0050\n",
            "Epoch 13/300\n",
            "57/57 [==============================] - 45s 793ms/step - loss: 1.8451 - lr: 0.0050\n",
            "Epoch 14/300\n",
            "57/57 [==============================] - 49s 864ms/step - loss: 1.8186 - lr: 0.0050\n",
            "Epoch 15/300\n",
            "57/57 [==============================] - 45s 793ms/step - loss: 1.7906 - lr: 0.0050\n",
            "Epoch 16/300\n",
            "57/57 [==============================] - 45s 787ms/step - loss: 1.7458 - lr: 0.0050\n",
            "Epoch 17/300\n",
            "57/57 [==============================] - 45s 794ms/step - loss: 1.7474 - lr: 0.0050\n",
            "Epoch 18/300\n",
            "57/57 [==============================] - 48s 851ms/step - loss: 1.7164 - lr: 0.0050\n",
            "Epoch 19/300\n",
            "57/57 [==============================] - 45s 786ms/step - loss: 1.6712 - lr: 0.0050\n",
            "Epoch 20/300\n",
            "57/57 [==============================] - 45s 796ms/step - loss: 1.6397 - lr: 0.0050\n",
            "Epoch 21/300\n",
            "57/57 [==============================] - 45s 795ms/step - loss: 1.6427 - lr: 0.0050\n",
            "Epoch 22/300\n",
            "57/57 [==============================] - 45s 793ms/step - loss: 1.6093 - lr: 0.0050\n",
            "Epoch 23/300\n",
            "57/57 [==============================] - 49s 855ms/step - loss: 1.5749 - lr: 0.0050\n",
            "Epoch 24/300\n",
            "57/57 [==============================] - 45s 790ms/step - loss: 1.5652 - lr: 0.0050\n",
            "Epoch 25/300\n",
            "57/57 [==============================] - 47s 816ms/step - loss: 1.5373 - lr: 0.0050\n",
            "Epoch 26/300\n",
            "57/57 [==============================] - 46s 803ms/step - loss: 1.5397 - lr: 0.0050\n",
            "Epoch 27/300\n",
            "57/57 [==============================] - 45s 787ms/step - loss: 1.5017 - lr: 0.0050\n",
            "Epoch 28/300\n",
            "57/57 [==============================] - 49s 865ms/step - loss: 1.4834 - lr: 0.0050\n",
            "Epoch 29/300\n",
            "57/57 [==============================] - 45s 791ms/step - loss: 1.4795 - lr: 0.0050\n",
            "Epoch 30/300\n",
            "57/57 [==============================] - 44s 780ms/step - loss: 1.4734 - lr: 0.0050\n",
            "Epoch 31/300\n",
            "57/57 [==============================] - 45s 792ms/step - loss: 1.4522 - lr: 0.0050\n",
            "Epoch 32/300\n",
            "57/57 [==============================] - 48s 840ms/step - loss: 1.4411 - lr: 0.0050\n",
            "Epoch 33/300\n",
            "57/57 [==============================] - 45s 795ms/step - loss: 1.4204 - lr: 0.0050\n",
            "Epoch 34/300\n",
            "57/57 [==============================] - 45s 791ms/step - loss: 1.4263 - lr: 0.0050\n",
            "Epoch 35/300\n",
            "57/57 [==============================] - 45s 781ms/step - loss: 1.3818 - lr: 0.0050\n",
            "Epoch 36/300\n",
            "57/57 [==============================] - 45s 782ms/step - loss: 1.3812 - lr: 0.0050\n",
            "Epoch 37/300\n",
            "57/57 [==============================] - 48s 843ms/step - loss: 1.3703 - lr: 0.0050\n",
            "Epoch 38/300\n",
            "57/57 [==============================] - 45s 792ms/step - loss: 1.3896 - lr: 0.0050\n",
            "Epoch 39/300\n",
            "57/57 [==============================] - 44s 779ms/step - loss: 1.3401 - lr: 0.0050\n",
            "Epoch 40/300\n",
            "57/57 [==============================] - 44s 778ms/step - loss: 1.3226 - lr: 0.0050\n",
            "lr changed to 0.0024999999441206455\n",
            "Epoch 41/300\n",
            "57/57 [==============================] - 48s 844ms/step - loss: 1.2832 - lr: 0.0025\n",
            "Epoch 42/300\n",
            "57/57 [==============================] - 45s 787ms/step - loss: 1.2848 - lr: 0.0025\n",
            "Epoch 43/300\n",
            "57/57 [==============================] - 45s 786ms/step - loss: 1.2944 - lr: 0.0025\n",
            "Epoch 44/300\n",
            "57/57 [==============================] - 45s 785ms/step - loss: 1.2809 - lr: 0.0025\n",
            "Epoch 45/300\n",
            "57/57 [==============================] - 46s 801ms/step - loss: 1.2750 - lr: 0.0025\n",
            "Epoch 46/300\n",
            "57/57 [==============================] - 48s 847ms/step - loss: 1.2702 - lr: 0.0025\n",
            "Epoch 47/300\n",
            "57/57 [==============================] - 45s 789ms/step - loss: 1.2600 - lr: 0.0025\n",
            "Epoch 48/300\n",
            "57/57 [==============================] - 45s 788ms/step - loss: 1.2579 - lr: 0.0025\n",
            "Epoch 49/300\n",
            "57/57 [==============================] - 45s 786ms/step - loss: 1.2447 - lr: 0.0025\n",
            "Epoch 50/300\n",
            "57/57 [==============================] - 47s 831ms/step - loss: 1.2453 - lr: 0.0025\n",
            "Epoch 51/300\n",
            "57/57 [==============================] - 46s 789ms/step - loss: 1.2457 - lr: 0.0025\n",
            "Epoch 52/300\n",
            "57/57 [==============================] - 45s 791ms/step - loss: 1.2402 - lr: 0.0025\n",
            "Epoch 53/300\n",
            "57/57 [==============================] - 45s 785ms/step - loss: 1.2410 - lr: 0.0025\n",
            "Epoch 54/300\n",
            "57/57 [==============================] - 45s 789ms/step - loss: 1.2387 - lr: 0.0025\n",
            "Epoch 55/300\n",
            "57/57 [==============================] - 48s 845ms/step - loss: 1.2210 - lr: 0.0025\n",
            "Epoch 56/300\n",
            "57/57 [==============================] - 45s 789ms/step - loss: 1.2271 - lr: 0.0025\n",
            "Epoch 57/300\n",
            "57/57 [==============================] - 45s 782ms/step - loss: 1.2202 - lr: 0.0025\n",
            "Epoch 58/300\n",
            "57/57 [==============================] - 45s 785ms/step - loss: 1.2182 - lr: 0.0025\n",
            "Epoch 59/300\n",
            "57/57 [==============================] - 46s 806ms/step - loss: 1.2121 - lr: 0.0025\n",
            "Epoch 60/300\n",
            "57/57 [==============================] - 47s 807ms/step - loss: 1.2197 - lr: 0.0025\n",
            "Epoch 61/300\n",
            "57/57 [==============================] - 45s 786ms/step - loss: 1.2180 - lr: 0.0025\n",
            "Epoch 62/300\n",
            "57/57 [==============================] - 45s 788ms/step - loss: 1.2103 - lr: 0.0025\n",
            "Epoch 63/300\n",
            "57/57 [==============================] - 45s 782ms/step - loss: 1.2158 - lr: 0.0025\n",
            "Epoch 64/300\n",
            "57/57 [==============================] - 48s 848ms/step - loss: 1.2093 - lr: 0.0025\n",
            "Epoch 65/300\n",
            "57/57 [==============================] - 44s 778ms/step - loss: 1.1885 - lr: 0.0025\n",
            "Epoch 66/300\n",
            "57/57 [==============================] - 44s 776ms/step - loss: 1.2021 - lr: 0.0025\n",
            "Epoch 67/300\n",
            "57/57 [==============================] - 45s 783ms/step - loss: 1.1928 - lr: 0.0025\n",
            "Epoch 68/300\n",
            "57/57 [==============================] - 45s 783ms/step - loss: 1.2129 - lr: 0.0025\n",
            "Epoch 69/300\n",
            "57/57 [==============================] - 48s 841ms/step - loss: 1.1966 - lr: 0.0025\n",
            "Epoch 70/300\n",
            "57/57 [==============================] - 45s 786ms/step - loss: 1.1826 - lr: 0.0025\n",
            "Epoch 71/300\n",
            "57/57 [==============================] - 45s 794ms/step - loss: 1.1938 - lr: 0.0025\n",
            "Epoch 72/300\n",
            "57/57 [==============================] - 45s 784ms/step - loss: 1.1794 - lr: 0.0025\n",
            "Epoch 73/300\n",
            "57/57 [==============================] - 48s 841ms/step - loss: 1.1804 - lr: 0.0025\n",
            "Epoch 74/300\n",
            "57/57 [==============================] - 44s 778ms/step - loss: 1.1749 - lr: 0.0025\n",
            "Epoch 75/300\n",
            "57/57 [==============================] - 45s 785ms/step - loss: 1.1829 - lr: 0.0025\n",
            "Epoch 76/300\n",
            "57/57 [==============================] - 45s 783ms/step - loss: 1.1754 - lr: 0.0025\n",
            "Epoch 77/300\n",
            "57/57 [==============================] - 45s 783ms/step - loss: 1.1639 - lr: 0.0025\n",
            "Epoch 78/300\n",
            "57/57 [==============================] - 48s 841ms/step - loss: 1.1745 - lr: 0.0025\n",
            "Epoch 79/300\n",
            "57/57 [==============================] - 45s 787ms/step - loss: 1.1742 - lr: 0.0025\n",
            "Epoch 80/300\n",
            "57/57 [==============================] - 45s 782ms/step - loss: 1.1604 - lr: 0.0025\n",
            "lr changed to 0.0012499999720603228\n",
            "Epoch 81/300\n",
            "57/57 [==============================] - 45s 781ms/step - loss: 1.1353 - lr: 0.0012\n",
            "Epoch 82/300\n",
            "57/57 [==============================] - 48s 841ms/step - loss: 1.1308 - lr: 0.0012\n",
            "Epoch 83/300\n",
            "57/57 [==============================] - 44s 772ms/step - loss: 1.1184 - lr: 0.0012\n",
            "Epoch 84/300\n",
            "57/57 [==============================] - 45s 782ms/step - loss: 1.1348 - lr: 0.0012\n",
            "Epoch 85/300\n",
            "57/57 [==============================] - 45s 784ms/step - loss: 1.1272 - lr: 0.0012\n",
            "Epoch 86/300\n",
            "57/57 [==============================] - 44s 778ms/step - loss: 1.1205 - lr: 0.0012\n",
            "Epoch 87/300\n",
            "57/57 [==============================] - 47s 828ms/step - loss: 1.1197 - lr: 0.0012\n",
            "Epoch 88/300\n",
            "57/57 [==============================] - 45s 791ms/step - loss: 1.1218 - lr: 0.0012\n",
            "Epoch 89/300\n",
            "57/57 [==============================] - 44s 780ms/step - loss: 1.1268 - lr: 0.0012\n",
            "Epoch 90/300\n",
            "57/57 [==============================] - 45s 783ms/step - loss: 1.1259 - lr: 0.0012\n",
            "Epoch 91/300\n",
            "57/57 [==============================] - 44s 781ms/step - loss: 1.1191 - lr: 0.0012\n",
            "Epoch 92/300\n",
            "57/57 [==============================] - 48s 836ms/step - loss: 1.1114 - lr: 0.0012\n",
            "Epoch 93/300\n",
            "57/57 [==============================] - 45s 783ms/step - loss: 1.1079 - lr: 0.0012\n",
            "Epoch 94/300\n",
            "57/57 [==============================] - 44s 779ms/step - loss: 1.1286 - lr: 0.0012\n",
            "Epoch 95/300\n",
            "57/57 [==============================] - 45s 789ms/step - loss: 1.1166 - lr: 0.0012\n",
            "Epoch 96/300\n",
            "57/57 [==============================] - 48s 836ms/step - loss: 1.1158 - lr: 0.0012\n",
            "Epoch 97/300\n",
            "57/57 [==============================] - 45s 787ms/step - loss: 1.1106 - lr: 0.0012\n",
            "Epoch 98/300\n",
            "57/57 [==============================] - 45s 789ms/step - loss: 1.1216 - lr: 0.0012\n",
            "Epoch 99/300\n",
            "57/57 [==============================] - 44s 777ms/step - loss: 1.1178 - lr: 0.0012\n",
            "Epoch 100/300\n",
            "57/57 [==============================] - 45s 781ms/step - loss: 1.1137 - lr: 0.0012\n",
            "Epoch 101/300\n",
            "57/57 [==============================] - 48s 836ms/step - loss: 1.1152 - lr: 0.0012\n",
            "Epoch 102/300\n",
            "57/57 [==============================] - 45s 786ms/step - loss: 1.1091 - lr: 0.0012\n",
            "Epoch 103/300\n",
            "57/57 [==============================] - 45s 788ms/step - loss: 1.1043 - lr: 0.0012\n",
            "Epoch 104/300\n",
            "57/57 [==============================] - 44s 776ms/step - loss: 1.1042 - lr: 0.0012\n",
            "Epoch 105/300\n",
            "57/57 [==============================] - 48s 843ms/step - loss: 1.1067 - lr: 0.0012\n",
            "Epoch 106/300\n",
            "57/57 [==============================] - 44s 780ms/step - loss: 1.1009 - lr: 0.0012\n",
            "Epoch 107/300\n",
            "57/57 [==============================] - 45s 784ms/step - loss: 1.0991 - lr: 0.0012\n",
            "Epoch 108/300\n",
            "57/57 [==============================] - 45s 783ms/step - loss: 1.0988 - lr: 0.0012\n",
            "Epoch 109/300\n",
            "57/57 [==============================] - 45s 784ms/step - loss: 1.0985 - lr: 0.0012\n",
            "Epoch 110/300\n",
            "57/57 [==============================] - 48s 836ms/step - loss: 1.1009 - lr: 0.0012\n",
            "Epoch 111/300\n",
            "57/57 [==============================] - 45s 783ms/step - loss: 1.0997 - lr: 0.0012\n",
            "Epoch 112/300\n",
            "57/57 [==============================] - 45s 785ms/step - loss: 1.0831 - lr: 0.0012\n",
            "Epoch 113/300\n",
            "57/57 [==============================] - 45s 787ms/step - loss: 1.0979 - lr: 0.0012\n",
            "Epoch 114/300\n",
            "57/57 [==============================] - 45s 784ms/step - loss: 1.1098 - lr: 0.0012\n",
            "Epoch 115/300\n",
            "57/57 [==============================] - 48s 835ms/step - loss: 1.0912 - lr: 0.0012\n",
            "Epoch 116/300\n",
            "57/57 [==============================] - 45s 785ms/step - loss: 1.0955 - lr: 0.0012\n",
            "Epoch 117/300\n",
            "57/57 [==============================] - 44s 779ms/step - loss: 1.1019 - lr: 0.0012\n",
            "Epoch 118/300\n",
            "57/57 [==============================] - 45s 781ms/step - loss: 1.0941 - lr: 0.0012\n",
            "Epoch 119/300\n",
            "57/57 [==============================] - 48s 843ms/step - loss: 1.1042 - lr: 0.0012\n",
            "Epoch 120/300\n",
            "57/57 [==============================] - 45s 783ms/step - loss: 1.0861 - lr: 0.0012\n",
            "lr changed to 0.0006249999860301614\n",
            "Epoch 121/300\n",
            "57/57 [==============================] - 44s 777ms/step - loss: 1.0709 - lr: 6.2500e-04\n",
            "Epoch 122/300\n",
            "57/57 [==============================] - 44s 776ms/step - loss: 1.0695 - lr: 6.2500e-04\n",
            "Epoch 123/300\n",
            "57/57 [==============================] - 45s 782ms/step - loss: 1.0688 - lr: 6.2500e-04\n",
            "Epoch 124/300\n",
            "57/57 [==============================] - 48s 838ms/step - loss: 1.0687 - lr: 6.2500e-04\n",
            "Epoch 125/300\n",
            "57/57 [==============================] - 45s 786ms/step - loss: 1.0768 - lr: 6.2500e-04\n",
            "Epoch 126/300\n",
            "57/57 [==============================] - 44s 775ms/step - loss: 1.0668 - lr: 6.2500e-04\n",
            "Epoch 127/300\n",
            "57/57 [==============================] - 45s 781ms/step - loss: 1.0775 - lr: 6.2500e-04\n",
            "Epoch 128/300\n",
            "57/57 [==============================] - 45s 794ms/step - loss: 1.0711 - lr: 6.2500e-04\n",
            "Epoch 129/300\n",
            "57/57 [==============================] - 49s 865ms/step - loss: 1.0662 - lr: 6.2500e-04\n",
            "Epoch 130/300\n",
            "57/57 [==============================] - 45s 782ms/step - loss: 1.0711 - lr: 6.2500e-04\n",
            "Epoch 131/300\n",
            "57/57 [==============================] - 44s 780ms/step - loss: 1.0637 - lr: 6.2500e-04\n",
            "Epoch 132/300\n",
            "57/57 [==============================] - 45s 781ms/step - loss: 1.0687 - lr: 6.2500e-04\n",
            "Epoch 133/300\n",
            "57/57 [==============================] - 47s 833ms/step - loss: 1.0641 - lr: 6.2500e-04\n",
            "Epoch 134/300\n",
            "57/57 [==============================] - 44s 777ms/step - loss: 1.0628 - lr: 6.2500e-04\n",
            "Epoch 135/300\n",
            "57/57 [==============================] - 44s 776ms/step - loss: 1.0662 - lr: 6.2500e-04\n",
            "Epoch 136/300\n",
            "57/57 [==============================] - 45s 782ms/step - loss: 1.0673 - lr: 6.2500e-04\n",
            "Epoch 137/300\n",
            "57/57 [==============================] - 45s 784ms/step - loss: 1.0661 - lr: 6.2500e-04\n",
            "Epoch 138/300\n",
            "57/57 [==============================] - 48s 838ms/step - loss: 1.0789 - lr: 6.2500e-04\n",
            "Epoch 139/300\n",
            "57/57 [==============================] - 45s 783ms/step - loss: 1.0636 - lr: 6.2500e-04\n",
            "Epoch 140/300\n",
            "57/57 [==============================] - 44s 777ms/step - loss: 1.0640 - lr: 6.2500e-04\n",
            "Epoch 141/300\n",
            "57/57 [==============================] - 44s 774ms/step - loss: 1.0649 - lr: 6.2500e-04\n",
            "Epoch 142/300\n",
            "57/57 [==============================] - 48s 842ms/step - loss: 1.0637 - lr: 6.2500e-04\n",
            "Epoch 143/300\n",
            "57/57 [==============================] - 44s 774ms/step - loss: 1.0528 - lr: 6.2500e-04\n",
            "Epoch 144/300\n",
            "57/57 [==============================] - 45s 785ms/step - loss: 1.0540 - lr: 6.2500e-04\n",
            "Epoch 145/300\n",
            "57/57 [==============================] - 44s 781ms/step - loss: 1.0690 - lr: 6.2500e-04\n",
            "Epoch 146/300\n",
            "57/57 [==============================] - 44s 777ms/step - loss: 1.0723 - lr: 6.2500e-04\n",
            "Epoch 147/300\n",
            "57/57 [==============================] - 48s 838ms/step - loss: 1.0589 - lr: 6.2500e-04\n",
            "Epoch 148/300\n",
            "57/57 [==============================] - 44s 776ms/step - loss: 1.0517 - lr: 6.2500e-04\n",
            "Epoch 149/300\n",
            "57/57 [==============================] - 44s 771ms/step - loss: 1.0616 - lr: 6.2500e-04\n",
            "Epoch 150/300\n",
            "57/57 [==============================] - 44s 776ms/step - loss: 1.0569 - lr: 6.2500e-04\n",
            "Epoch 151/300\n",
            "57/57 [==============================] - 48s 846ms/step - loss: 1.0616 - lr: 6.2500e-04\n",
            "Epoch 152/300\n",
            "57/57 [==============================] - 45s 783ms/step - loss: 1.0570 - lr: 6.2500e-04\n",
            "Epoch 153/300\n",
            "57/57 [==============================] - 44s 775ms/step - loss: 1.0570 - lr: 6.2500e-04\n",
            "Epoch 154/300\n",
            "57/57 [==============================] - 44s 780ms/step - loss: 1.0517 - lr: 6.2500e-04\n",
            "Epoch 155/300\n",
            "57/57 [==============================] - 48s 836ms/step - loss: 1.0497 - lr: 6.2500e-04\n",
            "Epoch 156/300\n",
            "57/57 [==============================] - 45s 777ms/step - loss: 1.0533 - lr: 6.2500e-04\n",
            "Epoch 157/300\n",
            "57/57 [==============================] - 45s 781ms/step - loss: 1.0472 - lr: 6.2500e-04\n",
            "Epoch 158/300\n",
            "57/57 [==============================] - 44s 780ms/step - loss: 1.0515 - lr: 6.2500e-04\n",
            "Epoch 159/300\n",
            "57/57 [==============================] - 45s 783ms/step - loss: 1.0501 - lr: 6.2500e-04\n",
            "Epoch 160/300\n",
            "57/57 [==============================] - 47s 834ms/step - loss: 1.0620 - lr: 6.2500e-04\n",
            "lr changed to 0.0003124999930150807\n",
            "Epoch 161/300\n",
            "57/57 [==============================] - 44s 777ms/step - loss: 1.0509 - lr: 3.1250e-04\n",
            "Epoch 162/300\n",
            "57/57 [==============================] - 45s 791ms/step - loss: 1.0368 - lr: 3.1250e-04\n",
            "Epoch 163/300\n",
            "57/57 [==============================] - 45s 791ms/step - loss: 1.0359 - lr: 3.1250e-04\n",
            "Epoch 164/300\n",
            "57/57 [==============================] - 45s 783ms/step - loss: 1.0429 - lr: 3.1250e-04\n",
            "Epoch 165/300\n",
            "57/57 [==============================] - 48s 848ms/step - loss: 1.0448 - lr: 3.1250e-04\n",
            "Epoch 166/300\n",
            "57/57 [==============================] - 44s 779ms/step - loss: 1.0475 - lr: 3.1250e-04\n",
            "Epoch 167/300\n",
            "57/57 [==============================] - 44s 778ms/step - loss: 1.0466 - lr: 3.1250e-04\n",
            "Epoch 168/300\n",
            "57/57 [==============================] - 45s 785ms/step - loss: 1.0398 - lr: 3.1250e-04\n",
            "Epoch 169/300\n",
            "57/57 [==============================] - 47s 833ms/step - loss: 1.0420 - lr: 3.1250e-04\n",
            "Epoch 170/300\n",
            "57/57 [==============================] - 45s 781ms/step - loss: 1.0422 - lr: 3.1250e-04\n",
            "Epoch 171/300\n",
            "57/57 [==============================] - 45s 780ms/step - loss: 1.0412 - lr: 3.1250e-04\n",
            "Epoch 172/300\n",
            "57/57 [==============================] - 45s 785ms/step - loss: 1.0438 - lr: 3.1250e-04\n",
            "Epoch 173/300\n",
            "57/57 [==============================] - 45s 781ms/step - loss: 1.0467 - lr: 3.1250e-04\n",
            "Epoch 174/300\n",
            "57/57 [==============================] - 48s 834ms/step - loss: 1.0393 - lr: 3.1250e-04\n",
            "Epoch 175/300\n",
            "57/57 [==============================] - 45s 783ms/step - loss: 1.0352 - lr: 3.1250e-04\n",
            "Epoch 176/300\n",
            "57/57 [==============================] - 45s 785ms/step - loss: 1.0344 - lr: 3.1250e-04\n",
            "Epoch 177/300\n",
            "57/57 [==============================] - 44s 779ms/step - loss: 1.0444 - lr: 3.1250e-04\n",
            "Epoch 178/300\n",
            "57/57 [==============================] - 48s 836ms/step - loss: 1.0384 - lr: 3.1250e-04\n",
            "Epoch 179/300\n",
            "57/57 [==============================] - 45s 781ms/step - loss: 1.0411 - lr: 3.1250e-04\n",
            "Epoch 180/300\n",
            "57/57 [==============================] - 44s 777ms/step - loss: 1.0392 - lr: 3.1250e-04\n",
            "Epoch 181/300\n",
            "57/57 [==============================] - 45s 790ms/step - loss: 1.0416 - lr: 3.1250e-04\n",
            "Epoch 182/300\n",
            "57/57 [==============================] - 44s 772ms/step - loss: 1.0360 - lr: 3.1250e-04\n",
            "Epoch 183/300\n",
            "57/57 [==============================] - 48s 838ms/step - loss: 1.0391 - lr: 3.1250e-04\n",
            "Epoch 184/300\n",
            "57/57 [==============================] - 44s 780ms/step - loss: 1.0368 - lr: 3.1250e-04\n",
            "Epoch 185/300\n",
            "57/57 [==============================] - 45s 781ms/step - loss: 1.0360 - lr: 3.1250e-04\n",
            "Epoch 186/300\n",
            "57/57 [==============================] - 45s 784ms/step - loss: 1.0431 - lr: 3.1250e-04\n",
            "Epoch 187/300\n",
            "57/57 [==============================] - 48s 836ms/step - loss: 1.0367 - lr: 3.1250e-04\n",
            "Epoch 188/300\n",
            "57/57 [==============================] - 45s 784ms/step - loss: 1.0375 - lr: 3.1250e-04\n",
            "Epoch 189/300\n",
            "57/57 [==============================] - 44s 777ms/step - loss: 1.0334 - lr: 3.1250e-04\n",
            "Epoch 190/300\n",
            "57/57 [==============================] - 44s 780ms/step - loss: 1.0440 - lr: 3.1250e-04\n",
            "Epoch 191/300\n",
            "57/57 [==============================] - 45s 786ms/step - loss: 1.0381 - lr: 3.1250e-04\n",
            "Epoch 192/300\n",
            "57/57 [==============================] - 48s 842ms/step - loss: 1.0302 - lr: 3.1250e-04\n",
            "Epoch 193/300\n",
            "57/57 [==============================] - 44s 781ms/step - loss: 1.0393 - lr: 3.1250e-04\n",
            "Epoch 194/300\n",
            "57/57 [==============================] - 44s 779ms/step - loss: 1.0339 - lr: 3.1250e-04\n",
            "Epoch 195/300\n",
            "57/57 [==============================] - 45s 787ms/step - loss: 1.0416 - lr: 3.1250e-04\n",
            "Epoch 196/300\n",
            "57/57 [==============================] - 48s 840ms/step - loss: 1.0311 - lr: 3.1250e-04\n",
            "Epoch 197/300\n",
            "57/57 [==============================] - 45s 789ms/step - loss: 1.0311 - lr: 3.1250e-04\n",
            "Epoch 198/300\n",
            "57/57 [==============================] - 45s 783ms/step - loss: 1.0321 - lr: 3.1250e-04\n",
            "Epoch 199/300\n",
            "57/57 [==============================] - 45s 786ms/step - loss: 1.0364 - lr: 3.1250e-04\n",
            "Epoch 200/300\n",
            "57/57 [==============================] - 45s 788ms/step - loss: 1.0362 - lr: 3.1250e-04\n",
            "lr changed to 0.00015624999650754035\n",
            "Epoch 201/300\n",
            "57/57 [==============================] - 47s 826ms/step - loss: 1.0271 - lr: 1.5625e-04\n",
            "Epoch 202/300\n",
            "57/57 [==============================] - 44s 778ms/step - loss: 1.0283 - lr: 1.5625e-04\n",
            "Epoch 203/300\n",
            "57/57 [==============================] - 45s 785ms/step - loss: 1.0286 - lr: 1.5625e-04\n",
            "Epoch 204/300\n",
            "57/57 [==============================] - 45s 785ms/step - loss: 1.0303 - lr: 1.5625e-04\n",
            "Epoch 205/300\n",
            "57/57 [==============================] - 44s 779ms/step - loss: 1.0296 - lr: 1.5625e-04\n",
            "Epoch 206/300\n",
            "57/57 [==============================] - 48s 842ms/step - loss: 1.0286 - lr: 1.5625e-04\n",
            "Epoch 207/300\n",
            "21/57 [==========>...................] - ETA: 28s - loss: 1.0260"
          ]
        },
        {
          "output_type": "error",
          "ename": "KeyboardInterrupt",
          "evalue": "ignored",
          "traceback": [
            "\u001b[0;31m---------------------------------------------------------------------------\u001b[0m",
            "\u001b[0;31mKeyboardInterrupt\u001b[0m                         Traceback (most recent call last)",
            "\u001b[0;32m<ipython-input-36-642bd6d0e630>\u001b[0m in \u001b[0;36m<module>\u001b[0;34m\u001b[0m\n\u001b[1;32m      2\u001b[0m \u001b[0;31m# tcn = load_model('/content/spatiotemporal_1.h5')\u001b[0m\u001b[0;34m\u001b[0m\u001b[0;34m\u001b[0m\u001b[0;34m\u001b[0m\u001b[0m\n\u001b[1;32m      3\u001b[0m history=tcn.fit(x_train,y_train, \n\u001b[0;32m----> 4\u001b[0;31m         epochs=300, batch_size=64, callbacks=[reduce_lr])\n\u001b[0m",
            "\u001b[0;32m/usr/local/lib/python3.7/dist-packages/keras/utils/traceback_utils.py\u001b[0m in \u001b[0;36merror_handler\u001b[0;34m(*args, **kwargs)\u001b[0m\n\u001b[1;32m     62\u001b[0m     \u001b[0mfiltered_tb\u001b[0m \u001b[0;34m=\u001b[0m \u001b[0;32mNone\u001b[0m\u001b[0;34m\u001b[0m\u001b[0;34m\u001b[0m\u001b[0m\n\u001b[1;32m     63\u001b[0m     \u001b[0;32mtry\u001b[0m\u001b[0;34m:\u001b[0m\u001b[0;34m\u001b[0m\u001b[0;34m\u001b[0m\u001b[0m\n\u001b[0;32m---> 64\u001b[0;31m       \u001b[0;32mreturn\u001b[0m \u001b[0mfn\u001b[0m\u001b[0;34m(\u001b[0m\u001b[0;34m*\u001b[0m\u001b[0margs\u001b[0m\u001b[0;34m,\u001b[0m \u001b[0;34m**\u001b[0m\u001b[0mkwargs\u001b[0m\u001b[0;34m)\u001b[0m\u001b[0;34m\u001b[0m\u001b[0;34m\u001b[0m\u001b[0m\n\u001b[0m\u001b[1;32m     65\u001b[0m     \u001b[0;32mexcept\u001b[0m \u001b[0mException\u001b[0m \u001b[0;32mas\u001b[0m \u001b[0me\u001b[0m\u001b[0;34m:\u001b[0m  \u001b[0;31m# pylint: disable=broad-except\u001b[0m\u001b[0;34m\u001b[0m\u001b[0;34m\u001b[0m\u001b[0m\n\u001b[1;32m     66\u001b[0m       \u001b[0mfiltered_tb\u001b[0m \u001b[0;34m=\u001b[0m \u001b[0m_process_traceback_frames\u001b[0m\u001b[0;34m(\u001b[0m\u001b[0me\u001b[0m\u001b[0;34m.\u001b[0m\u001b[0m__traceback__\u001b[0m\u001b[0;34m)\u001b[0m\u001b[0;34m\u001b[0m\u001b[0;34m\u001b[0m\u001b[0m\n",
            "\u001b[0;32m/usr/local/lib/python3.7/dist-packages/keras/engine/training.py\u001b[0m in \u001b[0;36mfit\u001b[0;34m(self, x, y, batch_size, epochs, verbose, callbacks, validation_split, validation_data, shuffle, class_weight, sample_weight, initial_epoch, steps_per_epoch, validation_steps, validation_batch_size, validation_freq, max_queue_size, workers, use_multiprocessing)\u001b[0m\n\u001b[1;32m   1407\u001b[0m                 _r=1):\n\u001b[1;32m   1408\u001b[0m               \u001b[0mcallbacks\u001b[0m\u001b[0;34m.\u001b[0m\u001b[0mon_train_batch_begin\u001b[0m\u001b[0;34m(\u001b[0m\u001b[0mstep\u001b[0m\u001b[0;34m)\u001b[0m\u001b[0;34m\u001b[0m\u001b[0;34m\u001b[0m\u001b[0m\n\u001b[0;32m-> 1409\u001b[0;31m               \u001b[0mtmp_logs\u001b[0m \u001b[0;34m=\u001b[0m \u001b[0mself\u001b[0m\u001b[0;34m.\u001b[0m\u001b[0mtrain_function\u001b[0m\u001b[0;34m(\u001b[0m\u001b[0miterator\u001b[0m\u001b[0;34m)\u001b[0m\u001b[0;34m\u001b[0m\u001b[0;34m\u001b[0m\u001b[0m\n\u001b[0m\u001b[1;32m   1410\u001b[0m               \u001b[0;32mif\u001b[0m \u001b[0mdata_handler\u001b[0m\u001b[0;34m.\u001b[0m\u001b[0mshould_sync\u001b[0m\u001b[0;34m:\u001b[0m\u001b[0;34m\u001b[0m\u001b[0;34m\u001b[0m\u001b[0m\n\u001b[1;32m   1411\u001b[0m                 \u001b[0mcontext\u001b[0m\u001b[0;34m.\u001b[0m\u001b[0masync_wait\u001b[0m\u001b[0;34m(\u001b[0m\u001b[0;34m)\u001b[0m\u001b[0;34m\u001b[0m\u001b[0;34m\u001b[0m\u001b[0m\n",
            "\u001b[0;32m/usr/local/lib/python3.7/dist-packages/tensorflow/python/util/traceback_utils.py\u001b[0m in \u001b[0;36merror_handler\u001b[0;34m(*args, **kwargs)\u001b[0m\n\u001b[1;32m    148\u001b[0m     \u001b[0mfiltered_tb\u001b[0m \u001b[0;34m=\u001b[0m \u001b[0;32mNone\u001b[0m\u001b[0;34m\u001b[0m\u001b[0;34m\u001b[0m\u001b[0m\n\u001b[1;32m    149\u001b[0m     \u001b[0;32mtry\u001b[0m\u001b[0;34m:\u001b[0m\u001b[0;34m\u001b[0m\u001b[0;34m\u001b[0m\u001b[0m\n\u001b[0;32m--> 150\u001b[0;31m       \u001b[0;32mreturn\u001b[0m \u001b[0mfn\u001b[0m\u001b[0;34m(\u001b[0m\u001b[0;34m*\u001b[0m\u001b[0margs\u001b[0m\u001b[0;34m,\u001b[0m \u001b[0;34m**\u001b[0m\u001b[0mkwargs\u001b[0m\u001b[0;34m)\u001b[0m\u001b[0;34m\u001b[0m\u001b[0;34m\u001b[0m\u001b[0m\n\u001b[0m\u001b[1;32m    151\u001b[0m     \u001b[0;32mexcept\u001b[0m \u001b[0mException\u001b[0m \u001b[0;32mas\u001b[0m \u001b[0me\u001b[0m\u001b[0;34m:\u001b[0m\u001b[0;34m\u001b[0m\u001b[0;34m\u001b[0m\u001b[0m\n\u001b[1;32m    152\u001b[0m       \u001b[0mfiltered_tb\u001b[0m \u001b[0;34m=\u001b[0m \u001b[0m_process_traceback_frames\u001b[0m\u001b[0;34m(\u001b[0m\u001b[0me\u001b[0m\u001b[0;34m.\u001b[0m\u001b[0m__traceback__\u001b[0m\u001b[0;34m)\u001b[0m\u001b[0;34m\u001b[0m\u001b[0;34m\u001b[0m\u001b[0m\n",
            "\u001b[0;32m/usr/local/lib/python3.7/dist-packages/tensorflow/python/eager/def_function.py\u001b[0m in \u001b[0;36m__call__\u001b[0;34m(self, *args, **kwds)\u001b[0m\n\u001b[1;32m    913\u001b[0m \u001b[0;34m\u001b[0m\u001b[0m\n\u001b[1;32m    914\u001b[0m       \u001b[0;32mwith\u001b[0m \u001b[0mOptionalXlaContext\u001b[0m\u001b[0;34m(\u001b[0m\u001b[0mself\u001b[0m\u001b[0;34m.\u001b[0m\u001b[0m_jit_compile\u001b[0m\u001b[0;34m)\u001b[0m\u001b[0;34m:\u001b[0m\u001b[0;34m\u001b[0m\u001b[0;34m\u001b[0m\u001b[0m\n\u001b[0;32m--> 915\u001b[0;31m         \u001b[0mresult\u001b[0m \u001b[0;34m=\u001b[0m \u001b[0mself\u001b[0m\u001b[0;34m.\u001b[0m\u001b[0m_call\u001b[0m\u001b[0;34m(\u001b[0m\u001b[0;34m*\u001b[0m\u001b[0margs\u001b[0m\u001b[0;34m,\u001b[0m \u001b[0;34m**\u001b[0m\u001b[0mkwds\u001b[0m\u001b[0;34m)\u001b[0m\u001b[0;34m\u001b[0m\u001b[0;34m\u001b[0m\u001b[0m\n\u001b[0m\u001b[1;32m    916\u001b[0m \u001b[0;34m\u001b[0m\u001b[0m\n\u001b[1;32m    917\u001b[0m       \u001b[0mnew_tracing_count\u001b[0m \u001b[0;34m=\u001b[0m \u001b[0mself\u001b[0m\u001b[0;34m.\u001b[0m\u001b[0mexperimental_get_tracing_count\u001b[0m\u001b[0;34m(\u001b[0m\u001b[0;34m)\u001b[0m\u001b[0;34m\u001b[0m\u001b[0;34m\u001b[0m\u001b[0m\n",
            "\u001b[0;32m/usr/local/lib/python3.7/dist-packages/tensorflow/python/eager/def_function.py\u001b[0m in \u001b[0;36m_call\u001b[0;34m(self, *args, **kwds)\u001b[0m\n\u001b[1;32m    945\u001b[0m       \u001b[0;31m# In this case we have created variables on the first call, so we run the\u001b[0m\u001b[0;34m\u001b[0m\u001b[0;34m\u001b[0m\u001b[0;34m\u001b[0m\u001b[0m\n\u001b[1;32m    946\u001b[0m       \u001b[0;31m# defunned version which is guaranteed to never create variables.\u001b[0m\u001b[0;34m\u001b[0m\u001b[0;34m\u001b[0m\u001b[0;34m\u001b[0m\u001b[0m\n\u001b[0;32m--> 947\u001b[0;31m       \u001b[0;32mreturn\u001b[0m \u001b[0mself\u001b[0m\u001b[0;34m.\u001b[0m\u001b[0m_stateless_fn\u001b[0m\u001b[0;34m(\u001b[0m\u001b[0;34m*\u001b[0m\u001b[0margs\u001b[0m\u001b[0;34m,\u001b[0m \u001b[0;34m**\u001b[0m\u001b[0mkwds\u001b[0m\u001b[0;34m)\u001b[0m  \u001b[0;31m# pylint: disable=not-callable\u001b[0m\u001b[0;34m\u001b[0m\u001b[0;34m\u001b[0m\u001b[0m\n\u001b[0m\u001b[1;32m    948\u001b[0m     \u001b[0;32melif\u001b[0m \u001b[0mself\u001b[0m\u001b[0;34m.\u001b[0m\u001b[0m_stateful_fn\u001b[0m \u001b[0;32mis\u001b[0m \u001b[0;32mnot\u001b[0m \u001b[0;32mNone\u001b[0m\u001b[0;34m:\u001b[0m\u001b[0;34m\u001b[0m\u001b[0;34m\u001b[0m\u001b[0m\n\u001b[1;32m    949\u001b[0m       \u001b[0;31m# Release the lock early so that multiple threads can perform the call\u001b[0m\u001b[0;34m\u001b[0m\u001b[0;34m\u001b[0m\u001b[0;34m\u001b[0m\u001b[0m\n",
            "\u001b[0;32m/usr/local/lib/python3.7/dist-packages/tensorflow/python/eager/function.py\u001b[0m in \u001b[0;36m__call__\u001b[0;34m(self, *args, **kwargs)\u001b[0m\n\u001b[1;32m   2452\u001b[0m        filtered_flat_args) = self._maybe_define_function(args, kwargs)\n\u001b[1;32m   2453\u001b[0m     return graph_function._call_flat(\n\u001b[0;32m-> 2454\u001b[0;31m         filtered_flat_args, captured_inputs=graph_function.captured_inputs)  # pylint: disable=protected-access\n\u001b[0m\u001b[1;32m   2455\u001b[0m \u001b[0;34m\u001b[0m\u001b[0m\n\u001b[1;32m   2456\u001b[0m   \u001b[0;34m@\u001b[0m\u001b[0mproperty\u001b[0m\u001b[0;34m\u001b[0m\u001b[0;34m\u001b[0m\u001b[0m\n",
            "\u001b[0;32m/usr/local/lib/python3.7/dist-packages/tensorflow/python/eager/function.py\u001b[0m in \u001b[0;36m_call_flat\u001b[0;34m(self, args, captured_inputs, cancellation_manager)\u001b[0m\n\u001b[1;32m   1859\u001b[0m       \u001b[0;31m# No tape is watching; skip to running the function.\u001b[0m\u001b[0;34m\u001b[0m\u001b[0;34m\u001b[0m\u001b[0;34m\u001b[0m\u001b[0m\n\u001b[1;32m   1860\u001b[0m       return self._build_call_outputs(self._inference_function.call(\n\u001b[0;32m-> 1861\u001b[0;31m           ctx, args, cancellation_manager=cancellation_manager))\n\u001b[0m\u001b[1;32m   1862\u001b[0m     forward_backward = self._select_forward_and_backward_functions(\n\u001b[1;32m   1863\u001b[0m         \u001b[0margs\u001b[0m\u001b[0;34m,\u001b[0m\u001b[0;34m\u001b[0m\u001b[0;34m\u001b[0m\u001b[0m\n",
            "\u001b[0;32m/usr/local/lib/python3.7/dist-packages/tensorflow/python/eager/function.py\u001b[0m in \u001b[0;36mcall\u001b[0;34m(self, ctx, args, cancellation_manager)\u001b[0m\n\u001b[1;32m    500\u001b[0m               \u001b[0minputs\u001b[0m\u001b[0;34m=\u001b[0m\u001b[0margs\u001b[0m\u001b[0;34m,\u001b[0m\u001b[0;34m\u001b[0m\u001b[0;34m\u001b[0m\u001b[0m\n\u001b[1;32m    501\u001b[0m               \u001b[0mattrs\u001b[0m\u001b[0;34m=\u001b[0m\u001b[0mattrs\u001b[0m\u001b[0;34m,\u001b[0m\u001b[0;34m\u001b[0m\u001b[0;34m\u001b[0m\u001b[0m\n\u001b[0;32m--> 502\u001b[0;31m               ctx=ctx)\n\u001b[0m\u001b[1;32m    503\u001b[0m         \u001b[0;32melse\u001b[0m\u001b[0;34m:\u001b[0m\u001b[0;34m\u001b[0m\u001b[0;34m\u001b[0m\u001b[0m\n\u001b[1;32m    504\u001b[0m           outputs = execute.execute_with_cancellation(\n",
            "\u001b[0;32m/usr/local/lib/python3.7/dist-packages/tensorflow/python/eager/execute.py\u001b[0m in \u001b[0;36mquick_execute\u001b[0;34m(op_name, num_outputs, inputs, attrs, ctx, name)\u001b[0m\n\u001b[1;32m     53\u001b[0m     \u001b[0mctx\u001b[0m\u001b[0;34m.\u001b[0m\u001b[0mensure_initialized\u001b[0m\u001b[0;34m(\u001b[0m\u001b[0;34m)\u001b[0m\u001b[0;34m\u001b[0m\u001b[0;34m\u001b[0m\u001b[0m\n\u001b[1;32m     54\u001b[0m     tensors = pywrap_tfe.TFE_Py_Execute(ctx._handle, device_name, op_name,\n\u001b[0;32m---> 55\u001b[0;31m                                         inputs, attrs, num_outputs)\n\u001b[0m\u001b[1;32m     56\u001b[0m   \u001b[0;32mexcept\u001b[0m \u001b[0mcore\u001b[0m\u001b[0;34m.\u001b[0m\u001b[0m_NotOkStatusException\u001b[0m \u001b[0;32mas\u001b[0m \u001b[0me\u001b[0m\u001b[0;34m:\u001b[0m\u001b[0;34m\u001b[0m\u001b[0;34m\u001b[0m\u001b[0m\n\u001b[1;32m     57\u001b[0m     \u001b[0;32mif\u001b[0m \u001b[0mname\u001b[0m \u001b[0;32mis\u001b[0m \u001b[0;32mnot\u001b[0m \u001b[0;32mNone\u001b[0m\u001b[0;34m:\u001b[0m\u001b[0;34m\u001b[0m\u001b[0;34m\u001b[0m\u001b[0m\n",
            "\u001b[0;31mKeyboardInterrupt\u001b[0m: "
          ]
        }
      ],
      "source": [
        "# from tensorflow.keras.models import load_model\n",
        "# tcn = load_model('/content/spatiotemporal_1.h5')\n",
        "history=tcn.fit(x_train,y_train, \n",
        "        epochs=300, batch_size=64, callbacks=[reduce_lr])\n"
      ]
    },
    {
      "cell_type": "code",
      "execution_count": null,
      "id": "8a3a3b00",
      "metadata": {
        "ExecuteTime": {
          "end_time": "2022-10-05T09:53:25.495903Z",
          "start_time": "2022-10-05T09:53:25.464641Z"
        },
        "id": "8a3a3b00"
      },
      "outputs": [],
      "source": [
        "# history.history.keys() #查看history中存储了哪些参数"
      ]
    },
    {
      "cell_type": "code",
      "execution_count": null,
      "id": "d1add196",
      "metadata": {
        "ExecuteTime": {
          "end_time": "2022-10-05T09:53:26.089534Z",
          "start_time": "2022-10-05T09:53:26.073834Z"
        },
        "id": "d1add196"
      },
      "outputs": [],
      "source": [
        "# plt.plot(history.epoch,history.history.get('my_metric_fn')[:]) #画出随着epoch增大loss的变化图\n",
        "#plt.plot(history.epoch,history.history.get('acc'))#画出随着epoch增大准确率的变化图"
      ]
    },
    {
      "cell_type": "code",
      "execution_count": null,
      "id": "09ae9e4f",
      "metadata": {
        "ExecuteTime": {
          "end_time": "2022-10-05T09:53:26.698759Z",
          "start_time": "2022-10-05T09:53:26.683072Z"
        },
        "id": "09ae9e4f"
      },
      "outputs": [],
      "source": [
        "# plt.plot(history.epoch, history.history.get('lr'))"
      ]
    },
    {
      "cell_type": "code",
      "execution_count": 37,
      "id": "c3dbeafd",
      "metadata": {
        "ExecuteTime": {
          "end_time": "2022-10-05T09:53:34.478062Z",
          "start_time": "2022-10-05T09:53:28.588829Z"
        },
        "id": "c3dbeafd",
        "colab": {
          "base_uri": "https://localhost:8080/"
        },
        "outputId": "d2f0e92d-9cfa-4ba3-8a58-d462ebc8e35a"
      },
      "outputs": [
        {
          "output_type": "stream",
          "name": "stdout",
          "text": [
            "29/29 [==============================] - 3s 87ms/step - loss: 2.0598\n"
          ]
        },
        {
          "output_type": "execute_result",
          "data": {
            "text/plain": [
              "2.0597856044769287"
            ]
          },
          "metadata": {},
          "execution_count": 37
        }
      ],
      "source": [
        "tcn.evaluate(x_test, y_test)"
      ]
    },
    {
      "cell_type": "code",
      "execution_count": 38,
      "id": "4662e638",
      "metadata": {
        "ExecuteTime": {
          "end_time": "2022-10-05T09:53:43.600937Z",
          "start_time": "2022-10-05T09:53:38.945794Z"
        },
        "id": "4662e638",
        "colab": {
          "base_uri": "https://localhost:8080/"
        },
        "outputId": "437eb43f-f817-4cc4-e8c1-355f80048055"
      },
      "outputs": [
        {
          "output_type": "stream",
          "name": "stdout",
          "text": [
            "29/29 [==============================] - 3s 86ms/step\n"
          ]
        }
      ],
      "source": [
        "predict = tcn.predict(x_test)"
      ]
    },
    {
      "cell_type": "code",
      "source": [
        "predict.shape"
      ],
      "metadata": {
        "colab": {
          "base_uri": "https://localhost:8080/"
        },
        "id": "plaeU9rwN9tq",
        "outputId": "bc381295-37c8-42c6-a014-f9308ded27ee"
      },
      "id": "plaeU9rwN9tq",
      "execution_count": 39,
      "outputs": [
        {
          "output_type": "execute_result",
          "data": {
            "text/plain": [
              "(898, 36, 15, 9, 1)"
            ]
          },
          "metadata": {},
          "execution_count": 39
        }
      ]
    },
    {
      "cell_type": "code",
      "source": [
        "5//4"
      ],
      "metadata": {
        "id": "WMF9E_pLmQ0G",
        "colab": {
          "base_uri": "https://localhost:8080/"
        },
        "outputId": "95c2eb34-81d7-486a-b035-363fb7e090db"
      },
      "id": "WMF9E_pLmQ0G",
      "execution_count": 40,
      "outputs": [
        {
          "output_type": "execute_result",
          "data": {
            "text/plain": [
              "1"
            ]
          },
          "metadata": {},
          "execution_count": 40
        }
      ]
    },
    {
      "cell_type": "code",
      "source": [
        "test_day = 100\n",
        "fig, ax = plt.subplots(4,3,figsize=(5,5),dpi=100)\n",
        "\n",
        "im1 = ax[0][0].imshow(y_test[test_day,0,:,:,0], cmap = plt.cm.winter)\n",
        "im1 = ax[0][1].imshow(y_test[test_day,1,:,:,0], cmap = plt.cm.winter)\n",
        "im1 = ax[0][2].imshow(y_test[test_day,2,:,:,0], cmap = plt.cm.winter)\n",
        "\n",
        "im1 = ax[1][0].imshow(y_test[test_day,3,:,:,0], cmap = plt.cm.winter)\n",
        "im1 = ax[1][1].imshow(y_test[test_day,4,:,:,0], cmap = plt.cm.winter)\n",
        "im1 = ax[1][2].imshow(y_test[test_day,5,:,:,0], cmap = plt.cm.winter)\n",
        "im1 = ax[2][0].imshow(y_test[test_day,6,:,:,0], cmap = plt.cm.winter)\n",
        "im1 = ax[2][1].imshow(y_test[test_day,7,:,:,0], cmap = plt.cm.winter)\n",
        "im1 = ax[2][2].imshow(y_test[test_day,8,:,:,0], cmap = plt.cm.winter)\n",
        "im1 = ax[3][0].imshow(y_test[test_day,9,:,:,0], cmap = plt.cm.winter)\n",
        "im1 = ax[3][1].imshow(y_test[test_day,10,:,:,0], cmap = plt.cm.winter)\n",
        "im1 = ax[3][2].imshow(y_test[test_day,11,:,:,0], cmap = plt.cm.winter)\n",
        "\n",
        "# plt.colorbar(im1)"
      ],
      "metadata": {
        "colab": {
          "base_uri": "https://localhost:8080/",
          "height": 440
        },
        "id": "vxWA3wFENzl7",
        "outputId": "f0c2558c-2547-4916-e728-ef2e4ba9d050"
      },
      "id": "vxWA3wFENzl7",
      "execution_count": 41,
      "outputs": [
        {
          "output_type": "display_data",
          "data": {
            "text/plain": [
              "<Figure size 500x500 with 12 Axes>"
            ],
            "image/png": "[encoded data removed]"
          },
          "metadata": {
            "needs_background": "light"
          }
        }
      ]
    },
    {
      "cell_type": "code",
      "source": [
        "fig, ax = plt.subplots(4,3,figsize=(5,5),dpi=100)\n",
        "\n",
        "im1 = ax[0][0].imshow(predict[test_day,0,:,:,0], cmap = plt.cm.winter)\n",
        "im1 = ax[0][1].imshow(predict[test_day,1,:,:,0], cmap = plt.cm.winter)\n",
        "im1 = ax[0][2].imshow(predict[test_day,2,:,:,0], cmap = plt.cm.winter)\n",
        "\n",
        "im1 = ax[1][0].imshow(predict[test_day,3,:,:,0], cmap = plt.cm.winter)\n",
        "im1 = ax[1][1].imshow(predict[test_day,4,:,:,0], cmap = plt.cm.winter)\n",
        "im1 = ax[1][2].imshow(predict[test_day,5,:,:,0], cmap = plt.cm.winter)\n",
        "im1 = ax[2][0].imshow(predict[test_day,6,:,:,0], cmap = plt.cm.winter)\n",
        "im1 = ax[2][1].imshow(predict[test_day,7,:,:,0], cmap = plt.cm.winter)\n",
        "im1 = ax[2][2].imshow(predict[test_day,8,:,:,0], cmap = plt.cm.winter)\n",
        "im1 = ax[3][0].imshow(predict[test_day,9,:,:,0], cmap = plt.cm.winter)\n",
        "im1 = ax[3][1].imshow(predict[test_day,10,:,:,0], cmap = plt.cm.winter)\n",
        "im1 = ax[3][2].imshow(predict[test_day,11,:,:,0], cmap = plt.cm.winter)"
      ],
      "metadata": {
        "colab": {
          "base_uri": "https://localhost:8080/",
          "height": 440
        },
        "id": "RLgHVUSEe4WD",
        "outputId": "9f245cd1-ba02-42b3-a47f-4258a6381f74"
      },
      "id": "RLgHVUSEe4WD",
      "execution_count": 42,
      "outputs": [
        {
          "output_type": "display_data",
          "data": {
            "text/plain": [
              "<Figure size 500x500 with 12 Axes>"
            ],
            "image/png": "[encoded data removed]"
          },
          "metadata": {
            "needs_background": "light"
          }
        }
      ]
    },
    {
      "cell_type": "code",
      "source": [
        "# 预测\n",
        "plt.imshow(predict[test_day,:,:,0], cmap = plt.cm.winter)\n",
        "plt.colorbar()"
      ],
      "metadata": {
        "colab": {
          "base_uri": "https://localhost:8080/",
          "height": 611
        },
        "id": "G5o7RCTg1B4_",
        "outputId": "38c18732-7473-47a0-e0eb-eddbc9925420"
      },
      "id": "G5o7RCTg1B4_",
      "execution_count": 43,
      "outputs": [
        {
          "output_type": "error",
          "ename": "TypeError",
          "evalue": "ignored",
          "traceback": [
            "\u001b[0;31m---------------------------------------------------------------------------\u001b[0m",
            "\u001b[0;31mTypeError\u001b[0m                                 Traceback (most recent call last)",
            "\u001b[0;32m<ipython-input-43-72e5ad64e999>\u001b[0m in \u001b[0;36m<module>\u001b[0;34m\u001b[0m\n\u001b[1;32m      1\u001b[0m \u001b[0;31m# 预测\u001b[0m\u001b[0;34m\u001b[0m\u001b[0;34m\u001b[0m\u001b[0;34m\u001b[0m\u001b[0m\n\u001b[0;32m----> 2\u001b[0;31m \u001b[0mplt\u001b[0m\u001b[0;34m.\u001b[0m\u001b[0mimshow\u001b[0m\u001b[0;34m(\u001b[0m\u001b[0mpredict\u001b[0m\u001b[0;34m[\u001b[0m\u001b[0mtest_day\u001b[0m\u001b[0;34m,\u001b[0m\u001b[0;34m:\u001b[0m\u001b[0;34m,\u001b[0m\u001b[0;34m:\u001b[0m\u001b[0;34m,\u001b[0m\u001b[0;36m0\u001b[0m\u001b[0;34m]\u001b[0m\u001b[0;34m,\u001b[0m \u001b[0mcmap\u001b[0m \u001b[0;34m=\u001b[0m \u001b[0mplt\u001b[0m\u001b[0;34m.\u001b[0m\u001b[0mcm\u001b[0m\u001b[0;34m.\u001b[0m\u001b[0mwinter\u001b[0m\u001b[0;34m)\u001b[0m\u001b[0;34m\u001b[0m\u001b[0;34m\u001b[0m\u001b[0m\n\u001b[0m\u001b[1;32m      3\u001b[0m \u001b[0mplt\u001b[0m\u001b[0;34m.\u001b[0m\u001b[0mcolorbar\u001b[0m\u001b[0;34m(\u001b[0m\u001b[0;34m)\u001b[0m\u001b[0;34m\u001b[0m\u001b[0;34m\u001b[0m\u001b[0m\n",
            "\u001b[0;32m/usr/local/lib/python3.7/dist-packages/matplotlib/pyplot.py\u001b[0m in \u001b[0;36mimshow\u001b[0;34m(X, cmap, norm, aspect, interpolation, alpha, vmin, vmax, origin, extent, shape, filternorm, filterrad, imlim, resample, url, data, **kwargs)\u001b[0m\n\u001b[1;32m   2649\u001b[0m         \u001b[0mfilternorm\u001b[0m\u001b[0;34m=\u001b[0m\u001b[0mfilternorm\u001b[0m\u001b[0;34m,\u001b[0m \u001b[0mfilterrad\u001b[0m\u001b[0;34m=\u001b[0m\u001b[0mfilterrad\u001b[0m\u001b[0;34m,\u001b[0m \u001b[0mimlim\u001b[0m\u001b[0;34m=\u001b[0m\u001b[0mimlim\u001b[0m\u001b[0;34m,\u001b[0m\u001b[0;34m\u001b[0m\u001b[0;34m\u001b[0m\u001b[0m\n\u001b[1;32m   2650\u001b[0m         resample=resample, url=url, **({\"data\": data} if data is not\n\u001b[0;32m-> 2651\u001b[0;31m         None else {}), **kwargs)\n\u001b[0m\u001b[1;32m   2652\u001b[0m     \u001b[0msci\u001b[0m\u001b[0;34m(\u001b[0m\u001b[0m__ret\u001b[0m\u001b[0;34m)\u001b[0m\u001b[0;34m\u001b[0m\u001b[0;34m\u001b[0m\u001b[0m\n\u001b[1;32m   2653\u001b[0m     \u001b[0;32mreturn\u001b[0m \u001b[0m__ret\u001b[0m\u001b[0;34m\u001b[0m\u001b[0;34m\u001b[0m\u001b[0m\n",
            "\u001b[0;32m/usr/local/lib/python3.7/dist-packages/matplotlib/__init__.py\u001b[0m in \u001b[0;36minner\u001b[0;34m(ax, data, *args, **kwargs)\u001b[0m\n\u001b[1;32m   1563\u001b[0m     \u001b[0;32mdef\u001b[0m \u001b[0minner\u001b[0m\u001b[0;34m(\u001b[0m\u001b[0max\u001b[0m\u001b[0;34m,\u001b[0m \u001b[0;34m*\u001b[0m\u001b[0margs\u001b[0m\u001b[0;34m,\u001b[0m \u001b[0mdata\u001b[0m\u001b[0;34m=\u001b[0m\u001b[0;32mNone\u001b[0m\u001b[0;34m,\u001b[0m \u001b[0;34m**\u001b[0m\u001b[0mkwargs\u001b[0m\u001b[0;34m)\u001b[0m\u001b[0;34m:\u001b[0m\u001b[0;34m\u001b[0m\u001b[0;34m\u001b[0m\u001b[0m\n\u001b[1;32m   1564\u001b[0m         \u001b[0;32mif\u001b[0m \u001b[0mdata\u001b[0m \u001b[0;32mis\u001b[0m \u001b[0;32mNone\u001b[0m\u001b[0;34m:\u001b[0m\u001b[0;34m\u001b[0m\u001b[0;34m\u001b[0m\u001b[0m\n\u001b[0;32m-> 1565\u001b[0;31m             \u001b[0;32mreturn\u001b[0m \u001b[0mfunc\u001b[0m\u001b[0;34m(\u001b[0m\u001b[0max\u001b[0m\u001b[0;34m,\u001b[0m \u001b[0;34m*\u001b[0m\u001b[0mmap\u001b[0m\u001b[0;34m(\u001b[0m\u001b[0msanitize_sequence\u001b[0m\u001b[0;34m,\u001b[0m \u001b[0margs\u001b[0m\u001b[0;34m)\u001b[0m\u001b[0;34m,\u001b[0m \u001b[0;34m**\u001b[0m\u001b[0mkwargs\u001b[0m\u001b[0;34m)\u001b[0m\u001b[0;34m\u001b[0m\u001b[0;34m\u001b[0m\u001b[0m\n\u001b[0m\u001b[1;32m   1566\u001b[0m \u001b[0;34m\u001b[0m\u001b[0m\n\u001b[1;32m   1567\u001b[0m         \u001b[0mbound\u001b[0m \u001b[0;34m=\u001b[0m \u001b[0mnew_sig\u001b[0m\u001b[0;34m.\u001b[0m\u001b[0mbind\u001b[0m\u001b[0;34m(\u001b[0m\u001b[0max\u001b[0m\u001b[0;34m,\u001b[0m \u001b[0;34m*\u001b[0m\u001b[0margs\u001b[0m\u001b[0;34m,\u001b[0m \u001b[0;34m**\u001b[0m\u001b[0mkwargs\u001b[0m\u001b[0;34m)\u001b[0m\u001b[0;34m\u001b[0m\u001b[0;34m\u001b[0m\u001b[0m\n",
            "\u001b[0;32m/usr/local/lib/python3.7/dist-packages/matplotlib/cbook/deprecation.py\u001b[0m in \u001b[0;36mwrapper\u001b[0;34m(*args, **kwargs)\u001b[0m\n\u001b[1;32m    356\u001b[0m                 \u001b[0;34mf\"%(removal)s.  If any parameter follows {name!r}, they \"\u001b[0m\u001b[0;34m\u001b[0m\u001b[0;34m\u001b[0m\u001b[0m\n\u001b[1;32m    357\u001b[0m                 f\"should be pass as keyword, not positionally.\")\n\u001b[0;32m--> 358\u001b[0;31m         \u001b[0;32mreturn\u001b[0m \u001b[0mfunc\u001b[0m\u001b[0;34m(\u001b[0m\u001b[0;34m*\u001b[0m\u001b[0margs\u001b[0m\u001b[0;34m,\u001b[0m \u001b[0;34m**\u001b[0m\u001b[0mkwargs\u001b[0m\u001b[0;34m)\u001b[0m\u001b[0;34m\u001b[0m\u001b[0;34m\u001b[0m\u001b[0m\n\u001b[0m\u001b[1;32m    359\u001b[0m \u001b[0;34m\u001b[0m\u001b[0m\n\u001b[1;32m    360\u001b[0m     \u001b[0;32mreturn\u001b[0m \u001b[0mwrapper\u001b[0m\u001b[0;34m\u001b[0m\u001b[0;34m\u001b[0m\u001b[0m\n",
            "\u001b[0;32m/usr/local/lib/python3.7/dist-packages/matplotlib/cbook/deprecation.py\u001b[0m in \u001b[0;36mwrapper\u001b[0;34m(*args, **kwargs)\u001b[0m\n\u001b[1;32m    356\u001b[0m                 \u001b[0;34mf\"%(removal)s.  If any parameter follows {name!r}, they \"\u001b[0m\u001b[0;34m\u001b[0m\u001b[0;34m\u001b[0m\u001b[0m\n\u001b[1;32m    357\u001b[0m                 f\"should be pass as keyword, not positionally.\")\n\u001b[0;32m--> 358\u001b[0;31m         \u001b[0;32mreturn\u001b[0m \u001b[0mfunc\u001b[0m\u001b[0;34m(\u001b[0m\u001b[0;34m*\u001b[0m\u001b[0margs\u001b[0m\u001b[0;34m,\u001b[0m \u001b[0;34m**\u001b[0m\u001b[0mkwargs\u001b[0m\u001b[0;34m)\u001b[0m\u001b[0;34m\u001b[0m\u001b[0;34m\u001b[0m\u001b[0m\n\u001b[0m\u001b[1;32m    359\u001b[0m \u001b[0;34m\u001b[0m\u001b[0m\n\u001b[1;32m    360\u001b[0m     \u001b[0;32mreturn\u001b[0m \u001b[0mwrapper\u001b[0m\u001b[0;34m\u001b[0m\u001b[0;34m\u001b[0m\u001b[0m\n",
            "\u001b[0;32m/usr/local/lib/python3.7/dist-packages/matplotlib/axes/_axes.py\u001b[0m in \u001b[0;36mimshow\u001b[0;34m(self, X, cmap, norm, aspect, interpolation, alpha, vmin, vmax, origin, extent, shape, filternorm, filterrad, imlim, resample, url, **kwargs)\u001b[0m\n\u001b[1;32m   5624\u001b[0m                               resample=resample, **kwargs)\n\u001b[1;32m   5625\u001b[0m \u001b[0;34m\u001b[0m\u001b[0m\n\u001b[0;32m-> 5626\u001b[0;31m         \u001b[0mim\u001b[0m\u001b[0;34m.\u001b[0m\u001b[0mset_data\u001b[0m\u001b[0;34m(\u001b[0m\u001b[0mX\u001b[0m\u001b[0;34m)\u001b[0m\u001b[0;34m\u001b[0m\u001b[0;34m\u001b[0m\u001b[0m\n\u001b[0m\u001b[1;32m   5627\u001b[0m         \u001b[0mim\u001b[0m\u001b[0;34m.\u001b[0m\u001b[0mset_alpha\u001b[0m\u001b[0;34m(\u001b[0m\u001b[0malpha\u001b[0m\u001b[0;34m)\u001b[0m\u001b[0;34m\u001b[0m\u001b[0;34m\u001b[0m\u001b[0m\n\u001b[1;32m   5628\u001b[0m         \u001b[0;32mif\u001b[0m \u001b[0mim\u001b[0m\u001b[0;34m.\u001b[0m\u001b[0mget_clip_path\u001b[0m\u001b[0;34m(\u001b[0m\u001b[0;34m)\u001b[0m \u001b[0;32mis\u001b[0m \u001b[0;32mNone\u001b[0m\u001b[0;34m:\u001b[0m\u001b[0;34m\u001b[0m\u001b[0;34m\u001b[0m\u001b[0m\n",
            "\u001b[0;32m/usr/local/lib/python3.7/dist-packages/matplotlib/image.py\u001b[0m in \u001b[0;36mset_data\u001b[0;34m(self, A)\u001b[0m\n\u001b[1;32m    697\u001b[0m                 or self._A.ndim == 3 and self._A.shape[-1] in [3, 4]):\n\u001b[1;32m    698\u001b[0m             raise TypeError(\"Invalid shape {} for image data\"\n\u001b[0;32m--> 699\u001b[0;31m                             .format(self._A.shape))\n\u001b[0m\u001b[1;32m    700\u001b[0m \u001b[0;34m\u001b[0m\u001b[0m\n\u001b[1;32m    701\u001b[0m         \u001b[0;32mif\u001b[0m \u001b[0mself\u001b[0m\u001b[0;34m.\u001b[0m\u001b[0m_A\u001b[0m\u001b[0;34m.\u001b[0m\u001b[0mndim\u001b[0m \u001b[0;34m==\u001b[0m \u001b[0;36m3\u001b[0m\u001b[0;34m:\u001b[0m\u001b[0;34m\u001b[0m\u001b[0;34m\u001b[0m\u001b[0m\n",
            "\u001b[0;31mTypeError\u001b[0m: Invalid shape (36, 15, 1) for image data"
          ]
        },
        {
          "output_type": "display_data",
          "data": {
            "text/plain": [
              "<Figure size 432x288 with 1 Axes>"
            ],
            "image/png": "[encoded data removed]"
          },
          "metadata": {
            "needs_background": "light"
          }
        }
      ]
    },
    {
      "cell_type": "code",
      "source": [
        "tcn.save('32_BN_300_2.0_2019.h5')"
      ],
      "metadata": {
        "id": "qpJfQB6IwuQq"
      },
      "id": "qpJfQB6IwuQq",
      "execution_count": 59,
      "outputs": []
    },
    {
      "cell_type": "markdown",
      "id": "0e185cb0",
      "metadata": {
        "id": "0e185cb0"
      },
      "source": [
        "### RMSE计算"
      ]
    },
    {
      "cell_type": "code",
      "execution_count": 44,
      "id": "a4070982",
      "metadata": {
        "ExecuteTime": {
          "end_time": "2022-10-05T09:54:01.534160Z",
          "start_time": "2022-10-05T09:54:01.518574Z"
        },
        "id": "a4070982"
      },
      "outputs": [],
      "source": [
        "from sklearn.metrics import mean_squared_error"
      ]
    },
    {
      "cell_type": "code",
      "execution_count": 45,
      "id": "24b1fa06",
      "metadata": {
        "ExecuteTime": {
          "end_time": "2022-10-05T09:54:02.705794Z",
          "start_time": "2022-10-05T09:54:02.674551Z"
        },
        "id": "24b1fa06",
        "colab": {
          "base_uri": "https://localhost:8080/"
        },
        "outputId": "8b12eb99-6d0e-493c-d489-58a2868f0056"
      },
      "outputs": [
        {
          "output_type": "execute_result",
          "data": {
            "text/plain": [
              "(4364280, 1)"
            ]
          },
          "metadata": {},
          "execution_count": 45
        }
      ],
      "source": [
        "P = predict\n",
        "P = P.reshape(-1,1)\n",
        "P.shape"
      ]
    },
    {
      "cell_type": "code",
      "execution_count": 46,
      "id": "f0bc45a0",
      "metadata": {
        "ExecuteTime": {
          "end_time": "2022-10-05T09:54:03.346334Z",
          "start_time": "2022-10-05T09:54:03.330645Z"
        },
        "id": "f0bc45a0",
        "colab": {
          "base_uri": "https://localhost:8080/"
        },
        "outputId": "71be6dca-de87-471e-dd37-9c8baf3a8de0"
      },
      "outputs": [
        {
          "output_type": "execute_result",
          "data": {
            "text/plain": [
              "(4364280, 1)"
            ]
          },
          "metadata": {},
          "execution_count": 46
        }
      ],
      "source": [
        "R = y_test\n",
        "R = R.reshape(-1,1)\n",
        "R.shape"
      ]
    },
    {
      "cell_type": "code",
      "execution_count": 47,
      "id": "c2745dbe",
      "metadata": {
        "ExecuteTime": {
          "end_time": "2022-10-05T09:54:05.548943Z",
          "start_time": "2022-10-05T09:54:05.533323Z"
        },
        "id": "c2745dbe",
        "colab": {
          "base_uri": "https://localhost:8080/"
        },
        "outputId": "3d093c80-9f09-4585-bed1-cca21f33c742"
      },
      "outputs": [
        {
          "output_type": "execute_result",
          "data": {
            "text/plain": [
              "2.113245077248599"
            ]
          },
          "metadata": {},
          "execution_count": 47
        }
      ],
      "source": [
        "mean_squared_error(R, P, squared=False)"
      ]
    },
    {
      "cell_type": "markdown",
      "id": "e72e1de7",
      "metadata": {
        "id": "e72e1de7"
      },
      "source": [
        "### 计算$R^{2}$"
      ]
    },
    {
      "cell_type": "code",
      "execution_count": 48,
      "id": "92a65ca2",
      "metadata": {
        "ExecuteTime": {
          "end_time": "2022-10-05T09:54:07.329775Z",
          "start_time": "2022-10-05T09:54:07.314078Z"
        },
        "id": "92a65ca2"
      },
      "outputs": [],
      "source": [
        "from sklearn.metrics import r2_score"
      ]
    },
    {
      "cell_type": "code",
      "execution_count": 49,
      "id": "042cb2ec",
      "metadata": {
        "ExecuteTime": {
          "end_time": "2022-10-05T09:54:08.032728Z",
          "start_time": "2022-10-05T09:54:08.017037Z"
        },
        "id": "042cb2ec",
        "colab": {
          "base_uri": "https://localhost:8080/"
        },
        "outputId": "fb689192-c2a6-4033-9c8d-c75f636fb64d"
      },
      "outputs": [
        {
          "output_type": "execute_result",
          "data": {
            "text/plain": [
              "0.8856"
            ]
          },
          "metadata": {},
          "execution_count": 49
        }
      ],
      "source": [
        "r2 = round(r2_score(P, R),4)\n",
        "r2"
      ]
    },
    {
      "cell_type": "markdown",
      "id": "3e02bca8",
      "metadata": {
        "id": "3e02bca8"
      },
      "source": [
        "### 算相对误差直方图"
      ]
    },
    {
      "cell_type": "code",
      "execution_count": 58,
      "id": "9264da19",
      "metadata": {
        "ExecuteTime": {
          "end_time": "2022-10-05T09:54:09.751071Z",
          "start_time": "2022-10-05T09:54:09.563601Z"
        },
        "id": "9264da19",
        "colab": {
          "base_uri": "https://localhost:8080/",
          "height": 1000
        },
        "outputId": "ee62a380-c14c-4c9e-e4fc-9662289d861f"
      },
      "outputs": [
        {
          "output_type": "execute_result",
          "data": {
            "text/plain": [
              "Text(0.5, 0, '相对误差/(TECU)')"
            ]
          },
          "metadata": {},
          "execution_count": 58
        },
        {
          "output_type": "stream",
          "name": "stderr",
          "text": [
            "/usr/local/lib/python3.7/dist-packages/matplotlib/backends/backend_agg.py:214: RuntimeWarning: Glyph 30456 missing from current font.\n",
            "  font.set_text(s, 0.0, flags=flags)\n",
            "/usr/local/lib/python3.7/dist-packages/matplotlib/backends/backend_agg.py:214: RuntimeWarning: Glyph 23545 missing from current font.\n",
            "  font.set_text(s, 0.0, flags=flags)\n",
            "/usr/local/lib/python3.7/dist-packages/matplotlib/backends/backend_agg.py:214: RuntimeWarning: Glyph 35823 missing from current font.\n",
            "  font.set_text(s, 0.0, flags=flags)\n",
            "/usr/local/lib/python3.7/dist-packages/matplotlib/backends/backend_agg.py:214: RuntimeWarning: Glyph 24046 missing from current font.\n",
            "  font.set_text(s, 0.0, flags=flags)\n",
            "/usr/local/lib/python3.7/dist-packages/matplotlib/backends/backend_agg.py:183: RuntimeWarning: Glyph 30456 missing from current font.\n",
            "  font.set_text(s, 0, flags=flags)\n",
            "/usr/local/lib/python3.7/dist-packages/matplotlib/backends/backend_agg.py:183: RuntimeWarning: Glyph 23545 missing from current font.\n",
            "  font.set_text(s, 0, flags=flags)\n",
            "/usr/local/lib/python3.7/dist-packages/matplotlib/backends/backend_agg.py:183: RuntimeWarning: Glyph 35823 missing from current font.\n",
            "  font.set_text(s, 0, flags=flags)\n",
            "/usr/local/lib/python3.7/dist-packages/matplotlib/backends/backend_agg.py:183: RuntimeWarning: Glyph 24046 missing from current font.\n",
            "  font.set_text(s, 0, flags=flags)\n"
          ]
        },
        {
          "output_type": "display_data",
          "data": {
            "text/plain": [
              "<Figure size 1800x1200 with 1 Axes>"
            ],
            "image/png": "[encoded data removed]"
          },
          "metadata": {
            "needs_background": "light"
          }
        }
      ],
      "source": [
        "PD = np.abs(R-P)/R\n",
        "fig, ax = plt.subplots(dpi=300)\n",
        "ax.hist(PD, density=False)\n",
        "ax.set_ylabel(\"Percent/(%)\")\n",
        "ax.set_xlabel(\"相对误差/(TECU)\")"
      ]
    },
    {
      "cell_type": "markdown",
      "id": "6c0c2d9f",
      "metadata": {
        "id": "6c0c2d9f"
      },
      "source": [
        "### 计算预测显示的散点图"
      ]
    },
    {
      "cell_type": "code",
      "execution_count": 56,
      "id": "8391cb8f",
      "metadata": {
        "ExecuteTime": {
          "end_time": "2022-10-05T09:54:12.547180Z",
          "start_time": "2022-10-05T09:54:12.453488Z"
        },
        "id": "8391cb8f",
        "colab": {
          "base_uri": "https://localhost:8080/",
          "height": 283
        },
        "outputId": "fde2c665-abf0-4921-c0c5-7e61b7879c72"
      },
      "outputs": [
        {
          "output_type": "execute_result",
          "data": {
            "text/plain": [
              "<matplotlib.collections.PathCollection at 0x7fe76fb50ed0>"
            ]
          },
          "metadata": {},
          "execution_count": 56
        },
        {
          "output_type": "display_data",
          "data": {
            "text/plain": [
              "<Figure size 432x288 with 1 Axes>"
            ],
            "image/png": "[encoded data removed]"
          },
          "metadata": {
            "needs_background": "light"
          }
        }
      ],
      "source": [
        "plt.scatter(R,P, s=1)"
      ]
    },
    {
      "cell_type": "code",
      "execution_count": 52,
      "id": "6fd168e8",
      "metadata": {
        "ExecuteTime": {
          "end_time": "2022-10-05T09:54:13.250244Z",
          "start_time": "2022-10-05T09:54:13.203310Z"
        },
        "id": "6fd168e8",
        "colab": {
          "base_uri": "https://localhost:8080/"
        },
        "outputId": "4a284c18-105e-4c1d-f02d-3a76977c23b7"
      },
      "outputs": [
        {
          "output_type": "execute_result",
          "data": {
            "text/plain": [
              "(array([[1.00148783]]), array([0.46763738]))"
            ]
          },
          "metadata": {},
          "execution_count": 52
        }
      ],
      "source": [
        "from sklearn.linear_model import LinearRegression\n",
        "reg = LinearRegression().fit(R, P)\n",
        "\n",
        "reg.coef_, reg.intercept_"
      ]
    },
    {
      "cell_type": "code",
      "execution_count": 53,
      "id": "507bb2a9",
      "metadata": {
        "ExecuteTime": {
          "end_time": "2022-10-05T09:54:13.875087Z",
          "start_time": "2022-10-05T09:54:13.843831Z"
        },
        "id": "507bb2a9",
        "colab": {
          "base_uri": "https://localhost:8080/"
        },
        "outputId": "3da9031b-d477-482c-9b66-7bad6939df7a"
      },
      "outputs": [
        {
          "output_type": "execute_result",
          "data": {
            "text/plain": [
              "array([ 0.46763738, 70.5717852 ])"
            ]
          },
          "metadata": {},
          "execution_count": 53
        }
      ],
      "source": [
        "line_x = np.linspace(0, 70, 2)\n",
        "y = reg.coef_[0][0] * line_x + reg.intercept_[0]\n",
        "y"
      ]
    },
    {
      "cell_type": "code",
      "execution_count": 54,
      "id": "455230e5",
      "metadata": {
        "ExecuteTime": {
          "end_time": "2022-10-05T09:54:14.359359Z",
          "start_time": "2022-10-05T09:54:14.343634Z"
        },
        "id": "455230e5"
      },
      "outputs": [],
      "source": [
        "import matplotlib as mpl\n",
        "plt.rcParams.update({\n",
        "    \"text.usetex\": False,\n",
        "})"
      ]
    },
    {
      "cell_type": "code",
      "execution_count": 55,
      "id": "a26d9d5a",
      "metadata": {
        "ExecuteTime": {
          "end_time": "2022-10-05T09:54:15.156046Z",
          "start_time": "2022-10-05T09:54:14.921622Z"
        },
        "scrolled": false,
        "id": "a26d9d5a",
        "colab": {
          "base_uri": "https://localhost:8080/",
          "height": 450
        },
        "outputId": "9ad4764b-3726-4fdc-9117-789ee7d456d3"
      },
      "outputs": [
        {
          "output_type": "execute_result",
          "data": {
            "text/plain": [
              "Text(50, 20, 'R:0.8856\\nK:1.0015')"
            ]
          },
          "metadata": {},
          "execution_count": 55
        },
        {
          "output_type": "stream",
          "name": "stdout",
          "text": [
            "Error in callback <function flush_figures at 0x7fe9c9dfc200> (for post_execute):\n"
          ]
        },
        {
          "output_type": "error",
          "ename": "KeyboardInterrupt",
          "evalue": "ignored",
          "traceback": [
            "\u001b[0;31m---------------------------------------------------------------------------\u001b[0m",
            "\u001b[0;31mKeyboardInterrupt\u001b[0m                         Traceback (most recent call last)",
            "\u001b[0;32m/usr/local/lib/python3.7/dist-packages/ipykernel/pylab/backend_inline.py\u001b[0m in \u001b[0;36mflush_figures\u001b[0;34m()\u001b[0m\n\u001b[1;32m    119\u001b[0m         \u001b[0;31m# ignore the tracking, just draw and close all figures\u001b[0m\u001b[0;34m\u001b[0m\u001b[0;34m\u001b[0m\u001b[0;34m\u001b[0m\u001b[0m\n\u001b[1;32m    120\u001b[0m         \u001b[0;32mtry\u001b[0m\u001b[0;34m:\u001b[0m\u001b[0;34m\u001b[0m\u001b[0;34m\u001b[0m\u001b[0m\n\u001b[0;32m--> 121\u001b[0;31m             \u001b[0;32mreturn\u001b[0m \u001b[0mshow\u001b[0m\u001b[0;34m(\u001b[0m\u001b[0;32mTrue\u001b[0m\u001b[0;34m)\u001b[0m\u001b[0;34m\u001b[0m\u001b[0;34m\u001b[0m\u001b[0m\n\u001b[0m\u001b[1;32m    122\u001b[0m         \u001b[0;32mexcept\u001b[0m \u001b[0mException\u001b[0m \u001b[0;32mas\u001b[0m \u001b[0me\u001b[0m\u001b[0;34m:\u001b[0m\u001b[0;34m\u001b[0m\u001b[0;34m\u001b[0m\u001b[0m\n\u001b[1;32m    123\u001b[0m             \u001b[0;31m# safely show traceback if in IPython, else raise\u001b[0m\u001b[0;34m\u001b[0m\u001b[0;34m\u001b[0m\u001b[0;34m\u001b[0m\u001b[0m\n",
            "\u001b[0;32m/usr/local/lib/python3.7/dist-packages/ipykernel/pylab/backend_inline.py\u001b[0m in \u001b[0;36mshow\u001b[0;34m(close, block)\u001b[0m\n\u001b[1;32m     41\u001b[0m             display(\n\u001b[1;32m     42\u001b[0m                 \u001b[0mfigure_manager\u001b[0m\u001b[0;34m.\u001b[0m\u001b[0mcanvas\u001b[0m\u001b[0;34m.\u001b[0m\u001b[0mfigure\u001b[0m\u001b[0;34m,\u001b[0m\u001b[0;34m\u001b[0m\u001b[0;34m\u001b[0m\u001b[0m\n\u001b[0;32m---> 43\u001b[0;31m                 \u001b[0mmetadata\u001b[0m\u001b[0;34m=\u001b[0m\u001b[0m_fetch_figure_metadata\u001b[0m\u001b[0;34m(\u001b[0m\u001b[0mfigure_manager\u001b[0m\u001b[0;34m.\u001b[0m\u001b[0mcanvas\u001b[0m\u001b[0;34m.\u001b[0m\u001b[0mfigure\u001b[0m\u001b[0;34m)\u001b[0m\u001b[0;34m\u001b[0m\u001b[0;34m\u001b[0m\u001b[0m\n\u001b[0m\u001b[1;32m     44\u001b[0m             )\n\u001b[1;32m     45\u001b[0m     \u001b[0;32mfinally\u001b[0m\u001b[0;34m:\u001b[0m\u001b[0;34m\u001b[0m\u001b[0;34m\u001b[0m\u001b[0m\n",
            "\u001b[0;32m/usr/local/lib/python3.7/dist-packages/IPython/core/display.py\u001b[0m in \u001b[0;36mdisplay\u001b[0;34m(include, exclude, metadata, transient, display_id, *objs, **kwargs)\u001b[0m\n\u001b[1;32m    311\u001b[0m             \u001b[0mpublish_display_data\u001b[0m\u001b[0;34m(\u001b[0m\u001b[0mdata\u001b[0m\u001b[0;34m=\u001b[0m\u001b[0mobj\u001b[0m\u001b[0;34m,\u001b[0m \u001b[0mmetadata\u001b[0m\u001b[0;34m=\u001b[0m\u001b[0mmetadata\u001b[0m\u001b[0;34m,\u001b[0m \u001b[0;34m**\u001b[0m\u001b[0mkwargs\u001b[0m\u001b[0;34m)\u001b[0m\u001b[0;34m\u001b[0m\u001b[0;34m\u001b[0m\u001b[0m\n\u001b[1;32m    312\u001b[0m         \u001b[0;32melse\u001b[0m\u001b[0;34m:\u001b[0m\u001b[0;34m\u001b[0m\u001b[0;34m\u001b[0m\u001b[0m\n\u001b[0;32m--> 313\u001b[0;31m             \u001b[0mformat_dict\u001b[0m\u001b[0;34m,\u001b[0m \u001b[0mmd_dict\u001b[0m \u001b[0;34m=\u001b[0m \u001b[0mformat\u001b[0m\u001b[0;34m(\u001b[0m\u001b[0mobj\u001b[0m\u001b[0;34m,\u001b[0m \u001b[0minclude\u001b[0m\u001b[0;34m=\u001b[0m\u001b[0minclude\u001b[0m\u001b[0;34m,\u001b[0m \u001b[0mexclude\u001b[0m\u001b[0;34m=\u001b[0m\u001b[0mexclude\u001b[0m\u001b[0;34m)\u001b[0m\u001b[0;34m\u001b[0m\u001b[0;34m\u001b[0m\u001b[0m\n\u001b[0m\u001b[1;32m    314\u001b[0m             \u001b[0;32mif\u001b[0m \u001b[0;32mnot\u001b[0m \u001b[0mformat_dict\u001b[0m\u001b[0;34m:\u001b[0m\u001b[0;34m\u001b[0m\u001b[0;34m\u001b[0m\u001b[0m\n\u001b[1;32m    315\u001b[0m                 \u001b[0;31m# nothing to display (e.g. _ipython_display_ took over)\u001b[0m\u001b[0;34m\u001b[0m\u001b[0;34m\u001b[0m\u001b[0;34m\u001b[0m\u001b[0m\n",
            "\u001b[0;32m/usr/local/lib/python3.7/dist-packages/IPython/core/formatters.py\u001b[0m in \u001b[0;36mformat\u001b[0;34m(self, obj, include, exclude)\u001b[0m\n\u001b[1;32m    178\u001b[0m             \u001b[0mmd\u001b[0m \u001b[0;34m=\u001b[0m \u001b[0;32mNone\u001b[0m\u001b[0;34m\u001b[0m\u001b[0;34m\u001b[0m\u001b[0m\n\u001b[1;32m    179\u001b[0m             \u001b[0;32mtry\u001b[0m\u001b[0;34m:\u001b[0m\u001b[0;34m\u001b[0m\u001b[0;34m\u001b[0m\u001b[0m\n\u001b[0;32m--> 180\u001b[0;31m                 \u001b[0mdata\u001b[0m \u001b[0;34m=\u001b[0m \u001b[0mformatter\u001b[0m\u001b[0;34m(\u001b[0m\u001b[0mobj\u001b[0m\u001b[0;34m)\u001b[0m\u001b[0;34m\u001b[0m\u001b[0;34m\u001b[0m\u001b[0m\n\u001b[0m\u001b[1;32m    181\u001b[0m             \u001b[0;32mexcept\u001b[0m\u001b[0;34m:\u001b[0m\u001b[0;34m\u001b[0m\u001b[0;34m\u001b[0m\u001b[0m\n\u001b[1;32m    182\u001b[0m                 \u001b[0;31m# FIXME: log the exception\u001b[0m\u001b[0;34m\u001b[0m\u001b[0;34m\u001b[0m\u001b[0;34m\u001b[0m\u001b[0m\n",
            "\u001b[0;32m<decorator-gen-2>\u001b[0m in \u001b[0;36m__call__\u001b[0;34m(self, obj)\u001b[0m\n",
            "\u001b[0;32m/usr/local/lib/python3.7/dist-packages/IPython/core/formatters.py\u001b[0m in \u001b[0;36mcatch_format_error\u001b[0;34m(method, self, *args, **kwargs)\u001b[0m\n\u001b[1;32m    222\u001b[0m     \u001b[0;34m\"\"\"show traceback on failed format call\"\"\"\u001b[0m\u001b[0;34m\u001b[0m\u001b[0;34m\u001b[0m\u001b[0m\n\u001b[1;32m    223\u001b[0m     \u001b[0;32mtry\u001b[0m\u001b[0;34m:\u001b[0m\u001b[0;34m\u001b[0m\u001b[0;34m\u001b[0m\u001b[0m\n\u001b[0;32m--> 224\u001b[0;31m         \u001b[0mr\u001b[0m \u001b[0;34m=\u001b[0m \u001b[0mmethod\u001b[0m\u001b[0;34m(\u001b[0m\u001b[0mself\u001b[0m\u001b[0;34m,\u001b[0m \u001b[0;34m*\u001b[0m\u001b[0margs\u001b[0m\u001b[0;34m,\u001b[0m \u001b[0;34m**\u001b[0m\u001b[0mkwargs\u001b[0m\u001b[0;34m)\u001b[0m\u001b[0;34m\u001b[0m\u001b[0;34m\u001b[0m\u001b[0m\n\u001b[0m\u001b[1;32m    225\u001b[0m     \u001b[0;32mexcept\u001b[0m \u001b[0mNotImplementedError\u001b[0m\u001b[0;34m:\u001b[0m\u001b[0;34m\u001b[0m\u001b[0;34m\u001b[0m\u001b[0m\n\u001b[1;32m    226\u001b[0m         \u001b[0;31m# don't warn on NotImplementedErrors\u001b[0m\u001b[0;34m\u001b[0m\u001b[0;34m\u001b[0m\u001b[0;34m\u001b[0m\u001b[0m\n",
            "\u001b[0;32m/usr/local/lib/python3.7/dist-packages/IPython/core/formatters.py\u001b[0m in \u001b[0;36m__call__\u001b[0;34m(self, obj)\u001b[0m\n\u001b[1;32m    339\u001b[0m                 \u001b[0;32mpass\u001b[0m\u001b[0;34m\u001b[0m\u001b[0;34m\u001b[0m\u001b[0m\n\u001b[1;32m    340\u001b[0m             \u001b[0;32melse\u001b[0m\u001b[0;34m:\u001b[0m\u001b[0;34m\u001b[0m\u001b[0;34m\u001b[0m\u001b[0m\n\u001b[0;32m--> 341\u001b[0;31m                 \u001b[0;32mreturn\u001b[0m \u001b[0mprinter\u001b[0m\u001b[0;34m(\u001b[0m\u001b[0mobj\u001b[0m\u001b[0;34m)\u001b[0m\u001b[0;34m\u001b[0m\u001b[0;34m\u001b[0m\u001b[0m\n\u001b[0m\u001b[1;32m    342\u001b[0m             \u001b[0;31m# Finally look for special method names\u001b[0m\u001b[0;34m\u001b[0m\u001b[0;34m\u001b[0m\u001b[0;34m\u001b[0m\u001b[0m\n\u001b[1;32m    343\u001b[0m             \u001b[0mmethod\u001b[0m \u001b[0;34m=\u001b[0m \u001b[0mget_real_method\u001b[0m\u001b[0;34m(\u001b[0m\u001b[0mobj\u001b[0m\u001b[0;34m,\u001b[0m \u001b[0mself\u001b[0m\u001b[0;34m.\u001b[0m\u001b[0mprint_method\u001b[0m\u001b[0;34m)\u001b[0m\u001b[0;34m\u001b[0m\u001b[0;34m\u001b[0m\u001b[0m\n",
            "\u001b[0;32m/usr/local/lib/python3.7/dist-packages/IPython/core/pylabtools.py\u001b[0m in \u001b[0;36m<lambda>\u001b[0;34m(fig)\u001b[0m\n\u001b[1;32m    242\u001b[0m \u001b[0;34m\u001b[0m\u001b[0m\n\u001b[1;32m    243\u001b[0m     \u001b[0;32mif\u001b[0m \u001b[0;34m'png'\u001b[0m \u001b[0;32min\u001b[0m \u001b[0mformats\u001b[0m\u001b[0;34m:\u001b[0m\u001b[0;34m\u001b[0m\u001b[0;34m\u001b[0m\u001b[0m\n\u001b[0;32m--> 244\u001b[0;31m         \u001b[0mpng_formatter\u001b[0m\u001b[0;34m.\u001b[0m\u001b[0mfor_type\u001b[0m\u001b[0;34m(\u001b[0m\u001b[0mFigure\u001b[0m\u001b[0;34m,\u001b[0m \u001b[0;32mlambda\u001b[0m \u001b[0mfig\u001b[0m\u001b[0;34m:\u001b[0m \u001b[0mprint_figure\u001b[0m\u001b[0;34m(\u001b[0m\u001b[0mfig\u001b[0m\u001b[0;34m,\u001b[0m \u001b[0;34m'png'\u001b[0m\u001b[0;34m,\u001b[0m \u001b[0;34m**\u001b[0m\u001b[0mkwargs\u001b[0m\u001b[0;34m)\u001b[0m\u001b[0;34m)\u001b[0m\u001b[0;34m\u001b[0m\u001b[0;34m\u001b[0m\u001b[0m\n\u001b[0m\u001b[1;32m    245\u001b[0m     \u001b[0;32mif\u001b[0m \u001b[0;34m'retina'\u001b[0m \u001b[0;32min\u001b[0m \u001b[0mformats\u001b[0m \u001b[0;32mor\u001b[0m \u001b[0;34m'png2x'\u001b[0m \u001b[0;32min\u001b[0m \u001b[0mformats\u001b[0m\u001b[0;34m:\u001b[0m\u001b[0;34m\u001b[0m\u001b[0;34m\u001b[0m\u001b[0m\n\u001b[1;32m    246\u001b[0m         \u001b[0mpng_formatter\u001b[0m\u001b[0;34m.\u001b[0m\u001b[0mfor_type\u001b[0m\u001b[0;34m(\u001b[0m\u001b[0mFigure\u001b[0m\u001b[0;34m,\u001b[0m \u001b[0;32mlambda\u001b[0m \u001b[0mfig\u001b[0m\u001b[0;34m:\u001b[0m \u001b[0mretina_figure\u001b[0m\u001b[0;34m(\u001b[0m\u001b[0mfig\u001b[0m\u001b[0;34m,\u001b[0m \u001b[0;34m**\u001b[0m\u001b[0mkwargs\u001b[0m\u001b[0;34m)\u001b[0m\u001b[0;34m)\u001b[0m\u001b[0;34m\u001b[0m\u001b[0;34m\u001b[0m\u001b[0m\n",
            "\u001b[0;32m/usr/local/lib/python3.7/dist-packages/IPython/core/pylabtools.py\u001b[0m in \u001b[0;36mprint_figure\u001b[0;34m(fig, fmt, bbox_inches, **kwargs)\u001b[0m\n\u001b[1;32m    126\u001b[0m \u001b[0;34m\u001b[0m\u001b[0m\n\u001b[1;32m    127\u001b[0m     \u001b[0mbytes_io\u001b[0m \u001b[0;34m=\u001b[0m \u001b[0mBytesIO\u001b[0m\u001b[0;34m(\u001b[0m\u001b[0;34m)\u001b[0m\u001b[0;34m\u001b[0m\u001b[0;34m\u001b[0m\u001b[0m\n\u001b[0;32m--> 128\u001b[0;31m     \u001b[0mfig\u001b[0m\u001b[0;34m.\u001b[0m\u001b[0mcanvas\u001b[0m\u001b[0;34m.\u001b[0m\u001b[0mprint_figure\u001b[0m\u001b[0;34m(\u001b[0m\u001b[0mbytes_io\u001b[0m\u001b[0;34m,\u001b[0m \u001b[0;34m**\u001b[0m\u001b[0mkw\u001b[0m\u001b[0;34m)\u001b[0m\u001b[0;34m\u001b[0m\u001b[0;34m\u001b[0m\u001b[0m\n\u001b[0m\u001b[1;32m    129\u001b[0m     \u001b[0mdata\u001b[0m \u001b[0;34m=\u001b[0m \u001b[0mbytes_io\u001b[0m\u001b[0;34m.\u001b[0m\u001b[0mgetvalue\u001b[0m\u001b[0;34m(\u001b[0m\u001b[0;34m)\u001b[0m\u001b[0;34m\u001b[0m\u001b[0;34m\u001b[0m\u001b[0m\n\u001b[1;32m    130\u001b[0m     \u001b[0;32mif\u001b[0m \u001b[0mfmt\u001b[0m \u001b[0;34m==\u001b[0m \u001b[0;34m'svg'\u001b[0m\u001b[0;34m:\u001b[0m\u001b[0;34m\u001b[0m\u001b[0;34m\u001b[0m\u001b[0m\n",
            "\u001b[0;32m/usr/local/lib/python3.7/dist-packages/matplotlib/backend_bases.py\u001b[0m in \u001b[0;36mprint_figure\u001b[0;34m(self, filename, dpi, facecolor, edgecolor, orientation, format, bbox_inches, **kwargs)\u001b[0m\n\u001b[1;32m   2124\u001b[0m                     \u001b[0morientation\u001b[0m\u001b[0;34m=\u001b[0m\u001b[0morientation\u001b[0m\u001b[0;34m,\u001b[0m\u001b[0;34m\u001b[0m\u001b[0;34m\u001b[0m\u001b[0m\n\u001b[1;32m   2125\u001b[0m                     \u001b[0mbbox_inches_restore\u001b[0m\u001b[0;34m=\u001b[0m\u001b[0m_bbox_inches_restore\u001b[0m\u001b[0;34m,\u001b[0m\u001b[0;34m\u001b[0m\u001b[0;34m\u001b[0m\u001b[0m\n\u001b[0;32m-> 2126\u001b[0;31m                     **kwargs)\n\u001b[0m\u001b[1;32m   2127\u001b[0m             \u001b[0;32mfinally\u001b[0m\u001b[0;34m:\u001b[0m\u001b[0;34m\u001b[0m\u001b[0;34m\u001b[0m\u001b[0m\n\u001b[1;32m   2128\u001b[0m                 \u001b[0;32mif\u001b[0m \u001b[0mbbox_inches\u001b[0m \u001b[0;32mand\u001b[0m \u001b[0mrestore_bbox\u001b[0m\u001b[0;34m:\u001b[0m\u001b[0;34m\u001b[0m\u001b[0;34m\u001b[0m\u001b[0m\n",
            "\u001b[0;32m/usr/local/lib/python3.7/dist-packages/matplotlib/backends/backend_agg.py\u001b[0m in \u001b[0;36mprint_png\u001b[0;34m(self, filename_or_obj, metadata, pil_kwargs, *args, **kwargs)\u001b[0m\n\u001b[1;32m    512\u001b[0m         }\n\u001b[1;32m    513\u001b[0m \u001b[0;34m\u001b[0m\u001b[0m\n\u001b[0;32m--> 514\u001b[0;31m         \u001b[0mFigureCanvasAgg\u001b[0m\u001b[0;34m.\u001b[0m\u001b[0mdraw\u001b[0m\u001b[0;34m(\u001b[0m\u001b[0mself\u001b[0m\u001b[0;34m)\u001b[0m\u001b[0;34m\u001b[0m\u001b[0;34m\u001b[0m\u001b[0m\n\u001b[0m\u001b[1;32m    515\u001b[0m         \u001b[0;32mif\u001b[0m \u001b[0mpil_kwargs\u001b[0m \u001b[0;32mis\u001b[0m \u001b[0;32mnot\u001b[0m \u001b[0;32mNone\u001b[0m\u001b[0;34m:\u001b[0m\u001b[0;34m\u001b[0m\u001b[0;34m\u001b[0m\u001b[0m\n\u001b[1;32m    516\u001b[0m             \u001b[0;32mfrom\u001b[0m \u001b[0mPIL\u001b[0m \u001b[0;32mimport\u001b[0m \u001b[0mImage\u001b[0m\u001b[0;34m\u001b[0m\u001b[0;34m\u001b[0m\u001b[0m\n",
            "\u001b[0;32m/usr/local/lib/python3.7/dist-packages/matplotlib/backends/backend_agg.py\u001b[0m in \u001b[0;36mdraw\u001b[0;34m(self)\u001b[0m\n\u001b[1;32m    391\u001b[0m              (self.toolbar._wait_cursor_for_draw_cm() if self.toolbar\n\u001b[1;32m    392\u001b[0m               else nullcontext()):\n\u001b[0;32m--> 393\u001b[0;31m             \u001b[0mself\u001b[0m\u001b[0;34m.\u001b[0m\u001b[0mfigure\u001b[0m\u001b[0;34m.\u001b[0m\u001b[0mdraw\u001b[0m\u001b[0;34m(\u001b[0m\u001b[0mself\u001b[0m\u001b[0;34m.\u001b[0m\u001b[0mrenderer\u001b[0m\u001b[0;34m)\u001b[0m\u001b[0;34m\u001b[0m\u001b[0;34m\u001b[0m\u001b[0m\n\u001b[0m\u001b[1;32m    394\u001b[0m             \u001b[0;31m# A GUI class may be need to update a window using this draw, so\u001b[0m\u001b[0;34m\u001b[0m\u001b[0;34m\u001b[0m\u001b[0;34m\u001b[0m\u001b[0m\n\u001b[1;32m    395\u001b[0m             \u001b[0;31m# don't forget to call the superclass.\u001b[0m\u001b[0;34m\u001b[0m\u001b[0;34m\u001b[0m\u001b[0;34m\u001b[0m\u001b[0m\n",
            "\u001b[0;32m/usr/local/lib/python3.7/dist-packages/matplotlib/artist.py\u001b[0m in \u001b[0;36mdraw_wrapper\u001b[0;34m(artist, renderer, *args, **kwargs)\u001b[0m\n\u001b[1;32m     36\u001b[0m                 \u001b[0mrenderer\u001b[0m\u001b[0;34m.\u001b[0m\u001b[0mstart_filter\u001b[0m\u001b[0;34m(\u001b[0m\u001b[0;34m)\u001b[0m\u001b[0;34m\u001b[0m\u001b[0;34m\u001b[0m\u001b[0m\n\u001b[1;32m     37\u001b[0m \u001b[0;34m\u001b[0m\u001b[0m\n\u001b[0;32m---> 38\u001b[0;31m             \u001b[0;32mreturn\u001b[0m \u001b[0mdraw\u001b[0m\u001b[0;34m(\u001b[0m\u001b[0martist\u001b[0m\u001b[0;34m,\u001b[0m \u001b[0mrenderer\u001b[0m\u001b[0;34m,\u001b[0m \u001b[0;34m*\u001b[0m\u001b[0margs\u001b[0m\u001b[0;34m,\u001b[0m \u001b[0;34m**\u001b[0m\u001b[0mkwargs\u001b[0m\u001b[0;34m)\u001b[0m\u001b[0;34m\u001b[0m\u001b[0;34m\u001b[0m\u001b[0m\n\u001b[0m\u001b[1;32m     39\u001b[0m         \u001b[0;32mfinally\u001b[0m\u001b[0;34m:\u001b[0m\u001b[0;34m\u001b[0m\u001b[0;34m\u001b[0m\u001b[0m\n\u001b[1;32m     40\u001b[0m             \u001b[0;32mif\u001b[0m \u001b[0martist\u001b[0m\u001b[0;34m.\u001b[0m\u001b[0mget_agg_filter\u001b[0m\u001b[0;34m(\u001b[0m\u001b[0;34m)\u001b[0m \u001b[0;32mis\u001b[0m \u001b[0;32mnot\u001b[0m \u001b[0;32mNone\u001b[0m\u001b[0;34m:\u001b[0m\u001b[0;34m\u001b[0m\u001b[0;34m\u001b[0m\u001b[0m\n",
            "\u001b[0;32m/usr/local/lib/python3.7/dist-packages/matplotlib/figure.py\u001b[0m in \u001b[0;36mdraw\u001b[0;34m(self, renderer)\u001b[0m\n\u001b[1;32m   1734\u001b[0m             \u001b[0mself\u001b[0m\u001b[0;34m.\u001b[0m\u001b[0mpatch\u001b[0m\u001b[0;34m.\u001b[0m\u001b[0mdraw\u001b[0m\u001b[0;34m(\u001b[0m\u001b[0mrenderer\u001b[0m\u001b[0;34m)\u001b[0m\u001b[0;34m\u001b[0m\u001b[0;34m\u001b[0m\u001b[0m\n\u001b[1;32m   1735\u001b[0m             mimage._draw_list_compositing_images(\n\u001b[0;32m-> 1736\u001b[0;31m                 renderer, self, artists, self.suppressComposite)\n\u001b[0m\u001b[1;32m   1737\u001b[0m \u001b[0;34m\u001b[0m\u001b[0m\n\u001b[1;32m   1738\u001b[0m             \u001b[0mrenderer\u001b[0m\u001b[0;34m.\u001b[0m\u001b[0mclose_group\u001b[0m\u001b[0;34m(\u001b[0m\u001b[0;34m'figure'\u001b[0m\u001b[0;34m)\u001b[0m\u001b[0;34m\u001b[0m\u001b[0;34m\u001b[0m\u001b[0m\n",
            "\u001b[0;32m/usr/local/lib/python3.7/dist-packages/matplotlib/image.py\u001b[0m in \u001b[0;36m_draw_list_compositing_images\u001b[0;34m(renderer, parent, artists, suppress_composite)\u001b[0m\n\u001b[1;32m    135\u001b[0m     \u001b[0;32mif\u001b[0m \u001b[0mnot_composite\u001b[0m \u001b[0;32mor\u001b[0m \u001b[0;32mnot\u001b[0m \u001b[0mhas_images\u001b[0m\u001b[0;34m:\u001b[0m\u001b[0;34m\u001b[0m\u001b[0;34m\u001b[0m\u001b[0m\n\u001b[1;32m    136\u001b[0m         \u001b[0;32mfor\u001b[0m \u001b[0ma\u001b[0m \u001b[0;32min\u001b[0m \u001b[0martists\u001b[0m\u001b[0;34m:\u001b[0m\u001b[0;34m\u001b[0m\u001b[0;34m\u001b[0m\u001b[0m\n\u001b[0;32m--> 137\u001b[0;31m             \u001b[0ma\u001b[0m\u001b[0;34m.\u001b[0m\u001b[0mdraw\u001b[0m\u001b[0;34m(\u001b[0m\u001b[0mrenderer\u001b[0m\u001b[0;34m)\u001b[0m\u001b[0;34m\u001b[0m\u001b[0;34m\u001b[0m\u001b[0m\n\u001b[0m\u001b[1;32m    138\u001b[0m     \u001b[0;32melse\u001b[0m\u001b[0;34m:\u001b[0m\u001b[0;34m\u001b[0m\u001b[0;34m\u001b[0m\u001b[0m\n\u001b[1;32m    139\u001b[0m         \u001b[0;31m# Composite any adjacent images together\u001b[0m\u001b[0;34m\u001b[0m\u001b[0;34m\u001b[0m\u001b[0;34m\u001b[0m\u001b[0m\n",
            "\u001b[0;32m/usr/local/lib/python3.7/dist-packages/matplotlib/artist.py\u001b[0m in \u001b[0;36mdraw_wrapper\u001b[0;34m(artist, renderer, *args, **kwargs)\u001b[0m\n\u001b[1;32m     36\u001b[0m                 \u001b[0mrenderer\u001b[0m\u001b[0;34m.\u001b[0m\u001b[0mstart_filter\u001b[0m\u001b[0;34m(\u001b[0m\u001b[0;34m)\u001b[0m\u001b[0;34m\u001b[0m\u001b[0;34m\u001b[0m\u001b[0m\n\u001b[1;32m     37\u001b[0m \u001b[0;34m\u001b[0m\u001b[0m\n\u001b[0;32m---> 38\u001b[0;31m             \u001b[0;32mreturn\u001b[0m \u001b[0mdraw\u001b[0m\u001b[0;34m(\u001b[0m\u001b[0martist\u001b[0m\u001b[0;34m,\u001b[0m \u001b[0mrenderer\u001b[0m\u001b[0;34m,\u001b[0m \u001b[0;34m*\u001b[0m\u001b[0margs\u001b[0m\u001b[0;34m,\u001b[0m \u001b[0;34m**\u001b[0m\u001b[0mkwargs\u001b[0m\u001b[0;34m)\u001b[0m\u001b[0;34m\u001b[0m\u001b[0;34m\u001b[0m\u001b[0m\n\u001b[0m\u001b[1;32m     39\u001b[0m         \u001b[0;32mfinally\u001b[0m\u001b[0;34m:\u001b[0m\u001b[0;34m\u001b[0m\u001b[0;34m\u001b[0m\u001b[0m\n\u001b[1;32m     40\u001b[0m             \u001b[0;32mif\u001b[0m \u001b[0martist\u001b[0m\u001b[0;34m.\u001b[0m\u001b[0mget_agg_filter\u001b[0m\u001b[0;34m(\u001b[0m\u001b[0;34m)\u001b[0m \u001b[0;32mis\u001b[0m \u001b[0;32mnot\u001b[0m \u001b[0;32mNone\u001b[0m\u001b[0;34m:\u001b[0m\u001b[0;34m\u001b[0m\u001b[0;34m\u001b[0m\u001b[0m\n",
            "\u001b[0;32m/usr/local/lib/python3.7/dist-packages/matplotlib/axes/_base.py\u001b[0m in \u001b[0;36mdraw\u001b[0;34m(self, renderer, inframe)\u001b[0m\n\u001b[1;32m   2628\u001b[0m             \u001b[0mrenderer\u001b[0m\u001b[0;34m.\u001b[0m\u001b[0mstop_rasterizing\u001b[0m\u001b[0;34m(\u001b[0m\u001b[0;34m)\u001b[0m\u001b[0;34m\u001b[0m\u001b[0;34m\u001b[0m\u001b[0m\n\u001b[1;32m   2629\u001b[0m \u001b[0;34m\u001b[0m\u001b[0m\n\u001b[0;32m-> 2630\u001b[0;31m         \u001b[0mmimage\u001b[0m\u001b[0;34m.\u001b[0m\u001b[0m_draw_list_compositing_images\u001b[0m\u001b[0;34m(\u001b[0m\u001b[0mrenderer\u001b[0m\u001b[0;34m,\u001b[0m \u001b[0mself\u001b[0m\u001b[0;34m,\u001b[0m \u001b[0martists\u001b[0m\u001b[0;34m)\u001b[0m\u001b[0;34m\u001b[0m\u001b[0;34m\u001b[0m\u001b[0m\n\u001b[0m\u001b[1;32m   2631\u001b[0m \u001b[0;34m\u001b[0m\u001b[0m\n\u001b[1;32m   2632\u001b[0m         \u001b[0mrenderer\u001b[0m\u001b[0;34m.\u001b[0m\u001b[0mclose_group\u001b[0m\u001b[0;34m(\u001b[0m\u001b[0;34m'axes'\u001b[0m\u001b[0;34m)\u001b[0m\u001b[0;34m\u001b[0m\u001b[0;34m\u001b[0m\u001b[0m\n",
            "\u001b[0;32m/usr/local/lib/python3.7/dist-packages/matplotlib/image.py\u001b[0m in \u001b[0;36m_draw_list_compositing_images\u001b[0;34m(renderer, parent, artists, suppress_composite)\u001b[0m\n\u001b[1;32m    135\u001b[0m     \u001b[0;32mif\u001b[0m \u001b[0mnot_composite\u001b[0m \u001b[0;32mor\u001b[0m \u001b[0;32mnot\u001b[0m \u001b[0mhas_images\u001b[0m\u001b[0;34m:\u001b[0m\u001b[0;34m\u001b[0m\u001b[0;34m\u001b[0m\u001b[0m\n\u001b[1;32m    136\u001b[0m         \u001b[0;32mfor\u001b[0m \u001b[0ma\u001b[0m \u001b[0;32min\u001b[0m \u001b[0martists\u001b[0m\u001b[0;34m:\u001b[0m\u001b[0;34m\u001b[0m\u001b[0;34m\u001b[0m\u001b[0m\n\u001b[0;32m--> 137\u001b[0;31m             \u001b[0ma\u001b[0m\u001b[0;34m.\u001b[0m\u001b[0mdraw\u001b[0m\u001b[0;34m(\u001b[0m\u001b[0mrenderer\u001b[0m\u001b[0;34m)\u001b[0m\u001b[0;34m\u001b[0m\u001b[0;34m\u001b[0m\u001b[0m\n\u001b[0m\u001b[1;32m    138\u001b[0m     \u001b[0;32melse\u001b[0m\u001b[0;34m:\u001b[0m\u001b[0;34m\u001b[0m\u001b[0;34m\u001b[0m\u001b[0m\n\u001b[1;32m    139\u001b[0m         \u001b[0;31m# Composite any adjacent images together\u001b[0m\u001b[0;34m\u001b[0m\u001b[0;34m\u001b[0m\u001b[0;34m\u001b[0m\u001b[0m\n",
            "\u001b[0;32m/usr/local/lib/python3.7/dist-packages/matplotlib/artist.py\u001b[0m in \u001b[0;36mdraw_wrapper\u001b[0;34m(artist, renderer, *args, **kwargs)\u001b[0m\n\u001b[1;32m     36\u001b[0m                 \u001b[0mrenderer\u001b[0m\u001b[0;34m.\u001b[0m\u001b[0mstart_filter\u001b[0m\u001b[0;34m(\u001b[0m\u001b[0;34m)\u001b[0m\u001b[0;34m\u001b[0m\u001b[0;34m\u001b[0m\u001b[0m\n\u001b[1;32m     37\u001b[0m \u001b[0;34m\u001b[0m\u001b[0m\n\u001b[0;32m---> 38\u001b[0;31m             \u001b[0;32mreturn\u001b[0m \u001b[0mdraw\u001b[0m\u001b[0;34m(\u001b[0m\u001b[0martist\u001b[0m\u001b[0;34m,\u001b[0m \u001b[0mrenderer\u001b[0m\u001b[0;34m,\u001b[0m \u001b[0;34m*\u001b[0m\u001b[0margs\u001b[0m\u001b[0;34m,\u001b[0m \u001b[0;34m**\u001b[0m\u001b[0mkwargs\u001b[0m\u001b[0;34m)\u001b[0m\u001b[0;34m\u001b[0m\u001b[0;34m\u001b[0m\u001b[0m\n\u001b[0m\u001b[1;32m     39\u001b[0m         \u001b[0;32mfinally\u001b[0m\u001b[0;34m:\u001b[0m\u001b[0;34m\u001b[0m\u001b[0;34m\u001b[0m\u001b[0m\n\u001b[1;32m     40\u001b[0m             \u001b[0;32mif\u001b[0m \u001b[0martist\u001b[0m\u001b[0;34m.\u001b[0m\u001b[0mget_agg_filter\u001b[0m\u001b[0;34m(\u001b[0m\u001b[0;34m)\u001b[0m \u001b[0;32mis\u001b[0m \u001b[0;32mnot\u001b[0m \u001b[0;32mNone\u001b[0m\u001b[0;34m:\u001b[0m\u001b[0;34m\u001b[0m\u001b[0;34m\u001b[0m\u001b[0m\n",
            "\u001b[0;32m/usr/local/lib/python3.7/dist-packages/matplotlib/collections.py\u001b[0m in \u001b[0;36mdraw\u001b[0;34m(self, renderer)\u001b[0m\n\u001b[1;32m    892\u001b[0m     \u001b[0;32mdef\u001b[0m \u001b[0mdraw\u001b[0m\u001b[0;34m(\u001b[0m\u001b[0mself\u001b[0m\u001b[0;34m,\u001b[0m \u001b[0mrenderer\u001b[0m\u001b[0;34m)\u001b[0m\u001b[0;34m:\u001b[0m\u001b[0;34m\u001b[0m\u001b[0;34m\u001b[0m\u001b[0m\n\u001b[1;32m    893\u001b[0m         \u001b[0mself\u001b[0m\u001b[0;34m.\u001b[0m\u001b[0mset_sizes\u001b[0m\u001b[0;34m(\u001b[0m\u001b[0mself\u001b[0m\u001b[0;34m.\u001b[0m\u001b[0m_sizes\u001b[0m\u001b[0;34m,\u001b[0m \u001b[0mself\u001b[0m\u001b[0;34m.\u001b[0m\u001b[0mfigure\u001b[0m\u001b[0;34m.\u001b[0m\u001b[0mdpi\u001b[0m\u001b[0;34m)\u001b[0m\u001b[0;34m\u001b[0m\u001b[0;34m\u001b[0m\u001b[0m\n\u001b[0;32m--> 894\u001b[0;31m         \u001b[0mCollection\u001b[0m\u001b[0;34m.\u001b[0m\u001b[0mdraw\u001b[0m\u001b[0;34m(\u001b[0m\u001b[0mself\u001b[0m\u001b[0;34m,\u001b[0m \u001b[0mrenderer\u001b[0m\u001b[0;34m)\u001b[0m\u001b[0;34m\u001b[0m\u001b[0;34m\u001b[0m\u001b[0m\n\u001b[0m\u001b[1;32m    895\u001b[0m \u001b[0;34m\u001b[0m\u001b[0m\n\u001b[1;32m    896\u001b[0m \u001b[0;34m\u001b[0m\u001b[0m\n",
            "\u001b[0;32m/usr/local/lib/python3.7/dist-packages/matplotlib/artist.py\u001b[0m in \u001b[0;36mdraw_wrapper\u001b[0;34m(artist, renderer, *args, **kwargs)\u001b[0m\n\u001b[1;32m     36\u001b[0m                 \u001b[0mrenderer\u001b[0m\u001b[0;34m.\u001b[0m\u001b[0mstart_filter\u001b[0m\u001b[0;34m(\u001b[0m\u001b[0;34m)\u001b[0m\u001b[0;34m\u001b[0m\u001b[0;34m\u001b[0m\u001b[0m\n\u001b[1;32m     37\u001b[0m \u001b[0;34m\u001b[0m\u001b[0m\n\u001b[0;32m---> 38\u001b[0;31m             \u001b[0;32mreturn\u001b[0m \u001b[0mdraw\u001b[0m\u001b[0;34m(\u001b[0m\u001b[0martist\u001b[0m\u001b[0;34m,\u001b[0m \u001b[0mrenderer\u001b[0m\u001b[0;34m,\u001b[0m \u001b[0;34m*\u001b[0m\u001b[0margs\u001b[0m\u001b[0;34m,\u001b[0m \u001b[0;34m**\u001b[0m\u001b[0mkwargs\u001b[0m\u001b[0;34m)\u001b[0m\u001b[0;34m\u001b[0m\u001b[0;34m\u001b[0m\u001b[0m\n\u001b[0m\u001b[1;32m     39\u001b[0m         \u001b[0;32mfinally\u001b[0m\u001b[0;34m:\u001b[0m\u001b[0;34m\u001b[0m\u001b[0;34m\u001b[0m\u001b[0m\n\u001b[1;32m     40\u001b[0m             \u001b[0;32mif\u001b[0m \u001b[0martist\u001b[0m\u001b[0;34m.\u001b[0m\u001b[0mget_agg_filter\u001b[0m\u001b[0;34m(\u001b[0m\u001b[0;34m)\u001b[0m \u001b[0;32mis\u001b[0m \u001b[0;32mnot\u001b[0m \u001b[0;32mNone\u001b[0m\u001b[0;34m:\u001b[0m\u001b[0;34m\u001b[0m\u001b[0;34m\u001b[0m\u001b[0m\n",
            "\u001b[0;32m/usr/local/lib/python3.7/dist-packages/matplotlib/collections.py\u001b[0m in \u001b[0;36mdraw\u001b[0;34m(self, renderer)\u001b[0m\n\u001b[1;32m    359\u001b[0m             renderer.draw_markers(\n\u001b[1;32m    360\u001b[0m                 \u001b[0mgc\u001b[0m\u001b[0;34m,\u001b[0m \u001b[0mpaths\u001b[0m\u001b[0;34m[\u001b[0m\u001b[0;36m0\u001b[0m\u001b[0;34m]\u001b[0m\u001b[0;34m,\u001b[0m \u001b[0mcombined_transform\u001b[0m\u001b[0;34m.\u001b[0m\u001b[0mfrozen\u001b[0m\u001b[0;34m(\u001b[0m\u001b[0;34m)\u001b[0m\u001b[0;34m,\u001b[0m\u001b[0;34m\u001b[0m\u001b[0;34m\u001b[0m\u001b[0m\n\u001b[0;32m--> 361\u001b[0;31m                 mpath.Path(offsets), transOffset, tuple(facecolors[0]))\n\u001b[0m\u001b[1;32m    362\u001b[0m         \u001b[0;32melse\u001b[0m\u001b[0;34m:\u001b[0m\u001b[0;34m\u001b[0m\u001b[0;34m\u001b[0m\u001b[0m\n\u001b[1;32m    363\u001b[0m             renderer.draw_path_collection(\n",
            "\u001b[0;31mKeyboardInterrupt\u001b[0m: "
          ]
        }
      ],
      "source": [
        "fig = plt.figure(dpi=300) \n",
        "plt.scatter(R,P, s=10)\n",
        "plt.plot(line_x, y, 'k')\n",
        "# plt.text(100, 40, r'$k_a$', fontsize=18)\n",
        "plt.xlabel('Observed TEC/TECU', fontsize=18)\n",
        "plt.ylabel('Forecast TEC/TECU', fontsize=18)\n",
        "plt.text(50,20, 'R:{}\\nK:{}'.format(r2, round(reg.coef_[0][0],4)))"
      ]
    },
    {
      "cell_type": "code",
      "execution_count": 55,
      "id": "2402c020",
      "metadata": {
        "id": "2402c020"
      },
      "outputs": [],
      "source": []
    },
    {
      "cell_type": "code",
      "execution_count": 55,
      "id": "5ffc58e8",
      "metadata": {
        "id": "5ffc58e8"
      },
      "outputs": [],
      "source": []
    },
    {
      "cell_type": "code",
      "execution_count": 55,
      "id": "1c3b91ef",
      "metadata": {
        "id": "1c3b91ef"
      },
      "outputs": [],
      "source": []
    },
    {
      "cell_type": "code",
      "execution_count": 55,
      "id": "40730d05",
      "metadata": {
        "id": "40730d05"
      },
      "outputs": [],
      "source": []
    }
  ],
  "metadata": {
    "celltoolbar": "原始单元格格式",
    "kernelspec": {
      "display_name": "Python 3",
      "name": "python3"
    },
    "language_info": {
      "name": "python"
    },
    "toc": {
      "base_numbering": 1,
      "nav_menu": {},
      "number_sections": true,
      "sideBar": true,
      "skip_h1_title": false,
      "title_cell": "Table of Contents",
      "title_sidebar": "Contents",
      "toc_cell": false,
      "toc_position": {},
      "toc_section_display": true,
      "toc_window_display": false
    },
    "varInspector": {
      "cols": {
        "lenName": 16,
        "lenType": 16,
        "lenVar": 40
      },
      "kernels_config": {
        "python": {
          "delete_cmd_postfix": "",
          "delete_cmd_prefix": "del ",
          "library": "var_list.py",
          "varRefreshCmd": "print(var_dic_list())"
        },
        "r": {
          "delete_cmd_postfix": ") ",
          "delete_cmd_prefix": "rm(",
          "library": "var_list.r",
          "varRefreshCmd": "cat(var_dic_list()) "
        }
      },
      "types_to_exclude": [
        "module",
        "function",
        "builtin_function_or_method",
        "instance",
        "_Feature"
      ],
      "window_display": false
    },
    "colab": {
      "provenance": [],
      "collapsed_sections": [],
      "include_colab_link": true
    },
    "accelerator": "GPU",
    "gpuClass": "standard"
  },
  "nbformat": 4,
  "nbformat_minor": 5
}