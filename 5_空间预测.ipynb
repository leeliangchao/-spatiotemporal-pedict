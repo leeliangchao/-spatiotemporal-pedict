{
  "cells": [
    {
      "cell_type": "markdown",
      "metadata": {
        "id": "view-in-github",
        "colab_type": "text"
      },
      "source": [
        "<a href=\"https://colab.research.google.com/github/leeliangchao/-spatiotemporal-pedict/blob/main/5_%E7%A9%BA%E9%97%B4%E9%A2%84%E6%B5%8B.ipynb\" target=\"_parent\"><img src=\"https://colab.research.google.com/assets/colab-badge.svg\" alt=\"Open In Colab\"/></a>"
      ]
    },
    {
      "cell_type": "code",
      "source": [
        "from google.colab import drive\n",
        "drive.mount('/content/drive/')"
      ],
      "metadata": {
        "id": "WNGx8m31kq0A",
        "colab": {
          "base_uri": "https://localhost:8080/"
        },
        "outputId": "08deda1b-d669-4e2c-a0e0-eef2ab368f80"
      },
      "id": "WNGx8m31kq0A",
      "execution_count": 2,
      "outputs": [
        {
          "output_type": "stream",
          "name": "stdout",
          "text": [
            "Mounted at /content/drive/\n"
          ]
        }
      ]
    },
    {
      "cell_type": "code",
      "execution_count": 3,
      "id": "6bb2a220",
      "metadata": {
        "ExecuteTime": {
          "end_time": "2022-10-05T09:06:51.063255Z",
          "start_time": "2022-10-05T09:06:50.157218Z"
        },
        "id": "6bb2a220"
      },
      "outputs": [],
      "source": [
        "import matplotlib.pyplot as plt\n",
        "import numpy as np\n",
        "import pandas as pd "
      ]
    },
    {
      "cell_type": "code",
      "source": [
        "# !pip install mlxtend==0.18\n",
        "# from mlxtend.plotting import heatmap"
      ],
      "metadata": {
        "id": "V6Kdr2y3KIhs"
      },
      "id": "V6Kdr2y3KIhs",
      "execution_count": 4,
      "outputs": []
    },
    {
      "cell_type": "markdown",
      "id": "37fef43b",
      "metadata": {
        "id": "37fef43b"
      },
      "source": [
        "\n",
        "## 范围选择"
      ]
    },
    {
      "cell_type": "code",
      "execution_count": 5,
      "id": "40cfebf7",
      "metadata": {
        "ExecuteTime": {
          "end_time": "2022-10-05T09:06:52.641112Z",
          "start_time": "2022-10-05T09:06:52.625418Z"
        },
        "id": "40cfebf7"
      },
      "outputs": [],
      "source": [
        "Longitude_Index = 54    #经度索引\n",
        "Longitude_End = 62 +1   #经度索引\n",
        "\n",
        "Latitude_Index = 17  # 纬度索引\n",
        "Latitude_End = 31 +1 # 纬度索引"
      ]
    },
    {
      "cell_type": "code",
      "execution_count": 6,
      "id": "0c836035",
      "metadata": {
        "ExecuteTime": {
          "end_time": "2022-10-05T09:06:53.344067Z",
          "start_time": "2022-10-05T09:06:53.328376Z"
        },
        "id": "0c836035"
      },
      "outputs": [],
      "source": [
        "Sample = np.load('/content/drive/MyDrive/TEC/日本3台站/CODE/TEC.npy')"
      ]
    },
    {
      "cell_type": "code",
      "source": [
        "Sample.shape"
      ],
      "metadata": {
        "colab": {
          "base_uri": "https://localhost:8080/"
        },
        "id": "Yjqhyp6XlnQp",
        "outputId": "bd2501a1-aae9-418a-ab22-7175aacb1cff"
      },
      "id": "Yjqhyp6XlnQp",
      "execution_count": 7,
      "outputs": [
        {
          "output_type": "execute_result",
          "data": {
            "text/plain": [
              "(71, 73, 25, 366, 1)"
            ]
          },
          "metadata": {},
          "execution_count": 7
        }
      ]
    },
    {
      "cell_type": "code",
      "execution_count": 8,
      "id": "de52e2ed",
      "metadata": {
        "ExecuteTime": {
          "end_time": "2022-10-05T09:07:17.057186Z",
          "start_time": "2022-10-05T09:07:17.041515Z"
        },
        "id": "de52e2ed"
      },
      "outputs": [],
      "source": [
        "Target_region = Sample[Latitude_Index:Latitude_End, Longitude_Index:Longitude_End,:,:100,:]"
      ]
    },
    {
      "cell_type": "code",
      "execution_count": 9,
      "id": "631c76c5",
      "metadata": {
        "ExecuteTime": {
          "end_time": "2022-10-05T09:07:18.806688Z",
          "start_time": "2022-10-05T09:07:18.541160Z"
        },
        "scrolled": false,
        "id": "631c76c5",
        "colab": {
          "base_uri": "https://localhost:8080/",
          "height": 385
        },
        "outputId": "ec17cd7e-b017-403e-d061-a6577744d75d"
      },
      "outputs": [
        {
          "output_type": "display_data",
          "data": {
            "text/plain": [
              "<Figure size 400x400 with 1 Axes>"
            ],
            "image/png": "[encoded data removed]"
          },
          "metadata": {
            "needs_background": "light"
          }
        },
        {
          "output_type": "execute_result",
          "data": {
            "text/plain": [
              "matplotlib.image.AxesImage"
            ]
          },
          "metadata": {},
          "execution_count": 9
        }
      ],
      "source": [
        "fig, ax = plt.subplots(figsize=(4, 4), dpi=100)\n",
        "line=ax.matshow(Target_region[:,:,-2,0,0], cmap = plt.cm.winter)\n",
        "plt.show()\n",
        "type(line)"
      ]
    },
    {
      "cell_type": "code",
      "source": [
        "from matplotlib import animation"
      ],
      "metadata": {
        "id": "eBC7G1WP3l7X"
      },
      "id": "eBC7G1WP3l7X",
      "execution_count": 10,
      "outputs": []
    },
    {
      "cell_type": "code",
      "source": [
        "def animate(i):\n",
        "  line.set_data(Target_region[:,:,i,0,0])\n",
        "  return line,\n",
        "def init():\n",
        "  line.set_data(Target_region[:,:,0,0,0])\n",
        "  return line,\n",
        "ani = animation.FuncAnimation(fig=fig, func=animate,frames=25,init_func=init,interval=200,blit=False)\n",
        "ani.save('ani.gif', writer='pillow')\n",
        "plt.show()"
      ],
      "metadata": {
        "id": "jaenFjFu4Lu6"
      },
      "id": "jaenFjFu4Lu6",
      "execution_count": 11,
      "outputs": []
    },
    {
      "cell_type": "markdown",
      "id": "4a36e19f",
      "metadata": {
        "id": "4a36e19f"
      },
      "source": [
        "### 样本制作"
      ]
    },
    {
      "cell_type": "code",
      "execution_count": 12,
      "id": "edf59186",
      "metadata": {
        "ExecuteTime": {
          "end_time": "2022-10-05T09:07:53.017448Z",
          "start_time": "2022-10-05T09:07:52.954900Z"
        },
        "id": "edf59186"
      },
      "outputs": [],
      "source": [
        "###################绘图###################\n",
        "import matplotlib.pyplot as plt\n",
        "###################标准化###################\n",
        "from sklearn.preprocessing import MinMaxScaler"
      ]
    },
    {
      "cell_type": "code",
      "source": [
        "Target_region.shape"
      ],
      "metadata": {
        "colab": {
          "base_uri": "https://localhost:8080/"
        },
        "id": "qU1eUQwGrWJ1",
        "outputId": "550bf3c9-13f7-4ab1-d4c7-e4d32e1e97cf"
      },
      "id": "qU1eUQwGrWJ1",
      "execution_count": 13,
      "outputs": [
        {
          "output_type": "execute_result",
          "data": {
            "text/plain": [
              "(15, 9, 25, 100, 1)"
            ]
          },
          "metadata": {},
          "execution_count": 13
        }
      ]
    },
    {
      "cell_type": "code",
      "source": [
        "data = np.swapaxes(Target_region, 0,2)\n",
        "data = np.swapaxes(data, 1,3)\n",
        "data = np.swapaxes(data, 0,1)"
      ],
      "metadata": {
        "id": "clTa9wSsqxJ0"
      },
      "id": "clTa9wSsqxJ0",
      "execution_count": 14,
      "outputs": []
    },
    {
      "cell_type": "code",
      "source": [
        "data.shape"
      ],
      "metadata": {
        "colab": {
          "base_uri": "https://localhost:8080/"
        },
        "id": "HKyW54tirGUp",
        "outputId": "01c6fe53-603b-456b-ceef-07b5cd08c0d1"
      },
      "id": "HKyW54tirGUp",
      "execution_count": 15,
      "outputs": [
        {
          "output_type": "execute_result",
          "data": {
            "text/plain": [
              "(100, 25, 15, 9, 1)"
            ]
          },
          "metadata": {},
          "execution_count": 15
        }
      ]
    },
    {
      "cell_type": "code",
      "source": [
        "data = np.delete(data,[-1], axis=0);data.shape"
      ],
      "metadata": {
        "id": "YzNN8lgnXrWU",
        "colab": {
          "base_uri": "https://localhost:8080/"
        },
        "outputId": "5fd48886-fecf-44d1-e770-ada42eaeb182"
      },
      "id": "YzNN8lgnXrWU",
      "execution_count": 16,
      "outputs": [
        {
          "output_type": "execute_result",
          "data": {
            "text/plain": [
              "(99, 25, 15, 9, 1)"
            ]
          },
          "metadata": {},
          "execution_count": 16
        }
      ]
    },
    {
      "cell_type": "code",
      "source": [
        "data = data.reshape(-1,15,9,1)"
      ],
      "metadata": {
        "id": "K8kCvw23Fp_u"
      },
      "id": "K8kCvw23Fp_u",
      "execution_count": 17,
      "outputs": []
    },
    {
      "cell_type": "code",
      "source": [
        "data.shape"
      ],
      "metadata": {
        "colab": {
          "base_uri": "https://localhost:8080/"
        },
        "id": "uz8DmNMQGrLc",
        "outputId": "25b58552-3fb9-4799-925f-609ee4c009a5"
      },
      "id": "uz8DmNMQGrLc",
      "execution_count": 18,
      "outputs": [
        {
          "output_type": "execute_result",
          "data": {
            "text/plain": [
              "(2475, 15, 9, 1)"
            ]
          },
          "metadata": {},
          "execution_count": 18
        }
      ]
    },
    {
      "cell_type": "code",
      "source": [
        "data = data[::2]"
      ],
      "metadata": {
        "id": "wtMXJkGs9wHL"
      },
      "id": "wtMXJkGs9wHL",
      "execution_count": 19,
      "outputs": []
    },
    {
      "cell_type": "code",
      "source": [
        "data.shape"
      ],
      "metadata": {
        "colab": {
          "base_uri": "https://localhost:8080/"
        },
        "id": "xhmoEtur99zF",
        "outputId": "1d154353-29fd-448d-872a-800651df6930"
      },
      "id": "xhmoEtur99zF",
      "execution_count": 20,
      "outputs": [
        {
          "output_type": "execute_result",
          "data": {
            "text/plain": [
              "(1238, 15, 9, 1)"
            ]
          },
          "metadata": {},
          "execution_count": 20
        }
      ]
    },
    {
      "cell_type": "code",
      "source": [
        "# 数据集划分\n",
        "def create_dataset(data, look_back=75, forward=1):\n",
        "  x = []\n",
        "  y = []\n",
        "  for i in range(data.shape[0]-(look_back+forward)+1):\n",
        "    x.append(data[i:i+look_back,:,:,:])\n",
        "    y.append(data[i+look_back,:,:,:])\n",
        "  return (np.array(x), np.array(y))\n"
      ],
      "metadata": {
        "id": "CD4XBCt8oKXO"
      },
      "id": "CD4XBCt8oKXO",
      "execution_count": 21,
      "outputs": []
    },
    {
      "cell_type": "code",
      "source": [
        "a,b = create_dataset(data)"
      ],
      "metadata": {
        "id": "wxb8PyVdKsvV"
      },
      "id": "wxb8PyVdKsvV",
      "execution_count": 22,
      "outputs": []
    },
    {
      "cell_type": "code",
      "source": [
        "a.shape,b.shape"
      ],
      "metadata": {
        "colab": {
          "base_uri": "https://localhost:8080/"
        },
        "id": "Co_VZj-ELxn_",
        "outputId": "c86dd926-260c-43ed-d825-6ea76b13d8dd"
      },
      "id": "Co_VZj-ELxn_",
      "execution_count": 23,
      "outputs": [
        {
          "output_type": "execute_result",
          "data": {
            "text/plain": [
              "((1163, 75, 15, 9, 1), (1163, 15, 9, 1))"
            ]
          },
          "metadata": {},
          "execution_count": 23
        }
      ]
    },
    {
      "cell_type": "code",
      "execution_count": 24,
      "id": "ca5e489f",
      "metadata": {
        "ExecuteTime": {
          "end_time": "2022-10-05T09:08:25.212853Z",
          "start_time": "2022-10-05T09:08:25.197229Z"
        },
        "id": "ca5e489f",
        "colab": {
          "base_uri": "https://localhost:8080/"
        },
        "outputId": "527f16ee-0597-4c17-e8b7-e6f9d3976493"
      },
      "outputs": [
        {
          "output_type": "execute_result",
          "data": {
            "text/plain": [
              "930"
            ]
          },
          "metadata": {},
          "execution_count": 24
        }
      ],
      "source": [
        "# len(df)为df多少行\n",
        "pot = round(0.8 * a.shape[0])\n",
        "pot"
      ]
    },
    {
      "cell_type": "code",
      "execution_count": 25,
      "id": "8e371375",
      "metadata": {
        "ExecuteTime": {
          "end_time": "2022-10-05T09:08:25.587764Z",
          "start_time": "2022-10-05T09:08:25.572143Z"
        },
        "id": "8e371375"
      },
      "outputs": [],
      "source": [
        "x_train, y_train = a[:pot],b[:pot]\n",
        "x_test, y_test = a[pot:],b[pot:]\n",
        "# y_train = np.expand_dims(y_train, 1)\n",
        "# y_test = np.expand_dims(y_test, 1)"
      ]
    },
    {
      "cell_type": "code",
      "source": [
        "x_train.shape, x_test.shape,y_test.shape"
      ],
      "metadata": {
        "colab": {
          "base_uri": "https://localhost:8080/"
        },
        "id": "jisy-reTtHOf",
        "outputId": "aecadfbe-69ba-4f57-d03a-e739986e6af4"
      },
      "id": "jisy-reTtHOf",
      "execution_count": 26,
      "outputs": [
        {
          "output_type": "execute_result",
          "data": {
            "text/plain": [
              "((930, 75, 15, 9, 1), (233, 75, 15, 9, 1), (233, 15, 9, 1))"
            ]
          },
          "metadata": {},
          "execution_count": 26
        }
      ]
    },
    {
      "cell_type": "markdown",
      "id": "046c7cee",
      "metadata": {
        "id": "046c7cee"
      },
      "source": [
        "### LearningRateScheduler调整学习率"
      ]
    },
    {
      "cell_type": "code",
      "execution_count": 27,
      "id": "05667918",
      "metadata": {
        "ExecuteTime": {
          "end_time": "2022-10-05T09:08:33.804680Z",
          "start_time": "2022-10-05T09:08:32.289305Z"
        },
        "id": "05667918"
      },
      "outputs": [],
      "source": [
        "from tensorflow.keras import backend as K\n",
        "from tensorflow.keras.callbacks import EarlyStopping, LearningRateScheduler"
      ]
    },
    {
      "cell_type": "code",
      "execution_count": 28,
      "id": "ddafc547",
      "metadata": {
        "ExecuteTime": {
          "end_time": "2022-10-05T09:08:34.538789Z",
          "start_time": "2022-10-05T09:08:34.523255Z"
        },
        "id": "ddafc547"
      },
      "outputs": [],
      "source": [
        "def scheduler(epoch):\n",
        "    if epoch % 40 ==0 :\n",
        "        lr = K.get_value(tcn.optimizer.lr)\n",
        "        if lr > 1e-5:\n",
        "            K.set_value(tcn.optimizer.lr, lr *0.5)\n",
        "            print('lr changed to {}'.format(lr * 0.5))\n",
        "    return K.get_value(tcn.optimizer.lr)"
      ]
    },
    {
      "cell_type": "code",
      "execution_count": 29,
      "id": "2649ac73",
      "metadata": {
        "ExecuteTime": {
          "end_time": "2022-10-05T09:08:35.741715Z",
          "start_time": "2022-10-05T09:08:35.725991Z"
        },
        "id": "2649ac73"
      },
      "outputs": [],
      "source": [
        "reduce_lr = LearningRateScheduler(scheduler)\n",
        "early_stopping = EarlyStopping(monitor='loss', \n",
        "                               patience=20, \n",
        "                               min_delta=1e-5,\n",
        "                               mode='auto',\n",
        "                               restore_best_weights=False,#是否从具有监测数量的最佳值的时期恢复模型权重\n",
        "                               verbose=2)"
      ]
    },
    {
      "cell_type": "code",
      "execution_count": 30,
      "id": "000793c6",
      "metadata": {
        "ExecuteTime": {
          "end_time": "2022-10-05T09:08:36.757098Z",
          "start_time": "2022-10-05T09:08:36.725785Z"
        },
        "id": "000793c6"
      },
      "outputs": [],
      "source": [
        "import tensorflow as tf\n",
        "from tensorflow.keras.layers import ConvLSTM2D,Conv2D,BatchNormalization\n",
        "from tensorflow.keras import Input, Model, Sequential\n",
        "from sklearn.metrics import mean_squared_error"
      ]
    },
    {
      "cell_type": "code",
      "execution_count": 31,
      "id": "5797cf77",
      "metadata": {
        "ExecuteTime": {
          "end_time": "2022-10-05T09:08:38.038011Z",
          "start_time": "2022-10-05T09:08:38.022411Z"
        },
        "id": "5797cf77"
      },
      "outputs": [],
      "source": [
        "# 自定义损失函数\n",
        "def my_metric_fn(y_true, y_pred):\n",
        "    SS_res =  K.sum(K.square( y_true-y_pred )) \n",
        "    SS_tot = K.sum(K.square( y_true - K.mean(y_true) ) ) \n",
        "    return ( 1 - SS_res/(SS_tot + K.epsilon()) )\n",
        "def root_mean_squared_error(y_true, y_pred):\n",
        "        return K.sqrt(K.mean(K.square(y_pred - y_true)))\n",
        "# Loss function\n",
        "def ssim_loss(y_true, y_pred):\n",
        "    return 1 - tf.reduce_mean(tf.image.ssim(y_true, y_pred, 1.0, filter_size=3))"
      ]
    },
    {
      "cell_type": "code",
      "execution_count": 32,
      "id": "bcf4bfa4",
      "metadata": {
        "ExecuteTime": {
          "end_time": "2022-10-05T09:42:37.867903Z",
          "start_time": "2022-10-05T09:42:36.961797Z"
        },
        "code_folding": [],
        "id": "bcf4bfa4",
        "colab": {
          "base_uri": "https://localhost:8080/"
        },
        "outputId": "3dfb1bf8-f55a-45a8-9664-cfa22fe46154"
      },
      "outputs": [
        {
          "output_type": "stream",
          "name": "stdout",
          "text": [
            "Model: \"sequential\"\n",
            "_________________________________________________________________\n",
            " Layer (type)                Output Shape              Param #   \n",
            "=================================================================\n",
            " conv_lstm2d (ConvLSTM2D)    (None, None, 15, 9, 32)   38144     \n",
            "                                                                 \n",
            " batch_normalization (BatchN  (None, None, 15, 9, 32)  128       \n",
            " ormalization)                                                   \n",
            "                                                                 \n",
            " conv_lstm2d_1 (ConvLSTM2D)  (None, None, 15, 9, 32)   32896     \n",
            "                                                                 \n",
            " batch_normalization_1 (Batc  (None, None, 15, 9, 32)  128       \n",
            " hNormalization)                                                 \n",
            "                                                                 \n",
            " conv_lstm2d_2 (ConvLSTM2D)  (None, None, 15, 9, 32)   32896     \n",
            "                                                                 \n",
            " batch_normalization_2 (Batc  (None, None, 15, 9, 32)  128       \n",
            " hNormalization)                                                 \n",
            "                                                                 \n",
            " conv_lstm2d_3 (ConvLSTM2D)  (None, 15, 9, 32)         32896     \n",
            "                                                                 \n",
            " batch_normalization_3 (Batc  (None, 15, 9, 32)        128       \n",
            " hNormalization)                                                 \n",
            "                                                                 \n",
            " conv2d (Conv2D)             (None, 15, 9, 1)          33        \n",
            "                                                                 \n",
            "=================================================================\n",
            "Total params: 137,377\n",
            "Trainable params: 137,121\n",
            "Non-trainable params: 256\n",
            "_________________________________________________________________\n"
          ]
        }
      ],
      "source": [
        "#输入维数\n",
        "tcn = Sequential()\n",
        "input_layer =Input(shape=(None, *x_train.shape[2:]))\n",
        "tcn.add(input_layer)\n",
        "tcn.add(\n",
        "    ConvLSTM2D(\n",
        "        filters=32,\n",
        "        kernel_size=(3,3),\n",
        "        padding='same',\n",
        "        return_sequences=True\n",
        "    )\n",
        ")\n",
        "tcn.add(BatchNormalization())\n",
        "# tcn.add(LayerNormalization())\n",
        "tcn.add(\n",
        "    ConvLSTM2D(\n",
        "        filters=32,\n",
        "        kernel_size=(2,2),\n",
        "        padding='same',\n",
        "        return_sequences=True\n",
        "    )\n",
        ")\n",
        "tcn.add(BatchNormalization())\n",
        "# tcn.add(LayerNormalization())\n",
        "tcn.add(\n",
        "    ConvLSTM2D(\n",
        "        filters=32,\n",
        "        kernel_size=(2,2),\n",
        "        padding='same',\n",
        "        return_sequences=True\n",
        "    )\n",
        ")\n",
        "tcn.add(BatchNormalization())\n",
        "# tcn.add(LayerNormalization())\n",
        "tcn.add(\n",
        "    ConvLSTM2D(\n",
        "        filters=32,\n",
        "        kernel_size=(2,2),\n",
        "        padding='same',\n",
        "        return_sequences=False\n",
        "    )\n",
        ")\n",
        "tcn.add(BatchNormalization())\n",
        "# tcn.add(LayerNormalization())\n",
        "tcn.add(Conv2D(filters=1, kernel_size=(1, 1),activation=\"relu\", padding=\"same\"))\n",
        "tcn.compile(tf.keras.optimizers.Adam(learning_rate=0.01), loss=root_mean_squared_error)# RMSE\n",
        "tcn.summary()"
      ]
    },
    {
      "cell_type": "code",
      "execution_count": 33,
      "id": "5ffc345f",
      "metadata": {
        "ExecuteTime": {
          "end_time": "2022-10-05T09:53:01.829540Z",
          "start_time": "2022-10-05T09:43:43.992822Z"
        },
        "scrolled": true,
        "id": "5ffc345f",
        "colab": {
          "base_uri": "https://localhost:8080/"
        },
        "outputId": "5404d9ab-50db-4734-8d87-8d9e6e702991"
      },
      "outputs": [
        {
          "output_type": "stream",
          "name": "stdout",
          "text": [
            "lr changed to 0.004999999888241291\n",
            "Epoch 1/300\n",
            "15/15 [==============================] - 42s 2s/step - loss: 9.0334 - lr: 0.0050\n",
            "Epoch 2/300\n",
            "15/15 [==============================] - 25s 2s/step - loss: 6.2296 - lr: 0.0050\n",
            "Epoch 3/300\n",
            "15/15 [==============================] - 26s 2s/step - loss: 4.2875 - lr: 0.0050\n",
            "Epoch 4/300\n",
            "15/15 [==============================] - 27s 2s/step - loss: 3.1670 - lr: 0.0050\n",
            "Epoch 5/300\n",
            "15/15 [==============================] - 27s 2s/step - loss: 2.6327 - lr: 0.0050\n",
            "Epoch 6/300\n",
            "15/15 [==============================] - 26s 2s/step - loss: 2.3170 - lr: 0.0050\n",
            "Epoch 7/300\n",
            "15/15 [==============================] - 26s 2s/step - loss: 2.3050 - lr: 0.0050\n",
            "Epoch 8/300\n",
            "15/15 [==============================] - 29s 2s/step - loss: 1.9766 - lr: 0.0050\n",
            "Epoch 9/300\n",
            "15/15 [==============================] - 25s 2s/step - loss: 1.9645 - lr: 0.0050\n",
            "Epoch 10/300\n",
            "15/15 [==============================] - 26s 2s/step - loss: 1.6616 - lr: 0.0050\n",
            "Epoch 11/300\n",
            "15/15 [==============================] - 28s 2s/step - loss: 1.6427 - lr: 0.0050\n",
            "Epoch 12/300\n",
            "15/15 [==============================] - 28s 2s/step - loss: 1.7438 - lr: 0.0050\n",
            "Epoch 13/300\n",
            "15/15 [==============================] - 26s 2s/step - loss: 1.5623 - lr: 0.0050\n",
            "Epoch 14/300\n",
            "15/15 [==============================] - 26s 2s/step - loss: 1.5515 - lr: 0.0050\n",
            "Epoch 15/300\n",
            "15/15 [==============================] - 25s 2s/step - loss: 1.4742 - lr: 0.0050\n",
            "Epoch 16/300\n",
            "15/15 [==============================] - 26s 2s/step - loss: 1.3895 - lr: 0.0050\n",
            "Epoch 17/300\n",
            "15/15 [==============================] - 29s 2s/step - loss: 1.3752 - lr: 0.0050\n",
            "Epoch 18/300\n",
            "15/15 [==============================] - 27s 2s/step - loss: 1.4777 - lr: 0.0050\n",
            "Epoch 19/300\n",
            "15/15 [==============================] - 27s 2s/step - loss: 1.4565 - lr: 0.0050\n",
            "Epoch 20/300\n",
            "15/15 [==============================] - 25s 2s/step - loss: 1.3258 - lr: 0.0050\n",
            "Epoch 21/300\n",
            "15/15 [==============================] - 25s 2s/step - loss: 1.3705 - lr: 0.0050\n",
            "Epoch 22/300\n",
            "15/15 [==============================] - 25s 2s/step - loss: 1.4095 - lr: 0.0050\n",
            "Epoch 23/300\n",
            "15/15 [==============================] - 26s 2s/step - loss: 1.3227 - lr: 0.0050\n",
            "Epoch 24/300\n",
            "15/15 [==============================] - 26s 2s/step - loss: 1.2932 - lr: 0.0050\n",
            "Epoch 25/300\n",
            "15/15 [==============================] - 26s 2s/step - loss: 1.2938 - lr: 0.0050\n",
            "Epoch 26/300\n",
            "15/15 [==============================] - 26s 2s/step - loss: 1.2509 - lr: 0.0050\n",
            "Epoch 27/300\n",
            "15/15 [==============================] - 30s 2s/step - loss: 1.1947 - lr: 0.0050\n",
            "Epoch 28/300\n",
            "15/15 [==============================] - 29s 2s/step - loss: 1.4090 - lr: 0.0050\n",
            "Epoch 29/300\n",
            "15/15 [==============================] - 25s 2s/step - loss: 1.4252 - lr: 0.0050\n",
            "Epoch 30/300\n",
            "15/15 [==============================] - 25s 2s/step - loss: 1.2826 - lr: 0.0050\n",
            "Epoch 31/300\n",
            "15/15 [==============================] - 25s 2s/step - loss: 1.3050 - lr: 0.0050\n",
            "Epoch 32/300\n",
            "15/15 [==============================] - 26s 2s/step - loss: 1.2303 - lr: 0.0050\n",
            "Epoch 33/300\n",
            "15/15 [==============================] - 26s 2s/step - loss: 1.3171 - lr: 0.0050\n",
            "Epoch 34/300\n",
            "15/15 [==============================] - 29s 2s/step - loss: 1.2075 - lr: 0.0050\n",
            "Epoch 35/300\n",
            "15/15 [==============================] - 26s 2s/step - loss: 1.1707 - lr: 0.0050\n",
            "Epoch 36/300\n",
            "15/15 [==============================] - 25s 2s/step - loss: 1.3021 - lr: 0.0050\n",
            "Epoch 37/300\n",
            "15/15 [==============================] - 26s 2s/step - loss: 1.3076 - lr: 0.0050\n",
            "Epoch 38/300\n",
            "15/15 [==============================] - 26s 2s/step - loss: 1.1764 - lr: 0.0050\n",
            "Epoch 39/300\n",
            "15/15 [==============================] - 29s 2s/step - loss: 1.1932 - lr: 0.0050\n",
            "Epoch 40/300\n",
            "15/15 [==============================] - 26s 2s/step - loss: 1.2286 - lr: 0.0050\n",
            "lr changed to 0.0024999999441206455\n",
            "Epoch 41/300\n",
            "15/15 [==============================] - 30s 2s/step - loss: 1.2541 - lr: 0.0025\n",
            "Epoch 42/300\n",
            "15/15 [==============================] - 26s 2s/step - loss: 1.1861 - lr: 0.0025\n",
            "Epoch 43/300\n",
            "15/15 [==============================] - 25s 2s/step - loss: 1.3164 - lr: 0.0025\n",
            "Epoch 44/300\n",
            "15/15 [==============================] - 26s 2s/step - loss: 1.2194 - lr: 0.0025\n",
            "Epoch 45/300\n",
            "15/15 [==============================] - 25s 2s/step - loss: 1.2494 - lr: 0.0025\n",
            "Epoch 46/300\n",
            "15/15 [==============================] - 25s 2s/step - loss: 1.0880 - lr: 0.0025\n",
            "Epoch 47/300\n",
            "15/15 [==============================] - 25s 2s/step - loss: 1.1815 - lr: 0.0025\n",
            "Epoch 48/300\n",
            "15/15 [==============================] - 25s 2s/step - loss: 1.1509 - lr: 0.0025\n",
            "Epoch 49/300\n",
            "15/15 [==============================] - 25s 2s/step - loss: 1.1390 - lr: 0.0025\n",
            "Epoch 50/300\n",
            "15/15 [==============================] - 32s 2s/step - loss: 1.0752 - lr: 0.0025\n",
            "Epoch 51/300\n",
            "15/15 [==============================] - 25s 2s/step - loss: 1.3083 - lr: 0.0025\n",
            "Epoch 52/300\n",
            "15/15 [==============================] - 26s 2s/step - loss: 1.1575 - lr: 0.0025\n",
            "Epoch 53/300\n",
            "15/15 [==============================] - 26s 2s/step - loss: 1.1665 - lr: 0.0025\n",
            "Epoch 54/300\n",
            "15/15 [==============================] - 26s 2s/step - loss: 1.1190 - lr: 0.0025\n",
            "Epoch 55/300\n",
            "15/15 [==============================] - 25s 2s/step - loss: 1.1447 - lr: 0.0025\n",
            "Epoch 56/300\n",
            "15/15 [==============================] - 25s 2s/step - loss: 1.1267 - lr: 0.0025\n",
            "Epoch 57/300\n",
            "15/15 [==============================] - 27s 2s/step - loss: 1.1390 - lr: 0.0025\n",
            "Epoch 58/300\n",
            "15/15 [==============================] - 27s 2s/step - loss: 1.1601 - lr: 0.0025\n",
            "Epoch 59/300\n",
            "15/15 [==============================] - 25s 2s/step - loss: 1.1978 - lr: 0.0025\n",
            "Epoch 60/300\n",
            "15/15 [==============================] - 25s 2s/step - loss: 1.2283 - lr: 0.0025\n",
            "Epoch 61/300\n",
            "15/15 [==============================] - 29s 2s/step - loss: 1.0735 - lr: 0.0025\n",
            "Epoch 62/300\n",
            "15/15 [==============================] - 26s 2s/step - loss: 1.2690 - lr: 0.0025\n",
            "Epoch 63/300\n",
            "15/15 [==============================] - 25s 2s/step - loss: 1.0837 - lr: 0.0025\n",
            "Epoch 64/300\n",
            "15/15 [==============================] - 25s 2s/step - loss: 1.1409 - lr: 0.0025\n",
            "Epoch 65/300\n",
            "15/15 [==============================] - 29s 2s/step - loss: 1.1383 - lr: 0.0025\n",
            "Epoch 66/300\n",
            "15/15 [==============================] - 25s 2s/step - loss: 1.1293 - lr: 0.0025\n",
            "Epoch 67/300\n",
            "15/15 [==============================] - 25s 2s/step - loss: 1.1457 - lr: 0.0025\n",
            "Epoch 68/300\n",
            "15/15 [==============================] - 25s 2s/step - loss: 1.0379 - lr: 0.0025\n",
            "Epoch 69/300\n",
            "15/15 [==============================] - 25s 2s/step - loss: 1.0777 - lr: 0.0025\n",
            "Epoch 70/300\n",
            "15/15 [==============================] - 25s 2s/step - loss: 1.0893 - lr: 0.0025\n",
            "Epoch 71/300\n",
            "15/15 [==============================] - 25s 2s/step - loss: 1.0722 - lr: 0.0025\n",
            "Epoch 72/300\n",
            "15/15 [==============================] - 33s 2s/step - loss: 1.1236 - lr: 0.0025\n",
            "Epoch 73/300\n",
            "15/15 [==============================] - 25s 2s/step - loss: 1.1143 - lr: 0.0025\n",
            "Epoch 74/300\n",
            "15/15 [==============================] - 25s 2s/step - loss: 1.0439 - lr: 0.0025\n",
            "Epoch 75/300\n",
            "15/15 [==============================] - 25s 2s/step - loss: 1.0455 - lr: 0.0025\n",
            "Epoch 76/300\n",
            "15/15 [==============================] - 25s 2s/step - loss: 1.1238 - lr: 0.0025\n",
            "Epoch 77/300\n",
            "15/15 [==============================] - 25s 2s/step - loss: 1.1293 - lr: 0.0025\n",
            "Epoch 78/300\n",
            "15/15 [==============================] - 26s 2s/step - loss: 1.0574 - lr: 0.0025\n",
            "Epoch 79/300\n",
            "15/15 [==============================] - 25s 2s/step - loss: 1.1514 - lr: 0.0025\n",
            "Epoch 80/300\n",
            "15/15 [==============================] - 27s 2s/step - loss: 1.2207 - lr: 0.0025\n",
            "lr changed to 0.0012499999720603228\n",
            "Epoch 81/300\n",
            "15/15 [==============================] - 27s 2s/step - loss: 1.0744 - lr: 0.0012\n",
            "Epoch 82/300\n",
            "15/15 [==============================] - 25s 2s/step - loss: 1.1957 - lr: 0.0012\n",
            "Epoch 83/300\n",
            "15/15 [==============================] - 29s 2s/step - loss: 1.1508 - lr: 0.0012\n",
            "Epoch 84/300\n",
            "15/15 [==============================] - 25s 2s/step - loss: 1.0001 - lr: 0.0012\n",
            "Epoch 85/300\n",
            "15/15 [==============================] - 26s 2s/step - loss: 0.9740 - lr: 0.0012\n",
            "Epoch 86/300\n",
            "15/15 [==============================] - 25s 2s/step - loss: 1.0983 - lr: 0.0012\n",
            "Epoch 87/300\n",
            "15/15 [==============================] - 25s 2s/step - loss: 0.9659 - lr: 0.0012\n",
            "Epoch 88/300\n",
            "15/15 [==============================] - 29s 2s/step - loss: 1.0020 - lr: 0.0012\n",
            "Epoch 89/300\n",
            "15/15 [==============================] - 25s 2s/step - loss: 1.1141 - lr: 0.0012\n",
            "Epoch 90/300\n",
            "15/15 [==============================] - 25s 2s/step - loss: 0.9624 - lr: 0.0012\n",
            "Epoch 91/300\n",
            "15/15 [==============================] - 25s 2s/step - loss: 0.9422 - lr: 0.0012\n",
            "Epoch 92/300\n",
            "15/15 [==============================] - 25s 2s/step - loss: 1.0481 - lr: 0.0012\n",
            "Epoch 93/300\n",
            "15/15 [==============================] - 25s 2s/step - loss: 1.1013 - lr: 0.0012\n",
            "Epoch 94/300\n",
            "15/15 [==============================] - 29s 2s/step - loss: 1.0536 - lr: 0.0012\n",
            "Epoch 95/300\n",
            "15/15 [==============================] - 29s 2s/step - loss: 1.1104 - lr: 0.0012\n",
            "Epoch 96/300\n",
            "15/15 [==============================] - 25s 2s/step - loss: 0.9403 - lr: 0.0012\n",
            "Epoch 97/300\n",
            "15/15 [==============================] - 25s 2s/step - loss: 1.0898 - lr: 0.0012\n",
            "Epoch 98/300\n",
            "15/15 [==============================] - 25s 2s/step - loss: 1.0091 - lr: 0.0012\n",
            "Epoch 99/300\n",
            "15/15 [==============================] - 25s 2s/step - loss: 1.0429 - lr: 0.0012\n",
            "Epoch 100/300\n",
            "15/15 [==============================] - 25s 2s/step - loss: 0.9389 - lr: 0.0012\n",
            "Epoch 101/300\n",
            "15/15 [==============================] - 25s 2s/step - loss: 1.0039 - lr: 0.0012\n",
            "Epoch 102/300\n",
            "15/15 [==============================] - 25s 2s/step - loss: 0.9375 - lr: 0.0012\n",
            "Epoch 103/300\n",
            "15/15 [==============================] - 26s 2s/step - loss: 1.0671 - lr: 0.0012\n",
            "Epoch 104/300\n",
            "15/15 [==============================] - 29s 2s/step - loss: 1.0240 - lr: 0.0012\n",
            "Epoch 105/300\n",
            "15/15 [==============================] - 29s 2s/step - loss: 0.9627 - lr: 0.0012\n",
            "Epoch 106/300\n",
            "15/15 [==============================] - 25s 2s/step - loss: 1.0147 - lr: 0.0012\n",
            "Epoch 107/300\n",
            "15/15 [==============================] - 25s 2s/step - loss: 1.1823 - lr: 0.0012\n",
            "Epoch 108/300\n",
            "15/15 [==============================] - 25s 2s/step - loss: 1.0325 - lr: 0.0012\n",
            "Epoch 109/300\n",
            "15/15 [==============================] - 25s 2s/step - loss: 0.9780 - lr: 0.0012\n",
            "Epoch 110/300\n",
            "15/15 [==============================] - 24s 2s/step - loss: 1.0849 - lr: 0.0012\n",
            "Epoch 111/300\n",
            "15/15 [==============================] - 24s 2s/step - loss: 1.0045 - lr: 0.0012\n",
            "Epoch 112/300\n",
            "15/15 [==============================] - 25s 2s/step - loss: 0.9446 - lr: 0.0012\n",
            "Epoch 113/300\n",
            "15/15 [==============================] - 25s 2s/step - loss: 0.9194 - lr: 0.0012\n",
            "Epoch 114/300\n",
            "15/15 [==============================] - 28s 2s/step - loss: 1.0393 - lr: 0.0012\n",
            "Epoch 115/300\n",
            "15/15 [==============================] - 28s 2s/step - loss: 0.9847 - lr: 0.0012\n",
            "Epoch 116/300\n",
            "15/15 [==============================] - 25s 2s/step - loss: 0.9566 - lr: 0.0012\n",
            "Epoch 117/300\n",
            "15/15 [==============================] - 25s 2s/step - loss: 0.9397 - lr: 0.0012\n",
            "Epoch 118/300\n",
            "15/15 [==============================] - 25s 2s/step - loss: 0.9008 - lr: 0.0012\n",
            "Epoch 119/300\n",
            "15/15 [==============================] - 25s 2s/step - loss: 1.1207 - lr: 0.0012\n",
            "Epoch 120/300\n",
            "15/15 [==============================] - 25s 2s/step - loss: 1.1087 - lr: 0.0012\n",
            "lr changed to 0.0006249999860301614\n",
            "Epoch 121/300\n",
            "15/15 [==============================] - 25s 2s/step - loss: 1.0477 - lr: 6.2500e-04\n",
            "Epoch 122/300\n",
            "15/15 [==============================] - 25s 2s/step - loss: 0.9249 - lr: 6.2500e-04\n",
            "Epoch 123/300\n",
            "15/15 [==============================] - 25s 2s/step - loss: 1.0828 - lr: 6.2500e-04\n",
            "Epoch 124/300\n",
            "15/15 [==============================] - 25s 2s/step - loss: 0.9916 - lr: 6.2500e-04\n",
            "Epoch 125/300\n",
            "15/15 [==============================] - 28s 2s/step - loss: 1.0374 - lr: 6.2500e-04\n",
            "Epoch 126/300\n",
            "15/15 [==============================] - 28s 2s/step - loss: 0.9824 - lr: 6.2500e-04\n",
            "Epoch 127/300\n",
            "15/15 [==============================] - 25s 2s/step - loss: 0.8939 - lr: 6.2500e-04\n",
            "Epoch 128/300\n",
            "15/15 [==============================] - 25s 2s/step - loss: 0.9901 - lr: 6.2500e-04\n",
            "Epoch 129/300\n",
            "15/15 [==============================] - 25s 2s/step - loss: 1.0345 - lr: 6.2500e-04\n",
            "Epoch 130/300\n",
            "15/15 [==============================] - 25s 2s/step - loss: 0.8692 - lr: 6.2500e-04\n",
            "Epoch 131/300\n",
            "15/15 [==============================] - 25s 2s/step - loss: 0.9074 - lr: 6.2500e-04\n",
            "Epoch 132/300\n",
            "15/15 [==============================] - 25s 2s/step - loss: 0.9323 - lr: 6.2500e-04\n",
            "Epoch 133/300\n",
            "15/15 [==============================] - 25s 2s/step - loss: 1.0365 - lr: 6.2500e-04\n",
            "Epoch 134/300\n",
            "15/15 [==============================] - 25s 2s/step - loss: 1.0617 - lr: 6.2500e-04\n",
            "Epoch 135/300\n",
            "15/15 [==============================] - 25s 2s/step - loss: 0.9011 - lr: 6.2500e-04\n",
            "Epoch 136/300\n",
            "15/15 [==============================] - 28s 2s/step - loss: 0.9688 - lr: 6.2500e-04\n",
            "Epoch 137/300\n",
            "15/15 [==============================] - 28s 2s/step - loss: 0.8367 - lr: 6.2500e-04\n",
            "Epoch 138/300\n",
            "15/15 [==============================] - 25s 2s/step - loss: 0.8294 - lr: 6.2500e-04\n",
            "Epoch 139/300\n",
            "15/15 [==============================] - 25s 2s/step - loss: 1.0281 - lr: 6.2500e-04\n",
            "Epoch 140/300\n",
            "15/15 [==============================] - 24s 2s/step - loss: 0.9348 - lr: 6.2500e-04\n",
            "Epoch 141/300\n",
            "15/15 [==============================] - 24s 2s/step - loss: 1.0144 - lr: 6.2500e-04\n",
            "Epoch 142/300\n",
            "15/15 [==============================] - 24s 2s/step - loss: 1.1231 - lr: 6.2500e-04\n",
            "Epoch 143/300\n",
            "15/15 [==============================] - 24s 2s/step - loss: 1.1767 - lr: 6.2500e-04\n",
            "Epoch 144/300\n",
            "15/15 [==============================] - 25s 2s/step - loss: 0.8873 - lr: 6.2500e-04\n",
            "Epoch 145/300\n",
            "15/15 [==============================] - 25s 2s/step - loss: 0.8946 - lr: 6.2500e-04\n",
            "Epoch 146/300\n",
            "15/15 [==============================] - 25s 2s/step - loss: 1.0050 - lr: 6.2500e-04\n",
            "Epoch 147/300\n",
            "15/15 [==============================] - 28s 2s/step - loss: 1.0105 - lr: 6.2500e-04\n",
            "Epoch 148/300\n",
            "15/15 [==============================] - 28s 2s/step - loss: 0.8679 - lr: 6.2500e-04\n",
            "Epoch 149/300\n",
            "15/15 [==============================] - 24s 2s/step - loss: 0.9286 - lr: 6.2500e-04\n",
            "Epoch 150/300\n",
            "15/15 [==============================] - 25s 2s/step - loss: 1.1293 - lr: 6.2500e-04\n",
            "Epoch 151/300\n",
            "15/15 [==============================] - 25s 2s/step - loss: 0.9575 - lr: 6.2500e-04\n",
            "Epoch 152/300\n",
            "15/15 [==============================] - 25s 2s/step - loss: 0.9626 - lr: 6.2500e-04\n",
            "Epoch 153/300\n",
            "15/15 [==============================] - 24s 2s/step - loss: 0.8781 - lr: 6.2500e-04\n",
            "Epoch 154/300\n",
            "15/15 [==============================] - 25s 2s/step - loss: 0.9074 - lr: 6.2500e-04\n",
            "Epoch 155/300\n",
            "15/15 [==============================] - 24s 2s/step - loss: 0.9189 - lr: 6.2500e-04\n",
            "Epoch 156/300\n",
            "15/15 [==============================] - 25s 2s/step - loss: 0.9240 - lr: 6.2500e-04\n",
            "Epoch 157/300\n",
            "15/15 [==============================] - 25s 2s/step - loss: 1.0039 - lr: 6.2500e-04\n",
            "Epoch 158/300\n",
            "15/15 [==============================] - 28s 2s/step - loss: 0.9145 - lr: 6.2500e-04\n",
            "Epoch 159/300\n",
            "15/15 [==============================] - 28s 2s/step - loss: 0.8917 - lr: 6.2500e-04\n",
            "Epoch 160/300\n",
            "15/15 [==============================] - 25s 2s/step - loss: 0.8793 - lr: 6.2500e-04\n",
            "lr changed to 0.0003124999930150807\n",
            "Epoch 161/300\n",
            "15/15 [==============================] - 25s 2s/step - loss: 0.9363 - lr: 3.1250e-04\n",
            "Epoch 162/300\n",
            "15/15 [==============================] - 25s 2s/step - loss: 0.8880 - lr: 3.1250e-04\n",
            "Epoch 163/300\n",
            "15/15 [==============================] - 25s 2s/step - loss: 0.9339 - lr: 3.1250e-04\n",
            "Epoch 164/300\n",
            "15/15 [==============================] - 25s 2s/step - loss: 0.8624 - lr: 3.1250e-04\n",
            "Epoch 165/300\n",
            "15/15 [==============================] - 25s 2s/step - loss: 0.8047 - lr: 3.1250e-04\n",
            "Epoch 166/300\n",
            "15/15 [==============================] - 25s 2s/step - loss: 0.8302 - lr: 3.1250e-04\n",
            "Epoch 167/300\n",
            "15/15 [==============================] - 25s 2s/step - loss: 0.9095 - lr: 3.1250e-04\n",
            "Epoch 168/300\n",
            "15/15 [==============================] - 25s 2s/step - loss: 0.7540 - lr: 3.1250e-04\n",
            "Epoch 169/300\n",
            "15/15 [==============================] - 29s 2s/step - loss: 0.8364 - lr: 3.1250e-04\n",
            "Epoch 170/300\n",
            "15/15 [==============================] - 28s 2s/step - loss: 1.0162 - lr: 3.1250e-04\n",
            "Epoch 171/300\n",
            "15/15 [==============================] - 25s 2s/step - loss: 0.9410 - lr: 3.1250e-04\n",
            "Epoch 172/300\n",
            "15/15 [==============================] - 25s 2s/step - loss: 0.9693 - lr: 3.1250e-04\n",
            "Epoch 173/300\n",
            "15/15 [==============================] - 25s 2s/step - loss: 0.7786 - lr: 3.1250e-04\n",
            "Epoch 174/300\n",
            "15/15 [==============================] - 25s 2s/step - loss: 0.9935 - lr: 3.1250e-04\n",
            "Epoch 175/300\n",
            "15/15 [==============================] - 25s 2s/step - loss: 0.8449 - lr: 3.1250e-04\n",
            "Epoch 176/300\n",
            "15/15 [==============================] - 25s 2s/step - loss: 0.9389 - lr: 3.1250e-04\n",
            "Epoch 177/300\n",
            "15/15 [==============================] - 24s 2s/step - loss: 0.9038 - lr: 3.1250e-04\n",
            "Epoch 178/300\n",
            "15/15 [==============================] - 24s 2s/step - loss: 0.9186 - lr: 3.1250e-04\n",
            "Epoch 179/300\n",
            "15/15 [==============================] - 25s 2s/step - loss: 0.8862 - lr: 3.1250e-04\n",
            "Epoch 180/300\n",
            "15/15 [==============================] - 32s 2s/step - loss: 0.7691 - lr: 3.1250e-04\n",
            "Epoch 181/300\n",
            "15/15 [==============================] - 25s 2s/step - loss: 0.8326 - lr: 3.1250e-04\n",
            "Epoch 182/300\n",
            "15/15 [==============================] - 24s 2s/step - loss: 0.7947 - lr: 3.1250e-04\n",
            "Epoch 183/300\n",
            "15/15 [==============================] - 25s 2s/step - loss: 0.8521 - lr: 3.1250e-04\n",
            "Epoch 184/300\n",
            "15/15 [==============================] - 25s 2s/step - loss: 0.8781 - lr: 3.1250e-04\n",
            "Epoch 185/300\n",
            "15/15 [==============================] - 25s 2s/step - loss: 0.8384 - lr: 3.1250e-04\n",
            "Epoch 186/300\n",
            "15/15 [==============================] - 25s 2s/step - loss: 0.8712 - lr: 3.1250e-04\n",
            "Epoch 187/300\n",
            "15/15 [==============================] - 25s 2s/step - loss: 0.7968 - lr: 3.1250e-04\n",
            "Epoch 188/300\n",
            "15/15 [==============================] - 25s 2s/step - loss: 0.9255 - lr: 3.1250e-04\n",
            "Epoch 189/300\n",
            "15/15 [==============================] - 25s 2s/step - loss: 0.9073 - lr: 3.1250e-04\n",
            "Epoch 190/300\n",
            "15/15 [==============================] - 26s 2s/step - loss: 0.8351 - lr: 3.1250e-04\n",
            "Epoch 191/300\n",
            "15/15 [==============================] - 29s 2s/step - loss: 0.8518 - lr: 3.1250e-04\n",
            "Epoch 192/300\n",
            "15/15 [==============================] - 28s 2s/step - loss: 0.8638 - lr: 3.1250e-04\n",
            "Epoch 193/300\n",
            "15/15 [==============================] - 25s 2s/step - loss: 0.8632 - lr: 3.1250e-04\n",
            "Epoch 194/300\n",
            "15/15 [==============================] - 25s 2s/step - loss: 0.8013 - lr: 3.1250e-04\n",
            "Epoch 195/300\n",
            "15/15 [==============================] - 25s 2s/step - loss: 0.7866 - lr: 3.1250e-04\n",
            "Epoch 196/300\n",
            "15/15 [==============================] - 25s 2s/step - loss: 0.9981 - lr: 3.1250e-04\n",
            "Epoch 197/300\n",
            "15/15 [==============================] - 25s 2s/step - loss: 0.8932 - lr: 3.1250e-04\n",
            "Epoch 198/300\n",
            "15/15 [==============================] - 25s 2s/step - loss: 0.8031 - lr: 3.1250e-04\n",
            "Epoch 199/300\n",
            "15/15 [==============================] - 25s 2s/step - loss: 0.8713 - lr: 3.1250e-04\n",
            "Epoch 200/300\n",
            "15/15 [==============================] - 25s 2s/step - loss: 0.8881 - lr: 3.1250e-04\n",
            "lr changed to 0.00015624999650754035\n",
            "Epoch 201/300\n",
            "15/15 [==============================] - 25s 2s/step - loss: 0.9743 - lr: 1.5625e-04\n",
            "Epoch 202/300\n",
            "15/15 [==============================] - 29s 2s/step - loss: 0.8210 - lr: 1.5625e-04\n",
            "Epoch 203/300\n",
            "15/15 [==============================] - 28s 2s/step - loss: 0.8599 - lr: 1.5625e-04\n",
            "Epoch 204/300\n",
            "15/15 [==============================] - 25s 2s/step - loss: 0.8038 - lr: 1.5625e-04\n",
            "Epoch 205/300\n",
            "15/15 [==============================] - 25s 2s/step - loss: 0.9323 - lr: 1.5625e-04\n",
            "Epoch 206/300\n",
            "15/15 [==============================] - 24s 2s/step - loss: 0.8313 - lr: 1.5625e-04\n",
            "Epoch 207/300\n",
            "15/15 [==============================] - 25s 2s/step - loss: 0.7903 - lr: 1.5625e-04\n",
            "Epoch 208/300\n",
            "15/15 [==============================] - 25s 2s/step - loss: 0.8130 - lr: 1.5625e-04\n",
            "Epoch 209/300\n",
            "15/15 [==============================] - 25s 2s/step - loss: 0.8609 - lr: 1.5625e-04\n",
            "Epoch 210/300\n",
            "15/15 [==============================] - 25s 2s/step - loss: 0.9241 - lr: 1.5625e-04\n",
            "Epoch 211/300\n",
            "15/15 [==============================] - 25s 2s/step - loss: 0.8911 - lr: 1.5625e-04\n",
            "Epoch 212/300\n",
            "15/15 [==============================] - 25s 2s/step - loss: 0.8413 - lr: 1.5625e-04\n",
            "Epoch 213/300\n",
            "15/15 [==============================] - 29s 2s/step - loss: 0.8407 - lr: 1.5625e-04\n",
            "Epoch 214/300\n",
            "15/15 [==============================] - 28s 2s/step - loss: 0.8743 - lr: 1.5625e-04\n",
            "Epoch 215/300\n",
            "15/15 [==============================] - 25s 2s/step - loss: 0.7985 - lr: 1.5625e-04\n",
            "Epoch 216/300\n",
            "15/15 [==============================] - 25s 2s/step - loss: 0.8187 - lr: 1.5625e-04\n",
            "Epoch 217/300\n",
            "15/15 [==============================] - 25s 2s/step - loss: 0.8094 - lr: 1.5625e-04\n",
            "Epoch 218/300\n",
            "15/15 [==============================] - 25s 2s/step - loss: 1.0638 - lr: 1.5625e-04\n",
            "Epoch 219/300\n",
            "15/15 [==============================] - 24s 2s/step - loss: 0.9587 - lr: 1.5625e-04\n",
            "Epoch 220/300\n",
            "15/15 [==============================] - 25s 2s/step - loss: 0.8621 - lr: 1.5625e-04\n",
            "Epoch 221/300\n",
            "15/15 [==============================] - 25s 2s/step - loss: 0.8661 - lr: 1.5625e-04\n",
            "Epoch 222/300\n",
            "15/15 [==============================] - 25s 2s/step - loss: 0.8010 - lr: 1.5625e-04\n",
            "Epoch 223/300\n",
            "15/15 [==============================] - 29s 2s/step - loss: 0.9298 - lr: 1.5625e-04\n",
            "Epoch 224/300\n",
            "15/15 [==============================] - 28s 2s/step - loss: 0.9179 - lr: 1.5625e-04\n",
            "Epoch 225/300\n",
            "15/15 [==============================] - 26s 2s/step - loss: 0.9209 - lr: 1.5625e-04\n",
            "Epoch 226/300\n",
            "15/15 [==============================] - 25s 2s/step - loss: 0.8980 - lr: 1.5625e-04\n",
            "Epoch 227/300\n",
            "15/15 [==============================] - 25s 2s/step - loss: 0.8966 - lr: 1.5625e-04\n",
            "Epoch 228/300\n",
            "15/15 [==============================] - 25s 2s/step - loss: 0.8181 - lr: 1.5625e-04\n",
            "Epoch 229/300\n",
            "15/15 [==============================] - 25s 2s/step - loss: 0.8009 - lr: 1.5625e-04\n",
            "Epoch 230/300\n",
            "15/15 [==============================] - 25s 2s/step - loss: 0.8404 - lr: 1.5625e-04\n",
            "Epoch 231/300\n",
            "15/15 [==============================] - 25s 2s/step - loss: 0.8487 - lr: 1.5625e-04\n",
            "Epoch 232/300\n",
            "15/15 [==============================] - 25s 2s/step - loss: 0.8016 - lr: 1.5625e-04\n",
            "Epoch 233/300\n",
            "15/15 [==============================] - 28s 2s/step - loss: 0.8983 - lr: 1.5625e-04\n",
            "Epoch 234/300\n",
            "15/15 [==============================] - 25s 2s/step - loss: 0.7538 - lr: 1.5625e-04\n",
            "Epoch 235/300\n",
            "15/15 [==============================] - 28s 2s/step - loss: 0.9333 - lr: 1.5625e-04\n",
            "Epoch 236/300\n",
            "15/15 [==============================] - 24s 2s/step - loss: 0.8210 - lr: 1.5625e-04\n",
            "Epoch 237/300\n",
            "15/15 [==============================] - 24s 2s/step - loss: 0.9599 - lr: 1.5625e-04\n",
            "Epoch 238/300\n",
            "15/15 [==============================] - 25s 2s/step - loss: 0.8952 - lr: 1.5625e-04\n",
            "Epoch 239/300\n",
            "15/15 [==============================] - 25s 2s/step - loss: 0.8521 - lr: 1.5625e-04\n",
            "Epoch 240/300\n",
            "15/15 [==============================] - 25s 2s/step - loss: 0.8342 - lr: 1.5625e-04\n",
            "lr changed to 7.812499825377017e-05\n",
            "Epoch 241/300\n",
            "15/15 [==============================] - 25s 2s/step - loss: 0.9437 - lr: 7.8125e-05\n",
            "Epoch 242/300\n",
            "15/15 [==============================] - 25s 2s/step - loss: 0.8488 - lr: 7.8125e-05\n",
            "Epoch 243/300\n",
            "15/15 [==============================] - 25s 2s/step - loss: 0.8537 - lr: 7.8125e-05\n",
            "Epoch 244/300\n",
            "15/15 [==============================] - 28s 2s/step - loss: 0.7469 - lr: 7.8125e-05\n",
            "Epoch 245/300\n",
            "15/15 [==============================] - 25s 2s/step - loss: 0.8273 - lr: 7.8125e-05\n",
            "Epoch 246/300\n",
            "15/15 [==============================] - 28s 2s/step - loss: 0.7533 - lr: 7.8125e-05\n",
            "Epoch 247/300\n",
            "15/15 [==============================] - 25s 2s/step - loss: 0.9102 - lr: 7.8125e-05\n",
            "Epoch 248/300\n",
            "15/15 [==============================] - 25s 2s/step - loss: 0.9460 - lr: 7.8125e-05\n",
            "Epoch 249/300\n",
            "15/15 [==============================] - 24s 2s/step - loss: 0.9335 - lr: 7.8125e-05\n",
            "Epoch 250/300\n",
            "15/15 [==============================] - 25s 2s/step - loss: 0.8599 - lr: 7.8125e-05\n",
            "Epoch 251/300\n",
            "15/15 [==============================] - 25s 2s/step - loss: 0.7462 - lr: 7.8125e-05\n",
            "Epoch 252/300\n",
            "15/15 [==============================] - 25s 2s/step - loss: 0.7230 - lr: 7.8125e-05\n",
            "Epoch 253/300\n",
            "15/15 [==============================] - 25s 2s/step - loss: 0.8198 - lr: 7.8125e-05\n",
            "Epoch 254/300\n",
            "15/15 [==============================] - 25s 2s/step - loss: 0.7639 - lr: 7.8125e-05\n",
            "Epoch 255/300\n",
            "15/15 [==============================] - 29s 2s/step - loss: 0.8251 - lr: 7.8125e-05\n",
            "Epoch 256/300\n",
            "15/15 [==============================] - 28s 2s/step - loss: 0.7759 - lr: 7.8125e-05\n",
            "Epoch 257/300\n",
            "15/15 [==============================] - 25s 2s/step - loss: 0.8760 - lr: 7.8125e-05\n",
            "Epoch 258/300\n",
            "15/15 [==============================] - 24s 2s/step - loss: 0.9015 - lr: 7.8125e-05\n",
            "Epoch 259/300\n",
            "15/15 [==============================] - 25s 2s/step - loss: 0.9545 - lr: 7.8125e-05\n",
            "Epoch 260/300\n",
            "15/15 [==============================] - 25s 2s/step - loss: 0.7992 - lr: 7.8125e-05\n",
            "Epoch 261/300\n",
            "15/15 [==============================] - 25s 2s/step - loss: 0.8608 - lr: 7.8125e-05\n",
            "Epoch 262/300\n",
            "15/15 [==============================] - 24s 2s/step - loss: 0.8934 - lr: 7.8125e-05\n",
            "Epoch 263/300\n",
            "15/15 [==============================] - 24s 2s/step - loss: 0.8912 - lr: 7.8125e-05\n",
            "Epoch 264/300\n",
            "15/15 [==============================] - 24s 2s/step - loss: 0.8369 - lr: 7.8125e-05\n",
            "Epoch 265/300\n",
            "15/15 [==============================] - 24s 2s/step - loss: 0.9964 - lr: 7.8125e-05\n",
            "Epoch 266/300\n",
            "15/15 [==============================] - 28s 2s/step - loss: 0.8367 - lr: 7.8125e-05\n",
            "Epoch 267/300\n",
            "15/15 [==============================] - 28s 2s/step - loss: 0.9421 - lr: 7.8125e-05\n",
            "Epoch 268/300\n",
            "15/15 [==============================] - 24s 2s/step - loss: 0.7809 - lr: 7.8125e-05\n",
            "Epoch 269/300\n",
            "15/15 [==============================] - 24s 2s/step - loss: 0.9079 - lr: 7.8125e-05\n",
            "Epoch 270/300\n",
            "15/15 [==============================] - 24s 2s/step - loss: 0.7574 - lr: 7.8125e-05\n",
            "Epoch 271/300\n",
            "15/15 [==============================] - 25s 2s/step - loss: 0.9407 - lr: 7.8125e-05\n",
            "Epoch 272/300\n",
            "15/15 [==============================] - 24s 2s/step - loss: 0.7724 - lr: 7.8125e-05\n",
            "Epoch 273/300\n",
            "15/15 [==============================] - 24s 2s/step - loss: 0.7321 - lr: 7.8125e-05\n",
            "Epoch 274/300\n",
            "15/15 [==============================] - 24s 2s/step - loss: 0.8620 - lr: 7.8125e-05\n",
            "Epoch 275/300\n",
            "15/15 [==============================] - 24s 2s/step - loss: 0.7924 - lr: 7.8125e-05\n",
            "Epoch 276/300\n",
            "15/15 [==============================] - 24s 2s/step - loss: 0.7515 - lr: 7.8125e-05\n",
            "Epoch 277/300\n",
            "15/15 [==============================] - 28s 2s/step - loss: 0.8758 - lr: 7.8125e-05\n",
            "Epoch 278/300\n",
            "15/15 [==============================] - 27s 2s/step - loss: 0.7580 - lr: 7.8125e-05\n",
            "Epoch 279/300\n",
            "15/15 [==============================] - 24s 2s/step - loss: 0.7682 - lr: 7.8125e-05\n",
            "Epoch 280/300\n",
            "15/15 [==============================] - 25s 2s/step - loss: 0.9096 - lr: 7.8125e-05\n",
            "lr changed to 3.9062499126885086e-05\n",
            "Epoch 281/300\n",
            "15/15 [==============================] - 24s 2s/step - loss: 0.8978 - lr: 3.9062e-05\n",
            "Epoch 282/300\n",
            "15/15 [==============================] - 25s 2s/step - loss: 0.8111 - lr: 3.9062e-05\n",
            "Epoch 283/300\n",
            "15/15 [==============================] - 24s 2s/step - loss: 0.8497 - lr: 3.9062e-05\n",
            "Epoch 284/300\n",
            "15/15 [==============================] - 24s 2s/step - loss: 0.8471 - lr: 3.9062e-05\n",
            "Epoch 285/300\n",
            "15/15 [==============================] - 24s 2s/step - loss: 0.8846 - lr: 3.9062e-05\n",
            "Epoch 286/300\n",
            "15/15 [==============================] - 24s 2s/step - loss: 0.8311 - lr: 3.9062e-05\n",
            "Epoch 287/300\n",
            "15/15 [==============================] - 24s 2s/step - loss: 0.8951 - lr: 3.9062e-05\n",
            "Epoch 288/300\n",
            "15/15 [==============================] - 27s 2s/step - loss: 0.7970 - lr: 3.9062e-05\n",
            "Epoch 289/300\n",
            "15/15 [==============================] - 28s 2s/step - loss: 0.8675 - lr: 3.9062e-05\n",
            "Epoch 290/300\n",
            "15/15 [==============================] - 24s 2s/step - loss: 0.7686 - lr: 3.9062e-05\n",
            "Epoch 291/300\n",
            "15/15 [==============================] - 24s 2s/step - loss: 0.8783 - lr: 3.9062e-05\n",
            "Epoch 292/300\n",
            "15/15 [==============================] - 25s 2s/step - loss: 0.8165 - lr: 3.9062e-05\n",
            "Epoch 293/300\n",
            "15/15 [==============================] - 24s 2s/step - loss: 0.9335 - lr: 3.9062e-05\n",
            "Epoch 294/300\n",
            "15/15 [==============================] - 25s 2s/step - loss: 0.8888 - lr: 3.9062e-05\n",
            "Epoch 295/300\n",
            "15/15 [==============================] - 24s 2s/step - loss: 0.8571 - lr: 3.9062e-05\n",
            "Epoch 296/300\n",
            "15/15 [==============================] - 24s 2s/step - loss: 0.8073 - lr: 3.9062e-05\n",
            "Epoch 297/300\n",
            "15/15 [==============================] - 24s 2s/step - loss: 0.9231 - lr: 3.9062e-05\n",
            "Epoch 298/300\n",
            "15/15 [==============================] - 25s 2s/step - loss: 0.9704 - lr: 3.9062e-05\n",
            "Epoch 299/300\n",
            "15/15 [==============================] - 28s 2s/step - loss: 0.8964 - lr: 3.9062e-05\n",
            "Epoch 300/300\n",
            "15/15 [==============================] - 28s 2s/step - loss: 0.8679 - lr: 3.9062e-05\n"
          ]
        }
      ],
      "source": [
        "# from tensorflow.keras.models import load_model\n",
        "# tcn = load_model('/content/spatiotemporal_1.h5')\n",
        "history=tcn.fit(x_train,y_train, \n",
        "        epochs=300, batch_size=64, callbacks=[reduce_lr])\n"
      ]
    },
    {
      "cell_type": "code",
      "execution_count": null,
      "id": "8a3a3b00",
      "metadata": {
        "ExecuteTime": {
          "end_time": "2022-10-05T09:53:25.495903Z",
          "start_time": "2022-10-05T09:53:25.464641Z"
        },
        "id": "8a3a3b00"
      },
      "outputs": [],
      "source": [
        "# history.history.keys() #查看history中存储了哪些参数"
      ]
    },
    {
      "cell_type": "code",
      "execution_count": null,
      "id": "d1add196",
      "metadata": {
        "ExecuteTime": {
          "end_time": "2022-10-05T09:53:26.089534Z",
          "start_time": "2022-10-05T09:53:26.073834Z"
        },
        "id": "d1add196"
      },
      "outputs": [],
      "source": [
        "# plt.plot(history.epoch,history.history.get('my_metric_fn')[:]) #画出随着epoch增大loss的变化图\n",
        "#plt.plot(history.epoch,history.history.get('acc'))#画出随着epoch增大准确率的变化图"
      ]
    },
    {
      "cell_type": "code",
      "execution_count": null,
      "id": "09ae9e4f",
      "metadata": {
        "ExecuteTime": {
          "end_time": "2022-10-05T09:53:26.698759Z",
          "start_time": "2022-10-05T09:53:26.683072Z"
        },
        "id": "09ae9e4f"
      },
      "outputs": [],
      "source": [
        "# plt.plot(history.epoch, history.history.get('lr'))"
      ]
    },
    {
      "cell_type": "code",
      "execution_count": 34,
      "id": "c3dbeafd",
      "metadata": {
        "ExecuteTime": {
          "end_time": "2022-10-05T09:53:34.478062Z",
          "start_time": "2022-10-05T09:53:28.588829Z"
        },
        "id": "c3dbeafd",
        "colab": {
          "base_uri": "https://localhost:8080/"
        },
        "outputId": "b083eeee-aa16-4076-a8a6-892d4a4a0efe"
      },
      "outputs": [
        {
          "output_type": "stream",
          "name": "stdout",
          "text": [
            "8/8 [==============================] - 2s 178ms/step - loss: 1.5412\n"
          ]
        },
        {
          "output_type": "execute_result",
          "data": {
            "text/plain": [
              "1.5411871671676636"
            ]
          },
          "metadata": {},
          "execution_count": 34
        }
      ],
      "source": [
        "tcn.evaluate(x_test, y_test)"
      ]
    },
    {
      "cell_type": "code",
      "execution_count": 35,
      "id": "4662e638",
      "metadata": {
        "ExecuteTime": {
          "end_time": "2022-10-05T09:53:43.600937Z",
          "start_time": "2022-10-05T09:53:38.945794Z"
        },
        "id": "4662e638",
        "colab": {
          "base_uri": "https://localhost:8080/"
        },
        "outputId": "5600d0ca-cdd3-48b7-e105-714ced424939"
      },
      "outputs": [
        {
          "output_type": "stream",
          "name": "stdout",
          "text": [
            "8/8 [==============================] - 2s 174ms/step\n"
          ]
        }
      ],
      "source": [
        "predict = tcn.predict(x_test)"
      ]
    },
    {
      "cell_type": "code",
      "source": [
        "predict.shape"
      ],
      "metadata": {
        "colab": {
          "base_uri": "https://localhost:8080/"
        },
        "id": "plaeU9rwN9tq",
        "outputId": "032a10fb-5de9-4e5b-e8f1-4aa6b3f5b60f"
      },
      "id": "plaeU9rwN9tq",
      "execution_count": 36,
      "outputs": [
        {
          "output_type": "execute_result",
          "data": {
            "text/plain": [
              "(233, 15, 9, 1)"
            ]
          },
          "metadata": {},
          "execution_count": 36
        }
      ]
    },
    {
      "cell_type": "code",
      "source": [],
      "metadata": {
        "id": "WMF9E_pLmQ0G"
      },
      "id": "WMF9E_pLmQ0G",
      "execution_count": null,
      "outputs": []
    },
    {
      "cell_type": "code",
      "source": [
        "test_day = 100\n",
        "im1 = plt.imshow(y_test[test_day,:,:,0], cmap = plt.cm.winter)\n",
        "plt.colorbar(im1)"
      ],
      "metadata": {
        "colab": {
          "base_uri": "https://localhost:8080/",
          "height": 283
        },
        "id": "vxWA3wFENzl7",
        "outputId": "bc37a790-a48a-4262-ff35-8c489462df32"
      },
      "id": "vxWA3wFENzl7",
      "execution_count": 58,
      "outputs": [
        {
          "output_type": "execute_result",
          "data": {
            "text/plain": [
              "<matplotlib.colorbar.Colorbar at 0x7f3f7c2b86d0>"
            ]
          },
          "metadata": {},
          "execution_count": 58
        },
        {
          "output_type": "display_data",
          "data": {
            "text/plain": [
              "<Figure size 432x288 with 2 Axes>"
            ],
            "image/png": "[encoded data removed]"
          },
          "metadata": {
            "needs_background": "light"
          }
        }
      ]
    },
    {
      "cell_type": "code",
      "source": [
        "# 预测\n",
        "plt.imshow(predict[test_day,:,:,0], cmap = plt.cm.winter)\n",
        "plt.colorbar()"
      ],
      "metadata": {
        "colab": {
          "base_uri": "https://localhost:8080/",
          "height": 283
        },
        "id": "G5o7RCTg1B4_",
        "outputId": "0e60132c-b8b5-41be-866c-3a464a6c9701"
      },
      "id": "G5o7RCTg1B4_",
      "execution_count": 59,
      "outputs": [
        {
          "output_type": "execute_result",
          "data": {
            "text/plain": [
              "<matplotlib.colorbar.Colorbar at 0x7f3f7c266e50>"
            ]
          },
          "metadata": {},
          "execution_count": 59
        },
        {
          "output_type": "display_data",
          "data": {
            "text/plain": [
              "<Figure size 432x288 with 2 Axes>"
            ],
            "image/png": "[encoded data removed]"
          },
          "metadata": {
            "needs_background": "light"
          }
        }
      ]
    },
    {
      "cell_type": "code",
      "source": [
        "# tcn.save('32_BN_300_1.54.h5')"
      ],
      "metadata": {
        "id": "qpJfQB6IwuQq"
      },
      "id": "qpJfQB6IwuQq",
      "execution_count": 39,
      "outputs": []
    },
    {
      "cell_type": "markdown",
      "id": "0e185cb0",
      "metadata": {
        "id": "0e185cb0"
      },
      "source": [
        "### RMSE计算"
      ]
    },
    {
      "cell_type": "code",
      "execution_count": 40,
      "id": "a4070982",
      "metadata": {
        "ExecuteTime": {
          "end_time": "2022-10-05T09:54:01.534160Z",
          "start_time": "2022-10-05T09:54:01.518574Z"
        },
        "id": "a4070982"
      },
      "outputs": [],
      "source": [
        "from sklearn.metrics import mean_squared_error"
      ]
    },
    {
      "cell_type": "code",
      "execution_count": 41,
      "id": "24b1fa06",
      "metadata": {
        "ExecuteTime": {
          "end_time": "2022-10-05T09:54:02.705794Z",
          "start_time": "2022-10-05T09:54:02.674551Z"
        },
        "id": "24b1fa06",
        "colab": {
          "base_uri": "https://localhost:8080/"
        },
        "outputId": "26425724-6b1a-4e9a-fd0a-c4b1504e0210"
      },
      "outputs": [
        {
          "output_type": "execute_result",
          "data": {
            "text/plain": [
              "(31455, 1)"
            ]
          },
          "metadata": {},
          "execution_count": 41
        }
      ],
      "source": [
        "P = predict\n",
        "P = P.reshape(-1,1)\n",
        "P.shape"
      ]
    },
    {
      "cell_type": "code",
      "execution_count": 42,
      "id": "f0bc45a0",
      "metadata": {
        "ExecuteTime": {
          "end_time": "2022-10-05T09:54:03.346334Z",
          "start_time": "2022-10-05T09:54:03.330645Z"
        },
        "id": "f0bc45a0",
        "colab": {
          "base_uri": "https://localhost:8080/"
        },
        "outputId": "323bb087-c510-4565-927d-ebda6ca25f6c"
      },
      "outputs": [
        {
          "output_type": "execute_result",
          "data": {
            "text/plain": [
              "(31455, 1)"
            ]
          },
          "metadata": {},
          "execution_count": 42
        }
      ],
      "source": [
        "R = y_test\n",
        "R = R.reshape(-1,1)\n",
        "R.shape"
      ]
    },
    {
      "cell_type": "code",
      "execution_count": 43,
      "id": "c2745dbe",
      "metadata": {
        "ExecuteTime": {
          "end_time": "2022-10-05T09:54:05.548943Z",
          "start_time": "2022-10-05T09:54:05.533323Z"
        },
        "id": "c2745dbe",
        "colab": {
          "base_uri": "https://localhost:8080/"
        },
        "outputId": "e5ae2e60-a146-4cb7-b72c-839bd499427b"
      },
      "outputs": [
        {
          "output_type": "execute_result",
          "data": {
            "text/plain": [
              "1.5553604063447606"
            ]
          },
          "metadata": {},
          "execution_count": 43
        }
      ],
      "source": [
        "mean_squared_error(R, P, squared=False)"
      ]
    },
    {
      "cell_type": "markdown",
      "id": "e72e1de7",
      "metadata": {
        "id": "e72e1de7"
      },
      "source": [
        "### 计算$R^{2}$"
      ]
    },
    {
      "cell_type": "code",
      "execution_count": 44,
      "id": "92a65ca2",
      "metadata": {
        "ExecuteTime": {
          "end_time": "2022-10-05T09:54:07.329775Z",
          "start_time": "2022-10-05T09:54:07.314078Z"
        },
        "id": "92a65ca2"
      },
      "outputs": [],
      "source": [
        "from sklearn.metrics import r2_score"
      ]
    },
    {
      "cell_type": "code",
      "execution_count": 45,
      "id": "042cb2ec",
      "metadata": {
        "ExecuteTime": {
          "end_time": "2022-10-05T09:54:08.032728Z",
          "start_time": "2022-10-05T09:54:08.017037Z"
        },
        "id": "042cb2ec",
        "colab": {
          "base_uri": "https://localhost:8080/"
        },
        "outputId": "dbb559e6-2ab4-4764-f8c5-8050f1db2097"
      },
      "outputs": [
        {
          "output_type": "execute_result",
          "data": {
            "text/plain": [
              "0.9603"
            ]
          },
          "metadata": {},
          "execution_count": 45
        }
      ],
      "source": [
        "r2 = round(r2_score(P, R),4)\n",
        "r2"
      ]
    },
    {
      "cell_type": "markdown",
      "id": "3e02bca8",
      "metadata": {
        "id": "3e02bca8"
      },
      "source": [
        "### 算相对误差直方图"
      ]
    },
    {
      "cell_type": "code",
      "execution_count": 48,
      "id": "9264da19",
      "metadata": {
        "ExecuteTime": {
          "end_time": "2022-10-05T09:54:09.751071Z",
          "start_time": "2022-10-05T09:54:09.563601Z"
        },
        "id": "9264da19",
        "colab": {
          "base_uri": "https://localhost:8080/",
          "height": 959
        },
        "outputId": "1c5013bf-69b2-4afc-f38a-5909e3dac010"
      },
      "outputs": [
        {
          "output_type": "execute_result",
          "data": {
            "text/plain": [
              "Text(0.5, 0, '相对误差/(TECU)')"
            ]
          },
          "metadata": {},
          "execution_count": 48
        },
        {
          "output_type": "stream",
          "name": "stderr",
          "text": [
            "/usr/local/lib/python3.7/dist-packages/matplotlib/backends/backend_agg.py:214: RuntimeWarning: Glyph 30456 missing from current font.\n",
            "  font.set_text(s, 0.0, flags=flags)\n",
            "/usr/local/lib/python3.7/dist-packages/matplotlib/backends/backend_agg.py:214: RuntimeWarning: Glyph 23545 missing from current font.\n",
            "  font.set_text(s, 0.0, flags=flags)\n",
            "/usr/local/lib/python3.7/dist-packages/matplotlib/backends/backend_agg.py:214: RuntimeWarning: Glyph 35823 missing from current font.\n",
            "  font.set_text(s, 0.0, flags=flags)\n",
            "/usr/local/lib/python3.7/dist-packages/matplotlib/backends/backend_agg.py:214: RuntimeWarning: Glyph 24046 missing from current font.\n",
            "  font.set_text(s, 0.0, flags=flags)\n",
            "/usr/local/lib/python3.7/dist-packages/matplotlib/backends/backend_agg.py:183: RuntimeWarning: Glyph 30456 missing from current font.\n",
            "  font.set_text(s, 0, flags=flags)\n",
            "/usr/local/lib/python3.7/dist-packages/matplotlib/backends/backend_agg.py:183: RuntimeWarning: Glyph 23545 missing from current font.\n",
            "  font.set_text(s, 0, flags=flags)\n",
            "/usr/local/lib/python3.7/dist-packages/matplotlib/backends/backend_agg.py:183: RuntimeWarning: Glyph 35823 missing from current font.\n",
            "  font.set_text(s, 0, flags=flags)\n",
            "/usr/local/lib/python3.7/dist-packages/matplotlib/backends/backend_agg.py:183: RuntimeWarning: Glyph 24046 missing from current font.\n",
            "  font.set_text(s, 0, flags=flags)\n"
          ]
        },
        {
          "output_type": "display_data",
          "data": {
            "text/plain": [
              "<Figure size 1800x1200 with 1 Axes>"
            ],
            "image/png": "[encoded data removed]"
          },
          "metadata": {
            "needs_background": "light"
          }
        }
      ],
      "source": [
        "PD = (R-P)/R\n",
        "fig, ax = plt.subplots(dpi=300)\n",
        "ax.hist(PD, density=True)\n",
        "ax.set_ylabel(\"Percent/(%)\")\n",
        "ax.set_xlabel(\"相对误差/(TECU)\")"
      ]
    },
    {
      "cell_type": "markdown",
      "id": "6c0c2d9f",
      "metadata": {
        "id": "6c0c2d9f"
      },
      "source": [
        "### 计算预测显示的散点图"
      ]
    },
    {
      "cell_type": "code",
      "execution_count": 46,
      "id": "8391cb8f",
      "metadata": {
        "ExecuteTime": {
          "end_time": "2022-10-05T09:54:12.547180Z",
          "start_time": "2022-10-05T09:54:12.453488Z"
        },
        "id": "8391cb8f",
        "colab": {
          "base_uri": "https://localhost:8080/",
          "height": 283
        },
        "outputId": "58f09248-88da-4241-93b1-190daf77b129"
      },
      "outputs": [
        {
          "output_type": "execute_result",
          "data": {
            "text/plain": [
              "<matplotlib.collections.PathCollection at 0x7f3f9b243d90>"
            ]
          },
          "metadata": {},
          "execution_count": 46
        },
        {
          "output_type": "display_data",
          "data": {
            "text/plain": [
              "<Figure size 432x288 with 1 Axes>"
            ],
            "image/png": "[encoded data removed]"
          },
          "metadata": {
            "needs_background": "light"
          }
        }
      ],
      "source": [
        "plt.scatter(R,P, s=10)"
      ]
    },
    {
      "cell_type": "code",
      "execution_count": null,
      "id": "6fd168e8",
      "metadata": {
        "ExecuteTime": {
          "end_time": "2022-10-05T09:54:13.250244Z",
          "start_time": "2022-10-05T09:54:13.203310Z"
        },
        "id": "6fd168e8",
        "colab": {
          "base_uri": "https://localhost:8080/"
        },
        "outputId": "d0fafd98-18d3-4e84-c2fe-ad6fd1380892"
      },
      "outputs": [
        {
          "output_type": "execute_result",
          "data": {
            "text/plain": [
              "(array([[0.08429433]]), array([8.04318768]))"
            ]
          },
          "metadata": {},
          "execution_count": 207
        }
      ],
      "source": [
        "from sklearn.linear_model import LinearRegression\n",
        "reg = LinearRegression().fit(R, P)\n",
        "\n",
        "reg.coef_, reg.intercept_"
      ]
    },
    {
      "cell_type": "code",
      "execution_count": null,
      "id": "507bb2a9",
      "metadata": {
        "ExecuteTime": {
          "end_time": "2022-10-05T09:54:13.875087Z",
          "start_time": "2022-10-05T09:54:13.843831Z"
        },
        "id": "507bb2a9",
        "colab": {
          "base_uri": "https://localhost:8080/"
        },
        "outputId": "5e726c7f-1f29-4fb1-e0f7-1124cc86023b"
      },
      "outputs": [
        {
          "output_type": "execute_result",
          "data": {
            "text/plain": [
              "array([ 8.04318768, 13.94379083])"
            ]
          },
          "metadata": {},
          "execution_count": 208
        }
      ],
      "source": [
        "line_x = np.linspace(0, 70, 2)\n",
        "y = reg.coef_[0][0] * line_x + reg.intercept_[0]\n",
        "y"
      ]
    },
    {
      "cell_type": "code",
      "execution_count": null,
      "id": "455230e5",
      "metadata": {
        "ExecuteTime": {
          "end_time": "2022-10-05T09:54:14.359359Z",
          "start_time": "2022-10-05T09:54:14.343634Z"
        },
        "id": "455230e5"
      },
      "outputs": [],
      "source": [
        "import matplotlib as mpl\n",
        "plt.rcParams.update({\n",
        "    \"text.usetex\": False,\n",
        "})"
      ]
    },
    {
      "cell_type": "code",
      "execution_count": null,
      "id": "a26d9d5a",
      "metadata": {
        "ExecuteTime": {
          "end_time": "2022-10-05T09:54:15.156046Z",
          "start_time": "2022-10-05T09:54:14.921622Z"
        },
        "scrolled": false,
        "id": "a26d9d5a",
        "colab": {
          "base_uri": "https://localhost:8080/",
          "height": 807
        },
        "outputId": "ec6d323c-7481-44c6-e1bf-3fa213c132ab"
      },
      "outputs": [
        {
          "output_type": "execute_result",
          "data": {
            "text/plain": [
              "Text(50, 20, 'R:-9.7288\\nK:0.0843')"
            ]
          },
          "metadata": {},
          "execution_count": 210
        },
        {
          "output_type": "display_data",
          "data": {
            "text/plain": [
              "<Figure size 1800x1200 with 1 Axes>"
            ],
            "image/png": "[encoded data removed]"
          },
          "metadata": {
            "needs_background": "light"
          }
        }
      ],
      "source": [
        "fig = plt.figure(dpi=300) \n",
        "plt.scatter(R,P, s=10)\n",
        "plt.plot(line_x, y, 'k')\n",
        "# plt.text(100, 40, r'$k_a$', fontsize=18)\n",
        "plt.xlabel('Observed TEC/TECU', fontsize=18)\n",
        "plt.ylabel('Forecast TEC/TECU', fontsize=18)\n",
        "plt.text(50,20, 'R:{}\\nK:{}'.format(r2, round(reg.coef_[0][0],4)))"
      ]
    },
    {
      "cell_type": "code",
      "execution_count": null,
      "id": "2402c020",
      "metadata": {
        "id": "2402c020"
      },
      "outputs": [],
      "source": []
    },
    {
      "cell_type": "code",
      "execution_count": null,
      "id": "5ffc58e8",
      "metadata": {
        "id": "5ffc58e8"
      },
      "outputs": [],
      "source": []
    },
    {
      "cell_type": "code",
      "execution_count": null,
      "id": "1c3b91ef",
      "metadata": {
        "id": "1c3b91ef"
      },
      "outputs": [],
      "source": []
    },
    {
      "cell_type": "code",
      "execution_count": null,
      "id": "40730d05",
      "metadata": {
        "id": "40730d05"
      },
      "outputs": [],
      "source": []
    }
  ],
  "metadata": {
    "celltoolbar": "原始单元格格式",
    "kernelspec": {
      "display_name": "Python 3",
      "name": "python3"
    },
    "language_info": {
      "name": "python"
    },
    "toc": {
      "base_numbering": 1,
      "nav_menu": {},
      "number_sections": true,
      "sideBar": true,
      "skip_h1_title": false,
      "title_cell": "Table of Contents",
      "title_sidebar": "Contents",
      "toc_cell": false,
      "toc_position": {},
      "toc_section_display": true,
      "toc_window_display": false
    },
    "varInspector": {
      "cols": {
        "lenName": 16,
        "lenType": 16,
        "lenVar": 40
      },
      "kernels_config": {
        "python": {
          "delete_cmd_postfix": "",
          "delete_cmd_prefix": "del ",
          "library": "var_list.py",
          "varRefreshCmd": "print(var_dic_list())"
        },
        "r": {
          "delete_cmd_postfix": ") ",
          "delete_cmd_prefix": "rm(",
          "library": "var_list.r",
          "varRefreshCmd": "cat(var_dic_list()) "
        }
      },
      "types_to_exclude": [
        "module",
        "function",
        "builtin_function_or_method",
        "instance",
        "_Feature"
      ],
      "window_display": false
    },
    "colab": {
      "provenance": [],
      "collapsed_sections": [],
      "include_colab_link": true
    },
    "accelerator": "GPU",
    "gpuClass": "standard"
  },
  "nbformat": 4,
  "nbformat_minor": 5
}