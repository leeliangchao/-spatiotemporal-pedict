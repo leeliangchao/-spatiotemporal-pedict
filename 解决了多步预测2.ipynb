{
  "cells": [
    {
      "cell_type": "markdown",
      "metadata": {
        "id": "view-in-github",
        "colab_type": "text"
      },
      "source": [
        "<a href=\"https://colab.research.google.com/github/leeliangchao/-spatiotemporal-pedict/blob/main/%E8%A7%A3%E5%86%B3%E4%BA%86%E5%A4%9A%E6%AD%A5%E9%A2%84%E6%B5%8B2.ipynb\" target=\"_parent\"><img src=\"https://colab.research.google.com/assets/colab-badge.svg\" alt=\"Open In Colab\"/></a>"
      ]
    },
    {
      "cell_type": "code",
      "source": [
        "from google.colab import drive\n",
        "drive.mount('/content/drive/')"
      ],
      "metadata": {
        "id": "WNGx8m31kq0A",
        "colab": {
          "base_uri": "https://localhost:8080/"
        },
        "outputId": "671a9271-ebbd-48f3-e601-db63fcc0c9a8"
      },
      "id": "WNGx8m31kq0A",
      "execution_count": 7,
      "outputs": [
        {
          "output_type": "stream",
          "name": "stdout",
          "text": [
            "Mounted at /content/drive/\n"
          ]
        }
      ]
    },
    {
      "cell_type": "code",
      "execution_count": 8,
      "id": "6bb2a220",
      "metadata": {
        "ExecuteTime": {
          "end_time": "2022-10-05T09:06:51.063255Z",
          "start_time": "2022-10-05T09:06:50.157218Z"
        },
        "id": "6bb2a220"
      },
      "outputs": [],
      "source": [
        "import matplotlib.pyplot as plt\n",
        "import numpy as np\n",
        "import pandas as pd "
      ]
    },
    {
      "cell_type": "code",
      "source": [
        "# !pip install mlxtend==0.18\n",
        "# from mlxtend.plotting import heatmap"
      ],
      "metadata": {
        "id": "V6Kdr2y3KIhs"
      },
      "id": "V6Kdr2y3KIhs",
      "execution_count": 9,
      "outputs": []
    },
    {
      "cell_type": "markdown",
      "id": "37fef43b",
      "metadata": {
        "id": "37fef43b"
      },
      "source": [
        "\n",
        "## 范围选择"
      ]
    },
    {
      "cell_type": "code",
      "execution_count": 10,
      "id": "40cfebf7",
      "metadata": {
        "ExecuteTime": {
          "end_time": "2022-10-05T09:06:52.641112Z",
          "start_time": "2022-10-05T09:06:52.625418Z"
        },
        "id": "40cfebf7"
      },
      "outputs": [],
      "source": [
        "Longitude_Index = 54    #经度索引\n",
        "Longitude_End = 62 +1   #经度索引\n",
        "\n",
        "Latitude_Index = 17  # 纬度索引\n",
        "Latitude_End = 31 +1 # 纬度索引"
      ]
    },
    {
      "cell_type": "code",
      "execution_count": 11,
      "id": "0c836035",
      "metadata": {
        "ExecuteTime": {
          "end_time": "2022-10-05T09:06:53.344067Z",
          "start_time": "2022-10-05T09:06:53.328376Z"
        },
        "id": "0c836035"
      },
      "outputs": [],
      "source": [
        "Sample = np.load('/content/drive/MyDrive/TEC/日本3台站/CODE/TEC.npy')"
      ]
    },
    {
      "cell_type": "code",
      "source": [
        "Sample.shape"
      ],
      "metadata": {
        "colab": {
          "base_uri": "https://localhost:8080/"
        },
        "id": "Yjqhyp6XlnQp",
        "outputId": "c9af7087-3b2d-4e4e-cd8b-f5780a218959"
      },
      "id": "Yjqhyp6XlnQp",
      "execution_count": 12,
      "outputs": [
        {
          "output_type": "execute_result",
          "data": {
            "text/plain": [
              "(71, 73, 25, 366, 1)"
            ]
          },
          "metadata": {},
          "execution_count": 12
        }
      ]
    },
    {
      "cell_type": "code",
      "execution_count": 13,
      "id": "de52e2ed",
      "metadata": {
        "ExecuteTime": {
          "end_time": "2022-10-05T09:07:17.057186Z",
          "start_time": "2022-10-05T09:07:17.041515Z"
        },
        "id": "de52e2ed"
      },
      "outputs": [],
      "source": [
        "Target_region = Sample[Latitude_Index:Latitude_End, Longitude_Index:Longitude_End,:,:50,:]"
      ]
    },
    {
      "cell_type": "code",
      "execution_count": 14,
      "id": "631c76c5",
      "metadata": {
        "ExecuteTime": {
          "end_time": "2022-10-05T09:07:18.806688Z",
          "start_time": "2022-10-05T09:07:18.541160Z"
        },
        "scrolled": false,
        "id": "631c76c5",
        "colab": {
          "base_uri": "https://localhost:8080/",
          "height": 385
        },
        "outputId": "cf0a164c-56d2-44db-e1d3-3533fdd51b3e"
      },
      "outputs": [
        {
          "output_type": "display_data",
          "data": {
            "text/plain": [
              "<Figure size 400x400 with 1 Axes>"
            ],
            "image/png": "[encoded data removed]"
          },
          "metadata": {
            "needs_background": "light"
          }
        },
        {
          "output_type": "execute_result",
          "data": {
            "text/plain": [
              "matplotlib.image.AxesImage"
            ]
          },
          "metadata": {},
          "execution_count": 14
        }
      ],
      "source": [
        "fig, ax = plt.subplots(figsize=(4, 4), dpi=100)\n",
        "line=ax.matshow(Target_region[:,:,-2,0,0], cmap = plt.cm.winter)\n",
        "plt.show()\n",
        "type(line)"
      ]
    },
    {
      "cell_type": "code",
      "source": [
        "from matplotlib import animation"
      ],
      "metadata": {
        "id": "eBC7G1WP3l7X"
      },
      "id": "eBC7G1WP3l7X",
      "execution_count": null,
      "outputs": []
    },
    {
      "cell_type": "code",
      "source": [
        "def animate(i):\n",
        "  line.set_data(Target_region[:,:,i,0,0])\n",
        "  return line,\n",
        "def init():\n",
        "  line.set_data(Target_region[:,:,0,0,0])\n",
        "  return line,\n",
        "ani = animation.FuncAnimation(fig=fig, func=animate,frames=25,init_func=init,interval=200,blit=False)\n",
        "ani.save('ani.gif', writer='pillow')\n",
        "plt.show()"
      ],
      "metadata": {
        "id": "jaenFjFu4Lu6"
      },
      "id": "jaenFjFu4Lu6",
      "execution_count": null,
      "outputs": []
    },
    {
      "cell_type": "markdown",
      "id": "4a36e19f",
      "metadata": {
        "id": "4a36e19f"
      },
      "source": [
        "### 样本制作"
      ]
    },
    {
      "cell_type": "code",
      "execution_count": 15,
      "id": "edf59186",
      "metadata": {
        "ExecuteTime": {
          "end_time": "2022-10-05T09:07:53.017448Z",
          "start_time": "2022-10-05T09:07:52.954900Z"
        },
        "id": "edf59186"
      },
      "outputs": [],
      "source": [
        "###################绘图###################\n",
        "import matplotlib.pyplot as plt\n",
        "###################标准化###################\n",
        "from sklearn.preprocessing import MinMaxScaler"
      ]
    },
    {
      "cell_type": "code",
      "source": [
        "Target_region.shape"
      ],
      "metadata": {
        "colab": {
          "base_uri": "https://localhost:8080/"
        },
        "id": "qU1eUQwGrWJ1",
        "outputId": "6a281987-14e9-4b10-841d-f735204c268f"
      },
      "id": "qU1eUQwGrWJ1",
      "execution_count": 16,
      "outputs": [
        {
          "output_type": "execute_result",
          "data": {
            "text/plain": [
              "(15, 9, 25, 50, 1)"
            ]
          },
          "metadata": {},
          "execution_count": 16
        }
      ]
    },
    {
      "cell_type": "code",
      "source": [
        "data = np.swapaxes(Target_region, 0,2)\n",
        "data = np.swapaxes(data, 1,3)\n",
        "data = np.swapaxes(data, 0,1)"
      ],
      "metadata": {
        "id": "clTa9wSsqxJ0"
      },
      "id": "clTa9wSsqxJ0",
      "execution_count": 17,
      "outputs": []
    },
    {
      "cell_type": "code",
      "source": [
        "data.shape"
      ],
      "metadata": {
        "colab": {
          "base_uri": "https://localhost:8080/"
        },
        "id": "HKyW54tirGUp",
        "outputId": "f71cda9c-5350-4eb5-9d13-791de6581cd0"
      },
      "id": "HKyW54tirGUp",
      "execution_count": 18,
      "outputs": [
        {
          "output_type": "execute_result",
          "data": {
            "text/plain": [
              "(50, 25, 15, 9, 1)"
            ]
          },
          "metadata": {},
          "execution_count": 18
        }
      ]
    },
    {
      "cell_type": "code",
      "source": [
        "data = np.delete(data,[-1], axis=0);data.shape"
      ],
      "metadata": {
        "id": "YzNN8lgnXrWU",
        "colab": {
          "base_uri": "https://localhost:8080/"
        },
        "outputId": "a86fc790-ce7e-4e9d-fb59-eb41f4d2e911"
      },
      "id": "YzNN8lgnXrWU",
      "execution_count": 19,
      "outputs": [
        {
          "output_type": "execute_result",
          "data": {
            "text/plain": [
              "(49, 25, 15, 9, 1)"
            ]
          },
          "metadata": {},
          "execution_count": 19
        }
      ]
    },
    {
      "cell_type": "code",
      "source": [
        "data = data.reshape(-1,15,9,1)"
      ],
      "metadata": {
        "id": "K8kCvw23Fp_u"
      },
      "id": "K8kCvw23Fp_u",
      "execution_count": 20,
      "outputs": []
    },
    {
      "cell_type": "code",
      "source": [
        "data.shape"
      ],
      "metadata": {
        "colab": {
          "base_uri": "https://localhost:8080/"
        },
        "id": "uz8DmNMQGrLc",
        "outputId": "a49109dd-a99f-43af-bc1f-83da81c2073a"
      },
      "id": "uz8DmNMQGrLc",
      "execution_count": 21,
      "outputs": [
        {
          "output_type": "execute_result",
          "data": {
            "text/plain": [
              "(1225, 15, 9, 1)"
            ]
          },
          "metadata": {},
          "execution_count": 21
        }
      ]
    },
    {
      "cell_type": "code",
      "source": [
        "data = data[::2]"
      ],
      "metadata": {
        "id": "wtMXJkGs9wHL"
      },
      "id": "wtMXJkGs9wHL",
      "execution_count": 22,
      "outputs": []
    },
    {
      "cell_type": "code",
      "source": [
        "data.shape"
      ],
      "metadata": {
        "colab": {
          "base_uri": "https://localhost:8080/"
        },
        "id": "xhmoEtur99zF",
        "outputId": "dc1d25e2-1e3f-4ee1-ffeb-cadbeb0152a3"
      },
      "id": "xhmoEtur99zF",
      "execution_count": 23,
      "outputs": [
        {
          "output_type": "execute_result",
          "data": {
            "text/plain": [
              "(613, 15, 9, 1)"
            ]
          },
          "metadata": {},
          "execution_count": 23
        }
      ]
    },
    {
      "cell_type": "code",
      "source": [
        "# 数据集划分\n",
        "def create_dataset(data, look_back=91, forward=26):\n",
        "  x = []\n",
        "  y = []\n",
        "  for i in range(data.shape[0]-(look_back+forward)+1):\n",
        "    x.append(data[i:i+look_back,:,:,:])\n",
        "    y.append(data[i+look_back:i+look_back+forward,:,:,:])\n",
        "  return (np.array(x), np.array(y))\n"
      ],
      "metadata": {
        "id": "CD4XBCt8oKXO"
      },
      "id": "CD4XBCt8oKXO",
      "execution_count": 24,
      "outputs": []
    },
    {
      "cell_type": "code",
      "source": [
        "a,b = create_dataset(data)"
      ],
      "metadata": {
        "id": "wxb8PyVdKsvV"
      },
      "id": "wxb8PyVdKsvV",
      "execution_count": 25,
      "outputs": []
    },
    {
      "cell_type": "code",
      "source": [
        "a.shape,b.shape"
      ],
      "metadata": {
        "colab": {
          "base_uri": "https://localhost:8080/"
        },
        "id": "Co_VZj-ELxn_",
        "outputId": "73413dfb-be82-4387-97d9-7711d01e8a0a"
      },
      "id": "Co_VZj-ELxn_",
      "execution_count": 26,
      "outputs": [
        {
          "output_type": "execute_result",
          "data": {
            "text/plain": [
              "((497, 91, 15, 9, 1), (497, 26, 15, 9, 1))"
            ]
          },
          "metadata": {},
          "execution_count": 26
        }
      ]
    },
    {
      "cell_type": "code",
      "execution_count": 27,
      "id": "ca5e489f",
      "metadata": {
        "ExecuteTime": {
          "end_time": "2022-10-05T09:08:25.212853Z",
          "start_time": "2022-10-05T09:08:25.197229Z"
        },
        "id": "ca5e489f",
        "colab": {
          "base_uri": "https://localhost:8080/"
        },
        "outputId": "ac7bddef-0605-4612-c43a-ec53d6a7d0eb"
      },
      "outputs": [
        {
          "output_type": "execute_result",
          "data": {
            "text/plain": [
              "398"
            ]
          },
          "metadata": {},
          "execution_count": 27
        }
      ],
      "source": [
        "# len(df)为df多少行\n",
        "pot = round(0.8 * a.shape[0])\n",
        "pot"
      ]
    },
    {
      "cell_type": "code",
      "execution_count": 28,
      "id": "8e371375",
      "metadata": {
        "ExecuteTime": {
          "end_time": "2022-10-05T09:08:25.587764Z",
          "start_time": "2022-10-05T09:08:25.572143Z"
        },
        "id": "8e371375"
      },
      "outputs": [],
      "source": [
        "x_train, y_train = a[:pot],b[:pot]\n",
        "x_test, y_test = a[pot:],b[pot:]\n",
        "# y_train = np.expand_dims(y_train, 1)\n",
        "# y_test = np.expand_dims(y_test, 1)"
      ]
    },
    {
      "cell_type": "code",
      "source": [
        "x_train.shape, x_test.shape,y_test.shape"
      ],
      "metadata": {
        "colab": {
          "base_uri": "https://localhost:8080/"
        },
        "id": "jisy-reTtHOf",
        "outputId": "b7ffbf21-99a2-42ac-a2dd-fd3b890cb3b4"
      },
      "id": "jisy-reTtHOf",
      "execution_count": 29,
      "outputs": [
        {
          "output_type": "execute_result",
          "data": {
            "text/plain": [
              "((398, 91, 15, 9, 1), (99, 91, 15, 9, 1), (99, 26, 15, 9, 1))"
            ]
          },
          "metadata": {},
          "execution_count": 29
        }
      ]
    },
    {
      "cell_type": "markdown",
      "id": "046c7cee",
      "metadata": {
        "id": "046c7cee"
      },
      "source": [
        "### LearningRateScheduler调整学习率"
      ]
    },
    {
      "cell_type": "code",
      "execution_count": 30,
      "id": "05667918",
      "metadata": {
        "ExecuteTime": {
          "end_time": "2022-10-05T09:08:33.804680Z",
          "start_time": "2022-10-05T09:08:32.289305Z"
        },
        "id": "05667918"
      },
      "outputs": [],
      "source": [
        "from tensorflow.keras import backend as K\n",
        "from tensorflow.keras.callbacks import EarlyStopping, LearningRateScheduler"
      ]
    },
    {
      "cell_type": "code",
      "execution_count": 31,
      "id": "ddafc547",
      "metadata": {
        "ExecuteTime": {
          "end_time": "2022-10-05T09:08:34.538789Z",
          "start_time": "2022-10-05T09:08:34.523255Z"
        },
        "id": "ddafc547"
      },
      "outputs": [],
      "source": [
        "def scheduler(epoch):\n",
        "    if epoch % 40 ==0 :\n",
        "        lr = K.get_value(tcn.optimizer.lr)\n",
        "        if lr > 1e-5:\n",
        "            K.set_value(tcn.optimizer.lr, lr *0.5)\n",
        "            print('lr changed to {}'.format(lr * 0.5))\n",
        "    return K.get_value(tcn.optimizer.lr)"
      ]
    },
    {
      "cell_type": "code",
      "execution_count": 32,
      "id": "2649ac73",
      "metadata": {
        "ExecuteTime": {
          "end_time": "2022-10-05T09:08:35.741715Z",
          "start_time": "2022-10-05T09:08:35.725991Z"
        },
        "id": "2649ac73"
      },
      "outputs": [],
      "source": [
        "reduce_lr = LearningRateScheduler(scheduler)\n",
        "early_stopping = EarlyStopping(monitor='loss', \n",
        "                               patience=20, \n",
        "                               min_delta=1e-5,\n",
        "                               mode='auto',\n",
        "                               restore_best_weights=False,#是否从具有监测数量的最佳值的时期恢复模型权重\n",
        "                               verbose=2)"
      ]
    },
    {
      "cell_type": "code",
      "execution_count": 36,
      "id": "000793c6",
      "metadata": {
        "ExecuteTime": {
          "end_time": "2022-10-05T09:08:36.757098Z",
          "start_time": "2022-10-05T09:08:36.725785Z"
        },
        "id": "000793c6"
      },
      "outputs": [],
      "source": [
        "import tensorflow as tf\n",
        "from tensorflow.keras.layers import ConvLSTM2D,Conv2D,Conv3D,BatchNormalization,Flatten,RepeatVector,Reshape\n",
        "from tensorflow.keras import Input, Model, Sequential\n",
        "from sklearn.metrics import mean_squared_error"
      ]
    },
    {
      "cell_type": "code",
      "execution_count": 34,
      "id": "5797cf77",
      "metadata": {
        "ExecuteTime": {
          "end_time": "2022-10-05T09:08:38.038011Z",
          "start_time": "2022-10-05T09:08:38.022411Z"
        },
        "id": "5797cf77"
      },
      "outputs": [],
      "source": [
        "# 自定义损失函数\n",
        "def my_metric_fn(y_true, y_pred):\n",
        "    SS_res =  K.sum(K.square( y_true-y_pred )) \n",
        "    SS_tot = K.sum(K.square( y_true - K.mean(y_true) ) ) \n",
        "    return ( 1 - SS_res/(SS_tot + K.epsilon()) )\n",
        "def root_mean_squared_error(y_true, y_pred):\n",
        "        return K.sqrt(K.mean(K.square(y_pred - y_true)))\n",
        "# Loss function\n",
        "def ssim_loss(y_true, y_pred):\n",
        "    return 1 - tf.reduce_mean(tf.image.ssim(y_true, y_pred, 1.0, filter_size=3))"
      ]
    },
    {
      "cell_type": "code",
      "execution_count": 44,
      "id": "bcf4bfa4",
      "metadata": {
        "ExecuteTime": {
          "end_time": "2022-10-05T09:42:37.867903Z",
          "start_time": "2022-10-05T09:42:36.961797Z"
        },
        "code_folding": [],
        "id": "bcf4bfa4",
        "colab": {
          "base_uri": "https://localhost:8080/"
        },
        "outputId": "3a9bc20d-0cf5-48a6-c789-c24cd71e94be"
      },
      "outputs": [
        {
          "output_type": "stream",
          "name": "stdout",
          "text": [
            "Model: \"sequential_6\"\n",
            "_________________________________________________________________\n",
            " Layer (type)                Output Shape              Param #   \n",
            "=================================================================\n",
            " conv_lstm2d_26 (ConvLSTM2D)  (None, 91, 15, 9, 32)    38144     \n",
            "                                                                 \n",
            " batch_normalization_24 (Bat  (None, 91, 15, 9, 32)    128       \n",
            " chNormalization)                                                \n",
            "                                                                 \n",
            " conv_lstm2d_27 (ConvLSTM2D)  (None, 91, 15, 9, 32)    32896     \n",
            "                                                                 \n",
            " batch_normalization_25 (Bat  (None, 91, 15, 9, 32)    128       \n",
            " chNormalization)                                                \n",
            "                                                                 \n",
            " conv_lstm2d_28 (ConvLSTM2D)  (None, 91, 15, 9, 32)    32896     \n",
            "                                                                 \n",
            " batch_normalization_26 (Bat  (None, 91, 15, 9, 32)    128       \n",
            " chNormalization)                                                \n",
            "                                                                 \n",
            " conv_lstm2d_29 (ConvLSTM2D)  (None, 15, 9, 32)        32896     \n",
            "                                                                 \n",
            " batch_normalization_27 (Bat  (None, 15, 9, 32)        128       \n",
            " chNormalization)                                                \n",
            "                                                                 \n",
            " flatten_5 (Flatten)         (None, 4320)              0         \n",
            "                                                                 \n",
            " repeat_vector_5 (RepeatVect  (None, 26, 4320)         0         \n",
            " or)                                                             \n",
            "                                                                 \n",
            " reshape_4 (Reshape)         (None, 26, 15, 9, 32)     0         \n",
            "                                                                 \n",
            " conv_lstm2d_30 (ConvLSTM2D)  (None, 26, 15, 9, 32)    32896     \n",
            "                                                                 \n",
            " batch_normalization_28 (Bat  (None, 26, 15, 9, 32)    128       \n",
            " chNormalization)                                                \n",
            "                                                                 \n",
            " conv_lstm2d_31 (ConvLSTM2D)  (None, 26, 15, 9, 32)    32896     \n",
            "                                                                 \n",
            " batch_normalization_29 (Bat  (None, 26, 15, 9, 32)    128       \n",
            " chNormalization)                                                \n",
            "                                                                 \n",
            " conv3d_1 (Conv3D)           (None, 26, 15, 9, 1)      33        \n",
            "                                                                 \n",
            "=================================================================\n",
            "Total params: 203,425\n",
            "Trainable params: 203,041\n",
            "Non-trainable params: 384\n",
            "_________________________________________________________________\n"
          ]
        }
      ],
      "source": [
        "#输入维数\n",
        "tcn = Sequential()\n",
        "input_layer =Input(shape=(x_train.shape[1:]))\n",
        "tcn.add(input_layer)\n",
        "tcn.add(\n",
        "    ConvLSTM2D(\n",
        "        filters=32,\n",
        "        kernel_size=(3,3),\n",
        "        padding='same',\n",
        "        return_sequences=True\n",
        "    )\n",
        ")\n",
        "tcn.add(BatchNormalization())\n",
        "# tcn.add(LayerNormalization())\n",
        "tcn.add(\n",
        "    ConvLSTM2D(\n",
        "        filters=32,\n",
        "        kernel_size=(2,2),\n",
        "        padding='same',\n",
        "        return_sequences=True\n",
        "    )\n",
        ")\n",
        "tcn.add(BatchNormalization())\n",
        "# tcn.add(LayerNormalization())\n",
        "tcn.add(\n",
        "    ConvLSTM2D(\n",
        "        filters=32,\n",
        "        kernel_size=(2,2),\n",
        "        padding='same',\n",
        "        return_sequences=True\n",
        "    )\n",
        ")\n",
        "tcn.add(BatchNormalization())\n",
        "# tcn.add(LayerNormalization())\n",
        "tcn.add(\n",
        "    ConvLSTM2D(\n",
        "        filters=32,\n",
        "        kernel_size=(2,2),\n",
        "        padding='same',\n",
        "        return_sequences=False\n",
        "    )\n",
        ")\n",
        "tcn.add(BatchNormalization())\n",
        "# ###############################\n",
        "tcn.add(Flatten())\n",
        "tcn.add(RepeatVector(13*2))\n",
        "tcn.add(Reshape((13*2,15,9,32)))\n",
        "tcn.add(\n",
        "    ConvLSTM2D(\n",
        "        filters=32,\n",
        "        kernel_size=(2,2),\n",
        "        padding='same',\n",
        "        return_sequences=True\n",
        "    )\n",
        ")\n",
        "tcn.add(BatchNormalization())\n",
        "tcn.add(\n",
        "    ConvLSTM2D(\n",
        "        filters=32,\n",
        "        kernel_size=(2,2),\n",
        "        padding='same',\n",
        "        return_sequences=True\n",
        "    )\n",
        ")\n",
        "tcn.add(BatchNormalization())\n",
        "# tcn.add(LayerNormalization())\n",
        "tcn.add(Conv3D(filters=1, kernel_size=(1,1,1),activation=\"relu\", padding=\"same\"))\n",
        "tcn.compile(tf.keras.optimizers.Adam(learning_rate=0.01), loss=root_mean_squared_error)# RMSE\n",
        "tcn.summary()"
      ]
    },
    {
      "cell_type": "code",
      "execution_count": 48,
      "id": "5ffc345f",
      "metadata": {
        "ExecuteTime": {
          "end_time": "2022-10-05T09:53:01.829540Z",
          "start_time": "2022-10-05T09:43:43.992822Z"
        },
        "scrolled": true,
        "id": "5ffc345f",
        "colab": {
          "base_uri": "https://localhost:8080/"
        },
        "outputId": "c7564d61-6547-4528-aae2-221994cbec5a"
      },
      "outputs": [
        {
          "output_type": "stream",
          "name": "stdout",
          "text": [
            "lr changed to 0.00015624999650754035\n",
            "Epoch 1/121\n",
            "4/4 [==============================] - 12s 3s/step - loss: 1.3172 - val_loss: 2.1003 - lr: 1.5625e-04\n",
            "Epoch 2/121\n",
            "4/4 [==============================] - 12s 3s/step - loss: 1.2857 - val_loss: 2.1440 - lr: 1.5625e-04\n",
            "Epoch 3/121\n",
            "4/4 [==============================] - 12s 3s/step - loss: 1.2971 - val_loss: 2.1258 - lr: 1.5625e-04\n",
            "Epoch 4/121\n",
            "4/4 [==============================] - 12s 3s/step - loss: 1.2858 - val_loss: 2.0651 - lr: 1.5625e-04\n",
            "Epoch 5/121\n",
            "4/4 [==============================] - 12s 3s/step - loss: 1.2823 - val_loss: 2.0798 - lr: 1.5625e-04\n",
            "Epoch 6/121\n",
            "4/4 [==============================] - 12s 3s/step - loss: 1.2875 - val_loss: 2.0623 - lr: 1.5625e-04\n",
            "Epoch 7/121\n",
            "4/4 [==============================] - 12s 3s/step - loss: 1.2770 - val_loss: 2.0159 - lr: 1.5625e-04\n",
            "Epoch 8/121\n",
            "4/4 [==============================] - 12s 3s/step - loss: 1.2987 - val_loss: 2.0171 - lr: 1.5625e-04\n",
            "Epoch 9/121\n",
            "4/4 [==============================] - 12s 3s/step - loss: 1.2788 - val_loss: 2.0240 - lr: 1.5625e-04\n",
            "Epoch 10/121\n",
            "4/4 [==============================] - 12s 3s/step - loss: 1.2722 - val_loss: 1.9747 - lr: 1.5625e-04\n",
            "Epoch 11/121\n",
            "4/4 [==============================] - 12s 3s/step - loss: 1.2779 - val_loss: 1.9891 - lr: 1.5625e-04\n",
            "Epoch 12/121\n",
            "4/4 [==============================] - 12s 3s/step - loss: 1.2810 - val_loss: 1.9982 - lr: 1.5625e-04\n",
            "Epoch 13/121\n",
            "4/4 [==============================] - 12s 3s/step - loss: 1.2778 - val_loss: 1.9866 - lr: 1.5625e-04\n",
            "Epoch 14/121\n",
            "4/4 [==============================] - 15s 4s/step - loss: 1.2819 - val_loss: 1.9658 - lr: 1.5625e-04\n",
            "Epoch 15/121\n",
            "4/4 [==============================] - 12s 3s/step - loss: 1.2737 - val_loss: 1.9456 - lr: 1.5625e-04\n",
            "Epoch 16/121\n",
            "4/4 [==============================] - 11s 3s/step - loss: 1.2716 - val_loss: 1.9614 - lr: 1.5625e-04\n",
            "Epoch 17/121\n",
            "4/4 [==============================] - 12s 3s/step - loss: 1.2839 - val_loss: 1.9582 - lr: 1.5625e-04\n",
            "Epoch 18/121\n",
            "4/4 [==============================] - 12s 3s/step - loss: 1.2757 - val_loss: 1.9333 - lr: 1.5625e-04\n",
            "Epoch 19/121\n",
            "4/4 [==============================] - 12s 3s/step - loss: 1.2718 - val_loss: 1.9591 - lr: 1.5625e-04\n",
            "Epoch 20/121\n",
            "4/4 [==============================] - 12s 3s/step - loss: 1.2698 - val_loss: 1.9266 - lr: 1.5625e-04\n",
            "Epoch 21/121\n",
            "4/4 [==============================] - 12s 3s/step - loss: 1.2784 - val_loss: 1.9002 - lr: 1.5625e-04\n",
            "Epoch 22/121\n",
            "4/4 [==============================] - 12s 3s/step - loss: 1.2763 - val_loss: 1.9117 - lr: 1.5625e-04\n",
            "Epoch 23/121\n",
            "4/4 [==============================] - 12s 3s/step - loss: 1.2751 - val_loss: 1.8659 - lr: 1.5625e-04\n",
            "Epoch 24/121\n",
            "4/4 [==============================] - 12s 3s/step - loss: 1.2713 - val_loss: 1.8874 - lr: 1.5625e-04\n",
            "Epoch 25/121\n",
            "4/4 [==============================] - 12s 3s/step - loss: 1.2775 - val_loss: 1.8899 - lr: 1.5625e-04\n",
            "Epoch 26/121\n",
            "4/4 [==============================] - 12s 3s/step - loss: 1.2659 - val_loss: 1.8206 - lr: 1.5625e-04\n",
            "Epoch 27/121\n",
            "4/4 [==============================] - 12s 3s/step - loss: 1.2784 - val_loss: 1.8330 - lr: 1.5625e-04\n",
            "Epoch 28/121\n",
            "4/4 [==============================] - 12s 3s/step - loss: 1.2771 - val_loss: 1.8447 - lr: 1.5625e-04\n",
            "Epoch 29/121\n",
            "4/4 [==============================] - 12s 3s/step - loss: 1.2721 - val_loss: 1.8538 - lr: 1.5625e-04\n",
            "Epoch 30/121\n",
            "4/4 [==============================] - 12s 3s/step - loss: 1.2756 - val_loss: 1.8441 - lr: 1.5625e-04\n",
            "Epoch 31/121\n",
            "4/4 [==============================] - 12s 3s/step - loss: 1.2723 - val_loss: 1.8228 - lr: 1.5625e-04\n",
            "Epoch 32/121\n",
            "4/4 [==============================] - 12s 3s/step - loss: 1.2777 - val_loss: 1.8101 - lr: 1.5625e-04\n",
            "Epoch 33/121\n",
            "4/4 [==============================] - 12s 3s/step - loss: 1.2787 - val_loss: 1.8010 - lr: 1.5625e-04\n",
            "Epoch 34/121\n",
            "4/4 [==============================] - 12s 3s/step - loss: 1.2777 - val_loss: 1.8104 - lr: 1.5625e-04\n",
            "Epoch 35/121\n",
            "4/4 [==============================] - 14s 4s/step - loss: 1.2813 - val_loss: 1.8088 - lr: 1.5625e-04\n",
            "Epoch 36/121\n",
            "4/4 [==============================] - 11s 3s/step - loss: 1.2661 - val_loss: 1.7921 - lr: 1.5625e-04\n",
            "Epoch 37/121\n",
            "4/4 [==============================] - 12s 3s/step - loss: 1.2723 - val_loss: 1.7734 - lr: 1.5625e-04\n",
            "Epoch 38/121\n",
            "4/4 [==============================] - 12s 3s/step - loss: 1.2669 - val_loss: 1.7775 - lr: 1.5625e-04\n",
            "Epoch 39/121\n",
            "4/4 [==============================] - 12s 3s/step - loss: 1.2804 - val_loss: 1.7687 - lr: 1.5625e-04\n",
            "Epoch 40/121\n",
            "4/4 [==============================] - 12s 3s/step - loss: 1.2651 - val_loss: 1.8004 - lr: 1.5625e-04\n",
            "lr changed to 7.812499825377017e-05\n",
            "Epoch 41/121\n",
            "4/4 [==============================] - 12s 3s/step - loss: 1.2629 - val_loss: 1.8110 - lr: 7.8125e-05\n",
            "Epoch 42/121\n",
            "4/4 [==============================] - 12s 3s/step - loss: 1.2645 - val_loss: 1.8119 - lr: 7.8125e-05\n",
            "Epoch 43/121\n",
            "4/4 [==============================] - 12s 3s/step - loss: 1.2592 - val_loss: 1.7774 - lr: 7.8125e-05\n",
            "Epoch 44/121\n",
            "4/4 [==============================] - 12s 3s/step - loss: 1.2690 - val_loss: 1.7554 - lr: 7.8125e-05\n",
            "Epoch 45/121\n",
            "4/4 [==============================] - 12s 3s/step - loss: 1.2710 - val_loss: 1.7631 - lr: 7.8125e-05\n",
            "Epoch 46/121\n",
            "4/4 [==============================] - 12s 3s/step - loss: 1.2752 - val_loss: 1.7749 - lr: 7.8125e-05\n",
            "Epoch 47/121\n",
            "4/4 [==============================] - 12s 3s/step - loss: 1.2692 - val_loss: 1.7801 - lr: 7.8125e-05\n",
            "Epoch 48/121\n",
            "4/4 [==============================] - 12s 3s/step - loss: 1.2580 - val_loss: 1.7733 - lr: 7.8125e-05\n",
            "Epoch 49/121\n",
            "4/4 [==============================] - 12s 3s/step - loss: 1.2592 - val_loss: 1.7787 - lr: 7.8125e-05\n",
            "Epoch 50/121\n",
            "4/4 [==============================] - 12s 3s/step - loss: 1.2542 - val_loss: 1.7947 - lr: 7.8125e-05\n",
            "Epoch 51/121\n",
            "4/4 [==============================] - 12s 3s/step - loss: 1.2591 - val_loss: 1.7969 - lr: 7.8125e-05\n",
            "Epoch 52/121\n",
            "4/4 [==============================] - 12s 3s/step - loss: 1.2616 - val_loss: 1.7845 - lr: 7.8125e-05\n",
            "Epoch 53/121\n",
            "4/4 [==============================] - 12s 3s/step - loss: 1.2512 - val_loss: 1.7747 - lr: 7.8125e-05\n",
            "Epoch 54/121\n",
            "4/4 [==============================] - 12s 3s/step - loss: 1.2492 - val_loss: 1.7725 - lr: 7.8125e-05\n",
            "Epoch 55/121\n",
            "4/4 [==============================] - 15s 4s/step - loss: 1.2633 - val_loss: 1.7818 - lr: 7.8125e-05\n",
            "Epoch 56/121\n",
            "4/4 [==============================] - 12s 3s/step - loss: 1.2451 - val_loss: 1.7861 - lr: 7.8125e-05\n",
            "Epoch 57/121\n",
            "4/4 [==============================] - 11s 3s/step - loss: 1.2537 - val_loss: 1.7762 - lr: 7.8125e-05\n",
            "Epoch 58/121\n",
            "4/4 [==============================] - 11s 3s/step - loss: 1.2531 - val_loss: 1.7674 - lr: 7.8125e-05\n",
            "Epoch 59/121\n",
            "4/4 [==============================] - 11s 3s/step - loss: 1.2537 - val_loss: 1.7596 - lr: 7.8125e-05\n",
            "Epoch 60/121\n",
            "4/4 [==============================] - 12s 3s/step - loss: 1.2509 - val_loss: 1.7616 - lr: 7.8125e-05\n",
            "Epoch 61/121\n",
            "4/4 [==============================] - 12s 3s/step - loss: 1.2480 - val_loss: 1.7639 - lr: 7.8125e-05\n",
            "Epoch 62/121\n",
            "4/4 [==============================] - 12s 3s/step - loss: 1.2480 - val_loss: 1.7573 - lr: 7.8125e-05\n",
            "Epoch 63/121\n",
            "4/4 [==============================] - 12s 3s/step - loss: 1.2536 - val_loss: 1.7529 - lr: 7.8125e-05\n",
            "Epoch 64/121\n",
            "4/4 [==============================] - 12s 3s/step - loss: 1.2445 - val_loss: 1.7574 - lr: 7.8125e-05\n",
            "Epoch 65/121\n",
            "4/4 [==============================] - 12s 3s/step - loss: 1.2591 - val_loss: 1.7553 - lr: 7.8125e-05\n",
            "Epoch 66/121\n",
            "4/4 [==============================] - 12s 3s/step - loss: 1.2543 - val_loss: 1.7570 - lr: 7.8125e-05\n",
            "Epoch 67/121\n",
            "4/4 [==============================] - 12s 3s/step - loss: 1.2594 - val_loss: 1.7654 - lr: 7.8125e-05\n",
            "Epoch 68/121\n",
            "4/4 [==============================] - 12s 3s/step - loss: 1.2540 - val_loss: 1.7663 - lr: 7.8125e-05\n",
            "Epoch 69/121\n",
            "4/4 [==============================] - 12s 3s/step - loss: 1.2576 - val_loss: 1.7678 - lr: 7.8125e-05\n",
            "Epoch 70/121\n",
            "4/4 [==============================] - 12s 3s/step - loss: 1.2477 - val_loss: 1.7603 - lr: 7.8125e-05\n",
            "Epoch 71/121\n",
            "4/4 [==============================] - 11s 3s/step - loss: 1.2477 - val_loss: 1.7592 - lr: 7.8125e-05\n",
            "Epoch 72/121\n",
            "4/4 [==============================] - 12s 3s/step - loss: 1.2508 - val_loss: 1.7627 - lr: 7.8125e-05\n",
            "Epoch 73/121\n",
            "4/4 [==============================] - 12s 3s/step - loss: 1.2538 - val_loss: 1.7797 - lr: 7.8125e-05\n",
            "Epoch 74/121\n",
            "4/4 [==============================] - 11s 3s/step - loss: 1.2517 - val_loss: 1.7770 - lr: 7.8125e-05\n",
            "Epoch 75/121\n",
            "4/4 [==============================] - 12s 3s/step - loss: 1.2465 - val_loss: 1.7717 - lr: 7.8125e-05\n",
            "Epoch 76/121\n",
            "4/4 [==============================] - 14s 4s/step - loss: 1.2597 - val_loss: 1.7684 - lr: 7.8125e-05\n",
            "Epoch 77/121\n",
            "4/4 [==============================] - 12s 3s/step - loss: 1.2431 - val_loss: 1.7609 - lr: 7.8125e-05\n",
            "Epoch 78/121\n",
            "4/4 [==============================] - 12s 3s/step - loss: 1.2440 - val_loss: 1.7652 - lr: 7.8125e-05\n",
            "Epoch 79/121\n",
            "4/4 [==============================] - 12s 3s/step - loss: 1.2642 - val_loss: 1.7506 - lr: 7.8125e-05\n",
            "Epoch 80/121\n",
            "4/4 [==============================] - 11s 3s/step - loss: 1.2560 - val_loss: 1.7459 - lr: 7.8125e-05\n",
            "lr changed to 3.9062499126885086e-05\n",
            "Epoch 81/121\n",
            "4/4 [==============================] - 11s 3s/step - loss: 1.2531 - val_loss: 1.7480 - lr: 3.9062e-05\n",
            "Epoch 82/121\n",
            "4/4 [==============================] - 12s 3s/step - loss: 1.2536 - val_loss: 1.7540 - lr: 3.9062e-05\n",
            "Epoch 83/121\n",
            "4/4 [==============================] - 12s 3s/step - loss: 1.2430 - val_loss: 1.7655 - lr: 3.9062e-05\n",
            "Epoch 84/121\n",
            "4/4 [==============================] - 12s 3s/step - loss: 1.2505 - val_loss: 1.7697 - lr: 3.9062e-05\n",
            "Epoch 85/121\n",
            "4/4 [==============================] - 12s 3s/step - loss: 1.2400 - val_loss: 1.7678 - lr: 3.9062e-05\n",
            "Epoch 86/121\n",
            "4/4 [==============================] - 12s 3s/step - loss: 1.2534 - val_loss: 1.7642 - lr: 3.9062e-05\n",
            "Epoch 87/121\n",
            "4/4 [==============================] - 12s 3s/step - loss: 1.2515 - val_loss: 1.7671 - lr: 3.9062e-05\n",
            "Epoch 88/121\n",
            "4/4 [==============================] - 12s 3s/step - loss: 1.2431 - val_loss: 1.7651 - lr: 3.9062e-05\n",
            "Epoch 89/121\n",
            "4/4 [==============================] - 12s 3s/step - loss: 1.2470 - val_loss: 1.7618 - lr: 3.9062e-05\n",
            "Epoch 90/121\n",
            "4/4 [==============================] - 12s 3s/step - loss: 1.2463 - val_loss: 1.7632 - lr: 3.9062e-05\n",
            "Epoch 91/121\n",
            "4/4 [==============================] - 12s 3s/step - loss: 1.2430 - val_loss: 1.7639 - lr: 3.9062e-05\n",
            "Epoch 92/121\n",
            "4/4 [==============================] - 12s 3s/step - loss: 1.2384 - val_loss: 1.7601 - lr: 3.9062e-05\n",
            "Epoch 93/121\n",
            "4/4 [==============================] - 12s 3s/step - loss: 1.2400 - val_loss: 1.7588 - lr: 3.9062e-05\n",
            "Epoch 94/121\n",
            "4/4 [==============================] - 12s 3s/step - loss: 1.2352 - val_loss: 1.7573 - lr: 3.9062e-05\n",
            "Epoch 95/121\n",
            "4/4 [==============================] - 12s 3s/step - loss: 1.2344 - val_loss: 1.7592 - lr: 3.9062e-05\n",
            "Epoch 96/121\n",
            "4/4 [==============================] - 12s 3s/step - loss: 1.2397 - val_loss: 1.7594 - lr: 3.9062e-05\n",
            "Epoch 97/121\n",
            "4/4 [==============================] - 16s 4s/step - loss: 1.2378 - val_loss: 1.7605 - lr: 3.9062e-05\n",
            "Epoch 98/121\n",
            "4/4 [==============================] - 12s 3s/step - loss: 1.2380 - val_loss: 1.7532 - lr: 3.9062e-05\n",
            "Epoch 99/121\n",
            "4/4 [==============================] - 12s 3s/step - loss: 1.2431 - val_loss: 1.7488 - lr: 3.9062e-05\n",
            "Epoch 100/121\n",
            "4/4 [==============================] - 12s 3s/step - loss: 1.2340 - val_loss: 1.7558 - lr: 3.9062e-05\n",
            "Epoch 101/121\n",
            "4/4 [==============================] - 12s 3s/step - loss: 1.2387 - val_loss: 1.7526 - lr: 3.9062e-05\n",
            "Epoch 102/121\n",
            "4/4 [==============================] - 12s 3s/step - loss: 1.2356 - val_loss: 1.7442 - lr: 3.9062e-05\n",
            "Epoch 103/121\n",
            "4/4 [==============================] - 12s 3s/step - loss: 1.2460 - val_loss: 1.7448 - lr: 3.9062e-05\n",
            "Epoch 104/121\n",
            "4/4 [==============================] - 12s 3s/step - loss: 1.2335 - val_loss: 1.7501 - lr: 3.9062e-05\n",
            "Epoch 105/121\n",
            "4/4 [==============================] - 12s 3s/step - loss: 1.2331 - val_loss: 1.7540 - lr: 3.9062e-05\n",
            "Epoch 106/121\n",
            "4/4 [==============================] - 12s 3s/step - loss: 1.2380 - val_loss: 1.7565 - lr: 3.9062e-05\n",
            "Epoch 107/121\n",
            "4/4 [==============================] - 12s 3s/step - loss: 1.2406 - val_loss: 1.7562 - lr: 3.9062e-05\n",
            "Epoch 108/121\n",
            "4/4 [==============================] - 12s 3s/step - loss: 1.2451 - val_loss: 1.7594 - lr: 3.9062e-05\n",
            "Epoch 109/121\n",
            "4/4 [==============================] - 12s 3s/step - loss: 1.2341 - val_loss: 1.7598 - lr: 3.9062e-05\n",
            "Epoch 110/121\n",
            "4/4 [==============================] - 12s 3s/step - loss: 1.2377 - val_loss: 1.7573 - lr: 3.9062e-05\n",
            "Epoch 111/121\n",
            "4/4 [==============================] - 12s 3s/step - loss: 1.2328 - val_loss: 1.7537 - lr: 3.9062e-05\n",
            "Epoch 112/121\n",
            "4/4 [==============================] - 12s 3s/step - loss: 1.2327 - val_loss: 1.7510 - lr: 3.9062e-05\n",
            "Epoch 113/121\n",
            "4/4 [==============================] - 12s 3s/step - loss: 1.2426 - val_loss: 1.7488 - lr: 3.9062e-05\n",
            "Epoch 114/121\n",
            "4/4 [==============================] - 12s 3s/step - loss: 1.2365 - val_loss: 1.7482 - lr: 3.9062e-05\n",
            "Epoch 115/121\n",
            "4/4 [==============================] - 12s 3s/step - loss: 1.2398 - val_loss: 1.7545 - lr: 3.9062e-05\n",
            "Epoch 116/121\n",
            "4/4 [==============================] - 12s 3s/step - loss: 1.2384 - val_loss: 1.7594 - lr: 3.9062e-05\n",
            "Epoch 117/121\n",
            "4/4 [==============================] - 15s 4s/step - loss: 1.2353 - val_loss: 1.7604 - lr: 3.9062e-05\n",
            "Epoch 118/121\n",
            "4/4 [==============================] - 13s 3s/step - loss: 1.2536 - val_loss: 1.7609 - lr: 3.9062e-05\n",
            "Epoch 119/121\n",
            "4/4 [==============================] - 12s 3s/step - loss: 1.2331 - val_loss: 1.7563 - lr: 3.9062e-05\n",
            "Epoch 120/121\n",
            "4/4 [==============================] - 12s 3s/step - loss: 1.2496 - val_loss: 1.7538 - lr: 3.9062e-05\n",
            "lr changed to 1.9531249563442543e-05\n",
            "Epoch 121/121\n",
            "4/4 [==============================] - 12s 3s/step - loss: 1.2408 - val_loss: 1.7556 - lr: 1.9531e-05\n"
          ]
        }
      ],
      "source": [
        "# from tensorflow.keras.models import load_model\n",
        "# tcn = load_model('/content/spatiotemporal_1.h5')\n",
        "history=tcn.fit(x_train,y_train, \n",
        "        epochs=121, batch_size=128,validation_data=[x_test, y_test], callbacks=[reduce_lr])\n"
      ]
    },
    {
      "cell_type": "code",
      "execution_count": 2,
      "id": "8a3a3b00",
      "metadata": {
        "ExecuteTime": {
          "end_time": "2022-10-05T09:53:25.495903Z",
          "start_time": "2022-10-05T09:53:25.464641Z"
        },
        "id": "8a3a3b00"
      },
      "outputs": [],
      "source": [
        "# history.history.keys() #查看history中存储了哪些参数"
      ]
    },
    {
      "cell_type": "code",
      "execution_count": 3,
      "id": "d1add196",
      "metadata": {
        "ExecuteTime": {
          "end_time": "2022-10-05T09:53:26.089534Z",
          "start_time": "2022-10-05T09:53:26.073834Z"
        },
        "id": "d1add196"
      },
      "outputs": [],
      "source": [
        "# plt.plot(history.epoch,history.history.get('my_metric_fn')[:]) #画出随着epoch增大loss的变化图\n",
        "#plt.plot(history.epoch,history.history.get('acc'))#画出随着epoch增大准确率的变化图"
      ]
    },
    {
      "cell_type": "code",
      "execution_count": 4,
      "id": "09ae9e4f",
      "metadata": {
        "ExecuteTime": {
          "end_time": "2022-10-05T09:53:26.698759Z",
          "start_time": "2022-10-05T09:53:26.683072Z"
        },
        "id": "09ae9e4f"
      },
      "outputs": [],
      "source": [
        "# plt.plot(history.epoch, history.history.get('lr'))"
      ]
    },
    {
      "cell_type": "code",
      "execution_count": 49,
      "id": "c3dbeafd",
      "metadata": {
        "ExecuteTime": {
          "end_time": "2022-10-05T09:53:34.478062Z",
          "start_time": "2022-10-05T09:53:28.588829Z"
        },
        "id": "c3dbeafd",
        "colab": {
          "base_uri": "https://localhost:8080/"
        },
        "outputId": "9ed5a4e4-98b8-46f1-fe9d-be87b6300d2b"
      },
      "outputs": [
        {
          "output_type": "stream",
          "name": "stdout",
          "text": [
            "4/4 [==============================] - 2s 417ms/step - loss: 1.7508\n"
          ]
        },
        {
          "output_type": "execute_result",
          "data": {
            "text/plain": [
              "1.7507940530776978"
            ]
          },
          "metadata": {},
          "execution_count": 49
        }
      ],
      "source": [
        "tcn.evaluate(x_test, y_test)"
      ]
    },
    {
      "cell_type": "code",
      "execution_count": 52,
      "id": "4662e638",
      "metadata": {
        "ExecuteTime": {
          "end_time": "2022-10-05T09:53:43.600937Z",
          "start_time": "2022-10-05T09:53:38.945794Z"
        },
        "id": "4662e638",
        "colab": {
          "base_uri": "https://localhost:8080/"
        },
        "outputId": "02d89b02-07f0-4256-a037-9e8045d94c44"
      },
      "outputs": [
        {
          "output_type": "stream",
          "name": "stdout",
          "text": [
            "4/4 [==============================] - 2s 263ms/step\n"
          ]
        }
      ],
      "source": [
        "predict = tcn.predict(x_test)"
      ]
    },
    {
      "cell_type": "code",
      "source": [
        "predict.shape"
      ],
      "metadata": {
        "colab": {
          "base_uri": "https://localhost:8080/"
        },
        "id": "plaeU9rwN9tq",
        "outputId": "0d62af75-4e60-410d-cce9-801375026b52"
      },
      "id": "plaeU9rwN9tq",
      "execution_count": 53,
      "outputs": [
        {
          "output_type": "execute_result",
          "data": {
            "text/plain": [
              "(99, 26, 15, 9, 1)"
            ]
          },
          "metadata": {},
          "execution_count": 53
        }
      ]
    },
    {
      "cell_type": "code",
      "source": [
        "test_day = 1\n",
        "fig, ax = plt.subplots(4,3,figsize=(5,5),dpi=100)\n",
        "\n",
        "im1 = ax[0][0].imshow(y_test[test_day,0,:,:,0], cmap = plt.cm.winter)\n",
        "im1 = ax[0][1].imshow(y_test[test_day,1,:,:,0], cmap = plt.cm.winter)\n",
        "im1 = ax[0][2].imshow(y_test[test_day,2,:,:,0], cmap = plt.cm.winter)\n",
        "\n",
        "im1 = ax[1][0].imshow(y_test[test_day,3,:,:,0], cmap = plt.cm.winter)\n",
        "im1 = ax[1][1].imshow(y_test[test_day,4,:,:,0], cmap = plt.cm.winter)\n",
        "im1 = ax[1][2].imshow(y_test[test_day,5,:,:,0], cmap = plt.cm.winter)\n",
        "im1 = ax[2][0].imshow(y_test[test_day,6,:,:,0], cmap = plt.cm.winter)\n",
        "im1 = ax[2][1].imshow(y_test[test_day,7,:,:,0], cmap = plt.cm.winter)\n",
        "im1 = ax[2][2].imshow(y_test[test_day,8,:,:,0], cmap = plt.cm.winter)\n",
        "im1 = ax[3][0].imshow(y_test[test_day,9,:,:,0], cmap = plt.cm.winter)\n",
        "im1 = ax[3][1].imshow(y_test[test_day,10,:,:,0], cmap = plt.cm.winter)\n",
        "im1 = ax[3][2].imshow(y_test[test_day,11,:,:,0], cmap = plt.cm.winter)\n",
        "\n",
        "# plt.colorbar(im1)"
      ],
      "metadata": {
        "colab": {
          "base_uri": "https://localhost:8080/",
          "height": 440
        },
        "id": "vxWA3wFENzl7",
        "outputId": "b3da48ed-b31f-45a9-b635-583db23e6b05"
      },
      "id": "vxWA3wFENzl7",
      "execution_count": 55,
      "outputs": [
        {
          "output_type": "display_data",
          "data": {
            "text/plain": [
              "<Figure size 500x500 with 12 Axes>"
            ],
            "image/png": "[encoded data removed]"
          },
          "metadata": {
            "needs_background": "light"
          }
        }
      ]
    },
    {
      "cell_type": "code",
      "source": [
        "fig, ax = plt.subplots(4,3,figsize=(5,5),dpi=100)\n",
        "\n",
        "im1 = ax[0][0].imshow(predict[test_day,0,:,:,0], cmap = plt.cm.winter)\n",
        "im1 = ax[0][1].imshow(predict[test_day,1,:,:,0], cmap = plt.cm.winter)\n",
        "im1 = ax[0][2].imshow(predict[test_day,2,:,:,0], cmap = plt.cm.winter)\n",
        "\n",
        "im1 = ax[1][0].imshow(predict[test_day,3,:,:,0], cmap = plt.cm.winter)\n",
        "im1 = ax[1][1].imshow(predict[test_day,4,:,:,0], cmap = plt.cm.winter)\n",
        "im1 = ax[1][2].imshow(predict[test_day,5,:,:,0], cmap = plt.cm.winter)\n",
        "im1 = ax[2][0].imshow(predict[test_day,6,:,:,0], cmap = plt.cm.winter)\n",
        "im1 = ax[2][1].imshow(predict[test_day,7,:,:,0], cmap = plt.cm.winter)\n",
        "im1 = ax[2][2].imshow(predict[test_day,8,:,:,0], cmap = plt.cm.winter)\n",
        "im1 = ax[3][0].imshow(predict[test_day,9,:,:,0], cmap = plt.cm.winter)\n",
        "im1 = ax[3][1].imshow(predict[test_day,10,:,:,0], cmap = plt.cm.winter)\n",
        "im1 = ax[3][2].imshow(predict[test_day,11,:,:,0], cmap = plt.cm.winter)"
      ],
      "metadata": {
        "colab": {
          "base_uri": "https://localhost:8080/",
          "height": 440
        },
        "id": "RLgHVUSEe4WD",
        "outputId": "fbae4830-65ed-46ca-faad-94a138c1acaa"
      },
      "id": "RLgHVUSEe4WD",
      "execution_count": 56,
      "outputs": [
        {
          "output_type": "display_data",
          "data": {
            "text/plain": [
              "<Figure size 500x500 with 12 Axes>"
            ],
            "image/png": "[encoded data removed]"
          },
          "metadata": {
            "needs_background": "light"
          }
        }
      ]
    },
    {
      "cell_type": "code",
      "source": [
        "tcn.save('7d2d.h5')"
      ],
      "metadata": {
        "id": "qpJfQB6IwuQq"
      },
      "id": "qpJfQB6IwuQq",
      "execution_count": 51,
      "outputs": []
    },
    {
      "cell_type": "markdown",
      "id": "0e185cb0",
      "metadata": {
        "id": "0e185cb0"
      },
      "source": [
        "### RMSE计算"
      ]
    },
    {
      "cell_type": "code",
      "execution_count": 57,
      "id": "a4070982",
      "metadata": {
        "ExecuteTime": {
          "end_time": "2022-10-05T09:54:01.534160Z",
          "start_time": "2022-10-05T09:54:01.518574Z"
        },
        "id": "a4070982"
      },
      "outputs": [],
      "source": [
        "from sklearn.metrics import mean_squared_error"
      ]
    },
    {
      "cell_type": "code",
      "execution_count": 58,
      "id": "24b1fa06",
      "metadata": {
        "ExecuteTime": {
          "end_time": "2022-10-05T09:54:02.705794Z",
          "start_time": "2022-10-05T09:54:02.674551Z"
        },
        "id": "24b1fa06",
        "colab": {
          "base_uri": "https://localhost:8080/"
        },
        "outputId": "10ec1b4d-1703-46fc-f86b-d74bb865a06b"
      },
      "outputs": [
        {
          "output_type": "execute_result",
          "data": {
            "text/plain": [
              "(347490, 1)"
            ]
          },
          "metadata": {},
          "execution_count": 58
        }
      ],
      "source": [
        "P = predict\n",
        "P = P.reshape(-1,1)\n",
        "P.shape"
      ]
    },
    {
      "cell_type": "code",
      "execution_count": 59,
      "id": "f0bc45a0",
      "metadata": {
        "ExecuteTime": {
          "end_time": "2022-10-05T09:54:03.346334Z",
          "start_time": "2022-10-05T09:54:03.330645Z"
        },
        "id": "f0bc45a0",
        "colab": {
          "base_uri": "https://localhost:8080/"
        },
        "outputId": "3209f9bb-4190-44ad-9aa2-a8ff4c6a6bc2"
      },
      "outputs": [
        {
          "output_type": "execute_result",
          "data": {
            "text/plain": [
              "(347490, 1)"
            ]
          },
          "metadata": {},
          "execution_count": 59
        }
      ],
      "source": [
        "R = y_test\n",
        "R = R.reshape(-1,1)\n",
        "R.shape"
      ]
    },
    {
      "cell_type": "code",
      "execution_count": 60,
      "id": "c2745dbe",
      "metadata": {
        "ExecuteTime": {
          "end_time": "2022-10-05T09:54:05.548943Z",
          "start_time": "2022-10-05T09:54:05.533323Z"
        },
        "id": "c2745dbe",
        "colab": {
          "base_uri": "https://localhost:8080/"
        },
        "outputId": "734147eb-0bf1-4238-cd50-7d47a6679656"
      },
      "outputs": [
        {
          "output_type": "execute_result",
          "data": {
            "text/plain": [
              "1.7556423883951005"
            ]
          },
          "metadata": {},
          "execution_count": 60
        }
      ],
      "source": [
        "mean_squared_error(R, P, squared=False)"
      ]
    },
    {
      "cell_type": "markdown",
      "id": "e72e1de7",
      "metadata": {
        "id": "e72e1de7"
      },
      "source": [
        "### 计算$R^{2}$"
      ]
    },
    {
      "cell_type": "code",
      "execution_count": 61,
      "id": "92a65ca2",
      "metadata": {
        "ExecuteTime": {
          "end_time": "2022-10-05T09:54:07.329775Z",
          "start_time": "2022-10-05T09:54:07.314078Z"
        },
        "id": "92a65ca2"
      },
      "outputs": [],
      "source": [
        "from sklearn.metrics import r2_score"
      ]
    },
    {
      "cell_type": "code",
      "execution_count": 62,
      "id": "042cb2ec",
      "metadata": {
        "ExecuteTime": {
          "end_time": "2022-10-05T09:54:08.032728Z",
          "start_time": "2022-10-05T09:54:08.017037Z"
        },
        "id": "042cb2ec",
        "colab": {
          "base_uri": "https://localhost:8080/"
        },
        "outputId": "4ddf0607-f42d-40da-f310-6e43cbe1a40a"
      },
      "outputs": [
        {
          "output_type": "execute_result",
          "data": {
            "text/plain": [
              "0.9156"
            ]
          },
          "metadata": {},
          "execution_count": 62
        }
      ],
      "source": [
        "r2 = round(r2_score(P, R),4)\n",
        "r2"
      ]
    },
    {
      "cell_type": "markdown",
      "id": "3e02bca8",
      "metadata": {
        "id": "3e02bca8"
      },
      "source": [
        "### 算相对误差直方图"
      ]
    },
    {
      "cell_type": "code",
      "execution_count": 81,
      "id": "9264da19",
      "metadata": {
        "ExecuteTime": {
          "end_time": "2022-10-05T09:54:09.751071Z",
          "start_time": "2022-10-05T09:54:09.563601Z"
        },
        "id": "9264da19",
        "colab": {
          "base_uri": "https://localhost:8080/",
          "height": 640
        },
        "outputId": "225705e8-ca90-4841-b563-1e59b3bf2f29"
      },
      "outputs": [
        {
          "output_type": "execute_result",
          "data": {
            "text/plain": [
              "Text(0.5, 0, 'Residual(TECU)')"
            ]
          },
          "metadata": {},
          "execution_count": 81
        },
        {
          "output_type": "display_data",
          "data": {
            "text/plain": [
              "<Figure size 1800x1200 with 1 Axes>"
            ],
            "image/png": "[encoded data removed]"
          },
          "metadata": {
            "needs_background": "light"
          }
        }
      ],
      "source": [
        "PD = (R-P)\n",
        "fig, ax = plt.subplots(dpi=300)\n",
        "ax.grid(True, zorder=1)\n",
        "ax.hist(PD, bins=20, density=True, edgecolor='k',color='g',zorder=2)\n",
        "\n",
        "ax.set_ylabel(\"Percentage(%)\")\n",
        "ax.set_xlabel(\"Residual(TECU)\")"
      ]
    },
    {
      "cell_type": "markdown",
      "id": "6c0c2d9f",
      "metadata": {
        "id": "6c0c2d9f"
      },
      "source": [
        "### 计算预测显示的散点图"
      ]
    },
    {
      "cell_type": "code",
      "execution_count": 82,
      "id": "8391cb8f",
      "metadata": {
        "ExecuteTime": {
          "end_time": "2022-10-05T09:54:12.547180Z",
          "start_time": "2022-10-05T09:54:12.453488Z"
        },
        "id": "8391cb8f",
        "colab": {
          "base_uri": "https://localhost:8080/",
          "height": 283
        },
        "outputId": "10023c3b-788d-46ed-ccb6-82f56a633ef2"
      },
      "outputs": [
        {
          "output_type": "execute_result",
          "data": {
            "text/plain": [
              "<matplotlib.collections.PathCollection at 0x7f51c0034ed0>"
            ]
          },
          "metadata": {},
          "execution_count": 82
        },
        {
          "output_type": "display_data",
          "data": {
            "text/plain": [
              "<Figure size 432x288 with 1 Axes>"
            ],
            "image/png": "[encoded data removed]"
          },
          "metadata": {
            "needs_background": "light"
          }
        }
      ],
      "source": [
        "plt.scatter(R,P, s=1)"
      ]
    },
    {
      "cell_type": "code",
      "execution_count": 83,
      "id": "6fd168e8",
      "metadata": {
        "ExecuteTime": {
          "end_time": "2022-10-05T09:54:13.250244Z",
          "start_time": "2022-10-05T09:54:13.203310Z"
        },
        "id": "6fd168e8",
        "colab": {
          "base_uri": "https://localhost:8080/"
        },
        "outputId": "37d49d58-6cf3-49d3-a6ea-fe790a3cf627"
      },
      "outputs": [
        {
          "output_type": "execute_result",
          "data": {
            "text/plain": [
              "(array([[0.94232924]]), array([0.448577]))"
            ]
          },
          "metadata": {},
          "execution_count": 83
        }
      ],
      "source": [
        "from sklearn.linear_model import LinearRegression\n",
        "reg = LinearRegression().fit(R, P)\n",
        "\n",
        "reg.coef_, reg.intercept_"
      ]
    },
    {
      "cell_type": "code",
      "execution_count": 84,
      "id": "507bb2a9",
      "metadata": {
        "ExecuteTime": {
          "end_time": "2022-10-05T09:54:13.875087Z",
          "start_time": "2022-10-05T09:54:13.843831Z"
        },
        "id": "507bb2a9",
        "colab": {
          "base_uri": "https://localhost:8080/"
        },
        "outputId": "07a40dde-34d6-466a-a2dd-8b87b7edc1d2"
      },
      "outputs": [
        {
          "output_type": "execute_result",
          "data": {
            "text/plain": [
              "array([ 0.448577  , 33.43010055])"
            ]
          },
          "metadata": {},
          "execution_count": 84
        }
      ],
      "source": [
        "line_x = np.linspace(0, 35, 2)\n",
        "y = reg.coef_[0][0] * line_x + reg.intercept_[0]\n",
        "y"
      ]
    },
    {
      "cell_type": "code",
      "source": [
        "from mpl_toolkits.axes_grid1 import make_axes_locatable\n",
        "from scipy.stats import gaussian_kde"
      ],
      "metadata": {
        "id": "Zq9lsQzKgSBp"
      },
      "id": "Zq9lsQzKgSBp",
      "execution_count": 2,
      "outputs": []
    },
    {
      "cell_type": "code",
      "execution_count": 1,
      "id": "a26d9d5a",
      "metadata": {
        "ExecuteTime": {
          "end_time": "2022-10-05T09:54:15.156046Z",
          "start_time": "2022-10-05T09:54:14.921622Z"
        },
        "scrolled": false,
        "id": "a26d9d5a",
        "colab": {
          "base_uri": "https://localhost:8080/",
          "height": 245
        },
        "outputId": "3fe8c694-adf6-4104-d389-eaf83bcbc770"
      },
      "outputs": [
        {
          "output_type": "error",
          "ename": "NameError",
          "evalue": "ignored",
          "traceback": [
            "\u001b[0;31m---------------------------------------------------------------------------\u001b[0m",
            "\u001b[0;31mNameError\u001b[0m                                 Traceback (most recent call last)",
            "\u001b[0;32m<ipython-input-1-c23570ad2219>\u001b[0m in \u001b[0;36m<module>\u001b[0;34m\u001b[0m\n\u001b[0;32m----> 1\u001b[0;31m \u001b[0mfig\u001b[0m\u001b[0;34m,\u001b[0m \u001b[0max\u001b[0m \u001b[0;34m=\u001b[0m \u001b[0mplt\u001b[0m\u001b[0;34m.\u001b[0m\u001b[0msubplots\u001b[0m\u001b[0;34m(\u001b[0m\u001b[0mdpi\u001b[0m\u001b[0;34m=\u001b[0m\u001b[0;36m300\u001b[0m\u001b[0;34m)\u001b[0m\u001b[0;34m\u001b[0m\u001b[0;34m\u001b[0m\u001b[0m\n\u001b[0m\u001b[1;32m      2\u001b[0m \u001b[0;34m\u001b[0m\u001b[0m\n\u001b[1;32m      3\u001b[0m \u001b[0mxy\u001b[0m \u001b[0;34m=\u001b[0m \u001b[0mnp\u001b[0m\u001b[0;34m.\u001b[0m\u001b[0mvstack\u001b[0m\u001b[0;34m(\u001b[0m\u001b[0;34m[\u001b[0m\u001b[0mR\u001b[0m\u001b[0;34m,\u001b[0m\u001b[0mP\u001b[0m\u001b[0;34m]\u001b[0m\u001b[0;34m)\u001b[0m\u001b[0;34m\u001b[0m\u001b[0;34m\u001b[0m\u001b[0m\n\u001b[1;32m      4\u001b[0m \u001b[0mz\u001b[0m \u001b[0;34m=\u001b[0m \u001b[0mgaussian_kde\u001b[0m\u001b[0;34m(\u001b[0m\u001b[0mxy\u001b[0m\u001b[0;34m)\u001b[0m\u001b[0;34m(\u001b[0m\u001b[0mxy\u001b[0m\u001b[0;34m)\u001b[0m\u001b[0;34m\u001b[0m\u001b[0;34m\u001b[0m\u001b[0m\n\u001b[1;32m      5\u001b[0m \u001b[0midx\u001b[0m \u001b[0;34m=\u001b[0m \u001b[0mz\u001b[0m\u001b[0;34m.\u001b[0m\u001b[0margsort\u001b[0m\u001b[0;34m(\u001b[0m\u001b[0;34m)\u001b[0m\u001b[0;34m\u001b[0m\u001b[0;34m\u001b[0m\u001b[0m\n",
            "\u001b[0;31mNameError\u001b[0m: name 'plt' is not defined"
          ]
        }
      ],
      "source": [
        "fig, ax = plt.subplots(dpi=300) \n",
        "\n",
        "xy = np.vstack([R,P])\n",
        "z = gaussian_kde(xy)(xy)\n",
        "idx = z.argsort()\n",
        "R,P,z = R[idx],P[idx],z[idx]\n",
        "scatter = ax.scatter(R,P,s=1,marker='o',z=z,edgecolors='',label='LST'\n",
        "                     ,cmap='Spectral_r')\n",
        "\n",
        "divider = make_axes_locatable(ax)\n",
        "cax = divider.append_axes(\"right\", size=\"5%\", pad=0.1)\n",
        "cbar = fig.colorbar(scatter, cax=cax, label='frequency')\n",
        "\n",
        "# plt.plot(line_x, y, 'k')\n",
        "# # plt.text(100, 40, r'$k_a$', fontsize=18)\n",
        "# plt.xlabel('Observed TEC/TECU', fontsize=14)\n",
        "# plt.ylabel('Forecast TEC/TECU', fontsize=14)\n",
        "# plt.text(30,5, 'R:{}\\nK:{}'.format(r2, round(reg.coef_[0][0],4)))"
      ]
    },
    {
      "cell_type": "code",
      "execution_count": null,
      "id": "5ffc58e8",
      "metadata": {
        "id": "5ffc58e8"
      },
      "outputs": [],
      "source": []
    },
    {
      "cell_type": "code",
      "execution_count": null,
      "id": "1c3b91ef",
      "metadata": {
        "id": "1c3b91ef"
      },
      "outputs": [],
      "source": []
    },
    {
      "cell_type": "code",
      "execution_count": null,
      "id": "40730d05",
      "metadata": {
        "id": "40730d05"
      },
      "outputs": [],
      "source": []
    }
  ],
  "metadata": {
    "celltoolbar": "原始单元格格式",
    "kernelspec": {
      "display_name": "Python 3",
      "name": "python3"
    },
    "language_info": {
      "name": "python"
    },
    "toc": {
      "base_numbering": 1,
      "nav_menu": {},
      "number_sections": true,
      "sideBar": true,
      "skip_h1_title": false,
      "title_cell": "Table of Contents",
      "title_sidebar": "Contents",
      "toc_cell": false,
      "toc_position": {},
      "toc_section_display": true,
      "toc_window_display": false
    },
    "varInspector": {
      "cols": {
        "lenName": 16,
        "lenType": 16,
        "lenVar": 40
      },
      "kernels_config": {
        "python": {
          "delete_cmd_postfix": "",
          "delete_cmd_prefix": "del ",
          "library": "var_list.py",
          "varRefreshCmd": "print(var_dic_list())"
        },
        "r": {
          "delete_cmd_postfix": ") ",
          "delete_cmd_prefix": "rm(",
          "library": "var_list.r",
          "varRefreshCmd": "cat(var_dic_list()) "
        }
      },
      "types_to_exclude": [
        "module",
        "function",
        "builtin_function_or_method",
        "instance",
        "_Feature"
      ],
      "window_display": false
    },
    "colab": {
      "provenance": [],
      "collapsed_sections": [],
      "include_colab_link": true
    },
    "accelerator": "GPU",
    "gpuClass": "standard"
  },
  "nbformat": 4,
  "nbformat_minor": 5
}